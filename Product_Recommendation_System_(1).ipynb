{
 "cells": [
  {
   "cell_type": "markdown",
   "source": [
    "# Import & Clean Dataset"
   ],
   "metadata": {
    "collapsed": false,
    "id": "15c04bd7048248a0",
    "pycharm": {
     "name": "#%% md\n"
    }
   },
   "id": "15c04bd7048248a0"
  },
  {
   "cell_type": "code",
   "execution_count": 164,
   "outputs": [
    {
     "data": {
      "text/plain": "   product_id                                       product_name  \\\n0  B002PD61Y4  D-Link DWA-131 300 Mbps Wireless Nano USB Adap...   \n1  B002PD61Y4  D-Link DWA-131 300 Mbps Wireless Nano USB Adap...   \n2  B002SZEOLG  TP-Link Nano USB WiFi Dongle 150Mbps High Gain...   \n3  B003B00484  Duracell Plus AAA Rechargeable Batteries (750 ...   \n4  B003L62T7W  Logitech B100 Wired USB Mouse, 3 yr Warranty, ...   \n\n                                            category discounted_price  \\\n0  Computers&Accessories|NetworkingDevices|Networ...             ₹507   \n1  Computers&Accessories|NetworkingDevices|Networ...             ₹507   \n2  Computers&Accessories|NetworkingDevices|Networ...             ₹749   \n3  Electronics|GeneralPurposeBatteries&BatteryCha...             ₹399   \n4  Computers&Accessories|Accessories&Peripherals|...             ₹279   \n\n  actual_price discount_percentage rating rating_count  \\\n0       ₹1,208                 58%    4.1        8,131   \n1       ₹1,208                 58%    4.1        8,131   \n2       ₹1,339                 44%    4.2     1,79,692   \n3         ₹499                 20%    4.3       27,201   \n4         ₹375                 26%    4.3       31,534   \n\n                                       about_product  \\\n0  Connects your computer to a high-speed wireles...   \n1  Connects your computer to a high-speed wireles...   \n2  150 Mbps Wi-Fi —— Exceptional wireless speed u...   \n3  Duracell Rechargeable AAA 750mAh batteries sta...   \n4  A comfortable, ambidextrous shape feels good i...   \n\n                                             user_id  \\\n0  AGA2PZGWMQIRA46VYOTICFE7KCBA,AHI2QJ4CLTCQWACDI...   \n1  AGA2PZGWMQIRA46VYOTICFE7KCBA,AHI2QJ4CLTCQWACDI...   \n2  AGV3IEFANZCKECFGUM42MRH5FNOA,AEBO7NWCNXKT4AESA...   \n3  AG2ICOYPSOV5SGBKFEYHGKCNK7PA,AGJ3OQ4X262D3MAQZ...   \n4  AE6DY6YWTSSE3XNHDXZDGQM2JL2Q,AES3UPSNCD37JZLHZ...   \n\n                                           user_name  \\\n0  nilesh,EAGLE,Manoj KNS,Titus P.,Paras singla,a...   \n1  nilesh,EAGLE,Manoj KNS,Titus P.,Paras singla,a...   \n2  Azhar JuMan,Anirudh Sood,Hari Krishnan PS,Akas...   \n3  T N Sivaji,Akku,V,Meet,MOHAMMED,Niranjan koyri...   \n4  Uday Joglekar,Simi Singh,Hi,chirag bansal,Swar...   \n\n                                           review_id  \\\n0  R2EJIN3N3L3XKI,R2JMJ8QNG66LV4,R3B46JNPC2T4E7,R...   \n1  R2EJIN3N3L3XKI,R2JMJ8QNG66LV4,R3B46JNPC2T4E7,R...   \n2  R1LW6NWSVTVZ2H,R3VR5WFKUS15C5,R2F6GC79OYWUKQ,R...   \n3  R5L3FAFS6JXJF,R1VTQ25LXQX5UD,R6RJYAZUM5240,R1S...   \n4  R3U9FRV2Q625DO,R3EJZ83W9OHW3D,RSH53O0JL66NL,R3...   \n\n                                        review_title  \\\n0  good tool to use for,Brand is always good,Over...   \n1  good tool to use for,Brand is always good,Over...   \n2  Works on linux for me. Get the model with ante...   \n3  Works Good,Perfect replacement cell for trimme...   \n4  Handy Mouse,Good quality mouse,Good one.,Good,...   \n\n                                      review_content  \\\n0  good quality tool from d linkWiFi signal is go...   \n1  good quality tool from d linkWiFi signal is go...   \n2  I use this to connect an old PC to internet. I...   \n3  Works good,Bought it to replace my Phillips QT...   \n4  Liked this Product,https://m.media-amazon.com/...   \n\n                                            img_link  \\\n0  https://m.media-amazon.com/images/I/31+NwZ8gb1...   \n1  https://m.media-amazon.com/images/W/WEBP_40237...   \n2  https://m.media-amazon.com/images/I/31Wb+A3VVd...   \n3  https://m.media-amazon.com/images/I/418YrbHVLC...   \n4  https://m.media-amazon.com/images/I/31iFF1Kbkp...   \n\n                                        product_link  \n0  https://www.amazon.in/D-Link-DWA-131-Wireless-...  \n1  https://www.amazon.in/D-Link-DWA-131-Wireless-...  \n2  https://www.amazon.in/TP-Link-TL-WN722N-150Mbp...  \n3  https://www.amazon.in/Duracell-AAA-750mAh-Rech...  \n4  https://www.amazon.in/Logitech-B100-Optical-Mo...  ",
      "text/html": "<div>\n<style scoped>\n    .dataframe tbody tr th:only-of-type {\n        vertical-align: middle;\n    }\n\n    .dataframe tbody tr th {\n        vertical-align: top;\n    }\n\n    .dataframe thead th {\n        text-align: right;\n    }\n</style>\n<table border=\"1\" class=\"dataframe\">\n  <thead>\n    <tr style=\"text-align: right;\">\n      <th></th>\n      <th>product_id</th>\n      <th>product_name</th>\n      <th>category</th>\n      <th>discounted_price</th>\n      <th>actual_price</th>\n      <th>discount_percentage</th>\n      <th>rating</th>\n      <th>rating_count</th>\n      <th>about_product</th>\n      <th>user_id</th>\n      <th>user_name</th>\n      <th>review_id</th>\n      <th>review_title</th>\n      <th>review_content</th>\n      <th>img_link</th>\n      <th>product_link</th>\n    </tr>\n  </thead>\n  <tbody>\n    <tr>\n      <th>0</th>\n      <td>B002PD61Y4</td>\n      <td>D-Link DWA-131 300 Mbps Wireless Nano USB Adap...</td>\n      <td>Computers&amp;Accessories|NetworkingDevices|Networ...</td>\n      <td>₹507</td>\n      <td>₹1,208</td>\n      <td>58%</td>\n      <td>4.1</td>\n      <td>8,131</td>\n      <td>Connects your computer to a high-speed wireles...</td>\n      <td>AGA2PZGWMQIRA46VYOTICFE7KCBA,AHI2QJ4CLTCQWACDI...</td>\n      <td>nilesh,EAGLE,Manoj KNS,Titus P.,Paras singla,a...</td>\n      <td>R2EJIN3N3L3XKI,R2JMJ8QNG66LV4,R3B46JNPC2T4E7,R...</td>\n      <td>good tool to use for,Brand is always good,Over...</td>\n      <td>good quality tool from d linkWiFi signal is go...</td>\n      <td>https://m.media-amazon.com/images/I/31+NwZ8gb1...</td>\n      <td>https://www.amazon.in/D-Link-DWA-131-Wireless-...</td>\n    </tr>\n    <tr>\n      <th>1</th>\n      <td>B002PD61Y4</td>\n      <td>D-Link DWA-131 300 Mbps Wireless Nano USB Adap...</td>\n      <td>Computers&amp;Accessories|NetworkingDevices|Networ...</td>\n      <td>₹507</td>\n      <td>₹1,208</td>\n      <td>58%</td>\n      <td>4.1</td>\n      <td>8,131</td>\n      <td>Connects your computer to a high-speed wireles...</td>\n      <td>AGA2PZGWMQIRA46VYOTICFE7KCBA,AHI2QJ4CLTCQWACDI...</td>\n      <td>nilesh,EAGLE,Manoj KNS,Titus P.,Paras singla,a...</td>\n      <td>R2EJIN3N3L3XKI,R2JMJ8QNG66LV4,R3B46JNPC2T4E7,R...</td>\n      <td>good tool to use for,Brand is always good,Over...</td>\n      <td>good quality tool from d linkWiFi signal is go...</td>\n      <td>https://m.media-amazon.com/images/W/WEBP_40237...</td>\n      <td>https://www.amazon.in/D-Link-DWA-131-Wireless-...</td>\n    </tr>\n    <tr>\n      <th>2</th>\n      <td>B002SZEOLG</td>\n      <td>TP-Link Nano USB WiFi Dongle 150Mbps High Gain...</td>\n      <td>Computers&amp;Accessories|NetworkingDevices|Networ...</td>\n      <td>₹749</td>\n      <td>₹1,339</td>\n      <td>44%</td>\n      <td>4.2</td>\n      <td>1,79,692</td>\n      <td>150 Mbps Wi-Fi —— Exceptional wireless speed u...</td>\n      <td>AGV3IEFANZCKECFGUM42MRH5FNOA,AEBO7NWCNXKT4AESA...</td>\n      <td>Azhar JuMan,Anirudh Sood,Hari Krishnan PS,Akas...</td>\n      <td>R1LW6NWSVTVZ2H,R3VR5WFKUS15C5,R2F6GC79OYWUKQ,R...</td>\n      <td>Works on linux for me. Get the model with ante...</td>\n      <td>I use this to connect an old PC to internet. I...</td>\n      <td>https://m.media-amazon.com/images/I/31Wb+A3VVd...</td>\n      <td>https://www.amazon.in/TP-Link-TL-WN722N-150Mbp...</td>\n    </tr>\n    <tr>\n      <th>3</th>\n      <td>B003B00484</td>\n      <td>Duracell Plus AAA Rechargeable Batteries (750 ...</td>\n      <td>Electronics|GeneralPurposeBatteries&amp;BatteryCha...</td>\n      <td>₹399</td>\n      <td>₹499</td>\n      <td>20%</td>\n      <td>4.3</td>\n      <td>27,201</td>\n      <td>Duracell Rechargeable AAA 750mAh batteries sta...</td>\n      <td>AG2ICOYPSOV5SGBKFEYHGKCNK7PA,AGJ3OQ4X262D3MAQZ...</td>\n      <td>T N Sivaji,Akku,V,Meet,MOHAMMED,Niranjan koyri...</td>\n      <td>R5L3FAFS6JXJF,R1VTQ25LXQX5UD,R6RJYAZUM5240,R1S...</td>\n      <td>Works Good,Perfect replacement cell for trimme...</td>\n      <td>Works good,Bought it to replace my Phillips QT...</td>\n      <td>https://m.media-amazon.com/images/I/418YrbHVLC...</td>\n      <td>https://www.amazon.in/Duracell-AAA-750mAh-Rech...</td>\n    </tr>\n    <tr>\n      <th>4</th>\n      <td>B003L62T7W</td>\n      <td>Logitech B100 Wired USB Mouse, 3 yr Warranty, ...</td>\n      <td>Computers&amp;Accessories|Accessories&amp;Peripherals|...</td>\n      <td>₹279</td>\n      <td>₹375</td>\n      <td>26%</td>\n      <td>4.3</td>\n      <td>31,534</td>\n      <td>A comfortable, ambidextrous shape feels good i...</td>\n      <td>AE6DY6YWTSSE3XNHDXZDGQM2JL2Q,AES3UPSNCD37JZLHZ...</td>\n      <td>Uday Joglekar,Simi Singh,Hi,chirag bansal,Swar...</td>\n      <td>R3U9FRV2Q625DO,R3EJZ83W9OHW3D,RSH53O0JL66NL,R3...</td>\n      <td>Handy Mouse,Good quality mouse,Good one.,Good,...</td>\n      <td>Liked this Product,https://m.media-amazon.com/...</td>\n      <td>https://m.media-amazon.com/images/I/31iFF1Kbkp...</td>\n      <td>https://www.amazon.in/Logitech-B100-Optical-Mo...</td>\n    </tr>\n  </tbody>\n</table>\n</div>"
     },
     "execution_count": 164,
     "metadata": {},
     "output_type": "execute_result"
    }
   ],
   "source": [
    "import pandas as pd\n",
    "dataset = pd.read_csv('Amazon.csv')\n",
    "dataset.head()"
   ],
   "metadata": {
    "colab": {
     "base_uri": "https://localhost:8080/",
     "height": 539
    },
    "id": "12c0af1e061a0fba",
    "outputId": "f9cfbab3-4d02-42f8-a331-595a21eeae3b",
    "pycharm": {
     "name": "#%%\n",
     "is_executing": true
    },
    "ExecuteTime": {
     "end_time": "2023-10-27T08:21:35.856258Z",
     "start_time": "2023-10-27T08:21:34.253227Z"
    }
   },
   "id": "12c0af1e061a0fba"
  },
  {
   "cell_type": "code",
   "execution_count": 165,
   "outputs": [
    {
     "data": {
      "text/plain": "product_id             0\nproduct_name           0\ncategory               0\ndiscounted_price       0\nactual_price           0\ndiscount_percentage    0\nrating                 0\nrating_count           2\nabout_product          0\nuser_id                0\nuser_name              0\nreview_id              0\nreview_title           0\nreview_content         0\nimg_link               0\nproduct_link           0\ndtype: int64"
     },
     "execution_count": 165,
     "metadata": {},
     "output_type": "execute_result"
    }
   ],
   "source": [
    "# check for null values\n",
    "dataset.isnull().sum()"
   ],
   "metadata": {
    "colab": {
     "base_uri": "https://localhost:8080/"
    },
    "id": "9f725813b8bb4612",
    "outputId": "dbd7eb96-9b8f-4c25-aed9-367c84961215",
    "pycharm": {
     "name": "#%%\n"
    },
    "ExecuteTime": {
     "end_time": "2023-10-27T08:21:36.561962Z",
     "start_time": "2023-10-27T08:21:34.317102Z"
    }
   },
   "id": "9f725813b8bb4612"
  },
  {
   "cell_type": "code",
   "execution_count": 166,
   "outputs": [
    {
     "data": {
      "text/plain": "0"
     },
     "execution_count": 166,
     "metadata": {},
     "output_type": "execute_result"
    }
   ],
   "source": [
    "# check for duplicate values\n",
    "dataset.duplicated().sum()"
   ],
   "metadata": {
    "colab": {
     "base_uri": "https://localhost:8080/"
    },
    "id": "cf34607165cb3432",
    "outputId": "e8ac98fa-899b-4749-cdf8-050bd7888c53",
    "pycharm": {
     "name": "#%%\n"
    },
    "ExecuteTime": {
     "end_time": "2023-10-27T08:21:37.829562Z",
     "start_time": "2023-10-27T08:21:34.319514Z"
    }
   },
   "id": "cf34607165cb3432"
  },
  {
   "cell_type": "code",
   "execution_count": 167,
   "outputs": [
    {
     "data": {
      "text/plain": "0"
     },
     "execution_count": 167,
     "metadata": {},
     "output_type": "execute_result"
    }
   ],
   "source": [
    "# convert the rating_count from string to float\n",
    "dataset['rating_count'] = dataset['rating_count'].str.replace(',', '')\n",
    "dataset['rating_count'] = dataset['rating_count'].astype(float)\n",
    "# Filling in missing data for rating_count\n",
    "dataset['rating_count'].fillna(dataset['rating_count'].median(), inplace=True)\n",
    "dataset['rating_count'].isnull().sum()"
   ],
   "metadata": {
    "colab": {
     "base_uri": "https://localhost:8080/"
    },
    "id": "d13ee0a984f7e8df",
    "outputId": "d5a8e509-d8ba-4327-c60f-5807a9c4cba3",
    "pycharm": {
     "name": "#%%\n"
    },
    "ExecuteTime": {
     "end_time": "2023-10-27T08:21:37.829873Z",
     "start_time": "2023-10-27T08:21:34.339085Z"
    }
   },
   "id": "d13ee0a984f7e8df"
  },
  {
   "cell_type": "code",
   "execution_count": 168,
   "outputs": [],
   "source": [
    "# # Remove rows with non-numeric ratings\n",
    "# dataset = dataset[dataset['rating'].str.isnumeric()]\n",
    "# \n",
    "# # convert the rating from string to float\n",
    "# dataset['rating'] = dataset['rating'].astype(float)"
   ],
   "metadata": {
    "collapsed": false,
    "pycharm": {
     "name": "#%%\n"
    },
    "ExecuteTime": {
     "end_time": "2023-10-27T08:21:37.829948Z",
     "start_time": "2023-10-27T08:21:34.343896Z"
    }
   },
   "id": "9ac635ef709ab8fb"
  },
  {
   "cell_type": "code",
   "execution_count": 169,
   "outputs": [
    {
     "data": {
      "text/plain": "0       0.58\n1       0.58\n2       0.44\n3       0.20\n4       0.26\n        ... \n1460    0.74\n1461    0.48\n1462    0.44\n1463    0.75\n1464    0.28\nName: discount_percentage, Length: 1465, dtype: float64"
     },
     "execution_count": 169,
     "metadata": {},
     "output_type": "execute_result"
    }
   ],
   "source": [
    "#Changing the data type of discounted price and actual price\n",
    "\n",
    "dataset['discounted_price'] = dataset['discounted_price'].str.replace(\"₹\",'')\n",
    "dataset['discounted_price'] = dataset['discounted_price'].str.replace(\",\",'')\n",
    "dataset['discounted_price'] = dataset['discounted_price'].astype('float64')\n",
    "\n",
    "dataset['actual_price'] = dataset['actual_price'].str.replace(\"₹\",'')\n",
    "dataset['actual_price'] = dataset['actual_price'].str.replace(\",\",'')\n",
    "dataset['actual_price'] = dataset['actual_price'].astype('float64')"
   ],
   "metadata": {
    "collapsed": false,
    "pycharm": {
     "name": "#%%\n"
    },
    "ExecuteTime": {
     "end_time": "2023-10-27T08:21:37.830160Z",
     "start_time": "2023-10-27T08:21:34.349667Z"
    }
   },
   "id": "ec331a3cc06ad0dc"
  },
  {
   "cell_type": "code",
   "execution_count": 170,
   "outputs": [
    {
     "data": {
      "text/plain": "     product_id                                       product_name  \\\n720  B08L12N5H1  Eureka Forbes car Vac 100 Watts Powerful Sucti...   \n\n                                              category  discounted_price  \\\n720  Home&Kitchen|Kitchen&HomeAppliances|Vacuum,Cle...            2099.0   \n\n     actual_price  discount_percentage rating  rating_count  \\\n720        2499.0                 0.16      |         992.0   \n\n                                         about_product  \\\n720  No Installation is provided for this product|1...   \n\n                                               user_id  \\\n720  AGTDSNT2FKVYEPDPXAA673AIS44A,AER2XFSWNN4LAUCJ5...   \n\n                                             user_name  \\\n720  Divya,Dr Nefario,Deekshith,Preeti,Prasanth R,P...   \n\n                                             review_id  \\\n720  R2KKTKM4M9RDVJ,R1O692MZOBTE79,R2WRSEWL56SOS4,R...   \n\n                                          review_title  \\\n720  Decent product,doesn't pick up sand,Ok ok,Must...   \n\n                                        review_content  \\\n720  Does the job well,doesn't work on sand. though...   \n\n                                              img_link  \\\n720  https://m.media-amazon.com/images/W/WEBP_40237...   \n\n                                          product_link  \n720  https://www.amazon.in/Eureka-Forbes-Vacuum-Cle...  ",
      "text/html": "<div>\n<style scoped>\n    .dataframe tbody tr th:only-of-type {\n        vertical-align: middle;\n    }\n\n    .dataframe tbody tr th {\n        vertical-align: top;\n    }\n\n    .dataframe thead th {\n        text-align: right;\n    }\n</style>\n<table border=\"1\" class=\"dataframe\">\n  <thead>\n    <tr style=\"text-align: right;\">\n      <th></th>\n      <th>product_id</th>\n      <th>product_name</th>\n      <th>category</th>\n      <th>discounted_price</th>\n      <th>actual_price</th>\n      <th>discount_percentage</th>\n      <th>rating</th>\n      <th>rating_count</th>\n      <th>about_product</th>\n      <th>user_id</th>\n      <th>user_name</th>\n      <th>review_id</th>\n      <th>review_title</th>\n      <th>review_content</th>\n      <th>img_link</th>\n      <th>product_link</th>\n    </tr>\n  </thead>\n  <tbody>\n    <tr>\n      <th>720</th>\n      <td>B08L12N5H1</td>\n      <td>Eureka Forbes car Vac 100 Watts Powerful Sucti...</td>\n      <td>Home&amp;Kitchen|Kitchen&amp;HomeAppliances|Vacuum,Cle...</td>\n      <td>2099.0</td>\n      <td>2499.0</td>\n      <td>0.16</td>\n      <td>|</td>\n      <td>992.0</td>\n      <td>No Installation is provided for this product|1...</td>\n      <td>AGTDSNT2FKVYEPDPXAA673AIS44A,AER2XFSWNN4LAUCJ5...</td>\n      <td>Divya,Dr Nefario,Deekshith,Preeti,Prasanth R,P...</td>\n      <td>R2KKTKM4M9RDVJ,R1O692MZOBTE79,R2WRSEWL56SOS4,R...</td>\n      <td>Decent product,doesn't pick up sand,Ok ok,Must...</td>\n      <td>Does the job well,doesn't work on sand. though...</td>\n      <td>https://m.media-amazon.com/images/W/WEBP_40237...</td>\n      <td>https://www.amazon.in/Eureka-Forbes-Vacuum-Cle...</td>\n    </tr>\n  </tbody>\n</table>\n</div>"
     },
     "execution_count": 170,
     "metadata": {},
     "output_type": "execute_result"
    }
   ],
   "source": [
    "#Changing Datatype and values in Discount Percentage\n",
    "\n",
    "dataset['discount_percentage'] = dataset['discount_percentage'].str.replace('%','').astype('float64')\n",
    "\n",
    "dataset['discount_percentage'] = dataset['discount_percentage'] / 100\n",
    "\n",
    "dataset['discount_percentage']"
   ],
   "metadata": {
    "collapsed": false,
    "pycharm": {
     "name": "#%%\n"
    },
    "ExecuteTime": {
     "end_time": "2023-10-27T08:21:37.830680Z",
     "start_time": "2023-10-27T08:21:34.358205Z"
    }
   },
   "id": "9213dc81143d11ae"
  },
  {
   "cell_type": "code",
   "execution_count": 171,
   "outputs": [],
   "source": [
    "#Finding unusual string in the rating column\n",
    "\n",
    "dataset['rating'].value_counts()\n",
    "dataset.query('rating == \"|\"')\n",
    "\n"
   ],
   "metadata": {
    "collapsed": false,
    "ExecuteTime": {
     "end_time": "2023-10-27T08:21:37.830756Z",
     "start_time": "2023-10-27T08:21:34.361337Z"
    }
   },
   "id": "aeffb0086145980e"
  },
  {
   "cell_type": "code",
   "execution_count": 172,
   "outputs": [],
   "source": [
    "#Removing the unusual string in the rating column\n",
    "dataset['rating'] = dataset['rating'].str.replace('|', '4.0').astype('float64')\n"
   ],
   "metadata": {
    "collapsed": false,
    "ExecuteTime": {
     "end_time": "2023-10-27T08:21:37.830942Z",
     "start_time": "2023-10-27T08:21:34.364106Z"
    }
   },
   "id": "bceeb609169160d5"
  },
  {
   "cell_type": "markdown",
   "source": [
    "*New csv file with cleaned data*"
   ],
   "metadata": {
    "collapsed": false,
    "pycharm": {
     "name": "#%% md\n"
    },
    "ExecuteTime": {
     "end_time": "2023-10-27T08:21:37.832059Z",
     "start_time": "2023-10-27T08:21:34.368832Z"
    }
   },
   "id": "29dddf2a13b32805"
  },
  {
   "cell_type": "code",
   "execution_count": 174,
   "outputs": [],
   "source": [
    "# create a new csv file with the cleaned data\n",
    "dataset.to_csv('Amazon_cleaned.csv', index=False)\n",
    "dataset_cleaned = pd.read_csv('Amazon_cleaned.csv')\n",
    "dataset_cleaned.head()"
   ],
   "metadata": {
    "collapsed": false,
    "pycharm": {
     "name": "#%%\n"
    },
    "ExecuteTime": {
     "end_time": "2023-10-27T08:21:37.832147Z",
     "start_time": "2023-10-27T08:21:34.377009Z"
    }
   },
   "id": "23de95599c7342d"
  },
  {
   "cell_type": "code",
   "execution_count": 175,
   "outputs": [
    {
     "data": {
      "text/plain": "category_2\nAccessories&Peripherals                    381\nKitchen&HomeAppliances                     308\nHomeTheater,TV&Video                       162\nMobiles&Accessories                        161\nHeating,Cooling&AirQuality                 116\nWearableTechnology                          76\nHeadphones,Earbuds&Accessories              66\nNetworkingDevices                           34\nOfficePaperProducts                         27\nExternalDevices&DataStorage                 18\nHomeAudio                                   16\nCameras&Photography                         16\nHomeStorage&Organization                    16\nAccessories                                 14\nGeneralPurposeBatteries&BatteryChargers     14\nPrinters,Inks&Accessories                   11\nCraftMaterials                               7\nComponents                                   5\nOfficeElectronics                            4\nMicrophones                                  2\nElectrical                                   2\nMonitors                                     2\nHomeMedicalSupplies&Equipment                1\nArts&Crafts                                  1\nKitchen&Dining                               1\nPowerAccessories                             1\nCarAccessories                               1\nTablets                                      1\nLaptops                                      1\nName: count, dtype: int64"
     },
     "execution_count": 175,
     "metadata": {},
     "output_type": "execute_result"
    }
   ],
   "source": [
    "category_split = dataset['category'].str.split('|', expand=True)\n",
    "category_split\n",
    "category_split = category_split.rename(columns={0:'category_1', 1:'category_2', 2:'category_3'})\n",
    "\n"
   ],
   "metadata": {
    "collapsed": false,
    "ExecuteTime": {
     "end_time": "2023-10-27T08:21:37.832422Z",
     "start_time": "2023-10-27T08:21:34.380824Z"
    }
   },
   "id": "a706712b8076dae3"
  },
  {
   "cell_type": "code",
   "execution_count": 176,
   "outputs": [],
   "source": [
    "# split the category column into 3 columns\n",
    "category_split\n",
    "category_split = category_split.rename(columns={0:'category_1', 1:'category_2', 2:'category_3'})\n",
    "# add the 3 new columns to the new dataset\n",
    "dataset_cleaned = pd.concat([dataset_cleaned, category_split], axis=1)\n",
    "dataset_cleaned.head()\n"
   ],
   "metadata": {
    "collapsed": false,
    "ExecuteTime": {
     "end_time": "2023-10-27T08:21:37.832493Z",
     "start_time": "2023-10-27T08:21:34.390377Z"
    }
   },
   "id": "9ceae13a6440aa2c"
  },
  {
   "cell_type": "markdown",
   "source": [
    "**1. Investigate the structure and shape of your dataset.**"
   ],
   "metadata": {
    "collapsed": false,
    "pycharm": {
     "name": "#%% md\n"
    },
    "ExecuteTime": {
     "end_time": "2023-10-27T08:21:37.832622Z",
     "start_time": "2023-10-27T08:21:34.395268Z"
    }
   },
   "id": "9617afb0f752d6c1"
  },
  {
   "cell_type": "markdown",
   "source": [
    "\n",
    "\n",
    "*   Structure of Dataset\n"
   ],
   "metadata": {
    "collapsed": false,
    "pycharm": {
     "name": "#%% md\n"
    },
    "ExecuteTime": {
     "end_time": "2023-10-27T08:21:37.832687Z",
     "start_time": "2023-10-27T08:21:34.398852Z"
    }
   },
   "id": "9201fc856b9e38f2"
  },
  {
   "cell_type": "code",
   "execution_count": 179,
   "outputs": [],
   "source": [
    "info = dataset.info()\n",
    "print(info)"
   ],
   "metadata": {
    "collapsed": false,
    "pycharm": {
     "name": "#%%\n"
    },
    "ExecuteTime": {
     "end_time": "2023-10-27T08:21:37.832761Z",
     "start_time": "2023-10-27T08:21:34.401107Z"
    }
   },
   "id": "7535bf044a753097"
  },
  {
   "cell_type": "markdown",
   "source": [
    "\n",
    "\n",
    "*   Data Shape (Rows & Columns)\n"
   ],
   "metadata": {
    "collapsed": false,
    "pycharm": {
     "name": "#%% md\n"
    },
    "ExecuteTime": {
     "end_time": "2023-10-27T08:21:37.832821Z",
     "start_time": "2023-10-27T08:21:34.404854Z"
    }
   },
   "id": "d87d8c4012e8e937"
  },
  {
   "cell_type": "code",
   "execution_count": 181,
   "outputs": [],
   "source": [
    "shape = dataset.shape\n",
    "print(\"Rows:\", shape[0])\n",
    "print(\"Columns:\", shape[1])"
   ],
   "metadata": {
    "collapsed": false,
    "pycharm": {
     "name": "#%%\n"
    },
    "ExecuteTime": {
     "end_time": "2023-10-27T08:21:37.832887Z",
     "start_time": "2023-10-27T08:21:34.408291Z"
    }
   },
   "id": "47842211f8114da4"
  },
  {
   "cell_type": "markdown",
   "source": [
    "**2. Explore the variables that the dataset has. How are they distributed?**"
   ],
   "metadata": {
    "collapsed": false,
    "pycharm": {
     "name": "#%% md\n"
    },
    "ExecuteTime": {
     "end_time": "2023-10-27T08:21:37.833027Z",
     "start_time": "2023-10-27T08:21:34.414730Z"
    }
   },
   "id": "e2d6629123ac362f"
  },
  {
   "cell_type": "markdown",
   "source": [
    "\n",
    "*   Data Types\n",
    "\n"
   ],
   "metadata": {
    "collapsed": false,
    "pycharm": {
     "name": "#%% md\n"
    },
    "ExecuteTime": {
     "end_time": "2023-10-27T08:19:14.230524Z",
     "start_time": "2023-10-27T08:19:12.593302Z"
    }
   },
   "id": "30eab24740a1188c"
  },
  {
   "cell_type": "code",
   "execution_count": 183,
   "outputs": [],
   "source": [
    "types = dataset.dtypes\n",
    "print(types)"
   ],
   "metadata": {
    "collapsed": false,
    "pycharm": {
     "name": "#%%\n"
    },
    "ExecuteTime": {
     "end_time": "2023-10-27T08:21:37.833298Z",
     "start_time": "2023-10-27T08:21:34.417717Z"
    }
   },
   "id": "727cff969cd67639"
  },
  {
   "cell_type": "markdown",
   "source": [
    "* Using describe() function to print the summary statistics to check data distribution"
   ],
   "metadata": {
    "collapsed": false,
    "pycharm": {
     "name": "#%% md\n"
    },
    "ExecuteTime": {
     "end_time": "2023-10-27T08:17:13.704398Z",
     "start_time": "2023-10-27T08:17:12.355290Z"
    }
   },
   "id": "9949e8f0ed58c5a1"
  },
  {
   "cell_type": "code",
   "execution_count": 157,
   "outputs": [
    {
     "name": "stdout",
     "output_type": "stream",
     "text": [
      "product_id              object\n",
      "product_name            object\n",
      "discounted_price       float64\n",
      "actual_price           float64\n",
      "discount_percentage    float64\n",
      "rating                 float64\n",
      "rating_count           float64\n",
      "about_product           object\n",
      "user_id                 object\n",
      "user_name               object\n",
      "review_id               object\n",
      "review_title            object\n",
      "review_content          object\n",
      "img_link                object\n",
      "product_link            object\n",
      "category_1              object\n",
      "category_2              object\n",
      "dtype: object\n"
     ]
    }
   ],
   "source": [
    "summary = dataset.describe()\n",
    "\n",
    "print(summary)\n"
   ],
   "metadata": {
    "collapsed": false,
    "pycharm": {
     "name": "#%%\n"
    },
    "ExecuteTime": {
     "end_time": "2023-10-27T08:19:14.230599Z",
     "start_time": "2023-10-27T08:19:12.595904Z"
    }
   },
   "id": "fa240ff233145467"
  },
  {
   "cell_type": "markdown",
   "source": [
    "**3. Compute the mean, sum, range, and other interesting statistics for numeric\n",
    "columns.**"
   ],
   "metadata": {
    "collapsed": false,
    "pycharm": {
     "name": "#%% md\n"
    },
    "ExecuteTime": {
     "end_time": "2023-10-27T08:21:37.941818Z",
     "start_time": "2023-10-27T08:21:34.472440Z"
    }
   },
   "id": "2db7bc516e46b57d"
  },
  {
   "cell_type": "code",
   "execution_count": 158,
   "outputs": [
    {
     "name": "stdout",
     "output_type": "stream",
     "text": [
      "       discounted_price   actual_price  discount_percentage       rating  \\\n",
      "count       1465.000000    1465.000000          1465.000000  1465.000000   \n",
      "mean        3125.310874    5444.990635             0.476915     4.096519   \n",
      "std         6944.304394   10874.826864             0.216359     0.291585   \n",
      "min           39.000000      39.000000             0.000000     2.000000   \n",
      "25%          325.000000     800.000000             0.320000     4.000000   \n",
      "50%          799.000000    1650.000000             0.500000     4.100000   \n",
      "75%         1999.000000    4295.000000             0.630000     4.300000   \n",
      "max        77990.000000  139900.000000             0.940000     5.000000   \n",
      "\n",
      "        rating_count  \n",
      "count    1465.000000  \n",
      "mean    18277.634812  \n",
      "std     42727.398216  \n",
      "min         2.000000  \n",
      "25%      1191.000000  \n",
      "50%      5179.000000  \n",
      "75%     17325.000000  \n",
      "max    426973.000000  \n"
     ]
    }
   ],
   "source": [
    "numeric_columns = dataset.select_dtypes(include=['float64'])\n",
    "\n",
    "mean = numeric_columns.mean()\n",
    "sum = numeric_columns.sum()\n",
    "range = numeric_columns.max() - numeric_columns.min()\n",
    "\n",
    "print(\"Mean Values of Columns: \")\n",
    "print(mean)\n",
    "\n",
    "print(\"\\nSum Values of Columns: \")\n",
    "print(sum)\n",
    "\n",
    "print(\"\\nRange of Columns: \")\n",
    "print(range)"
   ],
   "metadata": {
    "collapsed": false,
    "pycharm": {
     "name": "#%%\n"
    },
    "ExecuteTime": {
     "end_time": "2023-10-27T08:19:14.230675Z",
     "start_time": "2023-10-27T08:19:12.598151Z"
    }
   },
   "id": "11e03f67bb218a6c"
  },
  {
   "cell_type": "markdown",
   "source": [
    "**4. Explore distributions of numeric columns using histograms etc.**\n"
   ],
   "metadata": {
    "collapsed": false,
    "pycharm": {
     "name": "#%% md\n"
    },
    "ExecuteTime": {
     "end_time": "2023-10-27T08:21:37.942020Z",
     "start_time": "2023-10-27T08:21:34.557872Z"
    }
   },
   "id": "eecf116e9095e5b7"
  },
  {
   "cell_type": "markdown",
   "source": [
    "Histogram 1 - Discounted Price Distribution\n",
    "\n",
    "*   Column: 'discounted_price'\n",
    "\n"
   ],
   "metadata": {
    "collapsed": false,
    "pycharm": {
     "name": "#%% md\n"
    },
    "ExecuteTime": {
     "end_time": "2023-10-27T08:19:14.230802Z",
     "start_time": "2023-10-27T08:19:12.604178Z"
    }
   },
   "id": "4b864f0a79f4f684"
  },
  {
   "cell_type": "code",
   "execution_count": 93,
   "outputs": [
    {
     "data": {
      "text/plain": "<Figure size 640x480 with 1 Axes>",
      "image/png": "[encoded data removed]"
     },
     "metadata": {},
     "output_type": "display_data"
    },
    {
     "data": {
      "text/plain": "<Figure size 800x500 with 0 Axes>"
     },
     "metadata": {},
     "output_type": "display_data"
    }
   ],
   "source": [
    "import matplotlib.pyplot as plt\n",
    "\n",
    "plt.hist(dataset['discounted_price'])\n",
    "plt.title(\"Discounted Price Distribution\")\n",
    "plt.xlabel('Discounted Price')\n",
    "plt.ylabel('Frequency')\n",
    "plt.figure(figsize=(8,5))\n",
    "\n",
    "plt.show()"
   ],
   "metadata": {
    "collapsed": false,
    "pycharm": {
     "name": "#%%\n"
    },
    "ExecuteTime": {
     "end_time": "2023-10-27T08:15:48.044364Z",
     "start_time": "2023-10-27T08:15:47.792469Z"
    }
   },
   "id": "f9d1719386362522"
  },
  {
   "cell_type": "markdown",
   "source": [
    "Histogram 2 - Actual Price Distribution\n",
    "\n",
    "*   Column: 'actual_price'\n",
    "\n"
   ],
   "metadata": {
    "collapsed": false,
    "pycharm": {
     "name": "#%% md\n"
    },
    "ExecuteTime": {
     "end_time": "2023-10-27T08:21:37.942104Z",
     "start_time": "2023-10-27T08:21:34.560459Z"
    }
   },
   "id": "3dd6935de7f7978f"
  },
  {
   "cell_type": "code",
   "execution_count": 160,
   "outputs": [
    {
     "data": {
      "text/plain": "<Figure size 640x480 with 1 Axes>",
      "image/png": "[encoded data removed]"
     },
     "metadata": {},
     "output_type": "display_data"
    },
    {
     "data": {
      "text/plain": "<Figure size 800x500 with 0 Axes>"
     },
     "metadata": {},
     "output_type": "display_data"
    }
   ],
   "source": [
    "plt.hist(dataset['actual_price'])\n",
    "plt.title(\"Actual Price Distribution\")\n",
    "plt.xlabel('Actual Price')\n",
    "plt.ylabel('Frequency')\n",
    "plt.figure(figsize=(8,5))\n",
    "\n",
    "plt.show()"
   ],
   "metadata": {
    "collapsed": false,
    "pycharm": {
     "name": "#%%\n"
    },
    "ExecuteTime": {
     "end_time": "2023-10-27T08:19:14.231180Z",
     "start_time": "2023-10-27T08:19:12.609237Z"
    }
   },
   "id": "c8957e405ad00c47"
  },
  {
   "cell_type": "markdown",
   "source": [
    "Histogram 3 - Rating Count Distribution\n",
    "\n",
    "*   Column: 'rating_count'\n",
    "\n"
   ],
   "metadata": {
    "collapsed": false,
    "pycharm": {
     "name": "#%% md\n"
    },
    "ExecuteTime": {
     "end_time": "2023-10-27T08:21:37.942188Z",
     "start_time": "2023-10-27T08:21:34.563705Z"
    }
   },
   "id": "f2ccca64c5d98cb2"
  },
  {
   "cell_type": "code",
   "execution_count": 161,
   "outputs": [
    {
     "data": {
      "text/plain": "<Figure size 640x480 with 1 Axes>",
      "image/png": "[encoded data removed]"
     },
     "metadata": {},
     "output_type": "display_data"
    },
    {
     "data": {
      "text/plain": "<Figure size 800x500 with 0 Axes>"
     },
     "metadata": {},
     "output_type": "display_data"
    }
   ],
   "source": [
    "plt.hist(dataset['rating_count'])\n",
    "plt.title(\"Rating Count Distribution\")\n",
    "plt.xlabel('Rating Count')\n",
    "plt.ylabel('Frequency')\n",
    "plt.figure(figsize=(8,5))\n",
    "\n",
    "plt.show()"
   ],
   "metadata": {
    "collapsed": false,
    "pycharm": {
     "name": "#%%\n"
    },
    "ExecuteTime": {
     "end_time": "2023-10-27T08:19:14.231284Z",
     "start_time": "2023-10-27T08:19:12.694154Z"
    }
   },
   "id": "aa4031adb01039bd"
  },
  {
   "cell_type": "markdown",
   "source": [
    "Bar Chart 1 - Rating Count per Category"
   ],
   "metadata": {
    "collapsed": false,
    "pycharm": {
     "name": "#%% md\n"
    },
    "ExecuteTime": {
     "end_time": "2023-10-27T08:21:37.942277Z",
     "start_time": "2023-10-27T08:21:34.571484Z"
    }
   },
   "id": "dc8bae223d86583d"
  },
  {
   "cell_type": "code",
   "execution_count": 162,
   "outputs": [
    {
     "data": {
      "text/plain": "<Figure size 640x480 with 1 Axes>",
      "image/png": "[encoded data removed]"
     },
     "metadata": {},
     "output_type": "display_data"
    },
    {
     "data": {
      "text/plain": "<Figure size 800x500 with 0 Axes>"
     },
     "metadata": {},
     "output_type": "display_data"
    }
   ],
   "source": [
    "categories = dataset['category'].unique()\n",
    "# add rating count  on the category to a list\n",
    "rating_count = []\n",
    "for category in categories:\n",
    "    rating_count.append(dataset[dataset['category'] == category]['rating_count'].sum())\n",
    "# plot the bar graph\n",
    "plt.bar(categories, rating_count)\n",
    "plt.title(\"Rating Count per Category\")\n",
    "plt.xlabel('Category')\n",
    "plt.ylabel('Rating Count')\n",
    "plt.xticks(rotation=90)\n",
    "plt.figure(figsize=(8,5))\n",
    "\n",
    "plt.show()\n",
    "\n",
    "# print the rating count for each category based on the dataset\n",
    "print(\"Rating Count per Category: \")\n",
    "print(rating_count)\n"
   ],
   "metadata": {
    "collapsed": false,
    "pycharm": {
     "name": "#%%\n"
    },
    "ExecuteTime": {
     "end_time": "2023-10-27T08:19:14.231412Z",
     "start_time": "2023-10-27T08:19:12.770118Z"
    }
   },
   "id": "9a77a1d017535db"
  },
  {
   "cell_type": "markdown",
   "source": [
    "Bar Chart 2 - Category Popularity Based on Rating Counts"
   ],
   "metadata": {
    "collapsed": false,
    "pycharm": {
     "name": "#%% md\n"
    },
    "ExecuteTime": {
     "end_time": "2023-10-27T08:17:13.705547Z",
     "start_time": "2023-10-27T08:17:12.612230Z"
    }
   },
   "id": "b6a096759d59abfe"
  },
  {
   "cell_type": "code",
   "execution_count": 189,
   "outputs": [
    {
     "data": {
      "text/plain": "<Figure size 640x480 with 1 Axes>",
      "image/png": "[encoded data removed]"
     },
     "metadata": {},
     "output_type": "display_data"
    },
    {
     "data": {
      "text/plain": "<Figure size 800x500 with 0 Axes>"
     },
     "metadata": {},
     "output_type": "display_data"
    }
   ],
   "source": [
    "# append ratings to a list\n",
    "ratings = []\n",
    "for category in categories:\n",
    "    ratings.append(dataset[dataset['category'] == category]['rating'].sum())\n",
    "    \n",
    "# round off the ratings to nearest integer\n",
    "ratings = [round(rating) for rating in ratings]\n",
    "# count the number of ratings from 1 to 5\n",
    "rating_count = [ratings.count(1), ratings.count(2), ratings.count(3), ratings.count(4), ratings.count(5)]\n",
    "print(\"Rating Count: \")\n",
    "print(rating_count)\n",
    "# plot the bar graph\n",
    "plt.bar([1,2,3,4,5], rating_count)\n",
    "plt.title(\"Category Popularity Based on Rating Counts\")\n",
    "plt.xlabel('Rating')\n",
    "plt.ylabel('Rating Count')\n",
    "plt.figure(figsize=(8,5))\n",
    "\n",
    "plt.show()\n",
    "\n"
   ],
   "metadata": {
    "collapsed": false,
    "pycharm": {
     "name": "#%%\n"
    },
    "ExecuteTime": {
     "end_time": "2023-10-27T08:21:37.942899Z",
     "start_time": "2023-10-27T08:21:34.591607Z"
    }
   },
   "id": "f80e172d82872c4b"
  },
  {
   "cell_type": "markdown",
   "source": [
    "Scatter Plot 1 - Product Popularity by Rating and Rating Count"
   ],
   "metadata": {
    "collapsed": false,
    "pycharm": {
     "name": "#%% md\n"
    },
    "ExecuteTime": {
     "start_time": "2023-10-27T08:17:12.643124Z"
    }
   },
   "id": "fe55e771bd02602f"
  },
  {
   "cell_type": "code",
   "execution_count": 190,
   "outputs": [
    {
     "data": {
      "text/plain": "<Figure size 640x480 with 1 Axes>",
      "image/png": "[encoded data removed]"
     },
     "metadata": {},
     "output_type": "display_data"
    },
    {
     "data": {
      "text/plain": "<Figure size 800x500 with 0 Axes>"
     },
     "metadata": {},
     "output_type": "display_data"
    }
   ],
   "source": [
    "plt.title(\"Product Popularity by Rating and Rating Count\")\n",
    "plt.xlabel('Rating')\n",
    "plt.ylabel('Rating Count')\n",
    "\n",
    "plt.scatter(dataset['rating'],dataset['rating_count'])\n",
    "plt.show()"
   ],
   "metadata": {
    "collapsed": false,
    "pycharm": {
     "name": "#%%\n"
    },
    "ExecuteTime": {
     "end_time": "2023-10-27T08:21:37.943105Z",
     "start_time": "2023-10-27T08:21:34.675931Z"
    }
   },
   "id": "d43424f1fc87e4bf"
  },
  {
   "cell_type": "markdown",
   "source": [
    "Scatter Plot 2 - Discount Percentage vs. Rating"
   ],
   "metadata": {
    "collapsed": false,
    "pycharm": {
     "name": "#%% md\n"
    },
    "ExecuteTime": {
     "start_time": "2023-10-27T08:17:12.643794Z"
    }
   },
   "id": "3149d91463a052cf"
  },
  {
   "cell_type": "code",
   "execution_count": 191,
   "outputs": [
    {
     "data": {
      "text/plain": "<Figure size 640x480 with 1 Axes>",
      "image/png": "[encoded data removed]"
     },
     "metadata": {},
     "output_type": "display_data"
    },
    {
     "data": {
      "text/plain": "<Figure size 800x500 with 0 Axes>"
     },
     "metadata": {},
     "output_type": "display_data"
    }
   ],
   "source": [
    "plt.scatter(dataset['discount_percentage'], dataset['rating'], alpha=0.5)  # Alpha controls the transparency of points\n",
    "plt.title(\"Discount Percentage vs. Rating\")\n",
    "plt.xlabel(\"Discount Percentage\")\n",
    "plt.ylabel(\"Rating\")\n",
    "tick_positions = [10, 20, 30, 40, 50, 60, 70]\n",
    "tick_labels = ['10%', '20%', '30%', '40%', '50%', '60%', '70%']\n",
    "plt.xticks(tick_positions, tick_labels)\n",
    "\n",
    "\n",
    "plt.show()"
   ],
   "metadata": {
    "collapsed": false,
    "pycharm": {
     "name": "#%%\n"
    },
    "ExecuteTime": {
     "end_time": "2023-10-27T08:21:37.943196Z",
     "start_time": "2023-10-27T08:21:34.752173Z"
    }
   },
   "id": "38e548396b276f41"
  },
  {
   "cell_type": "markdown",
   "source": [
    "**Create a visualization for each research question that might provide a useful answer.**"
   ],
   "metadata": {
    "collapsed": false,
    "pycharm": {
     "name": "#%% md\n"
    },
    "ExecuteTime": {
     "start_time": "2023-10-27T08:17:12.644575Z"
    }
   },
   "id": "652ab67b4fb96b5c"
  },
  {
   "cell_type": "markdown",
   "source": [
    "**Research Question 1**\n",
    "*   Heatmap 1 - Correlations Among Key Product Attributes\n"
   ],
   "metadata": {
    "collapsed": false,
    "pycharm": {
     "name": "#%% md\n"
    },
    "ExecuteTime": {
     "start_time": "2023-10-27T08:21:34.822075Z"
    }
   },
   "id": "5b434628dcc43bf5"
  },
  {
   "cell_type": "code",
   "execution_count": null,
   "outputs": [],
   "source": [
    "import seaborn as sns\n",
    "\n",
    "# List the attributes you want to assess\n",
    "attributes = ['discounted_price', 'rating', 'actual_price', 'rating_count']\n",
    "\n",
    "# Calculate the correlations among the specified attributes\n",
    "correlations = dataset[attributes].corr(numeric_only=True)\n",
    "\n",
    "# Create a heatmap to visualize the correlations\n",
    "plt.figure(figsize=(8, 6))\n",
    "sns.heatmap(correlations, annot=True, cmap='coolwarm', fmt=\".2f\")\n",
    "plt.title(\"Correlations Among Key Product Attributes\")\n",
    "plt.show()\n"
   ],
   "metadata": {
    "collapsed": false,
    "pycharm": {
     "name": "#%%\n"
    },
    "ExecuteTime": {
     "start_time": "2023-10-27T08:15:48.134050Z"
    }
   },
   "id": "d79a219c4bbe24ea"
  },
  {
   "cell_type": "markdown",
   "source": [
    "**Research Question 3**\n",
    "*   Heatmap 2 - User Behavior Heatmap"
   ],
   "metadata": {
    "collapsed": false,
    "pycharm": {
     "name": "#%% md\n"
    },
    "ExecuteTime": {
     "start_time": "2023-10-27T08:21:34.864141Z"
    }
   },
   "id": "de4d7ff41a2006d"
  },
  {
   "cell_type": "code",
   "execution_count": null,
   "outputs": [],
   "source": [
    "# You may need to prepare a user behavior matrix\n",
    "# Replace 'user_behavior_matrix' with the actual matrix or data\n",
    "user_behavior_matrix = pd.crosstab(dataset['user_id'], dataset['product_id'])\n",
    "\n",
    "plt.figure(figsize=(10, 6))\n",
    "plt.imshow(user_behavior_matrix, cmap='viridis', aspect='auto')\n",
    "plt.colorbar()\n",
    "plt.title('User Behavior Heatmap')\n",
    "plt.show()\n"
   ],
   "metadata": {
    "collapsed": false,
    "pycharm": {
     "name": "#%%\n"
    },
    "ExecuteTime": {
     "start_time": "2023-10-27T08:19:12.863991Z"
    }
   },
   "id": "51cc8bc4fbd376ac"
  }
 ],
 "metadata": {
  "kernelspec": {
   "display_name": "Python 3",
   "language": "python",
   "name": "python3"
  },
  "language_info": {
   "codemirror_mode": {
    "name": "ipython",
    "version": 2
   },
   "file_extension": ".py",
   "mimetype": "text/x-python",
   "name": "python",
   "nbconvert_exporter": "python",
   "pygments_lexer": "ipython2",
   "version": "2.7.6"
  },
  "colab": {
   "provenance": []
  }
 },
 "nbformat": 4,
 "nbformat_minor": 5
}
