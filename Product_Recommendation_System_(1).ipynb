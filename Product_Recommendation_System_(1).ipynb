{
 "cells": [
  {
   "cell_type": "markdown",
   "source": [
    "# Import & Clean Dataset"
   ],
   "metadata": {
    "collapsed": false,
    "id": "15c04bd7048248a0",
    "pycharm": {
     "name": "#%% md\n"
    }
   },
   "id": "15c04bd7048248a0"
  },
  {
   "cell_type": "code",
   "execution_count": null,
   "outputs": [
    {
     "output_type": "execute_result",
     "data": {
      "text/plain": [
       "   product_id                                       product_name  \\\n",
       "0  B002PD61Y4  D-Link DWA-131 300 Mbps Wireless Nano USB Adap...   \n",
       "1  B002PD61Y4  D-Link DWA-131 300 Mbps Wireless Nano USB Adap...   \n",
       "2  B002SZEOLG  TP-Link Nano USB WiFi Dongle 150Mbps High Gain...   \n",
       "3  B003B00484  Duracell Plus AAA Rechargeable Batteries (750 ...   \n",
       "4  B003L62T7W  Logitech B100 Wired USB Mouse, 3 yr Warranty, ...   \n",
       "\n",
       "                                            category discounted_price  \\\n",
       "0  Computers&Accessories|NetworkingDevices|Networ...             ₹507   \n",
       "1  Computers&Accessories|NetworkingDevices|Networ...             ₹507   \n",
       "2  Computers&Accessories|NetworkingDevices|Networ...             ₹749   \n",
       "3  Electronics|GeneralPurposeBatteries&BatteryCha...             ₹399   \n",
       "4  Computers&Accessories|Accessories&Peripherals|...             ₹279   \n",
       "\n",
       "  actual_price discount_percentage rating rating_count  \\\n",
       "0       ₹1,208                 58%    4.1        8,131   \n",
       "1       ₹1,208                 58%    4.1        8,131   \n",
       "2       ₹1,339                 44%    4.2     1,79,692   \n",
       "3         ₹499                 20%    4.3       27,201   \n",
       "4         ₹375                 26%    4.3       31,534   \n",
       "\n",
       "                                       about_product  \\\n",
       "0  Connects your computer to a high-speed wireles...   \n",
       "1  Connects your computer to a high-speed wireles...   \n",
       "2  150 Mbps Wi-Fi —— Exceptional wireless speed u...   \n",
       "3  Duracell Rechargeable AAA 750mAh batteries sta...   \n",
       "4  A comfortable, ambidextrous shape feels good i...   \n",
       "\n",
       "                                             user_id  \\\n",
       "0  AGA2PZGWMQIRA46VYOTICFE7KCBA,AHI2QJ4CLTCQWACDI...   \n",
       "1  AGA2PZGWMQIRA46VYOTICFE7KCBA,AHI2QJ4CLTCQWACDI...   \n",
       "2  AGV3IEFANZCKECFGUM42MRH5FNOA,AEBO7NWCNXKT4AESA...   \n",
       "3  AG2ICOYPSOV5SGBKFEYHGKCNK7PA,AGJ3OQ4X262D3MAQZ...   \n",
       "4  AE6DY6YWTSSE3XNHDXZDGQM2JL2Q,AES3UPSNCD37JZLHZ...   \n",
       "\n",
       "                                           user_name  \\\n",
       "0  nilesh,EAGLE,Manoj KNS,Titus P.,Paras singla,a...   \n",
       "1  nilesh,EAGLE,Manoj KNS,Titus P.,Paras singla,a...   \n",
       "2  Azhar JuMan,Anirudh Sood,Hari Krishnan PS,Akas...   \n",
       "3  T N Sivaji,Akku,V,Meet,MOHAMMED,Niranjan koyri...   \n",
       "4  Uday Joglekar,Simi Singh,Hi,chirag bansal,Swar...   \n",
       "\n",
       "                                           review_id  \\\n",
       "0  R2EJIN3N3L3XKI,R2JMJ8QNG66LV4,R3B46JNPC2T4E7,R...   \n",
       "1  R2EJIN3N3L3XKI,R2JMJ8QNG66LV4,R3B46JNPC2T4E7,R...   \n",
       "2  R1LW6NWSVTVZ2H,R3VR5WFKUS15C5,R2F6GC79OYWUKQ,R...   \n",
       "3  R5L3FAFS6JXJF,R1VTQ25LXQX5UD,R6RJYAZUM5240,R1S...   \n",
       "4  R3U9FRV2Q625DO,R3EJZ83W9OHW3D,RSH53O0JL66NL,R3...   \n",
       "\n",
       "                                        review_title  \\\n",
       "0  good tool to use for,Brand is always good,Over...   \n",
       "1  good tool to use for,Brand is always good,Over...   \n",
       "2  Works on linux for me. Get the model with ante...   \n",
       "3  Works Good,Perfect replacement cell for trimme...   \n",
       "4  Handy Mouse,Good quality mouse,Good one.,Good,...   \n",
       "\n",
       "                                      review_content  \\\n",
       "0  good quality tool from d linkWiFi signal is go...   \n",
       "1  good quality tool from d linkWiFi signal is go...   \n",
       "2  I use this to connect an old PC to internet. I...   \n",
       "3  Works good,Bought it to replace my Phillips QT...   \n",
       "4  Liked this Product,https://m.media-amazon.com/...   \n",
       "\n",
       "                                            img_link  \\\n",
       "0  https://m.media-amazon.com/images/I/31+NwZ8gb1...   \n",
       "1  https://m.media-amazon.com/images/W/WEBP_40237...   \n",
       "2  https://m.media-amazon.com/images/I/31Wb+A3VVd...   \n",
       "3  https://m.media-amazon.com/images/I/418YrbHVLC...   \n",
       "4  https://m.media-amazon.com/images/I/31iFF1Kbkp...   \n",
       "\n",
       "                                        product_link  \n",
       "0  https://www.amazon.in/D-Link-DWA-131-Wireless-...  \n",
       "1  https://www.amazon.in/D-Link-DWA-131-Wireless-...  \n",
       "2  https://www.amazon.in/TP-Link-TL-WN722N-150Mbp...  \n",
       "3  https://www.amazon.in/Duracell-AAA-750mAh-Rech...  \n",
       "4  https://www.amazon.in/Logitech-B100-Optical-Mo...  "
      ],
      "text/html": [
       "\n",
       "  <div id=\"df-de62814d-3a02-4b98-b9ee-164714cd5371\" class=\"colab-df-container\">\n",
       "    <div>\n",
       "<style scoped>\n",
       "    .dataframe tbody tr th:only-of-type {\n",
       "        vertical-align: middle;\n",
       "    }\n",
       "\n",
       "    .dataframe tbody tr th {\n",
       "        vertical-align: top;\n",
       "    }\n",
       "\n",
       "    .dataframe thead th {\n",
       "        text-align: right;\n",
       "    }\n",
       "</style>\n",
       "<table border=\"1\" class=\"dataframe\">\n",
       "  <thead>\n",
       "    <tr style=\"text-align: right;\">\n",
       "      <th></th>\n",
       "      <th>product_id</th>\n",
       "      <th>product_name</th>\n",
       "      <th>category</th>\n",
       "      <th>discounted_price</th>\n",
       "      <th>actual_price</th>\n",
       "      <th>discount_percentage</th>\n",
       "      <th>rating</th>\n",
       "      <th>rating_count</th>\n",
       "      <th>about_product</th>\n",
       "      <th>user_id</th>\n",
       "      <th>user_name</th>\n",
       "      <th>review_id</th>\n",
       "      <th>review_title</th>\n",
       "      <th>review_content</th>\n",
       "      <th>img_link</th>\n",
       "      <th>product_link</th>\n",
       "    </tr>\n",
       "  </thead>\n",
       "  <tbody>\n",
       "    <tr>\n",
       "      <th>0</th>\n",
       "      <td>B002PD61Y4</td>\n",
       "      <td>D-Link DWA-131 300 Mbps Wireless Nano USB Adap...</td>\n",
       "      <td>Computers&amp;Accessories|NetworkingDevices|Networ...</td>\n",
       "      <td>₹507</td>\n",
       "      <td>₹1,208</td>\n",
       "      <td>58%</td>\n",
       "      <td>4.1</td>\n",
       "      <td>8,131</td>\n",
       "      <td>Connects your computer to a high-speed wireles...</td>\n",
       "      <td>AGA2PZGWMQIRA46VYOTICFE7KCBA,AHI2QJ4CLTCQWACDI...</td>\n",
       "      <td>nilesh,EAGLE,Manoj KNS,Titus P.,Paras singla,a...</td>\n",
       "      <td>R2EJIN3N3L3XKI,R2JMJ8QNG66LV4,R3B46JNPC2T4E7,R...</td>\n",
       "      <td>good tool to use for,Brand is always good,Over...</td>\n",
       "      <td>good quality tool from d linkWiFi signal is go...</td>\n",
       "      <td>https://m.media-amazon.com/images/I/31+NwZ8gb1...</td>\n",
       "      <td>https://www.amazon.in/D-Link-DWA-131-Wireless-...</td>\n",
       "    </tr>\n",
       "    <tr>\n",
       "      <th>1</th>\n",
       "      <td>B002PD61Y4</td>\n",
       "      <td>D-Link DWA-131 300 Mbps Wireless Nano USB Adap...</td>\n",
       "      <td>Computers&amp;Accessories|NetworkingDevices|Networ...</td>\n",
       "      <td>₹507</td>\n",
       "      <td>₹1,208</td>\n",
       "      <td>58%</td>\n",
       "      <td>4.1</td>\n",
       "      <td>8,131</td>\n",
       "      <td>Connects your computer to a high-speed wireles...</td>\n",
       "      <td>AGA2PZGWMQIRA46VYOTICFE7KCBA,AHI2QJ4CLTCQWACDI...</td>\n",
       "      <td>nilesh,EAGLE,Manoj KNS,Titus P.,Paras singla,a...</td>\n",
       "      <td>R2EJIN3N3L3XKI,R2JMJ8QNG66LV4,R3B46JNPC2T4E7,R...</td>\n",
       "      <td>good tool to use for,Brand is always good,Over...</td>\n",
       "      <td>good quality tool from d linkWiFi signal is go...</td>\n",
       "      <td>https://m.media-amazon.com/images/W/WEBP_40237...</td>\n",
       "      <td>https://www.amazon.in/D-Link-DWA-131-Wireless-...</td>\n",
       "    </tr>\n",
       "    <tr>\n",
       "      <th>2</th>\n",
       "      <td>B002SZEOLG</td>\n",
       "      <td>TP-Link Nano USB WiFi Dongle 150Mbps High Gain...</td>\n",
       "      <td>Computers&amp;Accessories|NetworkingDevices|Networ...</td>\n",
       "      <td>₹749</td>\n",
       "      <td>₹1,339</td>\n",
       "      <td>44%</td>\n",
       "      <td>4.2</td>\n",
       "      <td>1,79,692</td>\n",
       "      <td>150 Mbps Wi-Fi —— Exceptional wireless speed u...</td>\n",
       "      <td>AGV3IEFANZCKECFGUM42MRH5FNOA,AEBO7NWCNXKT4AESA...</td>\n",
       "      <td>Azhar JuMan,Anirudh Sood,Hari Krishnan PS,Akas...</td>\n",
       "      <td>R1LW6NWSVTVZ2H,R3VR5WFKUS15C5,R2F6GC79OYWUKQ,R...</td>\n",
       "      <td>Works on linux for me. Get the model with ante...</td>\n",
       "      <td>I use this to connect an old PC to internet. I...</td>\n",
       "      <td>https://m.media-amazon.com/images/I/31Wb+A3VVd...</td>\n",
       "      <td>https://www.amazon.in/TP-Link-TL-WN722N-150Mbp...</td>\n",
       "    </tr>\n",
       "    <tr>\n",
       "      <th>3</th>\n",
       "      <td>B003B00484</td>\n",
       "      <td>Duracell Plus AAA Rechargeable Batteries (750 ...</td>\n",
       "      <td>Electronics|GeneralPurposeBatteries&amp;BatteryCha...</td>\n",
       "      <td>₹399</td>\n",
       "      <td>₹499</td>\n",
       "      <td>20%</td>\n",
       "      <td>4.3</td>\n",
       "      <td>27,201</td>\n",
       "      <td>Duracell Rechargeable AAA 750mAh batteries sta...</td>\n",
       "      <td>AG2ICOYPSOV5SGBKFEYHGKCNK7PA,AGJ3OQ4X262D3MAQZ...</td>\n",
       "      <td>T N Sivaji,Akku,V,Meet,MOHAMMED,Niranjan koyri...</td>\n",
       "      <td>R5L3FAFS6JXJF,R1VTQ25LXQX5UD,R6RJYAZUM5240,R1S...</td>\n",
       "      <td>Works Good,Perfect replacement cell for trimme...</td>\n",
       "      <td>Works good,Bought it to replace my Phillips QT...</td>\n",
       "      <td>https://m.media-amazon.com/images/I/418YrbHVLC...</td>\n",
       "      <td>https://www.amazon.in/Duracell-AAA-750mAh-Rech...</td>\n",
       "    </tr>\n",
       "    <tr>\n",
       "      <th>4</th>\n",
       "      <td>B003L62T7W</td>\n",
       "      <td>Logitech B100 Wired USB Mouse, 3 yr Warranty, ...</td>\n",
       "      <td>Computers&amp;Accessories|Accessories&amp;Peripherals|...</td>\n",
       "      <td>₹279</td>\n",
       "      <td>₹375</td>\n",
       "      <td>26%</td>\n",
       "      <td>4.3</td>\n",
       "      <td>31,534</td>\n",
       "      <td>A comfortable, ambidextrous shape feels good i...</td>\n",
       "      <td>AE6DY6YWTSSE3XNHDXZDGQM2JL2Q,AES3UPSNCD37JZLHZ...</td>\n",
       "      <td>Uday Joglekar,Simi Singh,Hi,chirag bansal,Swar...</td>\n",
       "      <td>R3U9FRV2Q625DO,R3EJZ83W9OHW3D,RSH53O0JL66NL,R3...</td>\n",
       "      <td>Handy Mouse,Good quality mouse,Good one.,Good,...</td>\n",
       "      <td>Liked this Product,https://m.media-amazon.com/...</td>\n",
       "      <td>https://m.media-amazon.com/images/I/31iFF1Kbkp...</td>\n",
       "      <td>https://www.amazon.in/Logitech-B100-Optical-Mo...</td>\n",
       "    </tr>\n",
       "  </tbody>\n",
       "</table>\n",
       "</div>\n",
       "    <div class=\"colab-df-buttons\">\n",
       "\n",
       "  <div class=\"colab-df-container\">\n",
       "    <button class=\"colab-df-convert\" onclick=\"convertToInteractive('df-de62814d-3a02-4b98-b9ee-164714cd5371')\"\n",
       "            title=\"Convert this dataframe to an interactive table.\"\n",
       "            style=\"display:none;\">\n",
       "\n",
       "  <svg xmlns=\"http://www.w3.org/2000/svg\" height=\"24px\" viewBox=\"0 -960 960 960\">\n",
       "    <path d=\"M120-120v-720h720v720H120Zm60-500h600v-160H180v160Zm220 220h160v-160H400v160Zm0 220h160v-160H400v160ZM180-400h160v-160H180v160Zm440 0h160v-160H620v160ZM180-180h160v-160H180v160Zm440 0h160v-160H620v160Z\"/>\n",
       "  </svg>\n",
       "    </button>\n",
       "\n",
       "  <style>\n",
       "    .colab-df-container {\n",
       "      display:flex;\n",
       "      gap: 12px;\n",
       "    }\n",
       "\n",
       "    .colab-df-convert {\n",
       "      background-color: #E8F0FE;\n",
       "      border: none;\n",
       "      border-radius: 50%;\n",
       "      cursor: pointer;\n",
       "      display: none;\n",
       "      fill: #1967D2;\n",
       "      height: 32px;\n",
       "      padding: 0 0 0 0;\n",
       "      width: 32px;\n",
       "    }\n",
       "\n",
       "    .colab-df-convert:hover {\n",
       "      background-color: #E2EBFA;\n",
       "      box-shadow: 0px 1px 2px rgba(60, 64, 67, 0.3), 0px 1px 3px 1px rgba(60, 64, 67, 0.15);\n",
       "      fill: #174EA6;\n",
       "    }\n",
       "\n",
       "    .colab-df-buttons div {\n",
       "      margin-bottom: 4px;\n",
       "    }\n",
       "\n",
       "    [theme=dark] .colab-df-convert {\n",
       "      background-color: #3B4455;\n",
       "      fill: #D2E3FC;\n",
       "    }\n",
       "\n",
       "    [theme=dark] .colab-df-convert:hover {\n",
       "      background-color: #434B5C;\n",
       "      box-shadow: 0px 1px 3px 1px rgba(0, 0, 0, 0.15);\n",
       "      filter: drop-shadow(0px 1px 2px rgba(0, 0, 0, 0.3));\n",
       "      fill: #FFFFFF;\n",
       "    }\n",
       "  </style>\n",
       "\n",
       "    <script>\n",
       "      const buttonEl =\n",
       "        document.querySelector('#df-de62814d-3a02-4b98-b9ee-164714cd5371 button.colab-df-convert');\n",
       "      buttonEl.style.display =\n",
       "        google.colab.kernel.accessAllowed ? 'block' : 'none';\n",
       "\n",
       "      async function convertToInteractive(key) {\n",
       "        const element = document.querySelector('#df-de62814d-3a02-4b98-b9ee-164714cd5371');\n",
       "        const dataTable =\n",
       "          await google.colab.kernel.invokeFunction('convertToInteractive',\n",
       "                                                    [key], {});\n",
       "        if (!dataTable) return;\n",
       "\n",
       "        const docLinkHtml = 'Like what you see? Visit the ' +\n",
       "          '<a target=\"_blank\" href=https://colab.research.google.com/notebooks/data_table.ipynb>data table notebook</a>'\n",
       "          + ' to learn more about interactive tables.';\n",
       "        element.innerHTML = '';\n",
       "        dataTable['output_type'] = 'display_data';\n",
       "        await google.colab.output.renderOutput(dataTable, element);\n",
       "        const docLink = document.createElement('div');\n",
       "        docLink.innerHTML = docLinkHtml;\n",
       "        element.appendChild(docLink);\n",
       "      }\n",
       "    </script>\n",
       "  </div>\n",
       "\n",
       "\n",
       "<div id=\"df-982eac7b-0274-4ae7-90c9-95e61e26e542\">\n",
       "  <button class=\"colab-df-quickchart\" onclick=\"quickchart('df-982eac7b-0274-4ae7-90c9-95e61e26e542')\"\n",
       "            title=\"Suggest charts.\"\n",
       "            style=\"display:none;\">\n",
       "\n",
       "<svg xmlns=\"http://www.w3.org/2000/svg\" height=\"24px\"viewBox=\"0 0 24 24\"\n",
       "     width=\"24px\">\n",
       "    <g>\n",
       "        <path d=\"M19 3H5c-1.1 0-2 .9-2 2v14c0 1.1.9 2 2 2h14c1.1 0 2-.9 2-2V5c0-1.1-.9-2-2-2zM9 17H7v-7h2v7zm4 0h-2V7h2v10zm4 0h-2v-4h2v4z\"/>\n",
       "    </g>\n",
       "</svg>\n",
       "  </button>\n",
       "\n",
       "<style>\n",
       "  .colab-df-quickchart {\n",
       "      --bg-color: #E8F0FE;\n",
       "      --fill-color: #1967D2;\n",
       "      --hover-bg-color: #E2EBFA;\n",
       "      --hover-fill-color: #174EA6;\n",
       "      --disabled-fill-color: #AAA;\n",
       "      --disabled-bg-color: #DDD;\n",
       "  }\n",
       "\n",
       "  [theme=dark] .colab-df-quickchart {\n",
       "      --bg-color: #3B4455;\n",
       "      --fill-color: #D2E3FC;\n",
       "      --hover-bg-color: #434B5C;\n",
       "      --hover-fill-color: #FFFFFF;\n",
       "      --disabled-bg-color: #3B4455;\n",
       "      --disabled-fill-color: #666;\n",
       "  }\n",
       "\n",
       "  .colab-df-quickchart {\n",
       "    background-color: var(--bg-color);\n",
       "    border: none;\n",
       "    border-radius: 50%;\n",
       "    cursor: pointer;\n",
       "    display: none;\n",
       "    fill: var(--fill-color);\n",
       "    height: 32px;\n",
       "    padding: 0;\n",
       "    width: 32px;\n",
       "  }\n",
       "\n",
       "  .colab-df-quickchart:hover {\n",
       "    background-color: var(--hover-bg-color);\n",
       "    box-shadow: 0 1px 2px rgba(60, 64, 67, 0.3), 0 1px 3px 1px rgba(60, 64, 67, 0.15);\n",
       "    fill: var(--button-hover-fill-color);\n",
       "  }\n",
       "\n",
       "  .colab-df-quickchart-complete:disabled,\n",
       "  .colab-df-quickchart-complete:disabled:hover {\n",
       "    background-color: var(--disabled-bg-color);\n",
       "    fill: var(--disabled-fill-color);\n",
       "    box-shadow: none;\n",
       "  }\n",
       "\n",
       "  .colab-df-spinner {\n",
       "    border: 2px solid var(--fill-color);\n",
       "    border-color: transparent;\n",
       "    border-bottom-color: var(--fill-color);\n",
       "    animation:\n",
       "      spin 1s steps(1) infinite;\n",
       "  }\n",
       "\n",
       "  @keyframes spin {\n",
       "    0% {\n",
       "      border-color: transparent;\n",
       "      border-bottom-color: var(--fill-color);\n",
       "      border-left-color: var(--fill-color);\n",
       "    }\n",
       "    20% {\n",
       "      border-color: transparent;\n",
       "      border-left-color: var(--fill-color);\n",
       "      border-top-color: var(--fill-color);\n",
       "    }\n",
       "    30% {\n",
       "      border-color: transparent;\n",
       "      border-left-color: var(--fill-color);\n",
       "      border-top-color: var(--fill-color);\n",
       "      border-right-color: var(--fill-color);\n",
       "    }\n",
       "    40% {\n",
       "      border-color: transparent;\n",
       "      border-right-color: var(--fill-color);\n",
       "      border-top-color: var(--fill-color);\n",
       "    }\n",
       "    60% {\n",
       "      border-color: transparent;\n",
       "      border-right-color: var(--fill-color);\n",
       "    }\n",
       "    80% {\n",
       "      border-color: transparent;\n",
       "      border-right-color: var(--fill-color);\n",
       "      border-bottom-color: var(--fill-color);\n",
       "    }\n",
       "    90% {\n",
       "      border-color: transparent;\n",
       "      border-bottom-color: var(--fill-color);\n",
       "    }\n",
       "  }\n",
       "</style>\n",
       "\n",
       "  <script>\n",
       "    async function quickchart(key) {\n",
       "      const quickchartButtonEl =\n",
       "        document.querySelector('#' + key + ' button');\n",
       "      quickchartButtonEl.disabled = true;  // To prevent multiple clicks.\n",
       "      quickchartButtonEl.classList.add('colab-df-spinner');\n",
       "      try {\n",
       "        const charts = await google.colab.kernel.invokeFunction(\n",
       "            'suggestCharts', [key], {});\n",
       "      } catch (error) {\n",
       "        console.error('Error during call to suggestCharts:', error);\n",
       "      }\n",
       "      quickchartButtonEl.classList.remove('colab-df-spinner');\n",
       "      quickchartButtonEl.classList.add('colab-df-quickchart-complete');\n",
       "    }\n",
       "    (() => {\n",
       "      let quickchartButtonEl =\n",
       "        document.querySelector('#df-982eac7b-0274-4ae7-90c9-95e61e26e542 button');\n",
       "      quickchartButtonEl.style.display =\n",
       "        google.colab.kernel.accessAllowed ? 'block' : 'none';\n",
       "    })();\n",
       "  </script>\n",
       "</div>\n",
       "    </div>\n",
       "  </div>\n"
      ]
     },
     "metadata": {},
     "execution_count": 59
    }
   ],
   "source": [
    "import pandas as pd\n",
    "dataset = pd.read_csv('Amazon.csv')\n",
    "dataset.head()"
   ],
   "metadata": {
    "ExecuteTime": {
     "end_time": "2023-10-19T15:17:53.365847Z",
     "start_time": "2023-10-19T15:17:53.312249Z"
    },
    "colab": {
     "base_uri": "https://localhost:8080/",
     "height": 539
    },
    "id": "12c0af1e061a0fba",
    "outputId": "f9cfbab3-4d02-42f8-a331-595a21eeae3b",
    "pycharm": {
     "name": "#%%\n"
    }
   },
   "id": "12c0af1e061a0fba"
  },
  {
   "cell_type": "code",
   "execution_count": null,
   "outputs": [
    {
     "output_type": "execute_result",
     "data": {
      "text/plain": [
       "product_id             0\n",
       "product_name           0\n",
       "category               0\n",
       "discounted_price       0\n",
       "actual_price           0\n",
       "discount_percentage    0\n",
       "rating                 0\n",
       "rating_count           2\n",
       "about_product          0\n",
       "user_id                0\n",
       "user_name              0\n",
       "review_id              0\n",
       "review_title           0\n",
       "review_content         0\n",
       "img_link               0\n",
       "product_link           0\n",
       "dtype: int64"
      ]
     },
     "metadata": {},
     "execution_count": 60
    }
   ],
   "source": [
    "# check for null values\n",
    "dataset.isnull().sum()"
   ],
   "metadata": {
    "ExecuteTime": {
     "end_time": "2023-10-19T15:17:53.368958Z",
     "start_time": "2023-10-19T15:17:53.366459Z"
    },
    "colab": {
     "base_uri": "https://localhost:8080/"
    },
    "id": "9f725813b8bb4612",
    "outputId": "dbd7eb96-9b8f-4c25-aed9-367c84961215",
    "pycharm": {
     "name": "#%%\n"
    }
   },
   "id": "9f725813b8bb4612"
  },
  {
   "cell_type": "code",
   "execution_count": null,
   "outputs": [
    {
     "output_type": "execute_result",
     "data": {
      "text/plain": [
       "0"
      ]
     },
     "metadata": {},
     "execution_count": 61
    }
   ],
   "source": [
    "# check for duplicate values\n",
    "dataset.duplicated().sum()"
   ],
   "metadata": {
    "ExecuteTime": {
     "end_time": "2023-10-19T15:17:53.387930Z",
     "start_time": "2023-10-19T15:17:53.369283Z"
    },
    "colab": {
     "base_uri": "https://localhost:8080/"
    },
    "id": "cf34607165cb3432",
    "outputId": "e8ac98fa-899b-4749-cdf8-050bd7888c53",
    "pycharm": {
     "name": "#%%\n"
    }
   },
   "id": "cf34607165cb3432"
  },
  {
   "cell_type": "code",
   "execution_count": null,
   "outputs": [
    {
     "output_type": "execute_result",
     "data": {
      "text/plain": [
       "0"
      ]
     },
     "metadata": {},
     "execution_count": 62
    }
   ],
   "source": [
    "# convert the rating_count from string to float\n",
    "dataset['rating_count'] = dataset['rating_count'].str.replace(',', '')\n",
    "dataset['rating_count'] = dataset['rating_count'].astype(float)\n",
    "# Filling in missing data for rating_count\n",
    "dataset['rating_count'].fillna(dataset['rating_count'].median(), inplace=True)\n",
    "dataset['rating_count'].isnull().sum()"
   ],
   "metadata": {
    "ExecuteTime": {
     "end_time": "2023-10-19T15:17:53.409269Z",
     "start_time": "2023-10-19T15:17:53.387374Z"
    },
    "colab": {
     "base_uri": "https://localhost:8080/"
    },
    "id": "d13ee0a984f7e8df",
    "outputId": "d5a8e509-d8ba-4327-c60f-5807a9c4cba3",
    "pycharm": {
     "name": "#%%\n"
    }
   },
   "id": "d13ee0a984f7e8df"
  },
  {
   "cell_type": "code",
   "execution_count": null,
   "outputs": [
    {
     "output_type": "execute_result",
     "data": {
      "text/plain": [
       "   product_id                                       product_name  \\\n",
       "0  B002PD61Y4  D-Link DWA-131 300 Mbps Wireless Nano USB Adap...   \n",
       "1  B002PD61Y4  D-Link DWA-131 300 Mbps Wireless Nano USB Adap...   \n",
       "2  B002SZEOLG  TP-Link Nano USB WiFi Dongle 150Mbps High Gain...   \n",
       "3  B003B00484  Duracell Plus AAA Rechargeable Batteries (750 ...   \n",
       "4  B003L62T7W  Logitech B100 Wired USB Mouse, 3 yr Warranty, ...   \n",
       "\n",
       "                                            category  discounted_price  \\\n",
       "0  Computers&Accessories|NetworkingDevices|Networ...             507.0   \n",
       "1  Computers&Accessories|NetworkingDevices|Networ...             507.0   \n",
       "2  Computers&Accessories|NetworkingDevices|Networ...             749.0   \n",
       "3  Electronics|GeneralPurposeBatteries&BatteryCha...             399.0   \n",
       "4  Computers&Accessories|Accessories&Peripherals|...             279.0   \n",
       "\n",
       "   actual_price discount_percentage rating  rating_count  \\\n",
       "0        1208.0                 58%    4.1        8131.0   \n",
       "1        1208.0                 58%    4.1        8131.0   \n",
       "2        1339.0                 44%    4.2      179692.0   \n",
       "3         499.0                 20%    4.3       27201.0   \n",
       "4         375.0                 26%    4.3       31534.0   \n",
       "\n",
       "                                       about_product  \\\n",
       "0  Connects your computer to a high-speed wireles...   \n",
       "1  Connects your computer to a high-speed wireles...   \n",
       "2  150 Mbps Wi-Fi —— Exceptional wireless speed u...   \n",
       "3  Duracell Rechargeable AAA 750mAh batteries sta...   \n",
       "4  A comfortable, ambidextrous shape feels good i...   \n",
       "\n",
       "                                             user_id  \\\n",
       "0  AGA2PZGWMQIRA46VYOTICFE7KCBA,AHI2QJ4CLTCQWACDI...   \n",
       "1  AGA2PZGWMQIRA46VYOTICFE7KCBA,AHI2QJ4CLTCQWACDI...   \n",
       "2  AGV3IEFANZCKECFGUM42MRH5FNOA,AEBO7NWCNXKT4AESA...   \n",
       "3  AG2ICOYPSOV5SGBKFEYHGKCNK7PA,AGJ3OQ4X262D3MAQZ...   \n",
       "4  AE6DY6YWTSSE3XNHDXZDGQM2JL2Q,AES3UPSNCD37JZLHZ...   \n",
       "\n",
       "                                           user_name  \\\n",
       "0  nilesh,EAGLE,Manoj KNS,Titus P.,Paras singla,a...   \n",
       "1  nilesh,EAGLE,Manoj KNS,Titus P.,Paras singla,a...   \n",
       "2  Azhar JuMan,Anirudh Sood,Hari Krishnan PS,Akas...   \n",
       "3  T N Sivaji,Akku,V,Meet,MOHAMMED,Niranjan koyri...   \n",
       "4  Uday Joglekar,Simi Singh,Hi,chirag bansal,Swar...   \n",
       "\n",
       "                                           review_id  \\\n",
       "0  R2EJIN3N3L3XKI,R2JMJ8QNG66LV4,R3B46JNPC2T4E7,R...   \n",
       "1  R2EJIN3N3L3XKI,R2JMJ8QNG66LV4,R3B46JNPC2T4E7,R...   \n",
       "2  R1LW6NWSVTVZ2H,R3VR5WFKUS15C5,R2F6GC79OYWUKQ,R...   \n",
       "3  R5L3FAFS6JXJF,R1VTQ25LXQX5UD,R6RJYAZUM5240,R1S...   \n",
       "4  R3U9FRV2Q625DO,R3EJZ83W9OHW3D,RSH53O0JL66NL,R3...   \n",
       "\n",
       "                                        review_title  \\\n",
       "0  good tool to use for,Brand is always good,Over...   \n",
       "1  good tool to use for,Brand is always good,Over...   \n",
       "2  Works on linux for me. Get the model with ante...   \n",
       "3  Works Good,Perfect replacement cell for trimme...   \n",
       "4  Handy Mouse,Good quality mouse,Good one.,Good,...   \n",
       "\n",
       "                                      review_content  \\\n",
       "0  good quality tool from d linkWiFi signal is go...   \n",
       "1  good quality tool from d linkWiFi signal is go...   \n",
       "2  I use this to connect an old PC to internet. I...   \n",
       "3  Works good,Bought it to replace my Phillips QT...   \n",
       "4  Liked this Product,https://m.media-amazon.com/...   \n",
       "\n",
       "                                            img_link  \\\n",
       "0  https://m.media-amazon.com/images/I/31+NwZ8gb1...   \n",
       "1  https://m.media-amazon.com/images/W/WEBP_40237...   \n",
       "2  https://m.media-amazon.com/images/I/31Wb+A3VVd...   \n",
       "3  https://m.media-amazon.com/images/I/418YrbHVLC...   \n",
       "4  https://m.media-amazon.com/images/I/31iFF1Kbkp...   \n",
       "\n",
       "                                        product_link currency  \n",
       "0  https://www.amazon.in/D-Link-DWA-131-Wireless-...        ₹  \n",
       "1  https://www.amazon.in/D-Link-DWA-131-Wireless-...        ₹  \n",
       "2  https://www.amazon.in/TP-Link-TL-WN722N-150Mbp...        ₹  \n",
       "3  https://www.amazon.in/Duracell-AAA-750mAh-Rech...        ₹  \n",
       "4  https://www.amazon.in/Logitech-B100-Optical-Mo...        ₹  "
      ],
      "text/html": [
       "\n",
       "  <div id=\"df-04b58d00-4e70-4f6d-b2b3-945581a21c8c\" class=\"colab-df-container\">\n",
       "    <div>\n",
       "<style scoped>\n",
       "    .dataframe tbody tr th:only-of-type {\n",
       "        vertical-align: middle;\n",
       "    }\n",
       "\n",
       "    .dataframe tbody tr th {\n",
       "        vertical-align: top;\n",
       "    }\n",
       "\n",
       "    .dataframe thead th {\n",
       "        text-align: right;\n",
       "    }\n",
       "</style>\n",
       "<table border=\"1\" class=\"dataframe\">\n",
       "  <thead>\n",
       "    <tr style=\"text-align: right;\">\n",
       "      <th></th>\n",
       "      <th>product_id</th>\n",
       "      <th>product_name</th>\n",
       "      <th>category</th>\n",
       "      <th>discounted_price</th>\n",
       "      <th>actual_price</th>\n",
       "      <th>discount_percentage</th>\n",
       "      <th>rating</th>\n",
       "      <th>rating_count</th>\n",
       "      <th>about_product</th>\n",
       "      <th>user_id</th>\n",
       "      <th>user_name</th>\n",
       "      <th>review_id</th>\n",
       "      <th>review_title</th>\n",
       "      <th>review_content</th>\n",
       "      <th>img_link</th>\n",
       "      <th>product_link</th>\n",
       "      <th>currency</th>\n",
       "    </tr>\n",
       "  </thead>\n",
       "  <tbody>\n",
       "    <tr>\n",
       "      <th>0</th>\n",
       "      <td>B002PD61Y4</td>\n",
       "      <td>D-Link DWA-131 300 Mbps Wireless Nano USB Adap...</td>\n",
       "      <td>Computers&amp;Accessories|NetworkingDevices|Networ...</td>\n",
       "      <td>507.0</td>\n",
       "      <td>1208.0</td>\n",
       "      <td>58%</td>\n",
       "      <td>4.1</td>\n",
       "      <td>8131.0</td>\n",
       "      <td>Connects your computer to a high-speed wireles...</td>\n",
       "      <td>AGA2PZGWMQIRA46VYOTICFE7KCBA,AHI2QJ4CLTCQWACDI...</td>\n",
       "      <td>nilesh,EAGLE,Manoj KNS,Titus P.,Paras singla,a...</td>\n",
       "      <td>R2EJIN3N3L3XKI,R2JMJ8QNG66LV4,R3B46JNPC2T4E7,R...</td>\n",
       "      <td>good tool to use for,Brand is always good,Over...</td>\n",
       "      <td>good quality tool from d linkWiFi signal is go...</td>\n",
       "      <td>https://m.media-amazon.com/images/I/31+NwZ8gb1...</td>\n",
       "      <td>https://www.amazon.in/D-Link-DWA-131-Wireless-...</td>\n",
       "      <td>₹</td>\n",
       "    </tr>\n",
       "    <tr>\n",
       "      <th>1</th>\n",
       "      <td>B002PD61Y4</td>\n",
       "      <td>D-Link DWA-131 300 Mbps Wireless Nano USB Adap...</td>\n",
       "      <td>Computers&amp;Accessories|NetworkingDevices|Networ...</td>\n",
       "      <td>507.0</td>\n",
       "      <td>1208.0</td>\n",
       "      <td>58%</td>\n",
       "      <td>4.1</td>\n",
       "      <td>8131.0</td>\n",
       "      <td>Connects your computer to a high-speed wireles...</td>\n",
       "      <td>AGA2PZGWMQIRA46VYOTICFE7KCBA,AHI2QJ4CLTCQWACDI...</td>\n",
       "      <td>nilesh,EAGLE,Manoj KNS,Titus P.,Paras singla,a...</td>\n",
       "      <td>R2EJIN3N3L3XKI,R2JMJ8QNG66LV4,R3B46JNPC2T4E7,R...</td>\n",
       "      <td>good tool to use for,Brand is always good,Over...</td>\n",
       "      <td>good quality tool from d linkWiFi signal is go...</td>\n",
       "      <td>https://m.media-amazon.com/images/W/WEBP_40237...</td>\n",
       "      <td>https://www.amazon.in/D-Link-DWA-131-Wireless-...</td>\n",
       "      <td>₹</td>\n",
       "    </tr>\n",
       "    <tr>\n",
       "      <th>2</th>\n",
       "      <td>B002SZEOLG</td>\n",
       "      <td>TP-Link Nano USB WiFi Dongle 150Mbps High Gain...</td>\n",
       "      <td>Computers&amp;Accessories|NetworkingDevices|Networ...</td>\n",
       "      <td>749.0</td>\n",
       "      <td>1339.0</td>\n",
       "      <td>44%</td>\n",
       "      <td>4.2</td>\n",
       "      <td>179692.0</td>\n",
       "      <td>150 Mbps Wi-Fi —— Exceptional wireless speed u...</td>\n",
       "      <td>AGV3IEFANZCKECFGUM42MRH5FNOA,AEBO7NWCNXKT4AESA...</td>\n",
       "      <td>Azhar JuMan,Anirudh Sood,Hari Krishnan PS,Akas...</td>\n",
       "      <td>R1LW6NWSVTVZ2H,R3VR5WFKUS15C5,R2F6GC79OYWUKQ,R...</td>\n",
       "      <td>Works on linux for me. Get the model with ante...</td>\n",
       "      <td>I use this to connect an old PC to internet. I...</td>\n",
       "      <td>https://m.media-amazon.com/images/I/31Wb+A3VVd...</td>\n",
       "      <td>https://www.amazon.in/TP-Link-TL-WN722N-150Mbp...</td>\n",
       "      <td>₹</td>\n",
       "    </tr>\n",
       "    <tr>\n",
       "      <th>3</th>\n",
       "      <td>B003B00484</td>\n",
       "      <td>Duracell Plus AAA Rechargeable Batteries (750 ...</td>\n",
       "      <td>Electronics|GeneralPurposeBatteries&amp;BatteryCha...</td>\n",
       "      <td>399.0</td>\n",
       "      <td>499.0</td>\n",
       "      <td>20%</td>\n",
       "      <td>4.3</td>\n",
       "      <td>27201.0</td>\n",
       "      <td>Duracell Rechargeable AAA 750mAh batteries sta...</td>\n",
       "      <td>AG2ICOYPSOV5SGBKFEYHGKCNK7PA,AGJ3OQ4X262D3MAQZ...</td>\n",
       "      <td>T N Sivaji,Akku,V,Meet,MOHAMMED,Niranjan koyri...</td>\n",
       "      <td>R5L3FAFS6JXJF,R1VTQ25LXQX5UD,R6RJYAZUM5240,R1S...</td>\n",
       "      <td>Works Good,Perfect replacement cell for trimme...</td>\n",
       "      <td>Works good,Bought it to replace my Phillips QT...</td>\n",
       "      <td>https://m.media-amazon.com/images/I/418YrbHVLC...</td>\n",
       "      <td>https://www.amazon.in/Duracell-AAA-750mAh-Rech...</td>\n",
       "      <td>₹</td>\n",
       "    </tr>\n",
       "    <tr>\n",
       "      <th>4</th>\n",
       "      <td>B003L62T7W</td>\n",
       "      <td>Logitech B100 Wired USB Mouse, 3 yr Warranty, ...</td>\n",
       "      <td>Computers&amp;Accessories|Accessories&amp;Peripherals|...</td>\n",
       "      <td>279.0</td>\n",
       "      <td>375.0</td>\n",
       "      <td>26%</td>\n",
       "      <td>4.3</td>\n",
       "      <td>31534.0</td>\n",
       "      <td>A comfortable, ambidextrous shape feels good i...</td>\n",
       "      <td>AE6DY6YWTSSE3XNHDXZDGQM2JL2Q,AES3UPSNCD37JZLHZ...</td>\n",
       "      <td>Uday Joglekar,Simi Singh,Hi,chirag bansal,Swar...</td>\n",
       "      <td>R3U9FRV2Q625DO,R3EJZ83W9OHW3D,RSH53O0JL66NL,R3...</td>\n",
       "      <td>Handy Mouse,Good quality mouse,Good one.,Good,...</td>\n",
       "      <td>Liked this Product,https://m.media-amazon.com/...</td>\n",
       "      <td>https://m.media-amazon.com/images/I/31iFF1Kbkp...</td>\n",
       "      <td>https://www.amazon.in/Logitech-B100-Optical-Mo...</td>\n",
       "      <td>₹</td>\n",
       "    </tr>\n",
       "  </tbody>\n",
       "</table>\n",
       "</div>\n",
       "    <div class=\"colab-df-buttons\">\n",
       "\n",
       "  <div class=\"colab-df-container\">\n",
       "    <button class=\"colab-df-convert\" onclick=\"convertToInteractive('df-04b58d00-4e70-4f6d-b2b3-945581a21c8c')\"\n",
       "            title=\"Convert this dataframe to an interactive table.\"\n",
       "            style=\"display:none;\">\n",
       "\n",
       "  <svg xmlns=\"http://www.w3.org/2000/svg\" height=\"24px\" viewBox=\"0 -960 960 960\">\n",
       "    <path d=\"M120-120v-720h720v720H120Zm60-500h600v-160H180v160Zm220 220h160v-160H400v160Zm0 220h160v-160H400v160ZM180-400h160v-160H180v160Zm440 0h160v-160H620v160ZM180-180h160v-160H180v160Zm440 0h160v-160H620v160Z\"/>\n",
       "  </svg>\n",
       "    </button>\n",
       "\n",
       "  <style>\n",
       "    .colab-df-container {\n",
       "      display:flex;\n",
       "      gap: 12px;\n",
       "    }\n",
       "\n",
       "    .colab-df-convert {\n",
       "      background-color: #E8F0FE;\n",
       "      border: none;\n",
       "      border-radius: 50%;\n",
       "      cursor: pointer;\n",
       "      display: none;\n",
       "      fill: #1967D2;\n",
       "      height: 32px;\n",
       "      padding: 0 0 0 0;\n",
       "      width: 32px;\n",
       "    }\n",
       "\n",
       "    .colab-df-convert:hover {\n",
       "      background-color: #E2EBFA;\n",
       "      box-shadow: 0px 1px 2px rgba(60, 64, 67, 0.3), 0px 1px 3px 1px rgba(60, 64, 67, 0.15);\n",
       "      fill: #174EA6;\n",
       "    }\n",
       "\n",
       "    .colab-df-buttons div {\n",
       "      margin-bottom: 4px;\n",
       "    }\n",
       "\n",
       "    [theme=dark] .colab-df-convert {\n",
       "      background-color: #3B4455;\n",
       "      fill: #D2E3FC;\n",
       "    }\n",
       "\n",
       "    [theme=dark] .colab-df-convert:hover {\n",
       "      background-color: #434B5C;\n",
       "      box-shadow: 0px 1px 3px 1px rgba(0, 0, 0, 0.15);\n",
       "      filter: drop-shadow(0px 1px 2px rgba(0, 0, 0, 0.3));\n",
       "      fill: #FFFFFF;\n",
       "    }\n",
       "  </style>\n",
       "\n",
       "    <script>\n",
       "      const buttonEl =\n",
       "        document.querySelector('#df-04b58d00-4e70-4f6d-b2b3-945581a21c8c button.colab-df-convert');\n",
       "      buttonEl.style.display =\n",
       "        google.colab.kernel.accessAllowed ? 'block' : 'none';\n",
       "\n",
       "      async function convertToInteractive(key) {\n",
       "        const element = document.querySelector('#df-04b58d00-4e70-4f6d-b2b3-945581a21c8c');\n",
       "        const dataTable =\n",
       "          await google.colab.kernel.invokeFunction('convertToInteractive',\n",
       "                                                    [key], {});\n",
       "        if (!dataTable) return;\n",
       "\n",
       "        const docLinkHtml = 'Like what you see? Visit the ' +\n",
       "          '<a target=\"_blank\" href=https://colab.research.google.com/notebooks/data_table.ipynb>data table notebook</a>'\n",
       "          + ' to learn more about interactive tables.';\n",
       "        element.innerHTML = '';\n",
       "        dataTable['output_type'] = 'display_data';\n",
       "        await google.colab.output.renderOutput(dataTable, element);\n",
       "        const docLink = document.createElement('div');\n",
       "        docLink.innerHTML = docLinkHtml;\n",
       "        element.appendChild(docLink);\n",
       "      }\n",
       "    </script>\n",
       "  </div>\n",
       "\n",
       "\n",
       "<div id=\"df-fa2a27b9-55e6-4288-85d5-c6ea86610e7f\">\n",
       "  <button class=\"colab-df-quickchart\" onclick=\"quickchart('df-fa2a27b9-55e6-4288-85d5-c6ea86610e7f')\"\n",
       "            title=\"Suggest charts.\"\n",
       "            style=\"display:none;\">\n",
       "\n",
       "<svg xmlns=\"http://www.w3.org/2000/svg\" height=\"24px\"viewBox=\"0 0 24 24\"\n",
       "     width=\"24px\">\n",
       "    <g>\n",
       "        <path d=\"M19 3H5c-1.1 0-2 .9-2 2v14c0 1.1.9 2 2 2h14c1.1 0 2-.9 2-2V5c0-1.1-.9-2-2-2zM9 17H7v-7h2v7zm4 0h-2V7h2v10zm4 0h-2v-4h2v4z\"/>\n",
       "    </g>\n",
       "</svg>\n",
       "  </button>\n",
       "\n",
       "<style>\n",
       "  .colab-df-quickchart {\n",
       "      --bg-color: #E8F0FE;\n",
       "      --fill-color: #1967D2;\n",
       "      --hover-bg-color: #E2EBFA;\n",
       "      --hover-fill-color: #174EA6;\n",
       "      --disabled-fill-color: #AAA;\n",
       "      --disabled-bg-color: #DDD;\n",
       "  }\n",
       "\n",
       "  [theme=dark] .colab-df-quickchart {\n",
       "      --bg-color: #3B4455;\n",
       "      --fill-color: #D2E3FC;\n",
       "      --hover-bg-color: #434B5C;\n",
       "      --hover-fill-color: #FFFFFF;\n",
       "      --disabled-bg-color: #3B4455;\n",
       "      --disabled-fill-color: #666;\n",
       "  }\n",
       "\n",
       "  .colab-df-quickchart {\n",
       "    background-color: var(--bg-color);\n",
       "    border: none;\n",
       "    border-radius: 50%;\n",
       "    cursor: pointer;\n",
       "    display: none;\n",
       "    fill: var(--fill-color);\n",
       "    height: 32px;\n",
       "    padding: 0;\n",
       "    width: 32px;\n",
       "  }\n",
       "\n",
       "  .colab-df-quickchart:hover {\n",
       "    background-color: var(--hover-bg-color);\n",
       "    box-shadow: 0 1px 2px rgba(60, 64, 67, 0.3), 0 1px 3px 1px rgba(60, 64, 67, 0.15);\n",
       "    fill: var(--button-hover-fill-color);\n",
       "  }\n",
       "\n",
       "  .colab-df-quickchart-complete:disabled,\n",
       "  .colab-df-quickchart-complete:disabled:hover {\n",
       "    background-color: var(--disabled-bg-color);\n",
       "    fill: var(--disabled-fill-color);\n",
       "    box-shadow: none;\n",
       "  }\n",
       "\n",
       "  .colab-df-spinner {\n",
       "    border: 2px solid var(--fill-color);\n",
       "    border-color: transparent;\n",
       "    border-bottom-color: var(--fill-color);\n",
       "    animation:\n",
       "      spin 1s steps(1) infinite;\n",
       "  }\n",
       "\n",
       "  @keyframes spin {\n",
       "    0% {\n",
       "      border-color: transparent;\n",
       "      border-bottom-color: var(--fill-color);\n",
       "      border-left-color: var(--fill-color);\n",
       "    }\n",
       "    20% {\n",
       "      border-color: transparent;\n",
       "      border-left-color: var(--fill-color);\n",
       "      border-top-color: var(--fill-color);\n",
       "    }\n",
       "    30% {\n",
       "      border-color: transparent;\n",
       "      border-left-color: var(--fill-color);\n",
       "      border-top-color: var(--fill-color);\n",
       "      border-right-color: var(--fill-color);\n",
       "    }\n",
       "    40% {\n",
       "      border-color: transparent;\n",
       "      border-right-color: var(--fill-color);\n",
       "      border-top-color: var(--fill-color);\n",
       "    }\n",
       "    60% {\n",
       "      border-color: transparent;\n",
       "      border-right-color: var(--fill-color);\n",
       "    }\n",
       "    80% {\n",
       "      border-color: transparent;\n",
       "      border-right-color: var(--fill-color);\n",
       "      border-bottom-color: var(--fill-color);\n",
       "    }\n",
       "    90% {\n",
       "      border-color: transparent;\n",
       "      border-bottom-color: var(--fill-color);\n",
       "    }\n",
       "  }\n",
       "</style>\n",
       "\n",
       "  <script>\n",
       "    async function quickchart(key) {\n",
       "      const quickchartButtonEl =\n",
       "        document.querySelector('#' + key + ' button');\n",
       "      quickchartButtonEl.disabled = true;  // To prevent multiple clicks.\n",
       "      quickchartButtonEl.classList.add('colab-df-spinner');\n",
       "      try {\n",
       "        const charts = await google.colab.kernel.invokeFunction(\n",
       "            'suggestCharts', [key], {});\n",
       "      } catch (error) {\n",
       "        console.error('Error during call to suggestCharts:', error);\n",
       "      }\n",
       "      quickchartButtonEl.classList.remove('colab-df-spinner');\n",
       "      quickchartButtonEl.classList.add('colab-df-quickchart-complete');\n",
       "    }\n",
       "    (() => {\n",
       "      let quickchartButtonEl =\n",
       "        document.querySelector('#df-fa2a27b9-55e6-4288-85d5-c6ea86610e7f button');\n",
       "      quickchartButtonEl.style.display =\n",
       "        google.colab.kernel.accessAllowed ? 'block' : 'none';\n",
       "    })();\n",
       "  </script>\n",
       "</div>\n",
       "    </div>\n",
       "  </div>\n"
      ]
     },
     "metadata": {},
     "execution_count": 63
    }
   ],
   "source": [
    "# separate the currency sign from the discounted_price and actual_price and convert them to float\n",
    "dataset['discounted_price'] = dataset['discounted_price'].str.replace('₹', '')\n",
    "dataset['discounted_price'] = dataset['discounted_price'].str.replace(',', '')\n",
    "dataset['discounted_price'] = dataset['discounted_price'].astype(float)\n",
    "dataset['actual_price'] = dataset['actual_price'].str.replace('₹', '')\n",
    "dataset['actual_price'] = dataset['actual_price'].str.replace(',', '')\n",
    "dataset['actual_price'] = dataset['actual_price'].astype(float)\n",
    "# put the ₹ currency in a new column\n",
    "dataset['currency'] = '₹'\n",
    "dataset.head()"
   ],
   "metadata": {
    "ExecuteTime": {
     "end_time": "2023-10-19T15:17:53.424433Z",
     "start_time": "2023-10-19T15:17:53.396691Z"
    },
    "colab": {
     "base_uri": "https://localhost:8080/",
     "height": 539
    },
    "id": "b5c0363bc3355f22",
    "outputId": "b32456f3-b4b2-4a93-f130-3575487f681e",
    "pycharm": {
     "name": "#%%\n"
    }
   },
   "id": "b5c0363bc3355f22"
  },
  {
   "cell_type": "markdown",
   "source": [
    "# Data Exploration and Preparation"
   ],
   "metadata": {
    "id": "DIXmdaxKQxXc",
    "pycharm": {
     "name": "#%% md\n"
    }
   },
   "id": "DIXmdaxKQxXc"
  },
  {
   "cell_type": "markdown",
   "source": [
    "**1. Investigate the structure and shape of your dataset.**"
   ],
   "metadata": {
    "id": "cgAO8zsLQ24a",
    "pycharm": {
     "name": "#%% md\n"
    }
   },
   "id": "cgAO8zsLQ24a"
  },
  {
   "cell_type": "markdown",
   "source": [
    "\n",
    "\n",
    "*   Structure of Dataset\n"
   ],
   "metadata": {
    "id": "AxEKMM8wTonu",
    "pycharm": {
     "name": "#%% md\n"
    }
   },
   "id": "AxEKMM8wTonu"
  },
  {
   "cell_type": "code",
   "source": [
    "info = dataset.info()\n",
    "print(info)"
   ],
   "metadata": {
    "colab": {
     "base_uri": "https://localhost:8080/"
    },
    "id": "i8OCrJUGTsvt",
    "outputId": "9cb6b2a0-3897-40ab-8b19-e423613771e2",
    "pycharm": {
     "name": "#%%\n"
    }
   },
   "id": "i8OCrJUGTsvt",
   "execution_count": null,
   "outputs": [
    {
     "output_type": "stream",
     "name": "stdout",
     "text": [
      "<class 'pandas.core.frame.DataFrame'>\n",
      "RangeIndex: 1465 entries, 0 to 1464\n",
      "Data columns (total 17 columns):\n",
      " #   Column               Non-Null Count  Dtype  \n",
      "---  ------               --------------  -----  \n",
      " 0   product_id           1465 non-null   object \n",
      " 1   product_name         1465 non-null   object \n",
      " 2   category             1465 non-null   object \n",
      " 3   discounted_price     1465 non-null   float64\n",
      " 4   actual_price         1465 non-null   float64\n",
      " 5   discount_percentage  1465 non-null   object \n",
      " 6   rating               1465 non-null   object \n",
      " 7   rating_count         1465 non-null   float64\n",
      " 8   about_product        1465 non-null   object \n",
      " 9   user_id              1465 non-null   object \n",
      " 10  user_name            1465 non-null   object \n",
      " 11  review_id            1465 non-null   object \n",
      " 12  review_title         1465 non-null   object \n",
      " 13  review_content       1465 non-null   object \n",
      " 14  img_link             1465 non-null   object \n",
      " 15  product_link         1465 non-null   object \n",
      " 16  currency             1465 non-null   object \n",
      "dtypes: float64(3), object(14)\n",
      "memory usage: 194.7+ KB\n",
      "None\n"
     ]
    }
   ]
  },
  {
   "cell_type": "markdown",
   "source": [
    "\n",
    "\n",
    "*   Data Shape (Rows & Columns)\n"
   ],
   "metadata": {
    "id": "BT2Zqk4XSD15",
    "pycharm": {
     "name": "#%% md\n"
    }
   },
   "id": "BT2Zqk4XSD15"
  },
  {
   "cell_type": "code",
   "source": [
    "shape = dataset.shape\n",
    "print(\"Rows:\", shape[0])\n",
    "print(\"Columns:\", shape[1])"
   ],
   "metadata": {
    "colab": {
     "base_uri": "https://localhost:8080/"
    },
    "id": "RW8YJOp1S0WU",
    "outputId": "7e9e69f8-ca48-4c78-9141-d73330498d97",
    "pycharm": {
     "name": "#%%\n"
    }
   },
   "id": "RW8YJOp1S0WU",
   "execution_count": null,
   "outputs": [
    {
     "output_type": "stream",
     "name": "stdout",
     "text": [
      "Rows: 1465\n",
      "Columns: 17\n"
     ]
    }
   ]
  },
  {
   "cell_type": "markdown",
   "source": [
    "**2. Explore the variables that the dataset has. How are they distributed?**"
   ],
   "metadata": {
    "id": "twR62yKnUF8u",
    "pycharm": {
     "name": "#%% md\n"
    }
   },
   "id": "twR62yKnUF8u"
  },
  {
   "cell_type": "markdown",
   "source": [
    "\n",
    "*   Data Types\n",
    "\n"
   ],
   "metadata": {
    "id": "hH80-5b5Q9zO",
    "pycharm": {
     "name": "#%% md\n"
    }
   },
   "id": "hH80-5b5Q9zO"
  },
  {
   "cell_type": "code",
   "source": [
    "types = dataset.dtypes\n",
    "print(types)"
   ],
   "metadata": {
    "colab": {
     "base_uri": "https://localhost:8080/"
    },
    "id": "TC9tYj6jQ_6Q",
    "outputId": "41affc69-7235-42ca-c5c2-a6405af00362",
    "pycharm": {
     "name": "#%%\n"
    }
   },
   "id": "TC9tYj6jQ_6Q",
   "execution_count": null,
   "outputs": [
    {
     "output_type": "stream",
     "name": "stdout",
     "text": [
      "product_id              object\n",
      "product_name            object\n",
      "category                object\n",
      "discounted_price       float64\n",
      "actual_price           float64\n",
      "discount_percentage     object\n",
      "rating                  object\n",
      "rating_count           float64\n",
      "about_product           object\n",
      "user_id                 object\n",
      "user_name               object\n",
      "review_id               object\n",
      "review_title            object\n",
      "review_content          object\n",
      "img_link                object\n",
      "product_link            object\n",
      "currency                object\n",
      "dtype: object\n"
     ]
    }
   ]
  },
  {
   "cell_type": "markdown",
   "source": [
    "* Using describe() function to print the summary statistics to check data distribution"
   ],
   "metadata": {
    "id": "QcQxRxM8c_Aj",
    "pycharm": {
     "name": "#%% md\n"
    }
   },
   "id": "QcQxRxM8c_Aj"
  },
  {
   "cell_type": "code",
   "source": [
    "summary = dataset.describe()\n",
    "\n",
    "print(summary)\n"
   ],
   "metadata": {
    "colab": {
     "base_uri": "https://localhost:8080/"
    },
    "id": "CWO2IJNhUuqB",
    "outputId": "49ca911c-8269-4f7c-b29d-58dfdf254c34",
    "pycharm": {
     "name": "#%%\n"
    }
   },
   "id": "CWO2IJNhUuqB",
   "execution_count": null,
   "outputs": [
    {
     "output_type": "stream",
     "name": "stdout",
     "text": [
      "       discounted_price   actual_price   rating_count\n",
      "count       1465.000000    1465.000000    1465.000000\n",
      "mean        3125.310874    5444.990635   18277.634812\n",
      "std         6944.304394   10874.826864   42727.398216\n",
      "min           39.000000      39.000000       2.000000\n",
      "25%          325.000000     800.000000    1191.000000\n",
      "50%          799.000000    1650.000000    5179.000000\n",
      "75%         1999.000000    4295.000000   17325.000000\n",
      "max        77990.000000  139900.000000  426973.000000\n"
     ]
    }
   ]
  },
  {
   "cell_type": "markdown",
   "source": [
    "**3. Compute the mean, sum, range, and other interesting statistics for numeric\n",
    "columns.**"
   ],
   "metadata": {
    "id": "u8APl0T5UhMX",
    "pycharm": {
     "name": "#%% md\n"
    }
   },
   "id": "u8APl0T5UhMX"
  },
  {
   "cell_type": "code",
   "source": [
    "numeric_columns = dataset.select_dtypes(include=['float64'])\n",
    "\n",
    "mean = numeric_columns.mean()\n",
    "sum = numeric_columns.sum()\n",
    "range = numeric_columns.max() - numeric_columns.min()\n",
    "\n",
    "print(\"Mean Values of Columns: \")\n",
    "print(mean)\n",
    "\n",
    "print(\"\\nSum Values of Columns: \")\n",
    "print(sum)\n",
    "\n",
    "print(\"\\nRange of Columns: \")\n",
    "print(range)"
   ],
   "metadata": {
    "colab": {
     "base_uri": "https://localhost:8080/"
    },
    "id": "NP1RinMxb0ez",
    "outputId": "5fd9fe7f-cdec-4c3c-f3db-9b5936ed2492",
    "pycharm": {
     "name": "#%%\n"
    }
   },
   "id": "NP1RinMxb0ez",
   "execution_count": null,
   "outputs": [
    {
     "output_type": "stream",
     "name": "stdout",
     "text": [
      "Mean Values of Columns: \n",
      "discounted_price     3125.310874\n",
      "actual_price         5444.990635\n",
      "rating_count        18277.634812\n",
      "dtype: float64\n",
      "\n",
      "Sum Values of Columns: \n",
      "discounted_price     4578580.43\n",
      "actual_price         7976911.28\n",
      "rating_count        26776735.00\n",
      "dtype: float64\n",
      "\n",
      "Range of Columns: \n",
      "discounted_price     77951.0\n",
      "actual_price        139861.0\n",
      "rating_count        426971.0\n",
      "dtype: float64\n"
     ]
    }
   ]
  },
  {
   "cell_type": "markdown",
   "source": [
    "**4. Explore distributions of numeric columns using histograms etc.**\n"
   ],
   "metadata": {
    "id": "pDNWk5r3VegC",
    "pycharm": {
     "name": "#%% md\n"
    }
   },
   "id": "pDNWk5r3VegC"
  },
  {
   "cell_type": "markdown",
   "source": [
    "\n",
    "\n",
    "*   Column: 'discounted_price'\n",
    "\n"
   ],
   "metadata": {
    "id": "_9tYTKoKZF85",
    "pycharm": {
     "name": "#%% md\n"
    }
   },
   "id": "_9tYTKoKZF85"
  },
  {
   "cell_type": "code",
   "source": [
    "import matplotlib.pyplot as plt\n",
    "\n",
    "plt.hist(dataset['discounted_price'])\n",
    "plt.title(\"Discounted Price Distribution\")\n",
    "plt.xlabel('Discounted Price')\n",
    "plt.ylabel('Frequency')\n",
    "plt.figure(figsize=(8,5))\n",
    "\n",
    "plt.show()"
   ],
   "metadata": {
    "colab": {
     "base_uri": "https://localhost:8080/",
     "height": 489
    },
    "id": "gISdwUWqVk0G",
    "outputId": "4e6396da-3aa0-4ab2-a4fc-7017c3366465",
    "pycharm": {
     "name": "#%%\n"
    }
   },
   "id": "gISdwUWqVk0G",
   "execution_count": null,
   "outputs": [
    {
     "output_type": "display_data",
     "data": {
      "text/plain": [
       "<Figure size 640x480 with 1 Axes>"
      ],
      "image/png": "[encoded data removed]"
     },
     "metadata": {}
    },
    {
     "output_type": "display_data",
     "data": {
      "text/plain": [
       "<Figure size 800x500 with 0 Axes>"
      ]
     },
     "metadata": {}
    }
   ]
  },
  {
   "cell_type": "markdown",
   "source": [
    "\n",
    "\n",
    "*   Column: 'actual_price'\n",
    "\n"
   ],
   "metadata": {
    "id": "am89IkrhZWND",
    "pycharm": {
     "name": "#%% md\n"
    }
   },
   "id": "am89IkrhZWND"
  },
  {
   "cell_type": "code",
   "source": [
    "plt.hist(dataset['actual_price'])\n",
    "plt.title(\"Actual Price Distribution\")\n",
    "plt.xlabel('Actual Price')\n",
    "plt.ylabel('Frequency')\n",
    "plt.figure(figsize=(8,5))\n",
    "\n",
    "plt.show()"
   ],
   "metadata": {
    "colab": {
     "base_uri": "https://localhost:8080/",
     "height": 489
    },
    "id": "gN8uWuFKZasE",
    "outputId": "7365b33a-3dc5-403d-ef04-facd948613ca",
    "pycharm": {
     "name": "#%%\n"
    }
   },
   "id": "gN8uWuFKZasE",
   "execution_count": null,
   "outputs": [
    {
     "output_type": "display_data",
     "data": {
      "text/plain": [
       "<Figure size 640x480 with 1 Axes>"
      ],
      "image/png": "[encoded data removed]"
     },
     "metadata": {}
    },
    {
     "output_type": "display_data",
     "data": {
      "text/plain": [
       "<Figure size 800x500 with 0 Axes>"
      ]
     },
     "metadata": {}
    }
   ]
  },
  {
   "cell_type": "markdown",
   "source": [
    "\n",
    "\n",
    "*   Column: 'rating_count'\n",
    "\n"
   ],
   "metadata": {
    "id": "-QRZfInFZlgE",
    "pycharm": {
     "name": "#%% md\n"
    }
   },
   "id": "-QRZfInFZlgE"
  },
  {
   "cell_type": "code",
   "source": [
    "plt.hist(dataset['rating_count'])\n",
    "plt.title(\"Rating Count Distribution\")\n",
    "plt.xlabel('Rating Count')\n",
    "plt.ylabel('Frequency')\n",
    "plt.figure(figsize=(8,5))\n",
    "\n",
    "plt.show()"
   ],
   "metadata": {
    "colab": {
     "base_uri": "https://localhost:8080/",
     "height": 489
    },
    "id": "NUHktC8OZtqn",
    "outputId": "704de2c2-39f8-4463-a727-9b9b65204bde",
    "pycharm": {
     "name": "#%%\n"
    }
   },
   "id": "NUHktC8OZtqn",
   "execution_count": null,
   "outputs": [
    {
     "output_type": "display_data",
     "data": {
      "text/plain": [
       "<Figure size 640x480 with 1 Axes>"
      ],
      "image/png": "[encoded data removed]"
     },
     "metadata": {}
    },
    {
     "output_type": "display_data",
     "data": {
      "text/plain": [
       "<Figure size 800x500 with 0 Axes>"
      ]
     },
     "metadata": {}
    }
   ]
  },
  {
   "cell_type": "code",
   "source": [],
   "metadata": {
    "id": "NRKqUEhzf5CL",
    "pycharm": {
     "name": "#%%\n"
    }
   },
   "id": "NRKqUEhzf5CL",
   "execution_count": null,
   "outputs": []
  }
 ],
 "metadata": {
  "kernelspec": {
   "display_name": "Python 3",
   "language": "python",
   "name": "python3"
  },
  "language_info": {
   "codemirror_mode": {
    "name": "ipython",
    "version": 2
   },
   "file_extension": ".py",
   "mimetype": "text/x-python",
   "name": "python",
   "nbconvert_exporter": "python",
   "pygments_lexer": "ipython2",
   "version": "2.7.6"
  },
  "colab": {
   "provenance": []
  }
 },
 "nbformat": 4,
 "nbformat_minor": 5
}