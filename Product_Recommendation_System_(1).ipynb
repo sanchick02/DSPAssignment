{
 "cells": [
  {
   "cell_type": "markdown",
   "source": [
    "# Import & Clean Dataset"
   ],
   "metadata": {
    "collapsed": false,
    "id": "15c04bd7048248a0",
    "pycharm": {
     "name": "#%% md\n"
    }
   },
   "id": "15c04bd7048248a0"
  },
  {
   "cell_type": "code",
   "execution_count": 1,
   "outputs": [
    {
     "data": {
      "text/plain": "   product_id                                       product_name  \\\n0  B002PD61Y4  D-Link DWA-131 300 Mbps Wireless Nano USB Adap...   \n1  B002PD61Y4  D-Link DWA-131 300 Mbps Wireless Nano USB Adap...   \n2  B002SZEOLG  TP-Link Nano USB WiFi Dongle 150Mbps High Gain...   \n3  B003B00484  Duracell Plus AAA Rechargeable Batteries (750 ...   \n4  B003L62T7W  Logitech B100 Wired USB Mouse, 3 yr Warranty, ...   \n\n                                            category discounted_price  \\\n0  Computers&Accessories|NetworkingDevices|Networ...             ₹507   \n1  Computers&Accessories|NetworkingDevices|Networ...             ₹507   \n2  Computers&Accessories|NetworkingDevices|Networ...             ₹749   \n3  Electronics|GeneralPurposeBatteries&BatteryCha...             ₹399   \n4  Computers&Accessories|Accessories&Peripherals|...             ₹279   \n\n  actual_price discount_percentage rating rating_count  \\\n0       ₹1,208                 58%    4.1        8,131   \n1       ₹1,208                 58%    4.1        8,131   \n2       ₹1,339                 44%    4.2     1,79,692   \n3         ₹499                 20%    4.3       27,201   \n4         ₹375                 26%    4.3       31,534   \n\n                                       about_product  \\\n0  Connects your computer to a high-speed wireles...   \n1  Connects your computer to a high-speed wireles...   \n2  150 Mbps Wi-Fi —— Exceptional wireless speed u...   \n3  Duracell Rechargeable AAA 750mAh batteries sta...   \n4  A comfortable, ambidextrous shape feels good i...   \n\n                                             user_id  \\\n0  AGA2PZGWMQIRA46VYOTICFE7KCBA,AHI2QJ4CLTCQWACDI...   \n1  AGA2PZGWMQIRA46VYOTICFE7KCBA,AHI2QJ4CLTCQWACDI...   \n2  AGV3IEFANZCKECFGUM42MRH5FNOA,AEBO7NWCNXKT4AESA...   \n3  AG2ICOYPSOV5SGBKFEYHGKCNK7PA,AGJ3OQ4X262D3MAQZ...   \n4  AE6DY6YWTSSE3XNHDXZDGQM2JL2Q,AES3UPSNCD37JZLHZ...   \n\n                                           user_name  \\\n0  nilesh,EAGLE,Manoj KNS,Titus P.,Paras singla,a...   \n1  nilesh,EAGLE,Manoj KNS,Titus P.,Paras singla,a...   \n2  Azhar JuMan,Anirudh Sood,Hari Krishnan PS,Akas...   \n3  T N Sivaji,Akku,V,Meet,MOHAMMED,Niranjan koyri...   \n4  Uday Joglekar,Simi Singh,Hi,chirag bansal,Swar...   \n\n                                           review_id  \\\n0  R2EJIN3N3L3XKI,R2JMJ8QNG66LV4,R3B46JNPC2T4E7,R...   \n1  R2EJIN3N3L3XKI,R2JMJ8QNG66LV4,R3B46JNPC2T4E7,R...   \n2  R1LW6NWSVTVZ2H,R3VR5WFKUS15C5,R2F6GC79OYWUKQ,R...   \n3  R5L3FAFS6JXJF,R1VTQ25LXQX5UD,R6RJYAZUM5240,R1S...   \n4  R3U9FRV2Q625DO,R3EJZ83W9OHW3D,RSH53O0JL66NL,R3...   \n\n                                        review_title  \\\n0  good tool to use for,Brand is always good,Over...   \n1  good tool to use for,Brand is always good,Over...   \n2  Works on linux for me. Get the model with ante...   \n3  Works Good,Perfect replacement cell for trimme...   \n4  Handy Mouse,Good quality mouse,Good one.,Good,...   \n\n                                      review_content  \\\n0  good quality tool from d linkWiFi signal is go...   \n1  good quality tool from d linkWiFi signal is go...   \n2  I use this to connect an old PC to internet. I...   \n3  Works good,Bought it to replace my Phillips QT...   \n4  Liked this Product,https://m.media-amazon.com/...   \n\n                                            img_link  \\\n0  https://m.media-amazon.com/images/I/31+NwZ8gb1...   \n1  https://m.media-amazon.com/images/W/WEBP_40237...   \n2  https://m.media-amazon.com/images/I/31Wb+A3VVd...   \n3  https://m.media-amazon.com/images/I/418YrbHVLC...   \n4  https://m.media-amazon.com/images/I/31iFF1Kbkp...   \n\n                                        product_link  \n0  https://www.amazon.in/D-Link-DWA-131-Wireless-...  \n1  https://www.amazon.in/D-Link-DWA-131-Wireless-...  \n2  https://www.amazon.in/TP-Link-TL-WN722N-150Mbp...  \n3  https://www.amazon.in/Duracell-AAA-750mAh-Rech...  \n4  https://www.amazon.in/Logitech-B100-Optical-Mo...  ",
      "text/html": "<div>\n<style scoped>\n    .dataframe tbody tr th:only-of-type {\n        vertical-align: middle;\n    }\n\n    .dataframe tbody tr th {\n        vertical-align: top;\n    }\n\n    .dataframe thead th {\n        text-align: right;\n    }\n</style>\n<table border=\"1\" class=\"dataframe\">\n  <thead>\n    <tr style=\"text-align: right;\">\n      <th></th>\n      <th>product_id</th>\n      <th>product_name</th>\n      <th>category</th>\n      <th>discounted_price</th>\n      <th>actual_price</th>\n      <th>discount_percentage</th>\n      <th>rating</th>\n      <th>rating_count</th>\n      <th>about_product</th>\n      <th>user_id</th>\n      <th>user_name</th>\n      <th>review_id</th>\n      <th>review_title</th>\n      <th>review_content</th>\n      <th>img_link</th>\n      <th>product_link</th>\n    </tr>\n  </thead>\n  <tbody>\n    <tr>\n      <th>0</th>\n      <td>B002PD61Y4</td>\n      <td>D-Link DWA-131 300 Mbps Wireless Nano USB Adap...</td>\n      <td>Computers&amp;Accessories|NetworkingDevices|Networ...</td>\n      <td>₹507</td>\n      <td>₹1,208</td>\n      <td>58%</td>\n      <td>4.1</td>\n      <td>8,131</td>\n      <td>Connects your computer to a high-speed wireles...</td>\n      <td>AGA2PZGWMQIRA46VYOTICFE7KCBA,AHI2QJ4CLTCQWACDI...</td>\n      <td>nilesh,EAGLE,Manoj KNS,Titus P.,Paras singla,a...</td>\n      <td>R2EJIN3N3L3XKI,R2JMJ8QNG66LV4,R3B46JNPC2T4E7,R...</td>\n      <td>good tool to use for,Brand is always good,Over...</td>\n      <td>good quality tool from d linkWiFi signal is go...</td>\n      <td>https://m.media-amazon.com/images/I/31+NwZ8gb1...</td>\n      <td>https://www.amazon.in/D-Link-DWA-131-Wireless-...</td>\n    </tr>\n    <tr>\n      <th>1</th>\n      <td>B002PD61Y4</td>\n      <td>D-Link DWA-131 300 Mbps Wireless Nano USB Adap...</td>\n      <td>Computers&amp;Accessories|NetworkingDevices|Networ...</td>\n      <td>₹507</td>\n      <td>₹1,208</td>\n      <td>58%</td>\n      <td>4.1</td>\n      <td>8,131</td>\n      <td>Connects your computer to a high-speed wireles...</td>\n      <td>AGA2PZGWMQIRA46VYOTICFE7KCBA,AHI2QJ4CLTCQWACDI...</td>\n      <td>nilesh,EAGLE,Manoj KNS,Titus P.,Paras singla,a...</td>\n      <td>R2EJIN3N3L3XKI,R2JMJ8QNG66LV4,R3B46JNPC2T4E7,R...</td>\n      <td>good tool to use for,Brand is always good,Over...</td>\n      <td>good quality tool from d linkWiFi signal is go...</td>\n      <td>https://m.media-amazon.com/images/W/WEBP_40237...</td>\n      <td>https://www.amazon.in/D-Link-DWA-131-Wireless-...</td>\n    </tr>\n    <tr>\n      <th>2</th>\n      <td>B002SZEOLG</td>\n      <td>TP-Link Nano USB WiFi Dongle 150Mbps High Gain...</td>\n      <td>Computers&amp;Accessories|NetworkingDevices|Networ...</td>\n      <td>₹749</td>\n      <td>₹1,339</td>\n      <td>44%</td>\n      <td>4.2</td>\n      <td>1,79,692</td>\n      <td>150 Mbps Wi-Fi —— Exceptional wireless speed u...</td>\n      <td>AGV3IEFANZCKECFGUM42MRH5FNOA,AEBO7NWCNXKT4AESA...</td>\n      <td>Azhar JuMan,Anirudh Sood,Hari Krishnan PS,Akas...</td>\n      <td>R1LW6NWSVTVZ2H,R3VR5WFKUS15C5,R2F6GC79OYWUKQ,R...</td>\n      <td>Works on linux for me. Get the model with ante...</td>\n      <td>I use this to connect an old PC to internet. I...</td>\n      <td>https://m.media-amazon.com/images/I/31Wb+A3VVd...</td>\n      <td>https://www.amazon.in/TP-Link-TL-WN722N-150Mbp...</td>\n    </tr>\n    <tr>\n      <th>3</th>\n      <td>B003B00484</td>\n      <td>Duracell Plus AAA Rechargeable Batteries (750 ...</td>\n      <td>Electronics|GeneralPurposeBatteries&amp;BatteryCha...</td>\n      <td>₹399</td>\n      <td>₹499</td>\n      <td>20%</td>\n      <td>4.3</td>\n      <td>27,201</td>\n      <td>Duracell Rechargeable AAA 750mAh batteries sta...</td>\n      <td>AG2ICOYPSOV5SGBKFEYHGKCNK7PA,AGJ3OQ4X262D3MAQZ...</td>\n      <td>T N Sivaji,Akku,V,Meet,MOHAMMED,Niranjan koyri...</td>\n      <td>R5L3FAFS6JXJF,R1VTQ25LXQX5UD,R6RJYAZUM5240,R1S...</td>\n      <td>Works Good,Perfect replacement cell for trimme...</td>\n      <td>Works good,Bought it to replace my Phillips QT...</td>\n      <td>https://m.media-amazon.com/images/I/418YrbHVLC...</td>\n      <td>https://www.amazon.in/Duracell-AAA-750mAh-Rech...</td>\n    </tr>\n    <tr>\n      <th>4</th>\n      <td>B003L62T7W</td>\n      <td>Logitech B100 Wired USB Mouse, 3 yr Warranty, ...</td>\n      <td>Computers&amp;Accessories|Accessories&amp;Peripherals|...</td>\n      <td>₹279</td>\n      <td>₹375</td>\n      <td>26%</td>\n      <td>4.3</td>\n      <td>31,534</td>\n      <td>A comfortable, ambidextrous shape feels good i...</td>\n      <td>AE6DY6YWTSSE3XNHDXZDGQM2JL2Q,AES3UPSNCD37JZLHZ...</td>\n      <td>Uday Joglekar,Simi Singh,Hi,chirag bansal,Swar...</td>\n      <td>R3U9FRV2Q625DO,R3EJZ83W9OHW3D,RSH53O0JL66NL,R3...</td>\n      <td>Handy Mouse,Good quality mouse,Good one.,Good,...</td>\n      <td>Liked this Product,https://m.media-amazon.com/...</td>\n      <td>https://m.media-amazon.com/images/I/31iFF1Kbkp...</td>\n      <td>https://www.amazon.in/Logitech-B100-Optical-Mo...</td>\n    </tr>\n  </tbody>\n</table>\n</div>"
     },
     "execution_count": 1,
     "metadata": {},
     "output_type": "execute_result"
    }
   ],
   "source": [
    "import pandas as pd\n",
    "dataset = pd.read_csv('Amazon.csv')\n",
    "dataset.head()"
   ],
   "metadata": {
    "colab": {
     "base_uri": "https://localhost:8080/",
     "height": 539
    },
    "id": "12c0af1e061a0fba",
    "outputId": "f9cfbab3-4d02-42f8-a331-595a21eeae3b",
    "pycharm": {
     "name": "#%%\n"
    },
    "ExecuteTime": {
     "end_time": "2023-10-26T10:16:14.544850Z",
     "start_time": "2023-10-26T10:16:14.069981Z"
    }
   },
   "id": "12c0af1e061a0fba"
  },
  {
   "cell_type": "code",
   "execution_count": 2,
   "outputs": [
    {
     "data": {
      "text/plain": "product_id             0\nproduct_name           0\ncategory               0\ndiscounted_price       0\nactual_price           0\ndiscount_percentage    0\nrating                 0\nrating_count           2\nabout_product          0\nuser_id                0\nuser_name              0\nreview_id              0\nreview_title           0\nreview_content         0\nimg_link               0\nproduct_link           0\ndtype: int64"
     },
     "execution_count": 2,
     "metadata": {},
     "output_type": "execute_result"
    }
   ],
   "source": [
    "# check for null values\n",
    "dataset.isnull().sum()"
   ],
   "metadata": {
    "colab": {
     "base_uri": "https://localhost:8080/"
    },
    "id": "9f725813b8bb4612",
    "outputId": "dbd7eb96-9b8f-4c25-aed9-367c84961215",
    "pycharm": {
     "name": "#%%\n"
    },
    "ExecuteTime": {
     "end_time": "2023-10-26T10:16:14.552198Z",
     "start_time": "2023-10-26T10:16:14.547813Z"
    }
   },
   "id": "9f725813b8bb4612"
  },
  {
   "cell_type": "code",
   "execution_count": 3,
   "outputs": [
    {
     "data": {
      "text/plain": "0"
     },
     "execution_count": 3,
     "metadata": {},
     "output_type": "execute_result"
    }
   ],
   "source": [
    "# check for duplicate values\n",
    "dataset.duplicated().sum()"
   ],
   "metadata": {
    "colab": {
     "base_uri": "https://localhost:8080/"
    },
    "id": "cf34607165cb3432",
    "outputId": "e8ac98fa-899b-4749-cdf8-050bd7888c53",
    "pycharm": {
     "name": "#%%\n"
    },
    "ExecuteTime": {
     "end_time": "2023-10-26T10:16:14.619486Z",
     "start_time": "2023-10-26T10:16:14.554698Z"
    }
   },
   "id": "cf34607165cb3432"
  },
  {
   "cell_type": "code",
   "execution_count": 4,
   "outputs": [
    {
     "data": {
      "text/plain": "0"
     },
     "execution_count": 4,
     "metadata": {},
     "output_type": "execute_result"
    }
   ],
   "source": [
    "# convert the rating_count from string to float\n",
    "dataset['rating_count'] = dataset['rating_count'].str.replace(',', '')\n",
    "dataset['rating_count'] = dataset['rating_count'].astype(float)\n",
    "# Filling in missing data for rating_count\n",
    "dataset['rating_count'].fillna(dataset['rating_count'].median(), inplace=True)\n",
    "dataset['rating_count'].isnull().sum()"
   ],
   "metadata": {
    "colab": {
     "base_uri": "https://localhost:8080/"
    },
    "id": "d13ee0a984f7e8df",
    "outputId": "d5a8e509-d8ba-4327-c60f-5807a9c4cba3",
    "pycharm": {
     "name": "#%%\n"
    },
    "ExecuteTime": {
     "end_time": "2023-10-26T10:16:14.620162Z",
     "start_time": "2023-10-26T10:16:14.584502Z"
    }
   },
   "id": "d13ee0a984f7e8df"
  },
  {
   "cell_type": "code",
   "execution_count": 5,
   "outputs": [
    {
     "data": {
      "text/plain": "   product_id                                       product_name  \\\n0  B002PD61Y4  D-Link DWA-131 300 Mbps Wireless Nano USB Adap...   \n1  B002PD61Y4  D-Link DWA-131 300 Mbps Wireless Nano USB Adap...   \n2  B002SZEOLG  TP-Link Nano USB WiFi Dongle 150Mbps High Gain...   \n3  B003B00484  Duracell Plus AAA Rechargeable Batteries (750 ...   \n4  B003L62T7W  Logitech B100 Wired USB Mouse, 3 yr Warranty, ...   \n\n                                            category  discounted_price  \\\n0  Computers&Accessories|NetworkingDevices|Networ...             507.0   \n1  Computers&Accessories|NetworkingDevices|Networ...             507.0   \n2  Computers&Accessories|NetworkingDevices|Networ...             749.0   \n3  Electronics|GeneralPurposeBatteries&BatteryCha...             399.0   \n4  Computers&Accessories|Accessories&Peripherals|...             279.0   \n\n   actual_price discount_percentage rating  rating_count  \\\n0        1208.0                 58%    4.1        8131.0   \n1        1208.0                 58%    4.1        8131.0   \n2        1339.0                 44%    4.2      179692.0   \n3         499.0                 20%    4.3       27201.0   \n4         375.0                 26%    4.3       31534.0   \n\n                                       about_product  \\\n0  Connects your computer to a high-speed wireles...   \n1  Connects your computer to a high-speed wireles...   \n2  150 Mbps Wi-Fi —— Exceptional wireless speed u...   \n3  Duracell Rechargeable AAA 750mAh batteries sta...   \n4  A comfortable, ambidextrous shape feels good i...   \n\n                                             user_id  \\\n0  AGA2PZGWMQIRA46VYOTICFE7KCBA,AHI2QJ4CLTCQWACDI...   \n1  AGA2PZGWMQIRA46VYOTICFE7KCBA,AHI2QJ4CLTCQWACDI...   \n2  AGV3IEFANZCKECFGUM42MRH5FNOA,AEBO7NWCNXKT4AESA...   \n3  AG2ICOYPSOV5SGBKFEYHGKCNK7PA,AGJ3OQ4X262D3MAQZ...   \n4  AE6DY6YWTSSE3XNHDXZDGQM2JL2Q,AES3UPSNCD37JZLHZ...   \n\n                                           user_name  \\\n0  nilesh,EAGLE,Manoj KNS,Titus P.,Paras singla,a...   \n1  nilesh,EAGLE,Manoj KNS,Titus P.,Paras singla,a...   \n2  Azhar JuMan,Anirudh Sood,Hari Krishnan PS,Akas...   \n3  T N Sivaji,Akku,V,Meet,MOHAMMED,Niranjan koyri...   \n4  Uday Joglekar,Simi Singh,Hi,chirag bansal,Swar...   \n\n                                           review_id  \\\n0  R2EJIN3N3L3XKI,R2JMJ8QNG66LV4,R3B46JNPC2T4E7,R...   \n1  R2EJIN3N3L3XKI,R2JMJ8QNG66LV4,R3B46JNPC2T4E7,R...   \n2  R1LW6NWSVTVZ2H,R3VR5WFKUS15C5,R2F6GC79OYWUKQ,R...   \n3  R5L3FAFS6JXJF,R1VTQ25LXQX5UD,R6RJYAZUM5240,R1S...   \n4  R3U9FRV2Q625DO,R3EJZ83W9OHW3D,RSH53O0JL66NL,R3...   \n\n                                        review_title  \\\n0  good tool to use for,Brand is always good,Over...   \n1  good tool to use for,Brand is always good,Over...   \n2  Works on linux for me. Get the model with ante...   \n3  Works Good,Perfect replacement cell for trimme...   \n4  Handy Mouse,Good quality mouse,Good one.,Good,...   \n\n                                      review_content  \\\n0  good quality tool from d linkWiFi signal is go...   \n1  good quality tool from d linkWiFi signal is go...   \n2  I use this to connect an old PC to internet. I...   \n3  Works good,Bought it to replace my Phillips QT...   \n4  Liked this Product,https://m.media-amazon.com/...   \n\n                                            img_link  \\\n0  https://m.media-amazon.com/images/I/31+NwZ8gb1...   \n1  https://m.media-amazon.com/images/W/WEBP_40237...   \n2  https://m.media-amazon.com/images/I/31Wb+A3VVd...   \n3  https://m.media-amazon.com/images/I/418YrbHVLC...   \n4  https://m.media-amazon.com/images/I/31iFF1Kbkp...   \n\n                                        product_link currency  \n0  https://www.amazon.in/D-Link-DWA-131-Wireless-...        ₹  \n1  https://www.amazon.in/D-Link-DWA-131-Wireless-...        ₹  \n2  https://www.amazon.in/TP-Link-TL-WN722N-150Mbp...        ₹  \n3  https://www.amazon.in/Duracell-AAA-750mAh-Rech...        ₹  \n4  https://www.amazon.in/Logitech-B100-Optical-Mo...        ₹  ",
      "text/html": "<div>\n<style scoped>\n    .dataframe tbody tr th:only-of-type {\n        vertical-align: middle;\n    }\n\n    .dataframe tbody tr th {\n        vertical-align: top;\n    }\n\n    .dataframe thead th {\n        text-align: right;\n    }\n</style>\n<table border=\"1\" class=\"dataframe\">\n  <thead>\n    <tr style=\"text-align: right;\">\n      <th></th>\n      <th>product_id</th>\n      <th>product_name</th>\n      <th>category</th>\n      <th>discounted_price</th>\n      <th>actual_price</th>\n      <th>discount_percentage</th>\n      <th>rating</th>\n      <th>rating_count</th>\n      <th>about_product</th>\n      <th>user_id</th>\n      <th>user_name</th>\n      <th>review_id</th>\n      <th>review_title</th>\n      <th>review_content</th>\n      <th>img_link</th>\n      <th>product_link</th>\n      <th>currency</th>\n    </tr>\n  </thead>\n  <tbody>\n    <tr>\n      <th>0</th>\n      <td>B002PD61Y4</td>\n      <td>D-Link DWA-131 300 Mbps Wireless Nano USB Adap...</td>\n      <td>Computers&amp;Accessories|NetworkingDevices|Networ...</td>\n      <td>507.0</td>\n      <td>1208.0</td>\n      <td>58%</td>\n      <td>4.1</td>\n      <td>8131.0</td>\n      <td>Connects your computer to a high-speed wireles...</td>\n      <td>AGA2PZGWMQIRA46VYOTICFE7KCBA,AHI2QJ4CLTCQWACDI...</td>\n      <td>nilesh,EAGLE,Manoj KNS,Titus P.,Paras singla,a...</td>\n      <td>R2EJIN3N3L3XKI,R2JMJ8QNG66LV4,R3B46JNPC2T4E7,R...</td>\n      <td>good tool to use for,Brand is always good,Over...</td>\n      <td>good quality tool from d linkWiFi signal is go...</td>\n      <td>https://m.media-amazon.com/images/I/31+NwZ8gb1...</td>\n      <td>https://www.amazon.in/D-Link-DWA-131-Wireless-...</td>\n      <td>₹</td>\n    </tr>\n    <tr>\n      <th>1</th>\n      <td>B002PD61Y4</td>\n      <td>D-Link DWA-131 300 Mbps Wireless Nano USB Adap...</td>\n      <td>Computers&amp;Accessories|NetworkingDevices|Networ...</td>\n      <td>507.0</td>\n      <td>1208.0</td>\n      <td>58%</td>\n      <td>4.1</td>\n      <td>8131.0</td>\n      <td>Connects your computer to a high-speed wireles...</td>\n      <td>AGA2PZGWMQIRA46VYOTICFE7KCBA,AHI2QJ4CLTCQWACDI...</td>\n      <td>nilesh,EAGLE,Manoj KNS,Titus P.,Paras singla,a...</td>\n      <td>R2EJIN3N3L3XKI,R2JMJ8QNG66LV4,R3B46JNPC2T4E7,R...</td>\n      <td>good tool to use for,Brand is always good,Over...</td>\n      <td>good quality tool from d linkWiFi signal is go...</td>\n      <td>https://m.media-amazon.com/images/W/WEBP_40237...</td>\n      <td>https://www.amazon.in/D-Link-DWA-131-Wireless-...</td>\n      <td>₹</td>\n    </tr>\n    <tr>\n      <th>2</th>\n      <td>B002SZEOLG</td>\n      <td>TP-Link Nano USB WiFi Dongle 150Mbps High Gain...</td>\n      <td>Computers&amp;Accessories|NetworkingDevices|Networ...</td>\n      <td>749.0</td>\n      <td>1339.0</td>\n      <td>44%</td>\n      <td>4.2</td>\n      <td>179692.0</td>\n      <td>150 Mbps Wi-Fi —— Exceptional wireless speed u...</td>\n      <td>AGV3IEFANZCKECFGUM42MRH5FNOA,AEBO7NWCNXKT4AESA...</td>\n      <td>Azhar JuMan,Anirudh Sood,Hari Krishnan PS,Akas...</td>\n      <td>R1LW6NWSVTVZ2H,R3VR5WFKUS15C5,R2F6GC79OYWUKQ,R...</td>\n      <td>Works on linux for me. Get the model with ante...</td>\n      <td>I use this to connect an old PC to internet. I...</td>\n      <td>https://m.media-amazon.com/images/I/31Wb+A3VVd...</td>\n      <td>https://www.amazon.in/TP-Link-TL-WN722N-150Mbp...</td>\n      <td>₹</td>\n    </tr>\n    <tr>\n      <th>3</th>\n      <td>B003B00484</td>\n      <td>Duracell Plus AAA Rechargeable Batteries (750 ...</td>\n      <td>Electronics|GeneralPurposeBatteries&amp;BatteryCha...</td>\n      <td>399.0</td>\n      <td>499.0</td>\n      <td>20%</td>\n      <td>4.3</td>\n      <td>27201.0</td>\n      <td>Duracell Rechargeable AAA 750mAh batteries sta...</td>\n      <td>AG2ICOYPSOV5SGBKFEYHGKCNK7PA,AGJ3OQ4X262D3MAQZ...</td>\n      <td>T N Sivaji,Akku,V,Meet,MOHAMMED,Niranjan koyri...</td>\n      <td>R5L3FAFS6JXJF,R1VTQ25LXQX5UD,R6RJYAZUM5240,R1S...</td>\n      <td>Works Good,Perfect replacement cell for trimme...</td>\n      <td>Works good,Bought it to replace my Phillips QT...</td>\n      <td>https://m.media-amazon.com/images/I/418YrbHVLC...</td>\n      <td>https://www.amazon.in/Duracell-AAA-750mAh-Rech...</td>\n      <td>₹</td>\n    </tr>\n    <tr>\n      <th>4</th>\n      <td>B003L62T7W</td>\n      <td>Logitech B100 Wired USB Mouse, 3 yr Warranty, ...</td>\n      <td>Computers&amp;Accessories|Accessories&amp;Peripherals|...</td>\n      <td>279.0</td>\n      <td>375.0</td>\n      <td>26%</td>\n      <td>4.3</td>\n      <td>31534.0</td>\n      <td>A comfortable, ambidextrous shape feels good i...</td>\n      <td>AE6DY6YWTSSE3XNHDXZDGQM2JL2Q,AES3UPSNCD37JZLHZ...</td>\n      <td>Uday Joglekar,Simi Singh,Hi,chirag bansal,Swar...</td>\n      <td>R3U9FRV2Q625DO,R3EJZ83W9OHW3D,RSH53O0JL66NL,R3...</td>\n      <td>Handy Mouse,Good quality mouse,Good one.,Good,...</td>\n      <td>Liked this Product,https://m.media-amazon.com/...</td>\n      <td>https://m.media-amazon.com/images/I/31iFF1Kbkp...</td>\n      <td>https://www.amazon.in/Logitech-B100-Optical-Mo...</td>\n      <td>₹</td>\n    </tr>\n  </tbody>\n</table>\n</div>"
     },
     "execution_count": 5,
     "metadata": {},
     "output_type": "execute_result"
    }
   ],
   "source": [
    "# separate the currency sign from the discounted_price and actual_price and convert them to float\n",
    "dataset['discounted_price'] = dataset['discounted_price'].str.replace('₹', '')\n",
    "dataset['discounted_price'] = dataset['discounted_price'].str.replace(',', '')\n",
    "dataset['discounted_price'] = dataset['discounted_price'].astype(float)\n",
    "dataset['actual_price'] = dataset['actual_price'].str.replace('₹', '')\n",
    "dataset['actual_price'] = dataset['actual_price'].str.replace(',', '')\n",
    "dataset['actual_price'] = dataset['actual_price'].astype(float)\n",
    "# put the ₹ currency in a new column\n",
    "dataset['currency'] = '₹'\n",
    "dataset.head()"
   ],
   "metadata": {
    "colab": {
     "base_uri": "https://localhost:8080/",
     "height": 539
    },
    "id": "b5c0363bc3355f22",
    "outputId": "b32456f3-b4b2-4a93-f130-3575487f681e",
    "pycharm": {
     "name": "#%%\n"
    },
    "ExecuteTime": {
     "end_time": "2023-10-26T10:16:14.644401Z",
     "start_time": "2023-10-26T10:16:14.599912Z"
    }
   },
   "id": "b5c0363bc3355f22"
  },
  {
   "cell_type": "markdown",
   "source": [
    "*New csv file with cleaned data*"
   ],
   "metadata": {
    "collapsed": false,
    "pycharm": {
     "name": "#%% md\n"
    }
   }
  },
  {
   "cell_type": "code",
   "execution_count": null,
   "outputs": [],
   "source": [
    "# create a new csv file with the cleaned data\n",
    "dataset.to_csv('Amazon_cleaned.csv', index=False)"
   ],
   "metadata": {
    "collapsed": false,
    "pycharm": {
     "name": "#%%\n"
    }
   }
  },
  {
   "cell_type": "markdown",
   "source": [
    "**1. Investigate the structure and shape of your dataset.**"
   ],
   "metadata": {
    "collapsed": false,
    "pycharm": {
     "name": "#%% md\n"
    }
   }
  },
  {
   "cell_type": "markdown",
   "source": [
    "\n",
    "\n",
    "*   Structure of Dataset\n"
   ],
   "metadata": {
    "collapsed": false,
    "pycharm": {
     "name": "#%% md\n"
    }
   }
  },
  {
   "cell_type": "code",
   "execution_count": null,
   "outputs": [],
   "source": [
    "info = dataset.info()\n",
    "print(info)"
   ],
   "metadata": {
    "collapsed": false,
    "pycharm": {
     "name": "#%%\n"
    }
   }
  },
  {
   "cell_type": "markdown",
   "source": [
    "\n",
    "\n",
    "*   Data Shape (Rows & Columns)\n"
   ],
   "metadata": {
    "collapsed": false,
    "pycharm": {
     "name": "#%% md\n"
    }
   }
  },
  {
   "cell_type": "code",
   "execution_count": null,
   "outputs": [],
   "source": [
    "shape = dataset.shape\n",
    "print(\"Rows:\", shape[0])\n",
    "print(\"Columns:\", shape[1])"
   ],
   "metadata": {
    "collapsed": false,
    "pycharm": {
     "name": "#%%\n"
    }
   }
  },
  {
   "cell_type": "markdown",
   "source": [
    "**2. Explore the variables that the dataset has. How are they distributed?**"
   ],
   "metadata": {
    "collapsed": false,
    "pycharm": {
     "name": "#%% md\n"
    }
   }
  },
  {
   "cell_type": "markdown",
   "source": [
    "\n",
    "*   Data Types\n",
    "\n"
   ],
   "metadata": {
    "collapsed": false,
    "pycharm": {
     "name": "#%% md\n"
    }
   }
  },
  {
   "cell_type": "code",
   "execution_count": null,
   "outputs": [],
   "source": [
    "types = dataset.dtypes\n",
    "print(types)"
   ],
   "metadata": {
    "collapsed": false,
    "pycharm": {
     "name": "#%%\n"
    }
   }
  },
  {
   "cell_type": "markdown",
   "source": [
    "* Using describe() function to print the summary statistics to check data distribution"
   ],
   "metadata": {
    "collapsed": false,
    "pycharm": {
     "name": "#%% md\n"
    }
   }
  },
  {
   "cell_type": "code",
   "execution_count": null,
   "outputs": [],
   "source": [
    "summary = dataset.describe()\n",
    "\n",
    "print(summary)\n"
   ],
   "metadata": {
    "collapsed": false,
    "pycharm": {
     "name": "#%%\n"
    }
   }
  },
  {
   "cell_type": "markdown",
   "source": [
    "**3. Compute the mean, sum, range, and other interesting statistics for numeric\n",
    "columns.**"
   ],
   "metadata": {
    "collapsed": false,
    "pycharm": {
     "name": "#%% md\n"
    }
   }
  },
  {
   "cell_type": "code",
   "execution_count": null,
   "outputs": [],
   "source": [
    "numeric_columns = dataset.select_dtypes(include=['float64'])\n",
    "\n",
    "mean = numeric_columns.mean()\n",
    "sum = numeric_columns.sum()\n",
    "range = numeric_columns.max() - numeric_columns.min()\n",
    "\n",
    "print(\"Mean Values of Columns: \")\n",
    "print(mean)\n",
    "\n",
    "print(\"\\nSum Values of Columns: \")\n",
    "print(sum)\n",
    "\n",
    "print(\"\\nRange of Columns: \")\n",
    "print(range)"
   ],
   "metadata": {
    "collapsed": false,
    "pycharm": {
     "name": "#%%\n"
    }
   }
  },
  {
   "cell_type": "markdown",
   "source": [
    "**4. Explore distributions of numeric columns using histograms etc.**\n"
   ],
   "metadata": {
    "collapsed": false,
    "pycharm": {
     "name": "#%% md\n"
    }
   }
  },
  {
   "cell_type": "markdown",
   "source": [
    "\n",
    "\n",
    "*   Column: 'discounted_price'\n",
    "\n"
   ],
   "metadata": {
    "collapsed": false,
    "pycharm": {
     "name": "#%% md\n"
    }
   }
  },
  {
   "cell_type": "code",
   "execution_count": null,
   "outputs": [],
   "source": [
    "import matplotlib.pyplot as plt\n",
    "\n",
    "plt.hist(dataset['discounted_price'])\n",
    "plt.title(\"Discounted Price Distribution\")\n",
    "plt.xlabel('Discounted Price')\n",
    "plt.ylabel('Frequency')\n",
    "plt.figure(figsize=(8,5))\n",
    "\n",
    "plt.show()"
   ],
   "metadata": {
    "collapsed": false,
    "pycharm": {
     "name": "#%%\n"
    }
   }
  },
  {
   "cell_type": "markdown",
   "source": [
    "\n",
    "\n",
    "*   Column: 'actual_price'\n",
    "\n"
   ],
   "metadata": {
    "collapsed": false,
    "pycharm": {
     "name": "#%% md\n"
    }
   }
  },
  {
   "cell_type": "code",
   "execution_count": null,
   "outputs": [],
   "source": [
    "plt.hist(dataset['actual_price'])\n",
    "plt.title(\"Actual Price Distribution\")\n",
    "plt.xlabel('Actual Price')\n",
    "plt.ylabel('Frequency')\n",
    "plt.figure(figsize=(8,5))\n",
    "\n",
    "plt.show()"
   ],
   "metadata": {
    "collapsed": false,
    "pycharm": {
     "name": "#%%\n"
    }
   }
  },
  {
   "cell_type": "markdown",
   "source": [
    "\n",
    "\n",
    "*   Column: 'rating_count'\n",
    "\n"
   ],
   "metadata": {
    "collapsed": false,
    "pycharm": {
     "name": "#%% md\n"
    }
   }
  },
  {
   "cell_type": "code",
   "execution_count": null,
   "outputs": [],
   "source": [
    "plt.hist(dataset['rating_count'])\n",
    "plt.title(\"Rating Count Distribution\")\n",
    "plt.xlabel('Rating Count')\n",
    "plt.ylabel('Frequency')\n",
    "plt.figure(figsize=(8,5))\n",
    "\n",
    "plt.show()"
   ],
   "metadata": {
    "collapsed": false,
    "pycharm": {
     "name": "#%%\n"
    }
   }
  },
  {
   "cell_type": "code",
   "execution_count": null,
   "outputs": [],
   "source": [
    "\n",
    "bars = plt.bar(dataset['category_counts'].index, dataset['category_counts'].values)\n",
    "plt.xlabel('Category')\n",
    "plt.ylabel('Number of Products')\n",
    "plt.title('Number of Products in Each Category')\n",
    "\n",
    "plt.show()"
   ],
   "metadata": {
    "collapsed": false,
    "pycharm": {
     "name": "#%%\n"
    }
   }
  }
 ],
 "metadata": {
  "kernelspec": {
   "display_name": "Python 3",
   "language": "python",
   "name": "python3"
  },
  "language_info": {
   "codemirror_mode": {
    "name": "ipython",
    "version": 2
   },
   "file_extension": ".py",
   "mimetype": "text/x-python",
   "name": "python",
   "nbconvert_exporter": "python",
   "pygments_lexer": "ipython2",
   "version": "2.7.6"
  },
  "colab": {
   "provenance": []
  }
 },
 "nbformat": 4,
 "nbformat_minor": 5
}