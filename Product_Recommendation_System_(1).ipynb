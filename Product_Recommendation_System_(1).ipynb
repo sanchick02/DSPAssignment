{
 "cells": [
  {
   "cell_type": "markdown",
   "source": [
    "# Import & Clean Dataset"
   ],
   "metadata": {
    "collapsed": false,
    "id": "15c04bd7048248a0",
    "pycharm": {
     "name": "#%% md\n"
    }
   },
   "id": "15c04bd7048248a0"
  },
  {
   "cell_type": "code",
   "execution_count": null,
   "outputs": [],
   "source": [
    "import pandas as pd\n",
    "dataset = pd.read_csv('Amazon.csv')\n",
    "dataset.head()"
   ],
   "metadata": {
    "colab": {
     "base_uri": "https://localhost:8080/",
     "height": 539
    },
    "id": "12c0af1e061a0fba",
    "outputId": "f9cfbab3-4d02-42f8-a331-595a21eeae3b",
    "pycharm": {
     "name": "#%%\n",
     "is_executing": true
    },
    "ExecuteTime": {
     "end_time": "2023-10-26T17:58:46.634303Z",
     "start_time": "2023-10-26T17:58:46.507176Z"
    }
   },
   "id": "12c0af1e061a0fba"
  },
  {
   "cell_type": "code",
   "execution_count": 91,
   "outputs": [
    {
     "data": {
      "text/plain": "product_id             0\nproduct_name           0\ncategory               0\ndiscounted_price       0\nactual_price           0\ndiscount_percentage    0\nrating                 0\nrating_count           2\nabout_product          0\nuser_id                0\nuser_name              0\nreview_id              0\nreview_title           0\nreview_content         0\nimg_link               0\nproduct_link           0\ndtype: int64"
     },
     "execution_count": 91,
     "metadata": {},
     "output_type": "execute_result"
    }
   ],
   "source": [
    "# check for null values\n",
    "dataset.isnull().sum()"
   ],
   "metadata": {
    "colab": {
     "base_uri": "https://localhost:8080/"
    },
    "id": "9f725813b8bb4612",
    "outputId": "dbd7eb96-9b8f-4c25-aed9-367c84961215",
    "pycharm": {
     "name": "#%%\n"
    },
    "ExecuteTime": {
     "end_time": "2023-10-26T17:58:46.635165Z",
     "start_time": "2023-10-26T17:58:46.594811Z"
    }
   },
   "id": "9f725813b8bb4612"
  },
  {
   "cell_type": "code",
   "execution_count": 92,
   "outputs": [
    {
     "data": {
      "text/plain": "0"
     },
     "execution_count": 92,
     "metadata": {},
     "output_type": "execute_result"
    }
   ],
   "source": [
    "# check for duplicate values\n",
    "dataset.duplicated().sum()"
   ],
   "metadata": {
    "colab": {
     "base_uri": "https://localhost:8080/"
    },
    "id": "cf34607165cb3432",
    "outputId": "e8ac98fa-899b-4749-cdf8-050bd7888c53",
    "pycharm": {
     "name": "#%%\n"
    },
    "ExecuteTime": {
     "end_time": "2023-10-26T17:58:46.635459Z",
     "start_time": "2023-10-26T17:58:46.598111Z"
    }
   },
   "id": "cf34607165cb3432"
  },
  {
   "cell_type": "code",
   "execution_count": 93,
   "outputs": [
    {
     "data": {
      "text/plain": "0"
     },
     "execution_count": 93,
     "metadata": {},
     "output_type": "execute_result"
    }
   ],
   "source": [
    "# convert the rating_count from string to float\n",
    "dataset['rating_count'] = dataset['rating_count'].str.replace(',', '')\n",
    "dataset['rating_count'] = dataset['rating_count'].astype(float)\n",
    "# Filling in missing data for rating_count\n",
    "dataset['rating_count'].fillna(dataset['rating_count'].median(), inplace=True)\n",
    "dataset['rating_count'].isnull().sum()"
   ],
   "metadata": {
    "colab": {
     "base_uri": "https://localhost:8080/"
    },
    "id": "d13ee0a984f7e8df",
    "outputId": "d5a8e509-d8ba-4327-c60f-5807a9c4cba3",
    "pycharm": {
     "name": "#%%\n"
    },
    "ExecuteTime": {
     "end_time": "2023-10-26T17:58:46.635577Z",
     "start_time": "2023-10-26T17:58:46.626976Z"
    }
   },
   "id": "d13ee0a984f7e8df"
  },
  {
   "cell_type": "code",
   "execution_count": null,
   "outputs": [],
   "source": [
    "# Remove rows with non-numeric ratings\n",
    "dataset = dataset[dataset['rating'].str.isnumeric()]\n",
    "\n",
    "# convert the rating from string to float\n",
    "dataset['rating'] = dataset['rating'].astype(float)"
   ],
   "metadata": {
    "collapsed": false,
    "pycharm": {
     "name": "#%%\n"
    }
   }
  },
  {
   "cell_type": "code",
   "execution_count": null,
   "outputs": [],
   "source": [
    "# separate the currency sign from the discounted_price and actual_price and convert them to float\n",
    "dataset['discounted_price'] = dataset['discounted_price'].str.replace('₹', '')\n",
    "dataset['discounted_price'] = dataset['discounted_price'].str.replace(',', '')\n",
    "dataset['discounted_price'] = dataset['discounted_price'].astype(float)\n",
    "dataset['actual_price'] = dataset['actual_price'].str.replace('₹', '')\n",
    "dataset['actual_price'] = dataset['actual_price'].str.replace(',', '')\n",
    "dataset['actual_price'] = dataset['actual_price'].astype(float)\n",
    "# put the ₹ currency in a new column\n",
    "dataset['currency'] = '₹'\n",
    "dataset.head()"
   ],
   "metadata": {
    "collapsed": false,
    "pycharm": {
     "name": "#%%\n"
    }
   }
  },
  {
   "cell_type": "code",
   "execution_count": null,
   "outputs": [],
   "source": [
    "# for the category column, remove all the strings after the | symbol\n",
    "dataset['category'] = dataset['category'].str.split('|').str[0]\n",
    "dataset.head()"
   ],
   "metadata": {
    "collapsed": false,
    "pycharm": {
     "name": "#%%\n"
    }
   }
  },
  {
   "cell_type": "markdown",
   "source": [
    "*New csv file with cleaned data*"
   ],
   "metadata": {
    "collapsed": false,
    "pycharm": {
     "name": "#%% md\n"
    }
   }
  },
  {
   "cell_type": "code",
   "execution_count": null,
   "outputs": [],
   "source": [
    "# create a new csv file with the cleaned data\n",
    "dataset.to_csv('Amazon_cleaned.csv', index=False)"
   ],
   "metadata": {
    "collapsed": false,
    "pycharm": {
     "name": "#%%\n"
    }
   }
  },
  {
   "cell_type": "markdown",
   "source": [
    "**1. Investigate the structure and shape of your dataset.**"
   ],
   "metadata": {
    "collapsed": false,
    "pycharm": {
     "name": "#%% md\n"
    }
   }
  },
  {
   "cell_type": "markdown",
   "source": [
    "\n",
    "\n",
    "*   Structure of Dataset\n"
   ],
   "metadata": {
    "collapsed": false,
    "pycharm": {
     "name": "#%% md\n"
    }
   }
  },
  {
   "cell_type": "code",
   "execution_count": null,
   "outputs": [],
   "source": [
    "info = dataset.info()\n",
    "print(info)"
   ],
   "metadata": {
    "collapsed": false,
    "pycharm": {
     "name": "#%%\n"
    }
   }
  },
  {
   "cell_type": "markdown",
   "source": [
    "\n",
    "\n",
    "*   Data Shape (Rows & Columns)\n"
   ],
   "metadata": {
    "collapsed": false,
    "pycharm": {
     "name": "#%% md\n"
    }
   }
  },
  {
   "cell_type": "code",
   "execution_count": null,
   "outputs": [],
   "source": [
    "shape = dataset.shape\n",
    "print(\"Rows:\", shape[0])\n",
    "print(\"Columns:\", shape[1])"
   ],
   "metadata": {
    "collapsed": false,
    "pycharm": {
     "name": "#%%\n"
    }
   }
  },
  {
   "cell_type": "markdown",
   "source": [
    "**2. Explore the variables that the dataset has. How are they distributed?**"
   ],
   "metadata": {
    "collapsed": false,
    "pycharm": {
     "name": "#%% md\n"
    }
   }
  },
  {
   "cell_type": "markdown",
   "source": [
    "\n",
    "*   Data Types\n",
    "\n"
   ],
   "metadata": {
    "collapsed": false,
    "pycharm": {
     "name": "#%% md\n"
    }
   }
  },
  {
   "cell_type": "code",
   "execution_count": null,
   "outputs": [],
   "source": [
    "types = dataset.dtypes\n",
    "print(types)"
   ],
   "metadata": {
    "collapsed": false,
    "pycharm": {
     "name": "#%%\n"
    }
   }
  },
  {
   "cell_type": "markdown",
   "source": [
    "* Using describe() function to print the summary statistics to check data distribution"
   ],
   "metadata": {
    "collapsed": false,
    "pycharm": {
     "name": "#%% md\n"
    }
   }
  },
  {
   "cell_type": "code",
   "execution_count": null,
   "outputs": [],
   "source": [
    "summary = dataset.describe()\n",
    "\n",
    "print(summary)\n"
   ],
   "metadata": {
    "collapsed": false,
    "pycharm": {
     "name": "#%%\n"
    }
   }
  },
  {
   "cell_type": "markdown",
   "source": [
    "**3. Compute the mean, sum, range, and other interesting statistics for numeric\n",
    "columns.**"
   ],
   "metadata": {
    "collapsed": false,
    "pycharm": {
     "name": "#%% md\n"
    }
   }
  },
  {
   "cell_type": "code",
   "execution_count": null,
   "outputs": [],
   "source": [
    "numeric_columns = dataset.select_dtypes(include=['float64'])\n",
    "\n",
    "mean = numeric_columns.mean()\n",
    "sum = numeric_columns.sum()\n",
    "range = numeric_columns.max() - numeric_columns.min()\n",
    "\n",
    "print(\"Mean Values of Columns: \")\n",
    "print(mean)\n",
    "\n",
    "print(\"\\nSum Values of Columns: \")\n",
    "print(sum)\n",
    "\n",
    "print(\"\\nRange of Columns: \")\n",
    "print(range)"
   ],
   "metadata": {
    "collapsed": false,
    "pycharm": {
     "name": "#%%\n"
    }
   }
  },
  {
   "cell_type": "markdown",
   "source": [
    "**4. Explore distributions of numeric columns using histograms etc.**\n"
   ],
   "metadata": {
    "collapsed": false,
    "pycharm": {
     "name": "#%% md\n"
    }
   }
  },
  {
   "cell_type": "markdown",
   "source": [
    "Histogram 1 - Discounted Price Distribution\n",
    "\n",
    "*   Column: 'discounted_price'\n",
    "\n"
   ],
   "metadata": {
    "collapsed": false,
    "pycharm": {
     "name": "#%% md\n"
    }
   }
  },
  {
   "cell_type": "code",
   "execution_count": null,
   "outputs": [],
   "source": [
    "import matplotlib.pyplot as plt\n",
    "\n",
    "plt.hist(dataset['discounted_price'])\n",
    "plt.title(\"Discounted Price Distribution\")\n",
    "plt.xlabel('Discounted Price')\n",
    "plt.ylabel('Frequency')\n",
    "plt.figure(figsize=(8,5))\n",
    "\n",
    "plt.show()"
   ],
   "metadata": {
    "collapsed": false,
    "pycharm": {
     "name": "#%%\n"
    }
   }
  },
  {
   "cell_type": "markdown",
   "source": [
    "Histogram 2 - Actual Price Distribution\n",
    "\n",
    "*   Column: 'actual_price'\n",
    "\n"
   ],
   "metadata": {
    "collapsed": false,
    "pycharm": {
     "name": "#%% md\n"
    }
   }
  },
  {
   "cell_type": "code",
   "execution_count": null,
   "outputs": [],
   "source": [
    "plt.hist(dataset['actual_price'])\n",
    "plt.title(\"Actual Price Distribution\")\n",
    "plt.xlabel('Actual Price')\n",
    "plt.ylabel('Frequency')\n",
    "plt.figure(figsize=(8,5))\n",
    "\n",
    "plt.show()"
   ],
   "metadata": {
    "collapsed": false,
    "pycharm": {
     "name": "#%%\n"
    }
   }
  },
  {
   "cell_type": "markdown",
   "source": [
    "Histogram 3 - Rating Count Distribution\n",
    "\n",
    "*   Column: 'rating_count'\n",
    "\n"
   ],
   "metadata": {
    "collapsed": false,
    "pycharm": {
     "name": "#%% md\n"
    }
   }
  },
  {
   "cell_type": "code",
   "execution_count": null,
   "outputs": [],
   "source": [
    "plt.hist(dataset['rating_count'])\n",
    "plt.title(\"Rating Count Distribution\")\n",
    "plt.xlabel('Rating Count')\n",
    "plt.ylabel('Frequency')\n",
    "plt.figure(figsize=(8,5))\n",
    "\n",
    "plt.show()"
   ],
   "metadata": {
    "collapsed": false,
    "pycharm": {
     "name": "#%%\n"
    }
   }
  },
  {
   "cell_type": "markdown",
   "source": [
    "Bar Chart 1 - Rating Count per Category"
   ],
   "metadata": {
    "collapsed": false,
    "pycharm": {
     "name": "#%% md\n"
    }
   }
  },
  {
   "cell_type": "code",
   "execution_count": null,
   "outputs": [],
   "source": [
    "categories = dataset['category'].unique()\n",
    "# add rating count  on the category to a list\n",
    "rating_count = []\n",
    "for category in categories:\n",
    "    rating_count.append(dataset[dataset['category'] == category]['rating_count'].sum())\n",
    "# plot the bar graph\n",
    "plt.bar(categories, rating_count)\n",
    "plt.title(\"Rating Count per Category\")\n",
    "plt.xlabel('Category')\n",
    "plt.ylabel('Rating Count')\n",
    "plt.xticks(rotation=90)\n",
    "plt.figure(figsize=(8,5))\n",
    "\n",
    "plt.show()\n",
    "\n",
    "# print the rating count for each category based on the dataset\n",
    "print(\"Rating Count per Category: \")\n",
    "print(rating_count)\n"
   ],
   "metadata": {
    "collapsed": false,
    "pycharm": {
     "name": "#%%\n"
    }
   }
  },
  {
   "cell_type": "markdown",
   "source": [
    "Bar Chart 2 - Category Popularity Based on Rating Counts"
   ],
   "metadata": {
    "collapsed": false,
    "pycharm": {
     "name": "#%% md\n"
    }
   },
   "id": "b6a096759d59abfe"
  },
  {
   "cell_type": "code",
   "execution_count": 107,
   "outputs": [
    {
     "data": {
      "text/plain": "<Figure size 640x480 with 1 Axes>",
      "image/png": "[encoded data removed]"
     },
     "metadata": {},
     "output_type": "display_data"
    },
    {
     "data": {
      "text/plain": "<Figure size 800x500 with 0 Axes>"
     },
     "metadata": {},
     "output_type": "display_data"
    }
   ],
   "source": [
    "# append ratings to a list\n",
    "ratings = []\n",
    "for category in categories:\n",
    "    ratings.append(dataset[dataset['category'] == category]['rating'].sum())\n",
    "    \n",
    "# round off the ratings to nearest integer\n",
    "ratings = [round(rating) for rating in ratings]\n",
    "# count the number of ratings from 1 to 5\n",
    "rating_count = [ratings.count(1), ratings.count(2), ratings.count(3), ratings.count(4), ratings.count(5)]\n",
    "print(\"Rating Count: \")\n",
    "print(rating_count)\n",
    "# plot the bar graph\n",
    "plt.bar([1,2,3,4,5], rating_count)\n",
    "plt.title(\"Category Popularity Based on Rating Counts\")\n",
    "plt.xlabel('Rating')\n",
    "plt.ylabel('Rating Count')\n",
    "plt.figure(figsize=(8,5))\n",
    "\n",
    "plt.show()\n",
    "\n"
   ],
   "metadata": {
    "collapsed": false,
    "ExecuteTime": {
     "end_time": "2023-10-26T17:58:47.778385Z",
     "start_time": "2023-10-26T17:58:47.619308Z"
    },
    "pycharm": {
     "name": "#%%\n"
    }
   },
   "id": "f80e172d82872c4b"
  },
  {
   "cell_type": "markdown",
   "source": [
    "Scatter Plot 1 - Product Popularity by Rating and Rating Count"
   ],
   "metadata": {
    "collapsed": false,
    "pycharm": {
     "name": "#%% md\n"
    }
   }
  },
  {
   "cell_type": "code",
   "execution_count": 89,
   "outputs": [],
   "source": [
    "plt.title(\"Product Popularity by Rating and Rating Count\")\n",
    "plt.xlabel('Rating')\n",
    "plt.ylabel('Rating Count')\n",
    "\n",
    "plt.scatter(dataset['rating'],dataset['rating_count'])\n",
    "plt.show()"
   ],
   "metadata": {
    "collapsed": false,
    "ExecuteTime": {
     "end_time": "2023-10-26T17:56:53.856005Z",
     "start_time": "2023-10-26T17:56:53.850218Z"
    },
    "pycharm": {
     "name": "#%%\n"
    }
   },
   "id": "d43424f1fc87e4bf"
  },
  {
   "cell_type": "markdown",
   "source": [
    "Scatter Plot 2 - Discount Percentage vs. Rating"
   ],
   "metadata": {
    "collapsed": false,
    "pycharm": {
     "name": "#%% md\n"
    }
   }
  },
  {
   "cell_type": "code",
   "execution_count": null,
   "outputs": [],
   "source": [
    "plt.scatter(dataset['discount_percentage'], dataset['rating'], alpha=0.5)  # Alpha controls the transparency of points\n",
    "plt.title(\"Discount Percentage vs. Rating\")\n",
    "plt.xlabel(\"Discount Percentage\")\n",
    "plt.ylabel(\"Rating\")\n",
    "tick_positions = [10, 20, 30, 40, 50, 60, 70]\n",
    "tick_labels = ['10%', '20%', '30%', '40%', '50%', '60%', '70%']\n",
    "plt.xticks(tick_positions, tick_labels)\n",
    "\n",
    "\n",
    "plt.show()"
   ],
   "metadata": {
    "collapsed": false,
    "pycharm": {
     "name": "#%%\n"
    }
   }
  }
 ],
 "metadata": {
  "kernelspec": {
   "display_name": "Python 3",
   "language": "python",
   "name": "python3"
  },
  "language_info": {
   "codemirror_mode": {
    "name": "ipython",
    "version": 2
   },
   "file_extension": ".py",
   "mimetype": "text/x-python",
   "name": "python",
   "nbconvert_exporter": "python",
   "pygments_lexer": "ipython2",
   "version": "2.7.6"
  },
  "colab": {
   "provenance": []
  }
 },
 "nbformat": 4,
 "nbformat_minor": 5
}