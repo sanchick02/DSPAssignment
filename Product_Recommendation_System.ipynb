{
 "cells": [
  {
   "cell_type": "markdown",
   "source": [
    "# Import & Clean Dataset\n"
   ],
   "metadata": {
    "collapsed": false,
    "pycharm": {
     "name": "#%% md\n"
    }
   }
  },
  {
   "cell_type": "code",
   "execution_count": null,
   "outputs": [],
   "source": [
    "import pandas as pd\n",
    "dataset = pd.read_csv('Amazon.csv')\n",
    "dataset.head()"
   ],
   "metadata": {
    "collapsed": false,
    "pycharm": {
     "name": "#%%\n"
    }
   }
  },
  {
   "cell_type": "code",
   "execution_count": null,
   "outputs": [],
   "source": [
    "# check for null values\n",
    "dataset.isnull().sum()"
   ],
   "metadata": {
    "collapsed": false,
    "pycharm": {
     "name": "#%%\n"
    }
   }
  },
  {
   "cell_type": "code",
   "execution_count": null,
   "outputs": [],
   "source": [
    "# check for duplicate values\n",
    "dataset.duplicated().sum()"
   ],
   "metadata": {
    "collapsed": false,
    "pycharm": {
     "name": "#%%\n"
    }
   }
  },
  {
   "cell_type": "code",
   "execution_count": null,
   "outputs": [],
   "source": [
    "# convert the rating_count from string to float\n",
    "dataset['rating_count'] = dataset['rating_count'].str.replace(',', '')\n",
    "dataset['rating_count'] = dataset['rating_count'].astype(float)\n",
    "# Filling in missing data for rating_count\n",
    "dataset['rating_count'].fillna(dataset['rating_count'].median(), inplace=True)\n",
    "dataset['rating_count'].isnull().sum()"
   ],
   "metadata": {
    "collapsed": false,
    "pycharm": {
     "name": "#%%\n"
    }
   }
  },
  {
   "cell_type": "code",
   "execution_count": null,
   "outputs": [],
   "source": [
    "#Changing the data type of discounted price and actual price\n",
    "\n",
    "dataset['discounted_price'] = dataset['discounted_price'].str.replace(\"₹\",'')\n",
    "dataset['discounted_price'] = dataset['discounted_price'].str.replace(\",\",'')\n",
    "dataset['discounted_price'] = dataset['discounted_price'].astype('float64')\n",
    "\n",
    "dataset['actual_price'] = dataset['actual_price'].str.replace(\"₹\",'')\n",
    "dataset['actual_price'] = dataset['actual_price'].str.replace(\",\",'')\n",
    "dataset['actual_price'] = dataset['actual_price'].astype('float64')"
   ],
   "metadata": {
    "collapsed": false,
    "pycharm": {
     "name": "#%%\n"
    }
   }
  },
  {
   "cell_type": "code",
   "execution_count": null,
   "outputs": [],
   "source": [
    "#Changing Datatype and values in Discount Percentage\n",
    "\n",
    "dataset['discount_percentage'] = dataset['discount_percentage'].str.replace('%','').astype('float64')\n",
    "\n",
    "dataset['discount_percentage'] = dataset['discount_percentage'] / 100\n",
    "\n",
    "dataset['discount_percentage']"
   ],
   "metadata": {
    "collapsed": false,
    "pycharm": {
     "name": "#%%\n"
    }
   }
  },
  {
   "cell_type": "code",
   "execution_count": null,
   "outputs": [],
   "source": [
    "#Finding unusual string in the rating column\n",
    "\n",
    "dataset['rating'].value_counts()\n",
    "dataset.query('rating == \"|\"')"
   ],
   "metadata": {
    "collapsed": false,
    "pycharm": {
     "name": "#%%\n"
    }
   }
  },
  {
   "cell_type": "code",
   "execution_count": null,
   "outputs": [],
   "source": [
    "#Removing the unusual string in the rating column\n",
    "dataset['rating'] = dataset['rating'].str.replace('|', '4.0').astype('float64')"
   ],
   "metadata": {
    "collapsed": false,
    "pycharm": {
     "name": "#%%\n"
    }
   }
  },
  {
   "cell_type": "code",
   "execution_count": null,
   "outputs": [],
   "source": [
    "category_split = dataset['category'].str.split('|', expand=True)\n",
    "category_split\n",
    "category_split = category_split.rename(columns={0:'category_1', 1:'category_2', 2:'category_3'})"
   ],
   "metadata": {
    "collapsed": false,
    "pycharm": {
     "name": "#%%\n"
    }
   }
  },
  {
   "cell_type": "code",
   "execution_count": null,
   "outputs": [],
   "source": [
    "# add the 3 new columns to the dataset\n",
    "dataset['category_1'] = category_split['category_1']\n",
    "dataset['category_2'] = category_split['category_2']\n",
    "# drop the original category column\n",
    "dataset.drop('category', axis=1, inplace=True)\n",
    "\n",
    "dataset.head()"
   ],
   "metadata": {
    "collapsed": false,
    "pycharm": {
     "name": "#%%\n"
    }
   }
  },
  {
   "cell_type": "code",
   "execution_count": null,
   "outputs": [],
   "source": [
    "#Fixing Strings in the Category_1 Column\n",
    "\n",
    "dataset['category_1'] = dataset['category_1'].str.replace('&', ' & ')\n",
    "dataset['category_1'] = dataset['category_1'].str.replace('OfficeProducts', 'Office Products')\n",
    "dataset['category_1'] = dataset['category_1'].str.replace('MusicalInstruments', 'Musical Instruments')\n",
    "dataset['category_1'] = dataset['category_1'].str.replace('HomeImprovement', 'Home Improvement')"
   ],
   "metadata": {
    "collapsed": false,
    "pycharm": {
     "name": "#%%\n"
    }
   }
  },
  {
   "cell_type": "code",
   "execution_count": null,
   "outputs": [],
   "source": [
    "#Checking category_2 unique values\n",
    "\n",
    "dataset['category_2'].value_counts()"
   ],
   "metadata": {
    "collapsed": false,
    "pycharm": {
     "name": "#%%\n"
    }
   }
  },
  {
   "cell_type": "code",
   "execution_count": null,
   "outputs": [],
   "source": [
    "#Fixing Strings in Category_2 column\n",
    "\n",
    "dataset['category_2'] = dataset['category_2'].str.replace('&', ' & ')\n",
    "dataset['category_2'] = dataset['category_2'].str.replace(',', ', ')\n",
    "dataset['category_2'] = dataset['category_2'].str.replace('HomeAppliances', 'Home Appliances')\n",
    "dataset['category_2'] = dataset['category_2'].str.replace('AirQuality', 'Air Quality')\n",
    "dataset['category_2'] = dataset['category_2'].str.replace('WearableTechnology', 'Wearable Technology')\n",
    "dataset['category_2'] = dataset['category_2'].str.replace('NetworkingDevices', 'Networking Devices')\n",
    "dataset['category_2'] = dataset['category_2'].str.replace('OfficePaperProducts', 'Office Paper Products')\n",
    "dataset['category_2'] = dataset['category_2'].str.replace('ExternalDevices', 'External Devices')\n",
    "dataset['category_2'] = dataset['category_2'].str.replace('DataStorage', 'Data Storage')\n",
    "dataset['category_2'] = dataset['category_2'].str.replace('HomeStorage', 'Home Storage')\n",
    "dataset['category_2'] = dataset['category_2'].str.replace('HomeAudio', 'Home Audio')\n",
    "dataset['category_2'] = dataset['category_2'].str.replace('GeneralPurposeBatteries', 'General Purpose Batteries')\n",
    "dataset['category_2'] = dataset['category_2'].str.replace('BatteryChargers', 'Battery Chargers')\n",
    "dataset['category_2'] = dataset['category_2'].str.replace('CraftMaterials', 'Craft Materials')\n",
    "dataset['category_2'] = dataset['category_2'].str.replace('OfficeElectronics', 'Office Electronics')\n",
    "dataset['category_2'] = dataset['category_2'].str.replace('PowerAccessories', 'Power Accessories')\n",
    "dataset['category_2'] = dataset['category_2'].str.replace('CarAccessories', 'Car Accessories')\n",
    "dataset['category_2'] = dataset['category_2'].str.replace('HomeMedicalSupplies', 'Home Medical Supplies')\n",
    "dataset['category_2'] = dataset['category_2'].str.replace('HomeTheater', 'Home Theater')"
   ],
   "metadata": {
    "collapsed": false,
    "pycharm": {
     "name": "#%%\n"
    }
   }
  },
  {
   "cell_type": "code",
   "execution_count": null,
   "outputs": [],
   "source": [
    "# Removing Whitespace from product_id\n",
    "dataset['product_id'].str.strip()"
   ],
   "metadata": {
    "collapsed": false,
    "pycharm": {
     "name": "#%%\n"
    }
   }
  },
  {
   "cell_type": "code",
   "execution_count": null,
   "outputs": [],
   "source": [
    "#Creating Categories for Rankings\n",
    "\n",
    "rating_score = []\n",
    "\n",
    "for score in dataset['rating']:\n",
    "    if score < 2.0 : rating_score.append('Poor')\n",
    "    elif score < 3.0 : rating_score.append('Below Average')\n",
    "    elif score < 4.0 : rating_score.append('Average')\n",
    "    elif score < 5.0 : rating_score.append('Above Average')\n",
    "    elif score == 5.0 : rating_score.append('Excellent')"
   ],
   "metadata": {
    "collapsed": false,
    "pycharm": {
     "name": "#%%\n"
    }
   }
  },
  {
   "cell_type": "code",
   "execution_count": null,
   "outputs": [],
   "source": [
    "#Creating A new Column and Changing the Data Type\n",
    "\n",
    "dataset['rating_score'] = rating_score\n",
    "\n",
    "dataset['rating_score'] = dataset['rating_score'].astype('category')"
   ],
   "metadata": {
    "collapsed": false,
    "pycharm": {
     "name": "#%%\n"
    }
   }
  },
  {
   "cell_type": "code",
   "execution_count": null,
   "outputs": [],
   "source": [
    "#Reordered Categories\n",
    "\n",
    "dataset['rating_score'] = dataset['rating_score'].cat.reorder_categories(['Below Average', 'Average', 'Above Average', 'Excellent'], ordered=True)"
   ],
   "metadata": {
    "collapsed": false,
    "pycharm": {
     "name": "#%%\n"
    }
   }
  },
  {
   "cell_type": "code",
   "execution_count": null,
   "outputs": [],
   "source": [
    "#Creating Difference of Price Column between Actual Price and Discounted Price\n",
    "dataset['difference_price'] = dataset['actual_price'] - dataset['discounted_price']"
   ],
   "metadata": {
    "collapsed": false,
    "pycharm": {
     "name": "#%%\n"
    }
   }
  },
  {
   "cell_type": "code",
   "execution_count": null,
   "outputs": [],
   "source": [
    "#Result After Cleaning and Preperation after first cleaned dataframe\n",
    "dataset.head()"
   ],
   "metadata": {
    "collapsed": false,
    "pycharm": {
     "name": "#%%\n"
    }
   }
  },
  {
   "cell_type": "code",
   "execution_count": null,
   "outputs": [],
   "source": [
    "#Subsetting Reviewers Identifications\n",
    "\n",
    "reviewers = dataset[['user_id','user_name']]\n",
    "reviewers"
   ],
   "metadata": {
    "collapsed": false,
    "pycharm": {
     "name": "#%%\n"
    }
   }
  },
  {
   "cell_type": "code",
   "execution_count": null,
   "outputs": [],
   "source": [
    "#Splitting the strings in user_id column\n",
    "\n",
    "reviewer_id_split = reviewers['user_id'].str.split(',', expand=False)\n",
    "\n",
    "reviewer_id_split"
   ],
   "metadata": {
    "collapsed": false,
    "pycharm": {
     "name": "#%%\n"
    }
   }
  },
  {
   "cell_type": "code",
   "execution_count": null,
   "outputs": [],
   "source": [
    "#Making user id display 1 id per row\n",
    "\n",
    "reviewer_id_exp = reviewer_id_split.explode()\n",
    "\n",
    "reviewer_id_clean = reviewer_id_exp.reset_index(drop=True)\n",
    "\n",
    "reviewer_id_clean"
   ],
   "metadata": {
    "collapsed": false,
    "pycharm": {
     "name": "#%%\n"
    }
   }
  },
  {
   "cell_type": "code",
   "execution_count": null,
   "outputs": [],
   "source": [
    "#Splitting the strings in user_name column\n",
    "\n",
    "reviewer_name_split = reviewers['user_name'].str.split(',', expand=False)\n",
    "\n",
    "reviewer_name_split"
   ],
   "metadata": {
    "collapsed": false,
    "pycharm": {
     "name": "#%%\n"
    }
   }
  },
  {
   "cell_type": "code",
   "execution_count": null,
   "outputs": [],
   "source": [
    "#Making user name display 1 id per row\n",
    "\n",
    "review_name_exp = reviewer_name_split.explode()\n",
    "\n",
    "reviewer_name_clean = review_name_exp.reset_index(drop=True)\n",
    "\n",
    "reviewer_name_clean"
   ],
   "metadata": {
    "collapsed": false,
    "pycharm": {
     "name": "#%%\n"
    }
   }
  },
  {
   "cell_type": "code",
   "execution_count": null,
   "outputs": [],
   "source": [
    "#Creating 2 Data Frames to be merged\n",
    "\n",
    "dataframe_review_id = pd.DataFrame(data=reviewer_id_clean)\n",
    "dataframe_review_name = pd.DataFrame(data=reviewer_name_clean)"
   ],
   "metadata": {
    "collapsed": false,
    "pycharm": {
     "name": "#%%\n"
    }
   }
  },
  {
   "cell_type": "code",
   "execution_count": null,
   "outputs": [],
   "source": [
    "#Merging the 2 dataframe containing user_id and user_name\n",
    "\n",
    "reviewer_id_name = pd.concat([dataframe_review_id, dataframe_review_name], axis=1)"
   ],
   "metadata": {
    "collapsed": false,
    "pycharm": {
     "name": "#%%\n"
    }
   }
  },
  {
   "cell_type": "code",
   "execution_count": null,
   "outputs": [],
   "source": [
    "# store the new dataframe to a new csv file with the first row as header\n",
    "reviewer_id_name.to_csv('reviewer_id_name.csv', index=False, header=True)"
   ],
   "metadata": {
    "collapsed": false,
    "pycharm": {
     "name": "#%%\n"
    }
   }
  },
  {
   "cell_type": "code",
   "execution_count": null,
   "outputs": [],
   "source": [
    "#Final Check for the new dataframe\n",
    "\n",
    "reviewer_id_name.head()"
   ],
   "metadata": {
    "collapsed": false,
    "pycharm": {
     "name": "#%%\n"
    }
   }
  },
  {
   "cell_type": "markdown",
   "source": [
    "### New csv file with cleaned data\n"
   ],
   "metadata": {
    "collapsed": false,
    "pycharm": {
     "name": "#%% md\n"
    }
   }
  },
  {
   "cell_type": "code",
   "execution_count": null,
   "outputs": [],
   "source": [
    "# export the cleaned dataset to a new csv file with the first row as header\n",
    "dataset.to_csv('Amazon_cleaned.csv', index=False, header=True)"
   ],
   "metadata": {
    "collapsed": false,
    "pycharm": {
     "name": "#%%\n"
    }
   }
  },
  {
   "cell_type": "markdown",
   "source": [
    "# Part 4 - Exploration and Preparation:"
   ],
   "metadata": {
    "collapsed": false,
    "pycharm": {
     "name": "#%% md\n"
    }
   }
  },
  {
   "cell_type": "markdown",
   "source": [
    "## 1. Investigate the structure and shape of your dataset.\n"
   ],
   "metadata": {
    "collapsed": false,
    "pycharm": {
     "name": "#%% md\n"
    }
   }
  },
  {
   "cell_type": "markdown",
   "source": [
    "*Structure of Dataset*\n"
   ],
   "metadata": {
    "collapsed": false,
    "pycharm": {
     "name": "#%% md\n"
    }
   }
  },
  {
   "cell_type": "code",
   "execution_count": null,
   "outputs": [],
   "source": [
    "info = dataset.info()\n",
    "print(info)"
   ],
   "metadata": {
    "collapsed": false,
    "pycharm": {
     "name": "#%%\n"
    }
   }
  },
  {
   "cell_type": "markdown",
   "source": [
    "*Data Shape (Rows & Columns)*"
   ],
   "metadata": {
    "collapsed": false,
    "pycharm": {
     "name": "#%% md\n"
    }
   }
  },
  {
   "cell_type": "code",
   "execution_count": null,
   "outputs": [],
   "source": [
    "shape = dataset.shape\n",
    "print(\"Rows:\", shape[0])\n",
    "print(\"Columns:\", shape[1])"
   ],
   "metadata": {
    "collapsed": false,
    "pycharm": {
     "name": "#%%\n"
    }
   }
  },
  {
   "cell_type": "markdown",
   "source": [
    "## 2. Explore the variables that the dataset has. How are they distributed?\n"
   ],
   "metadata": {
    "collapsed": false,
    "pycharm": {
     "name": "#%% md\n"
    }
   }
  },
  {
   "cell_type": "markdown",
   "source": [
    "*Data Types*"
   ],
   "metadata": {
    "collapsed": false,
    "pycharm": {
     "name": "#%% md\n"
    }
   }
  },
  {
   "cell_type": "code",
   "execution_count": null,
   "outputs": [],
   "source": [
    "types = dataset.dtypes\n",
    "print(types)"
   ],
   "metadata": {
    "collapsed": false,
    "pycharm": {
     "name": "#%%\n"
    }
   }
  },
  {
   "cell_type": "markdown",
   "source": [
    "**Using describe() function to print the summary statistics to check data distribution**\n"
   ],
   "metadata": {
    "collapsed": false,
    "pycharm": {
     "name": "#%% md\n"
    }
   }
  },
  {
   "cell_type": "code",
   "execution_count": null,
   "outputs": [],
   "source": [
    "summary = dataset.describe()\n",
    "\n",
    "print(summary)"
   ],
   "metadata": {
    "collapsed": false,
    "pycharm": {
     "name": "#%%\n"
    }
   }
  },
  {
   "cell_type": "markdown",
   "source": [
    "## 3. Compute the mean, sum, range, and other interesting statistics for numeric\n",
    "columns."
   ],
   "metadata": {
    "collapsed": false,
    "pycharm": {
     "name": "#%% md\n"
    }
   }
  },
  {
   "cell_type": "code",
   "execution_count": null,
   "outputs": [],
   "source": [
    "numeric_columns = dataset.select_dtypes(include=['float64'])\n",
    "\n",
    "mean = numeric_columns.mean()\n",
    "sum = numeric_columns.sum()\n",
    "range = numeric_columns.max() - numeric_columns.min()\n",
    "\n",
    "print(\"Mean Values of Columns: \")\n",
    "print(mean)\n",
    "\n",
    "print(\"\\nSum Values of Columns: \")\n",
    "print(sum)\n",
    "\n",
    "print(\"\\nRange of Columns: \")\n",
    "print(range)"
   ],
   "metadata": {
    "collapsed": false,
    "pycharm": {
     "name": "#%%\n"
    }
   }
  },
  {
   "cell_type": "markdown",
   "source": [
    "# 4. Explore distributions of numeric columns using histograms etc.\n"
   ],
   "metadata": {
    "collapsed": false,
    "pycharm": {
     "name": "#%% md\n"
    }
   }
  },
  {
   "cell_type": "markdown",
   "source": [
    "### Histogram 1 - Discounted Price Distribution\n",
    "\n",
    "*   Column: 'discounted_price'"
   ],
   "metadata": {
    "collapsed": false,
    "pycharm": {
     "name": "#%% md\n"
    }
   }
  },
  {
   "cell_type": "code",
   "execution_count": null,
   "outputs": [],
   "source": [
    "import matplotlib.pyplot as plt\n",
    "\n",
    "plt.hist(dataset['discounted_price'])\n",
    "plt.title(\"Discounted Price Distribution\")\n",
    "plt.xlabel('Discounted Price')\n",
    "plt.ylabel('Frequency')\n",
    "plt.figure(figsize=(8,5))\n",
    "\n",
    "plt.show()"
   ],
   "metadata": {
    "collapsed": false,
    "pycharm": {
     "name": "#%%\n"
    }
   }
  },
  {
   "cell_type": "markdown",
   "source": [
    "### Histogram 2 - Actual Price Distribution\n",
    "\n",
    "*   Column: 'actual_price'\n"
   ],
   "metadata": {
    "collapsed": false,
    "pycharm": {
     "name": "#%% md\n"
    }
   }
  },
  {
   "cell_type": "code",
   "execution_count": null,
   "outputs": [],
   "source": [
    "plt.hist(dataset['actual_price'])\n",
    "plt.title(\"Actual Price Distribution\")\n",
    "plt.xlabel('Actual Price')\n",
    "plt.ylabel('Frequency')\n",
    "plt.figure(figsize=(8,5))\n",
    "\n",
    "plt.show()"
   ],
   "metadata": {
    "collapsed": false,
    "pycharm": {
     "name": "#%%\n"
    }
   }
  },
  {
   "cell_type": "markdown",
   "source": [
    "### Histogram 3 - Rating Count Distribution\n",
    "\n",
    "*   Column: 'rating_count'"
   ],
   "metadata": {
    "collapsed": false,
    "pycharm": {
     "name": "#%% md\n"
    }
   }
  },
  {
   "cell_type": "code",
   "execution_count": null,
   "outputs": [],
   "source": [
    "plt.hist(dataset['rating_count'])\n",
    "plt.title(\"Rating Count Distribution\")\n",
    "plt.xlabel('Rating Count')\n",
    "plt.ylabel('Frequency')\n",
    "plt.figure(figsize=(8,5))\n",
    "\n",
    "plt.show()"
   ],
   "metadata": {
    "collapsed": false,
    "pycharm": {
     "name": "#%%\n"
    }
   }
  },
  {
   "cell_type": "markdown",
   "source": [
    "### Explore relationship between columns using scatter plots, bar charts etc."
   ],
   "metadata": {
    "collapsed": false,
    "pycharm": {
     "name": "#%% md\n"
    }
   }
  },
  {
   "cell_type": "markdown",
   "source": [
    "* Observation 1: Top 5 Most Expensive Products After Discount"
   ],
   "metadata": {
    "collapsed": false,
    "pycharm": {
     "name": "#%% md\n"
    }
   }
  },
  {
   "cell_type": "code",
   "execution_count": null,
   "outputs": [],
   "source": [
    "import seaborn as sns\n",
    "\n",
    "dif_price_large = sns.barplot(data= dataset.sort_values('difference_price', ascending=False).head(5), x='difference_price', y='product_name')\n",
    "\n",
    "dif_price_large.set_title('Top 5 Products with the Largest Price Difference', fontweight='bold')\n",
    "dif_price_large.set_xlabel('Price Difference (Rupee India)', fontweight='bold')\n",
    "dif_price_large.set_ylabel('Product Name', fontweight='bold')\n",
    "\n",
    "plt.show()"
   ],
   "metadata": {
    "collapsed": false,
    "pycharm": {
     "name": "#%%\n"
    }
   }
  },
  {
   "cell_type": "markdown",
   "source": [
    "* Observation 2: Heatmap & Correlation between Actual Price & Discounted Price"
   ],
   "metadata": {
    "collapsed": false,
    "pycharm": {
     "name": "#%% md\n"
    }
   }
  },
  {
   "cell_type": "code",
   "execution_count": null,
   "outputs": [],
   "source": [
    "fig, ax = plt.subplots(2, 1, figsize=(8, 10))\n",
    "\n",
    "fig.suptitle('Correlation Between Features', fontweight='heavy', size='xx-large')\n",
    "\n",
    "sns.heatmap(ax=ax[0], data=dataset.corr())\n",
    "sns.scatterplot(ax=ax[1], data=dataset, y='discounted_price', x='actual_price', color='brown')\n",
    "\n",
    "plt.subplots_adjust(hspace = 0.8)\n",
    "\n",
    "ax[1].set_xlabel('Actual Price (Rupee India)', fontweight='bold')\n",
    "ax[1].set_ylabel('Discounted Price (Rupee India)', fontweight='bold')\n",
    "\n",
    "ax[0].set_title('Heatmap', fontweight='bold')\n",
    "ax[1].set_title('Correlation between Actual Price & Discounted Price', fontweight='bold')\n",
    "\n",
    "plt.show()"
   ],
   "metadata": {
    "collapsed": false,
    "pycharm": {
     "name": "#%%\n"
    }
   }
  },
  {
   "cell_type": "markdown",
   "source": [
    "* Observation 3: Rating Distribution by Product Main Category"
   ],
   "metadata": {
    "collapsed": false,
    "pycharm": {
     "name": "#%% md\n"
    }
   }
  },
  {
   "cell_type": "code",
   "execution_count": null,
   "outputs": [],
   "source": [
    "fig, ax = plt.subplots(figsize=(10, 6))\n",
    "\n",
    "sns.boxplot(ax=ax, data=dataset, x='rating', y='category_1')\n",
    "\n",
    "ax.set_xlabel('Rating', fontweight='bold')\n",
    "ax.set_ylabel('Product Main Category', fontweight='bold')\n",
    "ax.set_title('Rating Distribution by Product Main Category', fontweight='heavy', size='x-large', y=1.03)\n",
    "\n",
    "plt.show()"
   ],
   "metadata": {
    "collapsed": false,
    "pycharm": {
     "name": "#%%\n"
    }
   }
  },
  {
   "cell_type": "markdown",
   "source": [
    "* Observation 4: Reviewers who gave ratings and reviews for more than one product"
   ],
   "metadata": {
    "collapsed": false,
    "pycharm": {
     "name": "#%% md\n"
    }
   }
  },
  {
   "cell_type": "code",
   "execution_count": null,
   "outputs": [],
   "source": [
    "top_reviewer = data=reviewer_id_name['user_name'].value_counts().head(10).rename_axis('username').reset_index(name='counts')\n",
    "\n",
    "top_review_plot = sns.barplot(data=top_reviewer, x='counts', y='username')\n",
    "\n",
    "top_review_plot.bar_label(top_review_plot.containers[0])\n",
    "\n",
    "top_review_plot.set_xlabel('Amount of Rating Reviews Given', fontweight='bold')\n",
    "top_review_plot.set_ylabel(\"Reviewer's Name\", fontweight='bold')\n",
    "top_review_plot.set_title('Top 10 Active Reviewers', fontweight='heavy', size='x-large', y=1.03)\n",
    "\n",
    "plt.show()"
   ],
   "metadata": {
    "collapsed": false,
    "pycharm": {
     "name": "#%%\n"
    }
   }
  },
  {
   "cell_type": "markdown",
   "source": [
    "### Create a visualization for each research question that might provide a useful answer."
   ],
   "metadata": {
    "collapsed": false,
    "pycharm": {
     "name": "#%% md\n"
    }
   }
  },
  {
   "cell_type": "markdown",
   "source": [
    "Research Question 1: How can Amazon's online store sales be improved by implementing an effective product recommendation system, and which attributes have the most influence on the recommendation system?"
   ],
   "metadata": {
    "collapsed": false,
    "pycharm": {
     "name": "#%% md\n"
    }
   }
  },
  {
   "cell_type": "markdown",
   "source": [
    "Impact of Rating Score on Rating Count"
   ],
   "metadata": {
    "collapsed": false,
    "pycharm": {
     "name": "#%% md\n"
    }
   }
  },
  {
   "cell_type": "code",
   "execution_count": null,
   "outputs": [],
   "source": [
    "plt.bar(dataset['rating'], dataset['rating_count'])\n",
    "plt.xlabel('Rating Score')\n",
    "plt.ylabel('Average Rating Count')\n",
    "plt.title('Impact of Rating Score on Rating Count')\n",
    "plt.show()"
   ],
   "metadata": {
    "collapsed": false,
    "pycharm": {
     "name": "#%%\n"
    }
   }
  },
  {
   "cell_type": "markdown",
   "source": [
    "Research Question 2: How can a product recommendation system deliver customized suggestions for appropriate inventory levels based on past inventory statistics and real-time demand predictions?"
   ],
   "metadata": {
    "collapsed": false,
    "pycharm": {
     "name": "#%% md\n"
    }
   }
  },
  {
   "cell_type": "markdown",
   "source": [
    "Actual Price Range and Discounted Price Range by Product Main Category"
   ],
   "metadata": {
    "collapsed": false,
    "pycharm": {
     "name": "#%% md\n"
    }
   },
   "outputs": []
  },
  {
   "cell_type": "code",
   "execution_count": null,
   "outputs": [],
   "source": [
    "fig, ax = plt.subplots(2, 1, figsize=(13,15))\n",
    "\n",
    "fig.suptitle('Price Range by Product Main Category', fontweight='heavy', size='x-large')\n",
    "\n",
    "sns.scatterplot(ax=ax[0], data=dataset, x='actual_price', y='category_1', alpha=0.3, color='red')\n",
    "sns.scatterplot(ax=ax[1], data=dataset, x='discounted_price', y='category_1', alpha=0.3, color='orange')\n",
    "\n",
    "ax[0].set_xlabel('Actual Price (Rupee India)', fontweight='bold')\n",
    "ax[0].set_ylabel('Product Main Category', fontweight='bold')\n",
    "ax[0].set_title('Actual Price Range by Product Main Category', fontweight='bold')\n",
    "\n",
    "ax[1].set_xlabel('Discounted Price (Rupee India)', fontweight='bold')\n",
    "ax[1].set_ylabel('Product Main Category', fontweight='bold')\n",
    "ax[1].set_title('Discounted Price Range by Product Main Category', fontweight='bold')\n",
    "\n",
    "plt.subplots_adjust(hspace = 0.3)\n",
    "\n",
    "plt.show()"
   ],
   "metadata": {
    "collapsed": false,
    "pycharm": {
     "name": "#%%\n"
    }
   }
  },
  {
   "cell_type": "markdown",
   "source": [
    "Research Question 3: How to boost customer retention and loyalty by minimizing user search time and precisely proposing the relevant goods?"
   ],
   "metadata": {
    "collapsed": false,
    "pycharm": {
     "name": "#%% md\n"
    }
   },
   "outputs": []
  },
  {
   "cell_type": "markdown",
   "source": [
    "Rating Score by Product Category"
   ],
   "metadata": {
    "collapsed": false,
    "pycharm": {
     "name": "#%% md\n"
    }
   }
  },
  {
   "cell_type": "code",
   "execution_count": null,
   "outputs": [],
   "source": [
    "plt.bar(dataset['category_1'], dataset['rating'])\n",
    "plt.xlabel('Product Categories')\n",
    "plt.ylabel('Average Rating Score')\n",
    "plt.xticks(rotation=90)\n",
    "plt.title('Rating Score by Product Category')\n",
    "plt.show()"
   ],
   "metadata": {
    "collapsed": false,
    "pycharm": {
     "name": "#%%\n"
    }
   }
  },
  {
   "cell_type": "markdown",
   "source": [
    "Research Question 4: What strategies, including the use of product recommendation systems, can Amazon employ to increase the value of each customer's order, enhance sales, and maintain a competitive position in the online shopping market?"
   ],
   "metadata": {
    "collapsed": false,
    "pycharm": {
     "name": "#%% md\n"
    }
   }
  },
  {
   "cell_type": "markdown",
   "source": [
    "Discount Percentage by Product Category"
   ],
   "metadata": {
    "collapsed": false,
    "pycharm": {
     "name": "#%% md\n"
    }
   }
  },
  {
   "cell_type": "code",
   "execution_count": null,
   "outputs": [],
   "source": [
    "plt.bar(dataset['category_1'], dataset['discount_percentage'])\n",
    "plt.xlabel('Product Categories')\n",
    "plt.ylabel('Average Discount Percentage')\n",
    "plt.xticks(rotation=90)\n",
    "plt.title('Discount Percentage by Product Category')\n",
    "plt.show()"
   ],
   "metadata": {
    "collapsed": false,
    "pycharm": {
     "name": "#%%\n"
    }
   }
  },
  {
   "cell_type": "markdown",
   "source": [],
   "metadata": {
    "collapsed": false,
    "pycharm": {
     "name": "#%% md\n"
    }
   }
  },
  {
   "cell_type": "code",
   "execution_count": 145,
   "outputs": [
    {
     "data": {
      "text/plain": "0       0.58\n1       0.58\n2       0.44\n3       0.20\n4       0.26\n        ... \n1460    0.74\n1461    0.48\n1462    0.44\n1463    0.75\n1464    0.28\nName: discount_percentage, Length: 1465, dtype: float64"
     },
     "execution_count": 145,
     "metadata": {},
     "output_type": "execute_result"
    }
   ],
   "source": [
    "#Changing Datatype and values in Discount Percentage\n",
    "\n",
    "dataset['discount_percentage'] = dataset['discount_percentage'].str.replace('%','').astype('float64')\n",
    "\n",
    "dataset['discount_percentage'] = dataset['discount_percentage'] / 100\n",
    "\n",
    "dataset['discount_percentage']"
   ],
   "metadata": {
    "collapsed": false,
    "ExecuteTime": {
     "end_time": "2023-10-27T08:31:06.323482Z",
     "start_time": "2023-10-27T08:31:06.285074Z"
    }
   },
   "id": "c752bfd5a433793f"
  },
  {
   "cell_type": "code",
   "execution_count": 146,
   "outputs": [
    {
     "data": {
      "text/plain": "     product_id                                       product_name  \\\n720  B08L12N5H1  Eureka Forbes car Vac 100 Watts Powerful Sucti...   \n\n                                              category  discounted_price  \\\n720  Home&Kitchen|Kitchen&HomeAppliances|Vacuum,Cle...            2099.0   \n\n     actual_price  discount_percentage rating  rating_count  \\\n720        2499.0                 0.16      |         992.0   \n\n                                         about_product  \\\n720  No Installation is provided for this product|1...   \n\n                                               user_id  \\\n720  AGTDSNT2FKVYEPDPXAA673AIS44A,AER2XFSWNN4LAUCJ5...   \n\n                                             user_name  \\\n720  Divya,Dr Nefario,Deekshith,Preeti,Prasanth R,P...   \n\n                                             review_id  \\\n720  R2KKTKM4M9RDVJ,R1O692MZOBTE79,R2WRSEWL56SOS4,R...   \n\n                                          review_title  \\\n720  Decent product,doesn't pick up sand,Ok ok,Must...   \n\n                                        review_content  \\\n720  Does the job well,doesn't work on sand. though...   \n\n                                              img_link  \\\n720  https://m.media-amazon.com/images/W/WEBP_40237...   \n\n                                          product_link  \n720  https://www.amazon.in/Eureka-Forbes-Vacuum-Cle...  ",
      "text/html": "<div>\n<style scoped>\n    .dataframe tbody tr th:only-of-type {\n        vertical-align: middle;\n    }\n\n    .dataframe tbody tr th {\n        vertical-align: top;\n    }\n\n    .dataframe thead th {\n        text-align: right;\n    }\n</style>\n<table border=\"1\" class=\"dataframe\">\n  <thead>\n    <tr style=\"text-align: right;\">\n      <th></th>\n      <th>product_id</th>\n      <th>product_name</th>\n      <th>category</th>\n      <th>discounted_price</th>\n      <th>actual_price</th>\n      <th>discount_percentage</th>\n      <th>rating</th>\n      <th>rating_count</th>\n      <th>about_product</th>\n      <th>user_id</th>\n      <th>user_name</th>\n      <th>review_id</th>\n      <th>review_title</th>\n      <th>review_content</th>\n      <th>img_link</th>\n      <th>product_link</th>\n    </tr>\n  </thead>\n  <tbody>\n    <tr>\n      <th>720</th>\n      <td>B08L12N5H1</td>\n      <td>Eureka Forbes car Vac 100 Watts Powerful Sucti...</td>\n      <td>Home&amp;Kitchen|Kitchen&amp;HomeAppliances|Vacuum,Cle...</td>\n      <td>2099.0</td>\n      <td>2499.0</td>\n      <td>0.16</td>\n      <td>|</td>\n      <td>992.0</td>\n      <td>No Installation is provided for this product|1...</td>\n      <td>AGTDSNT2FKVYEPDPXAA673AIS44A,AER2XFSWNN4LAUCJ5...</td>\n      <td>Divya,Dr Nefario,Deekshith,Preeti,Prasanth R,P...</td>\n      <td>R2KKTKM4M9RDVJ,R1O692MZOBTE79,R2WRSEWL56SOS4,R...</td>\n      <td>Decent product,doesn't pick up sand,Ok ok,Must...</td>\n      <td>Does the job well,doesn't work on sand. though...</td>\n      <td>https://m.media-amazon.com/images/W/WEBP_40237...</td>\n      <td>https://www.amazon.in/Eureka-Forbes-Vacuum-Cle...</td>\n    </tr>\n  </tbody>\n</table>\n</div>"
     },
     "execution_count": 146,
     "metadata": {},
     "output_type": "execute_result"
    }
   ],
   "source": [
    "#Finding unusual string in the rating column\n",
    "\n",
    "dataset['rating'].value_counts()\n",
    "dataset.query('rating == \"|\"')"
   ],
   "metadata": {
    "collapsed": false,
    "ExecuteTime": {
     "end_time": "2023-10-27T08:31:06.323976Z",
     "start_time": "2023-10-27T08:31:06.292960Z"
    }
   },
   "id": "42c0fa194d05a6f6"
  },
  {
   "cell_type": "code",
   "execution_count": 147,
   "outputs": [],
   "source": [
    "#Removing the unusual string in the rating column\n",
    "dataset['rating'] = dataset['rating'].str.replace('|', '4.0').astype('float64')"
   ],
   "metadata": {
    "collapsed": false,
    "ExecuteTime": {
     "end_time": "2023-10-27T08:31:06.324031Z",
     "start_time": "2023-10-27T08:31:06.296057Z"
    }
   },
   "id": "b902deb24010081"
  },
  {
   "cell_type": "code",
   "execution_count": 148,
   "outputs": [],
   "source": [
    "category_split = dataset['category'].str.split('|', expand=True)\n",
    "category_split\n",
    "category_split = category_split.rename(columns={0:'category_1', 1:'category_2', 2:'category_3'})"
   ],
   "metadata": {
    "collapsed": false,
    "ExecuteTime": {
     "end_time": "2023-10-27T08:31:06.324084Z",
     "start_time": "2023-10-27T08:31:06.300109Z"
    }
   },
   "id": "e1d3983615a7d613"
  },
  {
   "cell_type": "code",
   "execution_count": 149,
   "outputs": [
    {
     "data": {
      "text/plain": "   product_id                                       product_name  \\\n0  B002PD61Y4  D-Link DWA-131 300 Mbps Wireless Nano USB Adap...   \n1  B002PD61Y4  D-Link DWA-131 300 Mbps Wireless Nano USB Adap...   \n2  B002SZEOLG  TP-Link Nano USB WiFi Dongle 150Mbps High Gain...   \n3  B003B00484  Duracell Plus AAA Rechargeable Batteries (750 ...   \n4  B003L62T7W  Logitech B100 Wired USB Mouse, 3 yr Warranty, ...   \n\n   discounted_price  actual_price  discount_percentage  rating  rating_count  \\\n0             507.0        1208.0                 0.58     4.1        8131.0   \n1             507.0        1208.0                 0.58     4.1        8131.0   \n2             749.0        1339.0                 0.44     4.2      179692.0   \n3             399.0         499.0                 0.20     4.3       27201.0   \n4             279.0         375.0                 0.26     4.3       31534.0   \n\n                                       about_product  \\\n0  Connects your computer to a high-speed wireles...   \n1  Connects your computer to a high-speed wireles...   \n2  150 Mbps Wi-Fi —— Exceptional wireless speed u...   \n3  Duracell Rechargeable AAA 750mAh batteries sta...   \n4  A comfortable, ambidextrous shape feels good i...   \n\n                                             user_id  \\\n0  AGA2PZGWMQIRA46VYOTICFE7KCBA,AHI2QJ4CLTCQWACDI...   \n1  AGA2PZGWMQIRA46VYOTICFE7KCBA,AHI2QJ4CLTCQWACDI...   \n2  AGV3IEFANZCKECFGUM42MRH5FNOA,AEBO7NWCNXKT4AESA...   \n3  AG2ICOYPSOV5SGBKFEYHGKCNK7PA,AGJ3OQ4X262D3MAQZ...   \n4  AE6DY6YWTSSE3XNHDXZDGQM2JL2Q,AES3UPSNCD37JZLHZ...   \n\n                                           user_name  \\\n0  nilesh,EAGLE,Manoj KNS,Titus P.,Paras singla,a...   \n1  nilesh,EAGLE,Manoj KNS,Titus P.,Paras singla,a...   \n2  Azhar JuMan,Anirudh Sood,Hari Krishnan PS,Akas...   \n3  T N Sivaji,Akku,V,Meet,MOHAMMED,Niranjan koyri...   \n4  Uday Joglekar,Simi Singh,Hi,chirag bansal,Swar...   \n\n                                           review_id  \\\n0  R2EJIN3N3L3XKI,R2JMJ8QNG66LV4,R3B46JNPC2T4E7,R...   \n1  R2EJIN3N3L3XKI,R2JMJ8QNG66LV4,R3B46JNPC2T4E7,R...   \n2  R1LW6NWSVTVZ2H,R3VR5WFKUS15C5,R2F6GC79OYWUKQ,R...   \n3  R5L3FAFS6JXJF,R1VTQ25LXQX5UD,R6RJYAZUM5240,R1S...   \n4  R3U9FRV2Q625DO,R3EJZ83W9OHW3D,RSH53O0JL66NL,R3...   \n\n                                        review_title  \\\n0  good tool to use for,Brand is always good,Over...   \n1  good tool to use for,Brand is always good,Over...   \n2  Works on linux for me. Get the model with ante...   \n3  Works Good,Perfect replacement cell for trimme...   \n4  Handy Mouse,Good quality mouse,Good one.,Good,...   \n\n                                      review_content  \\\n0  good quality tool from d linkWiFi signal is go...   \n1  good quality tool from d linkWiFi signal is go...   \n2  I use this to connect an old PC to internet. I...   \n3  Works good,Bought it to replace my Phillips QT...   \n4  Liked this Product,https://m.media-amazon.com/...   \n\n                                            img_link  \\\n0  https://m.media-amazon.com/images/I/31+NwZ8gb1...   \n1  https://m.media-amazon.com/images/W/WEBP_40237...   \n2  https://m.media-amazon.com/images/I/31Wb+A3VVd...   \n3  https://m.media-amazon.com/images/I/418YrbHVLC...   \n4  https://m.media-amazon.com/images/I/31iFF1Kbkp...   \n\n                                        product_link             category_1  \\\n0  https://www.amazon.in/D-Link-DWA-131-Wireless-...  Computers&Accessories   \n1  https://www.amazon.in/D-Link-DWA-131-Wireless-...  Computers&Accessories   \n2  https://www.amazon.in/TP-Link-TL-WN722N-150Mbp...  Computers&Accessories   \n3  https://www.amazon.in/Duracell-AAA-750mAh-Rech...            Electronics   \n4  https://www.amazon.in/Logitech-B100-Optical-Mo...  Computers&Accessories   \n\n                                category_2  \n0                        NetworkingDevices  \n1                        NetworkingDevices  \n2                        NetworkingDevices  \n3  GeneralPurposeBatteries&BatteryChargers  \n4                  Accessories&Peripherals  ",
      "text/html": "<div>\n<style scoped>\n    .dataframe tbody tr th:only-of-type {\n        vertical-align: middle;\n    }\n\n    .dataframe tbody tr th {\n        vertical-align: top;\n    }\n\n    .dataframe thead th {\n        text-align: right;\n    }\n</style>\n<table border=\"1\" class=\"dataframe\">\n  <thead>\n    <tr style=\"text-align: right;\">\n      <th></th>\n      <th>product_id</th>\n      <th>product_name</th>\n      <th>discounted_price</th>\n      <th>actual_price</th>\n      <th>discount_percentage</th>\n      <th>rating</th>\n      <th>rating_count</th>\n      <th>about_product</th>\n      <th>user_id</th>\n      <th>user_name</th>\n      <th>review_id</th>\n      <th>review_title</th>\n      <th>review_content</th>\n      <th>img_link</th>\n      <th>product_link</th>\n      <th>category_1</th>\n      <th>category_2</th>\n    </tr>\n  </thead>\n  <tbody>\n    <tr>\n      <th>0</th>\n      <td>B002PD61Y4</td>\n      <td>D-Link DWA-131 300 Mbps Wireless Nano USB Adap...</td>\n      <td>507.0</td>\n      <td>1208.0</td>\n      <td>0.58</td>\n      <td>4.1</td>\n      <td>8131.0</td>\n      <td>Connects your computer to a high-speed wireles...</td>\n      <td>AGA2PZGWMQIRA46VYOTICFE7KCBA,AHI2QJ4CLTCQWACDI...</td>\n      <td>nilesh,EAGLE,Manoj KNS,Titus P.,Paras singla,a...</td>\n      <td>R2EJIN3N3L3XKI,R2JMJ8QNG66LV4,R3B46JNPC2T4E7,R...</td>\n      <td>good tool to use for,Brand is always good,Over...</td>\n      <td>good quality tool from d linkWiFi signal is go...</td>\n      <td>https://m.media-amazon.com/images/I/31+NwZ8gb1...</td>\n      <td>https://www.amazon.in/D-Link-DWA-131-Wireless-...</td>\n      <td>Computers&amp;Accessories</td>\n      <td>NetworkingDevices</td>\n    </tr>\n    <tr>\n      <th>1</th>\n      <td>B002PD61Y4</td>\n      <td>D-Link DWA-131 300 Mbps Wireless Nano USB Adap...</td>\n      <td>507.0</td>\n      <td>1208.0</td>\n      <td>0.58</td>\n      <td>4.1</td>\n      <td>8131.0</td>\n      <td>Connects your computer to a high-speed wireles...</td>\n      <td>AGA2PZGWMQIRA46VYOTICFE7KCBA,AHI2QJ4CLTCQWACDI...</td>\n      <td>nilesh,EAGLE,Manoj KNS,Titus P.,Paras singla,a...</td>\n      <td>R2EJIN3N3L3XKI,R2JMJ8QNG66LV4,R3B46JNPC2T4E7,R...</td>\n      <td>good tool to use for,Brand is always good,Over...</td>\n      <td>good quality tool from d linkWiFi signal is go...</td>\n      <td>https://m.media-amazon.com/images/W/WEBP_40237...</td>\n      <td>https://www.amazon.in/D-Link-DWA-131-Wireless-...</td>\n      <td>Computers&amp;Accessories</td>\n      <td>NetworkingDevices</td>\n    </tr>\n    <tr>\n      <th>2</th>\n      <td>B002SZEOLG</td>\n      <td>TP-Link Nano USB WiFi Dongle 150Mbps High Gain...</td>\n      <td>749.0</td>\n      <td>1339.0</td>\n      <td>0.44</td>\n      <td>4.2</td>\n      <td>179692.0</td>\n      <td>150 Mbps Wi-Fi —— Exceptional wireless speed u...</td>\n      <td>AGV3IEFANZCKECFGUM42MRH5FNOA,AEBO7NWCNXKT4AESA...</td>\n      <td>Azhar JuMan,Anirudh Sood,Hari Krishnan PS,Akas...</td>\n      <td>R1LW6NWSVTVZ2H,R3VR5WFKUS15C5,R2F6GC79OYWUKQ,R...</td>\n      <td>Works on linux for me. Get the model with ante...</td>\n      <td>I use this to connect an old PC to internet. I...</td>\n      <td>https://m.media-amazon.com/images/I/31Wb+A3VVd...</td>\n      <td>https://www.amazon.in/TP-Link-TL-WN722N-150Mbp...</td>\n      <td>Computers&amp;Accessories</td>\n      <td>NetworkingDevices</td>\n    </tr>\n    <tr>\n      <th>3</th>\n      <td>B003B00484</td>\n      <td>Duracell Plus AAA Rechargeable Batteries (750 ...</td>\n      <td>399.0</td>\n      <td>499.0</td>\n      <td>0.20</td>\n      <td>4.3</td>\n      <td>27201.0</td>\n      <td>Duracell Rechargeable AAA 750mAh batteries sta...</td>\n      <td>AG2ICOYPSOV5SGBKFEYHGKCNK7PA,AGJ3OQ4X262D3MAQZ...</td>\n      <td>T N Sivaji,Akku,V,Meet,MOHAMMED,Niranjan koyri...</td>\n      <td>R5L3FAFS6JXJF,R1VTQ25LXQX5UD,R6RJYAZUM5240,R1S...</td>\n      <td>Works Good,Perfect replacement cell for trimme...</td>\n      <td>Works good,Bought it to replace my Phillips QT...</td>\n      <td>https://m.media-amazon.com/images/I/418YrbHVLC...</td>\n      <td>https://www.amazon.in/Duracell-AAA-750mAh-Rech...</td>\n      <td>Electronics</td>\n      <td>GeneralPurposeBatteries&amp;BatteryChargers</td>\n    </tr>\n    <tr>\n      <th>4</th>\n      <td>B003L62T7W</td>\n      <td>Logitech B100 Wired USB Mouse, 3 yr Warranty, ...</td>\n      <td>279.0</td>\n      <td>375.0</td>\n      <td>0.26</td>\n      <td>4.3</td>\n      <td>31534.0</td>\n      <td>A comfortable, ambidextrous shape feels good i...</td>\n      <td>AE6DY6YWTSSE3XNHDXZDGQM2JL2Q,AES3UPSNCD37JZLHZ...</td>\n      <td>Uday Joglekar,Simi Singh,Hi,chirag bansal,Swar...</td>\n      <td>R3U9FRV2Q625DO,R3EJZ83W9OHW3D,RSH53O0JL66NL,R3...</td>\n      <td>Handy Mouse,Good quality mouse,Good one.,Good,...</td>\n      <td>Liked this Product,https://m.media-amazon.com/...</td>\n      <td>https://m.media-amazon.com/images/I/31iFF1Kbkp...</td>\n      <td>https://www.amazon.in/Logitech-B100-Optical-Mo...</td>\n      <td>Computers&amp;Accessories</td>\n      <td>Accessories&amp;Peripherals</td>\n    </tr>\n  </tbody>\n</table>\n</div>"
     },
     "execution_count": 149,
     "metadata": {},
     "output_type": "execute_result"
    }
   ],
   "source": [
    "# add the 3 new columns to the dataset\n",
    "dataset['category_1'] = category_split['category_1']\n",
    "dataset['category_2'] = category_split['category_2']\n",
    "# drop the original category column\n",
    "dataset.drop('category', axis=1, inplace=True)\n",
    "\n",
    "dataset.head()"
   ],
   "metadata": {
    "collapsed": false,
    "ExecuteTime": {
     "end_time": "2023-10-27T08:31:06.324314Z",
     "start_time": "2023-10-27T08:31:06.306697Z"
    }
   },
   "id": "f664df63cdf4853f"
  },
  {
   "cell_type": "code",
   "execution_count": 150,
   "outputs": [],
   "source": [
    "#Fixing Strings in the Category_1 Column\n",
    "\n",
    "dataset['category_1'] = dataset['category_1'].str.replace('&', ' & ')\n",
    "dataset['category_1'] = dataset['category_1'].str.replace('OfficeProducts', 'Office Products')\n",
    "dataset['category_1'] = dataset['category_1'].str.replace('MusicalInstruments', 'Musical Instruments')\n",
    "dataset['category_1'] = dataset['category_1'].str.replace('HomeImprovement', 'Home Improvement')"
   ],
   "metadata": {
    "collapsed": false,
    "ExecuteTime": {
     "end_time": "2023-10-27T08:31:06.324374Z",
     "start_time": "2023-10-27T08:31:06.311465Z"
    }
   },
   "id": "a1618eb61687e4fd"
  },
  {
   "cell_type": "code",
   "execution_count": 151,
   "outputs": [
    {
     "data": {
      "text/plain": "category_2\nAccessories&Peripherals                    381\nKitchen&HomeAppliances                     308\nHomeTheater,TV&Video                       162\nMobiles&Accessories                        161\nHeating,Cooling&AirQuality                 116\nWearableTechnology                          76\nHeadphones,Earbuds&Accessories              66\nNetworkingDevices                           34\nOfficePaperProducts                         27\nExternalDevices&DataStorage                 18\nHomeAudio                                   16\nCameras&Photography                         16\nHomeStorage&Organization                    16\nAccessories                                 14\nGeneralPurposeBatteries&BatteryChargers     14\nPrinters,Inks&Accessories                   11\nCraftMaterials                               7\nComponents                                   5\nOfficeElectronics                            4\nMicrophones                                  2\nElectrical                                   2\nMonitors                                     2\nHomeMedicalSupplies&Equipment                1\nArts&Crafts                                  1\nKitchen&Dining                               1\nPowerAccessories                             1\nCarAccessories                               1\nTablets                                      1\nLaptops                                      1\nName: count, dtype: int64"
     },
     "execution_count": 151,
     "metadata": {},
     "output_type": "execute_result"
    }
   ],
   "source": [
    "#Checking category_2 unique values\n",
    "\n",
    "dataset['category_2'].value_counts()"
   ],
   "metadata": {
    "collapsed": false,
    "ExecuteTime": {
     "end_time": "2023-10-27T08:31:06.324524Z",
     "start_time": "2023-10-27T08:31:06.314577Z"
    }
   },
   "id": "d6eab52c936aa10"
  },
  {
   "cell_type": "code",
   "execution_count": 152,
   "outputs": [],
   "source": [
    "#Fixing Strings in Category_2 column\n",
    "\n",
    "dataset['category_2'] = dataset['category_2'].str.replace('&', ' & ')\n",
    "dataset['category_2'] = dataset['category_2'].str.replace(',', ', ')\n",
    "dataset['category_2'] = dataset['category_2'].str.replace('HomeAppliances', 'Home Appliances')\n",
    "dataset['category_2'] = dataset['category_2'].str.replace('AirQuality', 'Air Quality')\n",
    "dataset['category_2'] = dataset['category_2'].str.replace('WearableTechnology', 'Wearable Technology')\n",
    "dataset['category_2'] = dataset['category_2'].str.replace('NetworkingDevices', 'Networking Devices')\n",
    "dataset['category_2'] = dataset['category_2'].str.replace('OfficePaperProducts', 'Office Paper Products')\n",
    "dataset['category_2'] = dataset['category_2'].str.replace('ExternalDevices', 'External Devices')\n",
    "dataset['category_2'] = dataset['category_2'].str.replace('DataStorage', 'Data Storage')\n",
    "dataset['category_2'] = dataset['category_2'].str.replace('HomeStorage', 'Home Storage')\n",
    "dataset['category_2'] = dataset['category_2'].str.replace('HomeAudio', 'Home Audio')\n",
    "dataset['category_2'] = dataset['category_2'].str.replace('GeneralPurposeBatteries', 'General Purpose Batteries')\n",
    "dataset['category_2'] = dataset['category_2'].str.replace('BatteryChargers', 'Battery Chargers')\n",
    "dataset['category_2'] = dataset['category_2'].str.replace('CraftMaterials', 'Craft Materials')\n",
    "dataset['category_2'] = dataset['category_2'].str.replace('OfficeElectronics', 'Office Electronics')\n",
    "dataset['category_2'] = dataset['category_2'].str.replace('PowerAccessories', 'Power Accessories')\n",
    "dataset['category_2'] = dataset['category_2'].str.replace('CarAccessories', 'Car Accessories')\n",
    "dataset['category_2'] = dataset['category_2'].str.replace('HomeMedicalSupplies', 'Home Medical Supplies')\n",
    "dataset['category_2'] = dataset['category_2'].str.replace('HomeTheater', 'Home Theater')"
   ],
   "metadata": {
    "collapsed": false,
    "ExecuteTime": {
     "end_time": "2023-10-27T08:31:06.348560Z",
     "start_time": "2023-10-27T08:31:06.323Z"
    }
   },
   "id": "5a24dd92add39ec7"
  },
  {
   "cell_type": "code",
   "execution_count": 153,
   "outputs": [
    {
     "data": {
      "text/plain": "0       B002PD61Y4\n1       B002PD61Y4\n2       B002SZEOLG\n3       B003B00484\n4       B003L62T7W\n           ...    \n1460    B0BPCJM7TB\n1461    B0BPJBTB3F\n1462    B0BQ3K23Y1\n1463    B0BQRJ3C47\n1464    B0BR4F878Q\nName: product_id, Length: 1465, dtype: object"
     },
     "execution_count": 153,
     "metadata": {},
     "output_type": "execute_result"
    }
   ],
   "source": [
    "# Removing Whitespace from product_id\n",
    "dataset['product_id'].str.strip()"
   ],
   "metadata": {
    "collapsed": false,
    "ExecuteTime": {
     "end_time": "2023-10-27T08:31:06.348762Z",
     "start_time": "2023-10-27T08:31:06.330147Z"
    }
   },
   "id": "b790c5088424c0ac"
  },
  {
   "cell_type": "code",
   "execution_count": 154,
   "outputs": [],
   "source": [
    "#Creating Categories for Rankings\n",
    "\n",
    "rating_score = []\n",
    "\n",
    "for score in dataset['rating']:\n",
    "    if score < 2.0 : rating_score.append('Poor')\n",
    "    elif score < 3.0 : rating_score.append('Below Average')\n",
    "    elif score < 4.0 : rating_score.append('Average')\n",
    "    elif score < 5.0 : rating_score.append('Above Average')\n",
    "    elif score == 5.0 : rating_score.append('Excellent')"
   ],
   "metadata": {
    "collapsed": false,
    "ExecuteTime": {
     "end_time": "2023-10-27T08:31:06.348888Z",
     "start_time": "2023-10-27T08:31:06.333652Z"
    }
   },
   "id": "9d6b8cf1a70c2b1c"
  },
  {
   "cell_type": "code",
   "execution_count": 155,
   "outputs": [],
   "source": [
    "#Creating A new Column and Changing the Data Type\n",
    "\n",
    "dataset['rating_score'] = rating_score\n",
    "\n",
    "dataset['rating_score'] = dataset['rating_score'].astype('category')"
   ],
   "metadata": {
    "collapsed": false,
    "ExecuteTime": {
     "end_time": "2023-10-27T08:31:06.348920Z",
     "start_time": "2023-10-27T08:31:06.335956Z"
    }
   },
   "id": "47184e9eec6c3caa"
  },
  {
   "cell_type": "code",
   "execution_count": 156,
   "outputs": [],
   "source": [
    "#Reordered Categories\n",
    "\n",
    "dataset['rating_score'] = dataset['rating_score'].cat.reorder_categories(['Below Average', 'Average', 'Above Average', 'Excellent'], ordered=True)"
   ],
   "metadata": {
    "collapsed": false,
    "ExecuteTime": {
     "end_time": "2023-10-27T08:31:06.348982Z",
     "start_time": "2023-10-27T08:31:06.337923Z"
    }
   },
   "id": "22ac6b74713875d5"
  },
  {
   "cell_type": "code",
   "execution_count": 157,
   "outputs": [],
   "source": [
    "#Creating Difference of Price Column between Actual Price and Discounted Price\n",
    "dataset['difference_price'] = dataset['actual_price'] - dataset['discounted_price']"
   ],
   "metadata": {
    "collapsed": false,
    "ExecuteTime": {
     "end_time": "2023-10-27T08:31:06.377390Z",
     "start_time": "2023-10-27T08:31:06.341095Z"
    }
   },
   "id": "2c3abfaa2e18c746"
  },
  {
   "cell_type": "code",
   "execution_count": 158,
   "outputs": [
    {
     "data": {
      "text/plain": "   product_id                                       product_name  \\\n0  B002PD61Y4  D-Link DWA-131 300 Mbps Wireless Nano USB Adap...   \n1  B002PD61Y4  D-Link DWA-131 300 Mbps Wireless Nano USB Adap...   \n2  B002SZEOLG  TP-Link Nano USB WiFi Dongle 150Mbps High Gain...   \n3  B003B00484  Duracell Plus AAA Rechargeable Batteries (750 ...   \n4  B003L62T7W  Logitech B100 Wired USB Mouse, 3 yr Warranty, ...   \n\n   discounted_price  actual_price  discount_percentage  rating  rating_count  \\\n0             507.0        1208.0                 0.58     4.1        8131.0   \n1             507.0        1208.0                 0.58     4.1        8131.0   \n2             749.0        1339.0                 0.44     4.2      179692.0   \n3             399.0         499.0                 0.20     4.3       27201.0   \n4             279.0         375.0                 0.26     4.3       31534.0   \n\n                                       about_product  \\\n0  Connects your computer to a high-speed wireles...   \n1  Connects your computer to a high-speed wireles...   \n2  150 Mbps Wi-Fi —— Exceptional wireless speed u...   \n3  Duracell Rechargeable AAA 750mAh batteries sta...   \n4  A comfortable, ambidextrous shape feels good i...   \n\n                                             user_id  \\\n0  AGA2PZGWMQIRA46VYOTICFE7KCBA,AHI2QJ4CLTCQWACDI...   \n1  AGA2PZGWMQIRA46VYOTICFE7KCBA,AHI2QJ4CLTCQWACDI...   \n2  AGV3IEFANZCKECFGUM42MRH5FNOA,AEBO7NWCNXKT4AESA...   \n3  AG2ICOYPSOV5SGBKFEYHGKCNK7PA,AGJ3OQ4X262D3MAQZ...   \n4  AE6DY6YWTSSE3XNHDXZDGQM2JL2Q,AES3UPSNCD37JZLHZ...   \n\n                                           user_name  \\\n0  nilesh,EAGLE,Manoj KNS,Titus P.,Paras singla,a...   \n1  nilesh,EAGLE,Manoj KNS,Titus P.,Paras singla,a...   \n2  Azhar JuMan,Anirudh Sood,Hari Krishnan PS,Akas...   \n3  T N Sivaji,Akku,V,Meet,MOHAMMED,Niranjan koyri...   \n4  Uday Joglekar,Simi Singh,Hi,chirag bansal,Swar...   \n\n                                           review_id  \\\n0  R2EJIN3N3L3XKI,R2JMJ8QNG66LV4,R3B46JNPC2T4E7,R...   \n1  R2EJIN3N3L3XKI,R2JMJ8QNG66LV4,R3B46JNPC2T4E7,R...   \n2  R1LW6NWSVTVZ2H,R3VR5WFKUS15C5,R2F6GC79OYWUKQ,R...   \n3  R5L3FAFS6JXJF,R1VTQ25LXQX5UD,R6RJYAZUM5240,R1S...   \n4  R3U9FRV2Q625DO,R3EJZ83W9OHW3D,RSH53O0JL66NL,R3...   \n\n                                        review_title  \\\n0  good tool to use for,Brand is always good,Over...   \n1  good tool to use for,Brand is always good,Over...   \n2  Works on linux for me. Get the model with ante...   \n3  Works Good,Perfect replacement cell for trimme...   \n4  Handy Mouse,Good quality mouse,Good one.,Good,...   \n\n                                      review_content  \\\n0  good quality tool from d linkWiFi signal is go...   \n1  good quality tool from d linkWiFi signal is go...   \n2  I use this to connect an old PC to internet. I...   \n3  Works good,Bought it to replace my Phillips QT...   \n4  Liked this Product,https://m.media-amazon.com/...   \n\n                                            img_link  \\\n0  https://m.media-amazon.com/images/I/31+NwZ8gb1...   \n1  https://m.media-amazon.com/images/W/WEBP_40237...   \n2  https://m.media-amazon.com/images/I/31Wb+A3VVd...   \n3  https://m.media-amazon.com/images/I/418YrbHVLC...   \n4  https://m.media-amazon.com/images/I/31iFF1Kbkp...   \n\n                                        product_link               category_1  \\\n0  https://www.amazon.in/D-Link-DWA-131-Wireless-...  Computers & Accessories   \n1  https://www.amazon.in/D-Link-DWA-131-Wireless-...  Computers & Accessories   \n2  https://www.amazon.in/TP-Link-TL-WN722N-150Mbp...  Computers & Accessories   \n3  https://www.amazon.in/Duracell-AAA-750mAh-Rech...              Electronics   \n4  https://www.amazon.in/Logitech-B100-Optical-Mo...  Computers & Accessories   \n\n                                     category_2   rating_score  \\\n0                            Networking Devices  Above Average   \n1                            Networking Devices  Above Average   \n2                            Networking Devices  Above Average   \n3  General Purpose Batteries & Battery Chargers  Above Average   \n4                     Accessories & Peripherals  Above Average   \n\n   difference_price  \n0             701.0  \n1             701.0  \n2             590.0  \n3             100.0  \n4              96.0  ",
      "text/html": "<div>\n<style scoped>\n    .dataframe tbody tr th:only-of-type {\n        vertical-align: middle;\n    }\n\n    .dataframe tbody tr th {\n        vertical-align: top;\n    }\n\n    .dataframe thead th {\n        text-align: right;\n    }\n</style>\n<table border=\"1\" class=\"dataframe\">\n  <thead>\n    <tr style=\"text-align: right;\">\n      <th></th>\n      <th>product_id</th>\n      <th>product_name</th>\n      <th>discounted_price</th>\n      <th>actual_price</th>\n      <th>discount_percentage</th>\n      <th>rating</th>\n      <th>rating_count</th>\n      <th>about_product</th>\n      <th>user_id</th>\n      <th>user_name</th>\n      <th>review_id</th>\n      <th>review_title</th>\n      <th>review_content</th>\n      <th>img_link</th>\n      <th>product_link</th>\n      <th>category_1</th>\n      <th>category_2</th>\n      <th>rating_score</th>\n      <th>difference_price</th>\n    </tr>\n  </thead>\n  <tbody>\n    <tr>\n      <th>0</th>\n      <td>B002PD61Y4</td>\n      <td>D-Link DWA-131 300 Mbps Wireless Nano USB Adap...</td>\n      <td>507.0</td>\n      <td>1208.0</td>\n      <td>0.58</td>\n      <td>4.1</td>\n      <td>8131.0</td>\n      <td>Connects your computer to a high-speed wireles...</td>\n      <td>AGA2PZGWMQIRA46VYOTICFE7KCBA,AHI2QJ4CLTCQWACDI...</td>\n      <td>nilesh,EAGLE,Manoj KNS,Titus P.,Paras singla,a...</td>\n      <td>R2EJIN3N3L3XKI,R2JMJ8QNG66LV4,R3B46JNPC2T4E7,R...</td>\n      <td>good tool to use for,Brand is always good,Over...</td>\n      <td>good quality tool from d linkWiFi signal is go...</td>\n      <td>https://m.media-amazon.com/images/I/31+NwZ8gb1...</td>\n      <td>https://www.amazon.in/D-Link-DWA-131-Wireless-...</td>\n      <td>Computers &amp; Accessories</td>\n      <td>Networking Devices</td>\n      <td>Above Average</td>\n      <td>701.0</td>\n    </tr>\n    <tr>\n      <th>1</th>\n      <td>B002PD61Y4</td>\n      <td>D-Link DWA-131 300 Mbps Wireless Nano USB Adap...</td>\n      <td>507.0</td>\n      <td>1208.0</td>\n      <td>0.58</td>\n      <td>4.1</td>\n      <td>8131.0</td>\n      <td>Connects your computer to a high-speed wireles...</td>\n      <td>AGA2PZGWMQIRA46VYOTICFE7KCBA,AHI2QJ4CLTCQWACDI...</td>\n      <td>nilesh,EAGLE,Manoj KNS,Titus P.,Paras singla,a...</td>\n      <td>R2EJIN3N3L3XKI,R2JMJ8QNG66LV4,R3B46JNPC2T4E7,R...</td>\n      <td>good tool to use for,Brand is always good,Over...</td>\n      <td>good quality tool from d linkWiFi signal is go...</td>\n      <td>https://m.media-amazon.com/images/W/WEBP_40237...</td>\n      <td>https://www.amazon.in/D-Link-DWA-131-Wireless-...</td>\n      <td>Computers &amp; Accessories</td>\n      <td>Networking Devices</td>\n      <td>Above Average</td>\n      <td>701.0</td>\n    </tr>\n    <tr>\n      <th>2</th>\n      <td>B002SZEOLG</td>\n      <td>TP-Link Nano USB WiFi Dongle 150Mbps High Gain...</td>\n      <td>749.0</td>\n      <td>1339.0</td>\n      <td>0.44</td>\n      <td>4.2</td>\n      <td>179692.0</td>\n      <td>150 Mbps Wi-Fi —— Exceptional wireless speed u...</td>\n      <td>AGV3IEFANZCKECFGUM42MRH5FNOA,AEBO7NWCNXKT4AESA...</td>\n      <td>Azhar JuMan,Anirudh Sood,Hari Krishnan PS,Akas...</td>\n      <td>R1LW6NWSVTVZ2H,R3VR5WFKUS15C5,R2F6GC79OYWUKQ,R...</td>\n      <td>Works on linux for me. Get the model with ante...</td>\n      <td>I use this to connect an old PC to internet. I...</td>\n      <td>https://m.media-amazon.com/images/I/31Wb+A3VVd...</td>\n      <td>https://www.amazon.in/TP-Link-TL-WN722N-150Mbp...</td>\n      <td>Computers &amp; Accessories</td>\n      <td>Networking Devices</td>\n      <td>Above Average</td>\n      <td>590.0</td>\n    </tr>\n    <tr>\n      <th>3</th>\n      <td>B003B00484</td>\n      <td>Duracell Plus AAA Rechargeable Batteries (750 ...</td>\n      <td>399.0</td>\n      <td>499.0</td>\n      <td>0.20</td>\n      <td>4.3</td>\n      <td>27201.0</td>\n      <td>Duracell Rechargeable AAA 750mAh batteries sta...</td>\n      <td>AG2ICOYPSOV5SGBKFEYHGKCNK7PA,AGJ3OQ4X262D3MAQZ...</td>\n      <td>T N Sivaji,Akku,V,Meet,MOHAMMED,Niranjan koyri...</td>\n      <td>R5L3FAFS6JXJF,R1VTQ25LXQX5UD,R6RJYAZUM5240,R1S...</td>\n      <td>Works Good,Perfect replacement cell for trimme...</td>\n      <td>Works good,Bought it to replace my Phillips QT...</td>\n      <td>https://m.media-amazon.com/images/I/418YrbHVLC...</td>\n      <td>https://www.amazon.in/Duracell-AAA-750mAh-Rech...</td>\n      <td>Electronics</td>\n      <td>General Purpose Batteries &amp; Battery Chargers</td>\n      <td>Above Average</td>\n      <td>100.0</td>\n    </tr>\n    <tr>\n      <th>4</th>\n      <td>B003L62T7W</td>\n      <td>Logitech B100 Wired USB Mouse, 3 yr Warranty, ...</td>\n      <td>279.0</td>\n      <td>375.0</td>\n      <td>0.26</td>\n      <td>4.3</td>\n      <td>31534.0</td>\n      <td>A comfortable, ambidextrous shape feels good i...</td>\n      <td>AE6DY6YWTSSE3XNHDXZDGQM2JL2Q,AES3UPSNCD37JZLHZ...</td>\n      <td>Uday Joglekar,Simi Singh,Hi,chirag bansal,Swar...</td>\n      <td>R3U9FRV2Q625DO,R3EJZ83W9OHW3D,RSH53O0JL66NL,R3...</td>\n      <td>Handy Mouse,Good quality mouse,Good one.,Good,...</td>\n      <td>Liked this Product,https://m.media-amazon.com/...</td>\n      <td>https://m.media-amazon.com/images/I/31iFF1Kbkp...</td>\n      <td>https://www.amazon.in/Logitech-B100-Optical-Mo...</td>\n      <td>Computers &amp; Accessories</td>\n      <td>Accessories &amp; Peripherals</td>\n      <td>Above Average</td>\n      <td>96.0</td>\n    </tr>\n  </tbody>\n</table>\n</div>"
     },
     "execution_count": 158,
     "metadata": {},
     "output_type": "execute_result"
    }
   ],
   "source": [
    "#Result After Cleaning and Preperation after first cleaned dataframe\n",
    "dataset.head()"
   ],
   "metadata": {
    "collapsed": false,
    "ExecuteTime": {
     "end_time": "2023-10-27T08:31:06.391108Z",
     "start_time": "2023-10-27T08:31:06.347388Z"
    }
   },
   "id": "6873f1223515eef5"
  },
  {
   "cell_type": "code",
   "execution_count": 159,
   "outputs": [
    {
     "data": {
      "text/plain": "                                                user_id  \\\n0     AGA2PZGWMQIRA46VYOTICFE7KCBA,AHI2QJ4CLTCQWACDI...   \n1     AGA2PZGWMQIRA46VYOTICFE7KCBA,AHI2QJ4CLTCQWACDI...   \n2     AGV3IEFANZCKECFGUM42MRH5FNOA,AEBO7NWCNXKT4AESA...   \n3     AG2ICOYPSOV5SGBKFEYHGKCNK7PA,AGJ3OQ4X262D3MAQZ...   \n4     AE6DY6YWTSSE3XNHDXZDGQM2JL2Q,AES3UPSNCD37JZLHZ...   \n...                                                 ...   \n1460  AFSZEPUJZUDS3NRVEAO5MHUCAEPA,AHU7IIQ2UVTKGV6WW...   \n1461  AGHT3K4KSG5MAQUSXRDT5VNB73GA,AE4Q5XQ7SZW35EEUJ...   \n1462  AGRJZJKWKIE573KM5FWPOH4F7YCA,AEHV4VOLDQX5XYA42...   \n1463                       AGJC5O5H5BBXWUV7WRIEIOOR3TVQ   \n1464  AEU7DVFEL43XZ6T4D572W2ZLBRKQ,AGWOH7CFDMUVW52NM...   \n\n                                              user_name  \n0     nilesh,EAGLE,Manoj KNS,Titus P.,Paras singla,a...  \n1     nilesh,EAGLE,Manoj KNS,Titus P.,Paras singla,a...  \n2     Azhar JuMan,Anirudh Sood,Hari Krishnan PS,Akas...  \n3     T N Sivaji,Akku,V,Meet,MOHAMMED,Niranjan koyri...  \n4     Uday Joglekar,Simi Singh,Hi,chirag bansal,Swar...  \n...                                                 ...  \n1460  Priti Sharma,ramya,Aman,ShashankVerma,Ved,Sush...  \n1461                          Manidipa Sengupta,Vidisha  \n1462  Amazon Customer,Neha Mehta,Nischal Agarwal,tha...  \n1463                                        Abdul Gafur  \n1464                    Yogita g.,Amazon Customer,Mimsy  \n\n[1465 rows x 2 columns]",
      "text/html": "<div>\n<style scoped>\n    .dataframe tbody tr th:only-of-type {\n        vertical-align: middle;\n    }\n\n    .dataframe tbody tr th {\n        vertical-align: top;\n    }\n\n    .dataframe thead th {\n        text-align: right;\n    }\n</style>\n<table border=\"1\" class=\"dataframe\">\n  <thead>\n    <tr style=\"text-align: right;\">\n      <th></th>\n      <th>user_id</th>\n      <th>user_name</th>\n    </tr>\n  </thead>\n  <tbody>\n    <tr>\n      <th>0</th>\n      <td>AGA2PZGWMQIRA46VYOTICFE7KCBA,AHI2QJ4CLTCQWACDI...</td>\n      <td>nilesh,EAGLE,Manoj KNS,Titus P.,Paras singla,a...</td>\n    </tr>\n    <tr>\n      <th>1</th>\n      <td>AGA2PZGWMQIRA46VYOTICFE7KCBA,AHI2QJ4CLTCQWACDI...</td>\n      <td>nilesh,EAGLE,Manoj KNS,Titus P.,Paras singla,a...</td>\n    </tr>\n    <tr>\n      <th>2</th>\n      <td>AGV3IEFANZCKECFGUM42MRH5FNOA,AEBO7NWCNXKT4AESA...</td>\n      <td>Azhar JuMan,Anirudh Sood,Hari Krishnan PS,Akas...</td>\n    </tr>\n    <tr>\n      <th>3</th>\n      <td>AG2ICOYPSOV5SGBKFEYHGKCNK7PA,AGJ3OQ4X262D3MAQZ...</td>\n      <td>T N Sivaji,Akku,V,Meet,MOHAMMED,Niranjan koyri...</td>\n    </tr>\n    <tr>\n      <th>4</th>\n      <td>AE6DY6YWTSSE3XNHDXZDGQM2JL2Q,AES3UPSNCD37JZLHZ...</td>\n      <td>Uday Joglekar,Simi Singh,Hi,chirag bansal,Swar...</td>\n    </tr>\n    <tr>\n      <th>...</th>\n      <td>...</td>\n      <td>...</td>\n    </tr>\n    <tr>\n      <th>1460</th>\n      <td>AFSZEPUJZUDS3NRVEAO5MHUCAEPA,AHU7IIQ2UVTKGV6WW...</td>\n      <td>Priti Sharma,ramya,Aman,ShashankVerma,Ved,Sush...</td>\n    </tr>\n    <tr>\n      <th>1461</th>\n      <td>AGHT3K4KSG5MAQUSXRDT5VNB73GA,AE4Q5XQ7SZW35EEUJ...</td>\n      <td>Manidipa Sengupta,Vidisha</td>\n    </tr>\n    <tr>\n      <th>1462</th>\n      <td>AGRJZJKWKIE573KM5FWPOH4F7YCA,AEHV4VOLDQX5XYA42...</td>\n      <td>Amazon Customer,Neha Mehta,Nischal Agarwal,tha...</td>\n    </tr>\n    <tr>\n      <th>1463</th>\n      <td>AGJC5O5H5BBXWUV7WRIEIOOR3TVQ</td>\n      <td>Abdul Gafur</td>\n    </tr>\n    <tr>\n      <th>1464</th>\n      <td>AEU7DVFEL43XZ6T4D572W2ZLBRKQ,AGWOH7CFDMUVW52NM...</td>\n      <td>Yogita g.,Amazon Customer,Mimsy</td>\n    </tr>\n  </tbody>\n</table>\n<p>1465 rows × 2 columns</p>\n</div>"
     },
     "execution_count": 159,
     "metadata": {},
     "output_type": "execute_result"
    }
   ],
   "source": [
    "#Subsetting Reviewers Identifications\n",
    "\n",
    "reviewers = dataset[['user_id','user_name']]\n",
    "reviewers"
   ],
   "metadata": {
    "collapsed": false,
    "ExecuteTime": {
     "end_time": "2023-10-27T08:31:06.402036Z",
     "start_time": "2023-10-27T08:31:06.349992Z"
    }
   },
   "id": "2ed798a8686bcf15"
  },
  {
   "cell_type": "code",
   "execution_count": 160,
   "outputs": [
    {
     "data": {
      "text/plain": "0       [AGA2PZGWMQIRA46VYOTICFE7KCBA, AHI2QJ4CLTCQWAC...\n1       [AGA2PZGWMQIRA46VYOTICFE7KCBA, AHI2QJ4CLTCQWAC...\n2       [AGV3IEFANZCKECFGUM42MRH5FNOA, AEBO7NWCNXKT4AE...\n3       [AG2ICOYPSOV5SGBKFEYHGKCNK7PA, AGJ3OQ4X262D3MA...\n4       [AE6DY6YWTSSE3XNHDXZDGQM2JL2Q, AES3UPSNCD37JZL...\n                              ...                        \n1460    [AFSZEPUJZUDS3NRVEAO5MHUCAEPA, AHU7IIQ2UVTKGV6...\n1461    [AGHT3K4KSG5MAQUSXRDT5VNB73GA, AE4Q5XQ7SZW35EE...\n1462    [AGRJZJKWKIE573KM5FWPOH4F7YCA, AEHV4VOLDQX5XYA...\n1463                       [AGJC5O5H5BBXWUV7WRIEIOOR3TVQ]\n1464    [AEU7DVFEL43XZ6T4D572W2ZLBRKQ, AGWOH7CFDMUVW52...\nName: user_id, Length: 1465, dtype: object"
     },
     "execution_count": 160,
     "metadata": {},
     "output_type": "execute_result"
    }
   ],
   "source": [
    "#Splitting the strings in user_id column\n",
    "\n",
    "reviewer_id_split = reviewers['user_id'].str.split(',', expand=False)\n",
    "\n",
    "reviewer_id_split"
   ],
   "metadata": {
    "collapsed": false,
    "ExecuteTime": {
     "end_time": "2023-10-27T08:31:06.402392Z",
     "start_time": "2023-10-27T08:31:06.356972Z"
    }
   },
   "id": "2bf508dbb012e162"
  },
  {
   "cell_type": "code",
   "execution_count": 161,
   "outputs": [
    {
     "data": {
      "text/plain": "0        AGA2PZGWMQIRA46VYOTICFE7KCBA\n1        AHI2QJ4CLTCQWACDIC2LDFJPDAPA\n2        AEXAFY7V2ZRZI2GD2J6KDOWBZUBQ\n3        AHAEBXTXQDY355AGFMFX3Z2VAAUQ\n4        AETRIARSUFSMNG5LFJZMW6CBJMMQ\n                     ...             \n11498    AHIRZ7N53BSLWFWNEUWYKT6NH6OQ\n11499    AGJC5O5H5BBXWUV7WRIEIOOR3TVQ\n11500    AEU7DVFEL43XZ6T4D572W2ZLBRKQ\n11501    AGWOH7CFDMUVW52NMZWQBKBNNQOA\n11502    AGZN422FGG7JO3T5YY6IVUELOODA\nName: user_id, Length: 11503, dtype: object"
     },
     "execution_count": 161,
     "metadata": {},
     "output_type": "execute_result"
    }
   ],
   "source": [
    "#Making user id display 1 id per row\n",
    "\n",
    "reviewer_id_exp = reviewer_id_split.explode()\n",
    "\n",
    "reviewer_id_clean = reviewer_id_exp.reset_index(drop=True)\n",
    "\n",
    "reviewer_id_clean"
   ],
   "metadata": {
    "collapsed": false,
    "ExecuteTime": {
     "end_time": "2023-10-27T08:31:06.402540Z",
     "start_time": "2023-10-27T08:31:06.360032Z"
    }
   },
   "id": "ec26b2ab3c7a0cdf"
  },
  {
   "cell_type": "code",
   "execution_count": 162,
   "outputs": [
    {
     "data": {
      "text/plain": "0       [nilesh, EAGLE, Manoj KNS, Titus P., Paras sin...\n1       [nilesh, EAGLE, Manoj KNS, Titus P., Paras sin...\n2       [Azhar JuMan, Anirudh Sood, Hari Krishnan PS, ...\n3       [T N Sivaji, Akku, V, Meet, MOHAMMED, Niranjan...\n4       [Uday Joglekar, Simi Singh, Hi, chirag bansal,...\n                              ...                        \n1460    [Priti Sharma, ramya, Aman, ShashankVerma, Ved...\n1461                         [Manidipa Sengupta, Vidisha]\n1462    [Amazon Customer, Neha Mehta, Nischal Agarwal,...\n1463                                        [Abdul Gafur]\n1464                  [Yogita g., Amazon Customer, Mimsy]\nName: user_name, Length: 1465, dtype: object"
     },
     "execution_count": 162,
     "metadata": {},
     "output_type": "execute_result"
    }
   ],
   "source": [
    "#Splitting the strings in user_name column\n",
    "\n",
    "reviewer_name_split = reviewers['user_name'].str.split(',', expand=False)\n",
    "\n",
    "reviewer_name_split"
   ],
   "metadata": {
    "collapsed": false,
    "ExecuteTime": {
     "end_time": "2023-10-27T08:31:06.455789Z",
     "start_time": "2023-10-27T08:31:06.366141Z"
    }
   },
   "id": "a3d5239777eb0ad6"
  },
  {
   "cell_type": "code",
   "execution_count": 163,
   "outputs": [
    {
     "data": {
      "text/plain": "0                 nilesh\n1                  EAGLE\n2              Manoj KNS\n3               Titus P.\n4           Paras singla\n              ...       \n11510        Kiran ahuja\n11511        Abdul Gafur\n11512          Yogita g.\n11513    Amazon Customer\n11514              Mimsy\nName: user_name, Length: 11515, dtype: object"
     },
     "execution_count": 163,
     "metadata": {},
     "output_type": "execute_result"
    }
   ],
   "source": [
    "#Making user name display 1 id per row\n",
    "\n",
    "review_name_exp = reviewer_name_split.explode()\n",
    "\n",
    "reviewer_name_clean = review_name_exp.reset_index(drop=True)\n",
    "\n",
    "reviewer_name_clean"
   ],
   "metadata": {
    "collapsed": false,
    "ExecuteTime": {
     "end_time": "2023-10-27T08:31:06.455994Z",
     "start_time": "2023-10-27T08:31:06.368501Z"
    }
   },
   "id": "e4515f51862af579"
  },
  {
   "cell_type": "code",
   "execution_count": 164,
   "outputs": [],
   "source": [
    "#Creating 2 Data Frames to be merged\n",
    "\n",
    "dataframe_review_id = pd.DataFrame(data=reviewer_id_clean)\n",
    "dataframe_review_name = pd.DataFrame(data=reviewer_name_clean)"
   ],
   "metadata": {
    "collapsed": false,
    "ExecuteTime": {
     "end_time": "2023-10-27T08:31:06.467330Z",
     "start_time": "2023-10-27T08:31:06.373509Z"
    }
   },
   "id": "7220a4fe4c081da7"
  },
  {
   "cell_type": "code",
   "execution_count": 165,
   "outputs": [],
   "source": [
    "#Merging the 2 dataframe containing user_id and user_name\n",
    "\n",
    "reviewer_id_name = pd.concat([dataframe_review_id, dataframe_review_name], axis=1)"
   ],
   "metadata": {
    "collapsed": false,
    "ExecuteTime": {
     "end_time": "2023-10-27T08:31:06.469182Z",
     "start_time": "2023-10-27T08:31:06.375734Z"
    }
   },
   "id": "35ad96f4cad31b7c"
  },
  {
   "cell_type": "code",
   "execution_count": 166,
   "outputs": [],
   "source": [
    "# store the new dataframe to a new csv file with the first row as header\n",
    "reviewer_id_name.to_csv('reviewer_id_name.csv', index=False, header=True)"
   ],
   "metadata": {
    "collapsed": false,
    "ExecuteTime": {
     "end_time": "2023-10-27T08:31:06.470120Z",
     "start_time": "2023-10-27T08:31:06.381119Z"
    }
   },
   "id": "63d98fbada7a338e"
  },
  {
   "cell_type": "code",
   "execution_count": 167,
   "outputs": [
    {
     "data": {
      "text/plain": "                        user_id     user_name\n0  AGA2PZGWMQIRA46VYOTICFE7KCBA        nilesh\n1  AHI2QJ4CLTCQWACDIC2LDFJPDAPA         EAGLE\n2  AEXAFY7V2ZRZI2GD2J6KDOWBZUBQ     Manoj KNS\n3  AHAEBXTXQDY355AGFMFX3Z2VAAUQ      Titus P.\n4  AETRIARSUFSMNG5LFJZMW6CBJMMQ  Paras singla",
      "text/html": "<div>\n<style scoped>\n    .dataframe tbody tr th:only-of-type {\n        vertical-align: middle;\n    }\n\n    .dataframe tbody tr th {\n        vertical-align: top;\n    }\n\n    .dataframe thead th {\n        text-align: right;\n    }\n</style>\n<table border=\"1\" class=\"dataframe\">\n  <thead>\n    <tr style=\"text-align: right;\">\n      <th></th>\n      <th>user_id</th>\n      <th>user_name</th>\n    </tr>\n  </thead>\n  <tbody>\n    <tr>\n      <th>0</th>\n      <td>AGA2PZGWMQIRA46VYOTICFE7KCBA</td>\n      <td>nilesh</td>\n    </tr>\n    <tr>\n      <th>1</th>\n      <td>AHI2QJ4CLTCQWACDIC2LDFJPDAPA</td>\n      <td>EAGLE</td>\n    </tr>\n    <tr>\n      <th>2</th>\n      <td>AEXAFY7V2ZRZI2GD2J6KDOWBZUBQ</td>\n      <td>Manoj KNS</td>\n    </tr>\n    <tr>\n      <th>3</th>\n      <td>AHAEBXTXQDY355AGFMFX3Z2VAAUQ</td>\n      <td>Titus P.</td>\n    </tr>\n    <tr>\n      <th>4</th>\n      <td>AETRIARSUFSMNG5LFJZMW6CBJMMQ</td>\n      <td>Paras singla</td>\n    </tr>\n  </tbody>\n</table>\n</div>"
     },
     "execution_count": 167,
     "metadata": {},
     "output_type": "execute_result"
    }
   ],
   "source": [
    "#Final Check for the new dataframe\n",
    "\n",
    "reviewer_id_name.head()"
   ],
   "metadata": {
    "collapsed": false,
    "ExecuteTime": {
     "end_time": "2023-10-27T08:31:06.470740Z",
     "start_time": "2023-10-27T08:31:06.393006Z"
    }
   },
   "id": "bc4eaa6bae0793d2"
  },
  {
   "cell_type": "markdown",
   "source": [
    "### New csv file with cleaned data\n"
   ],
   "metadata": {
    "collapsed": false
   },
   "id": "9a830ac2becea109"
  },
  {
   "cell_type": "code",
   "execution_count": 168,
   "outputs": [],
   "source": [
    "# export the cleaned dataset to a new csv file with the first row as header\n",
    "dataset.to_csv('Amazon_cleaned.csv', index=False, header=True)"
   ],
   "metadata": {
    "collapsed": false,
    "ExecuteTime": {
     "end_time": "2023-10-27T08:31:06.534905Z",
     "start_time": "2023-10-27T08:31:06.395599Z"
    }
   },
   "id": "b83905f1fbfaf3fd"
  },
  {
   "cell_type": "markdown",
   "source": [
    "# Part 4 - Exploration and Preparation:"
   ],
   "metadata": {
    "collapsed": false
   },
   "id": "92b7fd9600bfed56"
  },
  {
   "cell_type": "markdown",
   "source": [
    "## 1. Investigate the structure and shape of your dataset.\n"
   ],
   "metadata": {
    "collapsed": false
   },
   "id": "16956f7833935074"
  },
  {
   "cell_type": "markdown",
   "source": [
    "*Structure of Dataset*\n"
   ],
   "metadata": {
    "collapsed": false
   },
   "id": "cdce943dddaa8914"
  },
  {
   "cell_type": "code",
   "execution_count": 168,
   "outputs": [],
   "source": [
    "info = dataset.info()\n",
    "print(info)"
   ],
   "metadata": {
    "collapsed": false,
    "ExecuteTime": {
     "end_time": "2023-10-27T08:35:34.282396Z",
     "start_time": "2023-10-27T08:35:34.264348Z"
    }
   },
   "id": "1e8778a9c336cd77"
  },
  {
   "cell_type": "markdown",
   "source": [
    "*Data Shape (Rows & Columns)*"
   ],
   "metadata": {
    "collapsed": false
   },
   "id": "e6f3532ed30fc2a5"
  },
  {
   "cell_type": "code",
   "execution_count": null,
   "outputs": [],
   "source": [
    "shape = dataset.shape\n",
    "print(\"Rows:\", shape[0])\n",
    "print(\"Columns:\", shape[1])"
   ],
   "metadata": {
    "collapsed": false
   },
   "id": "dd27d061a19d5d7d"
  },
  {
   "cell_type": "markdown",
   "source": [
    "## 2. Explore the variables that the dataset has. How are they distributed?\n"
   ],
   "metadata": {
    "collapsed": false
   },
   "id": "5e5e214ba60d70f4"
  },
  {
   "cell_type": "markdown",
   "source": [
    "*Data Types*"
   ],
   "metadata": {
    "collapsed": false
   },
   "id": "5b64d717a96a0efc"
  },
  {
   "cell_type": "code",
   "execution_count": null,
   "outputs": [],
   "source": [
    "types = dataset.dtypes\n",
    "print(types)"
   ],
   "metadata": {
    "collapsed": false
   },
   "id": "4b7541ac04c08730"
  },
  {
   "cell_type": "markdown",
   "source": [
    "**Using describe() function to print the summary statistics to check data distribution**\n"
   ],
   "metadata": {
    "collapsed": false
   },
   "id": "6f6ecef99de0695b"
  },
  {
   "cell_type": "code",
   "execution_count": null,
   "outputs": [],
   "source": [
    "summary = dataset.describe()\n",
    "\n",
    "print(summary)"
   ],
   "metadata": {
    "collapsed": false
   },
   "id": "1faeadc34ad8f70a"
  },
  {
   "cell_type": "markdown",
   "source": [
    "## 3. Compute the mean, sum, range, and other interesting statistics for numeric\n",
    "columns."
   ],
   "metadata": {
    "collapsed": false
   },
   "id": "d0511fc0cfc7d370"
  },
  {
   "cell_type": "code",
   "execution_count": 169,
   "outputs": [
    {
     "name": "stdout",
     "output_type": "stream",
     "text": [
      "Mean Values of Columns: \n",
      "discounted_price        3125.310874\n",
      "actual_price            5444.990635\n",
      "discount_percentage        0.476915\n",
      "rating                     4.096519\n",
      "rating_count           18277.634812\n",
      "difference_price        2319.679761\n",
      "dtype: float64\n",
      "\n",
      "Sum Values of Columns: \n",
      "discounted_price        4578580.43\n",
      "actual_price            7976911.28\n",
      "discount_percentage         698.68\n",
      "rating                     6001.40\n",
      "rating_count           26776735.00\n",
      "difference_price        3398330.85\n",
      "dtype: float64\n",
      "\n",
      "Range of Columns: \n",
      "discounted_price        77951.00\n",
      "actual_price           139861.00\n",
      "discount_percentage         0.94\n",
      "rating                      3.00\n",
      "rating_count           426971.00\n",
      "difference_price        61910.00\n",
      "dtype: float64\n"
     ]
    }
   ],
   "source": [
    "numeric_columns = dataset.select_dtypes(include=['float64'])\n",
    "\n",
    "mean = numeric_columns.mean()\n",
    "sum = numeric_columns.sum()\n",
    "range = numeric_columns.max() - numeric_columns.min()\n",
    "\n",
    "print(\"Mean Values of Columns: \")\n",
    "print(mean)\n",
    "\n",
    "print(\"\\nSum Values of Columns: \")\n",
    "print(sum)\n",
    "\n",
    "print(\"\\nRange of Columns: \")\n",
    "print(range)"
   ],
   "metadata": {
    "collapsed": false,
    "ExecuteTime": {
     "end_time": "2023-10-27T08:39:27.517210Z",
     "start_time": "2023-10-27T08:39:27.482923Z"
    }
   },
   "id": "4f55d7e1fd293d9c"
  },
  {
   "cell_type": "markdown",
   "source": [
    "# 4. Explore distributions of numeric columns using histograms etc.\n"
   ],
   "metadata": {
    "collapsed": false
   },
   "id": "63979d2152b28958"
  },
  {
   "cell_type": "markdown",
   "source": [
    "### Histogram 1 - Discounted Price Distribution\n",
    "\n",
    "*   Column: 'discounted_price'"
   ],
   "metadata": {
    "collapsed": false
   },
   "id": "2b82bd33da396fd3"
  },
  {
   "cell_type": "code",
   "execution_count": 170,
   "outputs": [
    {
     "data": {
      "text/plain": "<Figure size 640x480 with 1 Axes>",
      "image/png": "[encoded data removed]"
     },
     "metadata": {},
     "output_type": "display_data"
    },
    {
     "data": {
      "text/plain": "<Figure size 800x500 with 0 Axes>"
     },
     "metadata": {},
     "output_type": "display_data"
    }
   ],
   "source": [
    "import matplotlib.pyplot as plt\n",
    "\n",
    "plt.hist(dataset['discounted_price'])\n",
    "plt.title(\"Discounted Price Distribution\")\n",
    "plt.xlabel('Discounted Price')\n",
    "plt.ylabel('Frequency')\n",
    "plt.figure(figsize=(8,5))\n",
    "\n",
    "plt.show()"
   ],
   "metadata": {
    "collapsed": false,
    "ExecuteTime": {
     "end_time": "2023-10-27T08:40:21.895399Z",
     "start_time": "2023-10-27T08:40:21.661516Z"
    }
   },
   "id": "229799b301e1879c"
  },
  {
   "cell_type": "markdown",
   "source": [
    "### Histogram 2 - Actual Price Distribution\n",
    "\n",
    "*   Column: 'actual_price'\n"
   ],
   "metadata": {
    "collapsed": false
   },
   "id": "5f193a5f37c5a96b"
  },
  {
   "cell_type": "code",
   "execution_count": 171,
   "outputs": [
    {
     "data": {
      "text/plain": "<Figure size 640x480 with 1 Axes>",
      "image/png": "[encoded data removed]"
     },
     "metadata": {},
     "output_type": "display_data"
    },
    {
     "data": {
      "text/plain": "<Figure size 800x500 with 0 Axes>"
     },
     "metadata": {},
     "output_type": "display_data"
    }
   ],
   "source": [
    "plt.hist(dataset['actual_price'])\n",
    "plt.title(\"Actual Price Distribution\")\n",
    "plt.xlabel('Actual Price')\n",
    "plt.ylabel('Frequency')\n",
    "plt.figure(figsize=(8,5))\n",
    "\n",
    "plt.show()"
   ],
   "metadata": {
    "collapsed": false,
    "ExecuteTime": {
     "end_time": "2023-10-27T08:40:48.990797Z",
     "start_time": "2023-10-27T08:40:48.896613Z"
    }
   },
   "id": "f1f7a3e5c01ef44"
  },
  {
   "cell_type": "markdown",
   "source": [
    "### Histogram 3 - Rating Count Distribution\n",
    "\n",
    "*   Column: 'rating_count'"
   ],
   "metadata": {
    "collapsed": false
   },
   "id": "5834ec27f263585e"
  },
  {
   "cell_type": "code",
   "execution_count": 172,
   "outputs": [
    {
     "data": {
      "text/plain": "<Figure size 640x480 with 1 Axes>",
      "image/png": "[encoded data removed]"
     },
     "metadata": {},
     "output_type": "display_data"
    },
    {
     "data": {
      "text/plain": "<Figure size 800x500 with 0 Axes>"
     },
     "metadata": {},
     "output_type": "display_data"
    }
   ],
   "source": [
    "plt.hist(dataset['rating_count'])\n",
    "plt.title(\"Rating Count Distribution\")\n",
    "plt.xlabel('Rating Count')\n",
    "plt.ylabel('Frequency')\n",
    "plt.figure(figsize=(8,5))\n",
    "\n",
    "plt.show()"
   ],
   "metadata": {
    "collapsed": false,
    "ExecuteTime": {
     "end_time": "2023-10-27T08:41:12.584359Z",
     "start_time": "2023-10-27T08:41:12.496782Z"
    }
   },
   "id": "b5870c6e80c9e085"
  },
  {
   "cell_type": "markdown",
   "source": [
    "### Explore relationship between columns using scatter plots, bar charts etc."
   ],
   "metadata": {
    "collapsed": false
   },
   "id": "a5a7da0125c4f4ce"
  },
  {
   "cell_type": "code",
   "execution_count": 173,
   "outputs": [
    {
     "ename": "KeyError",
     "evalue": "'category'",
     "output_type": "error",
     "traceback": [
      "\u001B[0;31m---------------------------------------------------------------------------\u001B[0m",
      "\u001B[0;31mKeyError\u001B[0m                                  Traceback (most recent call last)",
      "File \u001B[0;32m~/anaconda3/envs/DSPAssignment/lib/python3.11/site-packages/pandas/core/indexes/base.py:3790\u001B[0m, in \u001B[0;36mIndex.get_loc\u001B[0;34m(self, key)\u001B[0m\n\u001B[1;32m   3789\u001B[0m \u001B[38;5;28;01mtry\u001B[39;00m:\n\u001B[0;32m-> 3790\u001B[0m     \u001B[38;5;28;01mreturn\u001B[39;00m \u001B[38;5;28mself\u001B[39m\u001B[38;5;241m.\u001B[39m_engine\u001B[38;5;241m.\u001B[39mget_loc(casted_key)\n\u001B[1;32m   3791\u001B[0m \u001B[38;5;28;01mexcept\u001B[39;00m \u001B[38;5;167;01mKeyError\u001B[39;00m \u001B[38;5;28;01mas\u001B[39;00m err:\n",
      "File \u001B[0;32mindex.pyx:152\u001B[0m, in \u001B[0;36mpandas._libs.index.IndexEngine.get_loc\u001B[0;34m()\u001B[0m\n",
      "File \u001B[0;32mindex.pyx:181\u001B[0m, in \u001B[0;36mpandas._libs.index.IndexEngine.get_loc\u001B[0;34m()\u001B[0m\n",
      "File \u001B[0;32mpandas/_libs/hashtable_class_helper.pxi:7080\u001B[0m, in \u001B[0;36mpandas._libs.hashtable.PyObjectHashTable.get_item\u001B[0;34m()\u001B[0m\n",
      "File \u001B[0;32mpandas/_libs/hashtable_class_helper.pxi:7088\u001B[0m, in \u001B[0;36mpandas._libs.hashtable.PyObjectHashTable.get_item\u001B[0;34m()\u001B[0m\n",
      "\u001B[0;31mKeyError\u001B[0m: 'category'",
      "\nThe above exception was the direct cause of the following exception:\n",
      "\u001B[0;31mKeyError\u001B[0m                                  Traceback (most recent call last)",
      "Cell \u001B[0;32mIn[173], line 1\u001B[0m\n\u001B[0;32m----> 1\u001B[0m categories \u001B[38;5;241m=\u001B[39m dataset[\u001B[38;5;124m'\u001B[39m\u001B[38;5;124mcategory\u001B[39m\u001B[38;5;124m'\u001B[39m]\u001B[38;5;241m.\u001B[39munique()\n\u001B[1;32m      2\u001B[0m \u001B[38;5;66;03m# add rating count  on the category to a list\u001B[39;00m\n\u001B[1;32m      3\u001B[0m rating_count \u001B[38;5;241m=\u001B[39m []\n",
      "File \u001B[0;32m~/anaconda3/envs/DSPAssignment/lib/python3.11/site-packages/pandas/core/frame.py:3896\u001B[0m, in \u001B[0;36mDataFrame.__getitem__\u001B[0;34m(self, key)\u001B[0m\n\u001B[1;32m   3894\u001B[0m \u001B[38;5;28;01mif\u001B[39;00m \u001B[38;5;28mself\u001B[39m\u001B[38;5;241m.\u001B[39mcolumns\u001B[38;5;241m.\u001B[39mnlevels \u001B[38;5;241m>\u001B[39m \u001B[38;5;241m1\u001B[39m:\n\u001B[1;32m   3895\u001B[0m     \u001B[38;5;28;01mreturn\u001B[39;00m \u001B[38;5;28mself\u001B[39m\u001B[38;5;241m.\u001B[39m_getitem_multilevel(key)\n\u001B[0;32m-> 3896\u001B[0m indexer \u001B[38;5;241m=\u001B[39m \u001B[38;5;28mself\u001B[39m\u001B[38;5;241m.\u001B[39mcolumns\u001B[38;5;241m.\u001B[39mget_loc(key)\n\u001B[1;32m   3897\u001B[0m \u001B[38;5;28;01mif\u001B[39;00m is_integer(indexer):\n\u001B[1;32m   3898\u001B[0m     indexer \u001B[38;5;241m=\u001B[39m [indexer]\n",
      "File \u001B[0;32m~/anaconda3/envs/DSPAssignment/lib/python3.11/site-packages/pandas/core/indexes/base.py:3797\u001B[0m, in \u001B[0;36mIndex.get_loc\u001B[0;34m(self, key)\u001B[0m\n\u001B[1;32m   3792\u001B[0m     \u001B[38;5;28;01mif\u001B[39;00m \u001B[38;5;28misinstance\u001B[39m(casted_key, \u001B[38;5;28mslice\u001B[39m) \u001B[38;5;129;01mor\u001B[39;00m (\n\u001B[1;32m   3793\u001B[0m         \u001B[38;5;28misinstance\u001B[39m(casted_key, abc\u001B[38;5;241m.\u001B[39mIterable)\n\u001B[1;32m   3794\u001B[0m         \u001B[38;5;129;01mand\u001B[39;00m \u001B[38;5;28many\u001B[39m(\u001B[38;5;28misinstance\u001B[39m(x, \u001B[38;5;28mslice\u001B[39m) \u001B[38;5;28;01mfor\u001B[39;00m x \u001B[38;5;129;01min\u001B[39;00m casted_key)\n\u001B[1;32m   3795\u001B[0m     ):\n\u001B[1;32m   3796\u001B[0m         \u001B[38;5;28;01mraise\u001B[39;00m InvalidIndexError(key)\n\u001B[0;32m-> 3797\u001B[0m     \u001B[38;5;28;01mraise\u001B[39;00m \u001B[38;5;167;01mKeyError\u001B[39;00m(key) \u001B[38;5;28;01mfrom\u001B[39;00m \u001B[38;5;21;01merr\u001B[39;00m\n\u001B[1;32m   3798\u001B[0m \u001B[38;5;28;01mexcept\u001B[39;00m \u001B[38;5;167;01mTypeError\u001B[39;00m:\n\u001B[1;32m   3799\u001B[0m     \u001B[38;5;66;03m# If we have a listlike key, _check_indexing_error will raise\u001B[39;00m\n\u001B[1;32m   3800\u001B[0m     \u001B[38;5;66;03m#  InvalidIndexError. Otherwise we fall through and re-raise\u001B[39;00m\n\u001B[1;32m   3801\u001B[0m     \u001B[38;5;66;03m#  the TypeError.\u001B[39;00m\n\u001B[1;32m   3802\u001B[0m     \u001B[38;5;28mself\u001B[39m\u001B[38;5;241m.\u001B[39m_check_indexing_error(key)\n",
      "\u001B[0;31mKeyError\u001B[0m: 'category'"
     ]
    }
   ],
   "source": [],
   "metadata": {
    "collapsed": false,
    "ExecuteTime": {
     "end_time": "2023-10-27T08:44:46.020209Z",
     "start_time": "2023-10-27T08:44:45.001733Z"
    }
   },
   "id": "33ea5dd242672d"
  },
  {
   "cell_type": "code",
   "execution_count": null,
   "outputs": [],
   "source": [],
   "metadata": {
    "collapsed": false
   },
   "id": "ce30853691fecdb4"
  }
 ],
 "metadata": {
  "kernelspec": {
   "display_name": "Python 3",
   "language": "python",
   "name": "python3"
  },
  "language_info": {
   "codemirror_mode": {
    "name": "ipython",
    "version": 2
   },
   "file_extension": ".py",
   "mimetype": "text/x-python",
   "name": "python",
   "nbconvert_exporter": "python",
   "pygments_lexer": "ipython2",
   "version": "2.7.6"
  }
 },
 "nbformat": 4,
 "nbformat_minor": 5
}