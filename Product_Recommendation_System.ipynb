{
 "cells": [
  {
   "cell_type": "markdown",
   "source": [
    "# Import & Clean Dataset\n"
   ],
   "metadata": {
    "collapsed": false
   },
   "id": "2927de50831dee31"
  },
  {
   "cell_type": "code",
   "execution_count": 4,
   "outputs": [
    {
     "data": {
      "text/plain": "   product_id                                       product_name  \\\n0  B002PD61Y4  D-Link DWA-131 300 Mbps Wireless Nano USB Adap...   \n1  B002PD61Y4  D-Link DWA-131 300 Mbps Wireless Nano USB Adap...   \n2  B002SZEOLG  TP-Link Nano USB WiFi Dongle 150Mbps High Gain...   \n3  B003B00484  Duracell Plus AAA Rechargeable Batteries (750 ...   \n4  B003L62T7W  Logitech B100 Wired USB Mouse, 3 yr Warranty, ...   \n\n                                            category discounted_price  \\\n0  Computers&Accessories|NetworkingDevices|Networ...             ₹507   \n1  Computers&Accessories|NetworkingDevices|Networ...             ₹507   \n2  Computers&Accessories|NetworkingDevices|Networ...             ₹749   \n3  Electronics|GeneralPurposeBatteries&BatteryCha...             ₹399   \n4  Computers&Accessories|Accessories&Peripherals|...             ₹279   \n\n  actual_price discount_percentage rating rating_count  \\\n0       ₹1,208                 58%    4.1        8,131   \n1       ₹1,208                 58%    4.1        8,131   \n2       ₹1,339                 44%    4.2     1,79,692   \n3         ₹499                 20%    4.3       27,201   \n4         ₹375                 26%    4.3       31,534   \n\n                                       about_product  \\\n0  Connects your computer to a high-speed wireles...   \n1  Connects your computer to a high-speed wireles...   \n2  150 Mbps Wi-Fi —— Exceptional wireless speed u...   \n3  Duracell Rechargeable AAA 750mAh batteries sta...   \n4  A comfortable, ambidextrous shape feels good i...   \n\n                                             user_id  \\\n0  AGA2PZGWMQIRA46VYOTICFE7KCBA,AHI2QJ4CLTCQWACDI...   \n1  AGA2PZGWMQIRA46VYOTICFE7KCBA,AHI2QJ4CLTCQWACDI...   \n2  AGV3IEFANZCKECFGUM42MRH5FNOA,AEBO7NWCNXKT4AESA...   \n3  AG2ICOYPSOV5SGBKFEYHGKCNK7PA,AGJ3OQ4X262D3MAQZ...   \n4  AE6DY6YWTSSE3XNHDXZDGQM2JL2Q,AES3UPSNCD37JZLHZ...   \n\n                                           user_name  \\\n0  nilesh,EAGLE,Manoj KNS,Titus P.,Paras singla,a...   \n1  nilesh,EAGLE,Manoj KNS,Titus P.,Paras singla,a...   \n2  Azhar JuMan,Anirudh Sood,Hari Krishnan PS,Akas...   \n3  T N Sivaji,Akku,V,Meet,MOHAMMED,Niranjan koyri...   \n4  Uday Joglekar,Simi Singh,Hi,chirag bansal,Swar...   \n\n                                           review_id  \\\n0  R2EJIN3N3L3XKI,R2JMJ8QNG66LV4,R3B46JNPC2T4E7,R...   \n1  R2EJIN3N3L3XKI,R2JMJ8QNG66LV4,R3B46JNPC2T4E7,R...   \n2  R1LW6NWSVTVZ2H,R3VR5WFKUS15C5,R2F6GC79OYWUKQ,R...   \n3  R5L3FAFS6JXJF,R1VTQ25LXQX5UD,R6RJYAZUM5240,R1S...   \n4  R3U9FRV2Q625DO,R3EJZ83W9OHW3D,RSH53O0JL66NL,R3...   \n\n                                        review_title  \\\n0  good tool to use for,Brand is always good,Over...   \n1  good tool to use for,Brand is always good,Over...   \n2  Works on linux for me. Get the model with ante...   \n3  Works Good,Perfect replacement cell for trimme...   \n4  Handy Mouse,Good quality mouse,Good one.,Good,...   \n\n                                      review_content  \\\n0  good quality tool from d linkWiFi signal is go...   \n1  good quality tool from d linkWiFi signal is go...   \n2  I use this to connect an old PC to internet. I...   \n3  Works good,Bought it to replace my Phillips QT...   \n4  Liked this Product,https://m.media-amazon.com/...   \n\n                                            img_link  \\\n0  https://m.media-amazon.com/images/I/31+NwZ8gb1...   \n1  https://m.media-amazon.com/images/W/WEBP_40237...   \n2  https://m.media-amazon.com/images/I/31Wb+A3VVd...   \n3  https://m.media-amazon.com/images/I/418YrbHVLC...   \n4  https://m.media-amazon.com/images/I/31iFF1Kbkp...   \n\n                                        product_link  \n0  https://www.amazon.in/D-Link-DWA-131-Wireless-...  \n1  https://www.amazon.in/D-Link-DWA-131-Wireless-...  \n2  https://www.amazon.in/TP-Link-TL-WN722N-150Mbp...  \n3  https://www.amazon.in/Duracell-AAA-750mAh-Rech...  \n4  https://www.amazon.in/Logitech-B100-Optical-Mo...  ",
      "text/html": "<div>\n<style scoped>\n    .dataframe tbody tr th:only-of-type {\n        vertical-align: middle;\n    }\n\n    .dataframe tbody tr th {\n        vertical-align: top;\n    }\n\n    .dataframe thead th {\n        text-align: right;\n    }\n</style>\n<table border=\"1\" class=\"dataframe\">\n  <thead>\n    <tr style=\"text-align: right;\">\n      <th></th>\n      <th>product_id</th>\n      <th>product_name</th>\n      <th>category</th>\n      <th>discounted_price</th>\n      <th>actual_price</th>\n      <th>discount_percentage</th>\n      <th>rating</th>\n      <th>rating_count</th>\n      <th>about_product</th>\n      <th>user_id</th>\n      <th>user_name</th>\n      <th>review_id</th>\n      <th>review_title</th>\n      <th>review_content</th>\n      <th>img_link</th>\n      <th>product_link</th>\n    </tr>\n  </thead>\n  <tbody>\n    <tr>\n      <th>0</th>\n      <td>B002PD61Y4</td>\n      <td>D-Link DWA-131 300 Mbps Wireless Nano USB Adap...</td>\n      <td>Computers&amp;Accessories|NetworkingDevices|Networ...</td>\n      <td>₹507</td>\n      <td>₹1,208</td>\n      <td>58%</td>\n      <td>4.1</td>\n      <td>8,131</td>\n      <td>Connects your computer to a high-speed wireles...</td>\n      <td>AGA2PZGWMQIRA46VYOTICFE7KCBA,AHI2QJ4CLTCQWACDI...</td>\n      <td>nilesh,EAGLE,Manoj KNS,Titus P.,Paras singla,a...</td>\n      <td>R2EJIN3N3L3XKI,R2JMJ8QNG66LV4,R3B46JNPC2T4E7,R...</td>\n      <td>good tool to use for,Brand is always good,Over...</td>\n      <td>good quality tool from d linkWiFi signal is go...</td>\n      <td>https://m.media-amazon.com/images/I/31+NwZ8gb1...</td>\n      <td>https://www.amazon.in/D-Link-DWA-131-Wireless-...</td>\n    </tr>\n    <tr>\n      <th>1</th>\n      <td>B002PD61Y4</td>\n      <td>D-Link DWA-131 300 Mbps Wireless Nano USB Adap...</td>\n      <td>Computers&amp;Accessories|NetworkingDevices|Networ...</td>\n      <td>₹507</td>\n      <td>₹1,208</td>\n      <td>58%</td>\n      <td>4.1</td>\n      <td>8,131</td>\n      <td>Connects your computer to a high-speed wireles...</td>\n      <td>AGA2PZGWMQIRA46VYOTICFE7KCBA,AHI2QJ4CLTCQWACDI...</td>\n      <td>nilesh,EAGLE,Manoj KNS,Titus P.,Paras singla,a...</td>\n      <td>R2EJIN3N3L3XKI,R2JMJ8QNG66LV4,R3B46JNPC2T4E7,R...</td>\n      <td>good tool to use for,Brand is always good,Over...</td>\n      <td>good quality tool from d linkWiFi signal is go...</td>\n      <td>https://m.media-amazon.com/images/W/WEBP_40237...</td>\n      <td>https://www.amazon.in/D-Link-DWA-131-Wireless-...</td>\n    </tr>\n    <tr>\n      <th>2</th>\n      <td>B002SZEOLG</td>\n      <td>TP-Link Nano USB WiFi Dongle 150Mbps High Gain...</td>\n      <td>Computers&amp;Accessories|NetworkingDevices|Networ...</td>\n      <td>₹749</td>\n      <td>₹1,339</td>\n      <td>44%</td>\n      <td>4.2</td>\n      <td>1,79,692</td>\n      <td>150 Mbps Wi-Fi —— Exceptional wireless speed u...</td>\n      <td>AGV3IEFANZCKECFGUM42MRH5FNOA,AEBO7NWCNXKT4AESA...</td>\n      <td>Azhar JuMan,Anirudh Sood,Hari Krishnan PS,Akas...</td>\n      <td>R1LW6NWSVTVZ2H,R3VR5WFKUS15C5,R2F6GC79OYWUKQ,R...</td>\n      <td>Works on linux for me. Get the model with ante...</td>\n      <td>I use this to connect an old PC to internet. I...</td>\n      <td>https://m.media-amazon.com/images/I/31Wb+A3VVd...</td>\n      <td>https://www.amazon.in/TP-Link-TL-WN722N-150Mbp...</td>\n    </tr>\n    <tr>\n      <th>3</th>\n      <td>B003B00484</td>\n      <td>Duracell Plus AAA Rechargeable Batteries (750 ...</td>\n      <td>Electronics|GeneralPurposeBatteries&amp;BatteryCha...</td>\n      <td>₹399</td>\n      <td>₹499</td>\n      <td>20%</td>\n      <td>4.3</td>\n      <td>27,201</td>\n      <td>Duracell Rechargeable AAA 750mAh batteries sta...</td>\n      <td>AG2ICOYPSOV5SGBKFEYHGKCNK7PA,AGJ3OQ4X262D3MAQZ...</td>\n      <td>T N Sivaji,Akku,V,Meet,MOHAMMED,Niranjan koyri...</td>\n      <td>R5L3FAFS6JXJF,R1VTQ25LXQX5UD,R6RJYAZUM5240,R1S...</td>\n      <td>Works Good,Perfect replacement cell for trimme...</td>\n      <td>Works good,Bought it to replace my Phillips QT...</td>\n      <td>https://m.media-amazon.com/images/I/418YrbHVLC...</td>\n      <td>https://www.amazon.in/Duracell-AAA-750mAh-Rech...</td>\n    </tr>\n    <tr>\n      <th>4</th>\n      <td>B003L62T7W</td>\n      <td>Logitech B100 Wired USB Mouse, 3 yr Warranty, ...</td>\n      <td>Computers&amp;Accessories|Accessories&amp;Peripherals|...</td>\n      <td>₹279</td>\n      <td>₹375</td>\n      <td>26%</td>\n      <td>4.3</td>\n      <td>31,534</td>\n      <td>A comfortable, ambidextrous shape feels good i...</td>\n      <td>AE6DY6YWTSSE3XNHDXZDGQM2JL2Q,AES3UPSNCD37JZLHZ...</td>\n      <td>Uday Joglekar,Simi Singh,Hi,chirag bansal,Swar...</td>\n      <td>R3U9FRV2Q625DO,R3EJZ83W9OHW3D,RSH53O0JL66NL,R3...</td>\n      <td>Handy Mouse,Good quality mouse,Good one.,Good,...</td>\n      <td>Liked this Product,https://m.media-amazon.com/...</td>\n      <td>https://m.media-amazon.com/images/I/31iFF1Kbkp...</td>\n      <td>https://www.amazon.in/Logitech-B100-Optical-Mo...</td>\n    </tr>\n  </tbody>\n</table>\n</div>"
     },
     "execution_count": 4,
     "metadata": {},
     "output_type": "execute_result"
    }
   ],
   "source": [
    "import pandas as pd\n",
    "dataset = pd.read_csv('Amazon.csv')\n",
    "dataset.head()"
   ],
   "metadata": {
    "collapsed": false,
    "ExecuteTime": {
     "end_time": "2023-10-27T08:59:12.191291Z",
     "start_time": "2023-10-27T08:59:11.777275Z"
    }
   },
   "id": "247138d0e093a7ce"
  },
  {
   "cell_type": "code",
   "execution_count": 5,
   "outputs": [
    {
     "data": {
      "text/plain": "product_id             0\nproduct_name           0\ncategory               0\ndiscounted_price       0\nactual_price           0\ndiscount_percentage    0\nrating                 0\nrating_count           2\nabout_product          0\nuser_id                0\nuser_name              0\nreview_id              0\nreview_title           0\nreview_content         0\nimg_link               0\nproduct_link           0\ndtype: int64"
     },
     "execution_count": 5,
     "metadata": {},
     "output_type": "execute_result"
    }
   ],
   "source": [
    "# check for null values\n",
    "dataset.isnull().sum()"
   ],
   "metadata": {
    "collapsed": false,
    "ExecuteTime": {
     "end_time": "2023-10-27T08:59:12.197083Z",
     "start_time": "2023-10-27T08:59:12.194273Z"
    }
   },
   "id": "5457db51fdb3a2e3"
  },
  {
   "cell_type": "code",
   "execution_count": 6,
   "outputs": [
    {
     "data": {
      "text/plain": "0"
     },
     "execution_count": 6,
     "metadata": {},
     "output_type": "execute_result"
    }
   ],
   "source": [
    "# check for duplicate values\n",
    "dataset.duplicated().sum()"
   ],
   "metadata": {
    "collapsed": false,
    "ExecuteTime": {
     "end_time": "2023-10-27T08:59:12.218686Z",
     "start_time": "2023-10-27T08:59:12.198579Z"
    }
   },
   "id": "ac8f1f0277696d41"
  },
  {
   "cell_type": "code",
   "execution_count": 7,
   "outputs": [
    {
     "data": {
      "text/plain": "0"
     },
     "execution_count": 7,
     "metadata": {},
     "output_type": "execute_result"
    }
   ],
   "source": [
    "# convert the rating_count from string to float\n",
    "dataset['rating_count'] = dataset['rating_count'].str.replace(',', '')\n",
    "dataset['rating_count'] = dataset['rating_count'].astype(float)\n",
    "# Filling in missing data for rating_count\n",
    "dataset['rating_count'].fillna(dataset['rating_count'].median(), inplace=True)\n",
    "dataset['rating_count'].isnull().sum()"
   ],
   "metadata": {
    "collapsed": false,
    "ExecuteTime": {
     "end_time": "2023-10-27T08:59:12.252258Z",
     "start_time": "2023-10-27T08:59:12.217502Z"
    }
   },
   "id": "3addab5004fcf5d2"
  },
  {
   "cell_type": "code",
   "execution_count": 8,
   "outputs": [],
   "source": [
    "#Changing the data type of discounted price and actual price\n",
    "\n",
    "dataset['discounted_price'] = dataset['discounted_price'].str.replace(\"₹\",'')\n",
    "dataset['discounted_price'] = dataset['discounted_price'].str.replace(\",\",'')\n",
    "dataset['discounted_price'] = dataset['discounted_price'].astype('float64')\n",
    "\n",
    "dataset['actual_price'] = dataset['actual_price'].str.replace(\"₹\",'')\n",
    "dataset['actual_price'] = dataset['actual_price'].str.replace(\",\",'')\n",
    "dataset['actual_price'] = dataset['actual_price'].astype('float64')"
   ],
   "metadata": {
    "collapsed": false,
    "ExecuteTime": {
     "end_time": "2023-10-27T08:59:12.272397Z",
     "start_time": "2023-10-27T08:59:12.223410Z"
    }
   },
   "id": "620d8ea821cf090f"
  },
  {
   "cell_type": "code",
   "execution_count": 9,
   "outputs": [
    {
     "data": {
      "text/plain": "0       0.58\n1       0.58\n2       0.44\n3       0.20\n4       0.26\n        ... \n1460    0.74\n1461    0.48\n1462    0.44\n1463    0.75\n1464    0.28\nName: discount_percentage, Length: 1465, dtype: float64"
     },
     "execution_count": 9,
     "metadata": {},
     "output_type": "execute_result"
    }
   ],
   "source": [
    "#Changing Datatype and values in Discount Percentage\n",
    "\n",
    "dataset['discount_percentage'] = dataset['discount_percentage'].str.replace('%','').astype('float64')\n",
    "\n",
    "dataset['discount_percentage'] = dataset['discount_percentage'] / 100\n",
    "\n",
    "dataset['discount_percentage']"
   ],
   "metadata": {
    "collapsed": false,
    "ExecuteTime": {
     "end_time": "2023-10-27T08:59:12.277032Z",
     "start_time": "2023-10-27T08:59:12.224756Z"
    }
   },
   "id": "c752bfd5a433793f"
  },
  {
   "cell_type": "code",
   "execution_count": 10,
   "outputs": [
    {
     "data": {
      "text/plain": "     product_id                                       product_name  \\\n720  B08L12N5H1  Eureka Forbes car Vac 100 Watts Powerful Sucti...   \n\n                                              category  discounted_price  \\\n720  Home&Kitchen|Kitchen&HomeAppliances|Vacuum,Cle...            2099.0   \n\n     actual_price  discount_percentage rating  rating_count  \\\n720        2499.0                 0.16      |         992.0   \n\n                                         about_product  \\\n720  No Installation is provided for this product|1...   \n\n                                               user_id  \\\n720  AGTDSNT2FKVYEPDPXAA673AIS44A,AER2XFSWNN4LAUCJ5...   \n\n                                             user_name  \\\n720  Divya,Dr Nefario,Deekshith,Preeti,Prasanth R,P...   \n\n                                             review_id  \\\n720  R2KKTKM4M9RDVJ,R1O692MZOBTE79,R2WRSEWL56SOS4,R...   \n\n                                          review_title  \\\n720  Decent product,doesn't pick up sand,Ok ok,Must...   \n\n                                        review_content  \\\n720  Does the job well,doesn't work on sand. though...   \n\n                                              img_link  \\\n720  https://m.media-amazon.com/images/W/WEBP_40237...   \n\n                                          product_link  \n720  https://www.amazon.in/Eureka-Forbes-Vacuum-Cle...  ",
      "text/html": "<div>\n<style scoped>\n    .dataframe tbody tr th:only-of-type {\n        vertical-align: middle;\n    }\n\n    .dataframe tbody tr th {\n        vertical-align: top;\n    }\n\n    .dataframe thead th {\n        text-align: right;\n    }\n</style>\n<table border=\"1\" class=\"dataframe\">\n  <thead>\n    <tr style=\"text-align: right;\">\n      <th></th>\n      <th>product_id</th>\n      <th>product_name</th>\n      <th>category</th>\n      <th>discounted_price</th>\n      <th>actual_price</th>\n      <th>discount_percentage</th>\n      <th>rating</th>\n      <th>rating_count</th>\n      <th>about_product</th>\n      <th>user_id</th>\n      <th>user_name</th>\n      <th>review_id</th>\n      <th>review_title</th>\n      <th>review_content</th>\n      <th>img_link</th>\n      <th>product_link</th>\n    </tr>\n  </thead>\n  <tbody>\n    <tr>\n      <th>720</th>\n      <td>B08L12N5H1</td>\n      <td>Eureka Forbes car Vac 100 Watts Powerful Sucti...</td>\n      <td>Home&amp;Kitchen|Kitchen&amp;HomeAppliances|Vacuum,Cle...</td>\n      <td>2099.0</td>\n      <td>2499.0</td>\n      <td>0.16</td>\n      <td>|</td>\n      <td>992.0</td>\n      <td>No Installation is provided for this product|1...</td>\n      <td>AGTDSNT2FKVYEPDPXAA673AIS44A,AER2XFSWNN4LAUCJ5...</td>\n      <td>Divya,Dr Nefario,Deekshith,Preeti,Prasanth R,P...</td>\n      <td>R2KKTKM4M9RDVJ,R1O692MZOBTE79,R2WRSEWL56SOS4,R...</td>\n      <td>Decent product,doesn't pick up sand,Ok ok,Must...</td>\n      <td>Does the job well,doesn't work on sand. though...</td>\n      <td>https://m.media-amazon.com/images/W/WEBP_40237...</td>\n      <td>https://www.amazon.in/Eureka-Forbes-Vacuum-Cle...</td>\n    </tr>\n  </tbody>\n</table>\n</div>"
     },
     "execution_count": 10,
     "metadata": {},
     "output_type": "execute_result"
    }
   ],
   "source": [
    "#Finding unusual string in the rating column\n",
    "\n",
    "dataset['rating'].value_counts()\n",
    "dataset.query('rating == \"|\"')"
   ],
   "metadata": {
    "collapsed": false,
    "ExecuteTime": {
     "end_time": "2023-10-27T08:59:12.280105Z",
     "start_time": "2023-10-27T08:59:12.229956Z"
    }
   },
   "id": "42c0fa194d05a6f6"
  },
  {
   "cell_type": "code",
   "execution_count": 11,
   "outputs": [],
   "source": [
    "#Removing the unusual string in the rating column\n",
    "dataset['rating'] = dataset['rating'].str.replace('|', '4.0').astype('float64')\n",
    "# Creating the column \"rating_weighted\"\n",
    "dataset['rating_weighted'] = dataset['rating'] * dataset['rating_count']"
   ],
   "metadata": {
    "collapsed": false,
    "ExecuteTime": {
     "end_time": "2023-10-27T08:59:12.316337Z",
     "start_time": "2023-10-27T08:59:12.236253Z"
    }
   },
   "id": "b902deb24010081"
  },
  {
   "cell_type": "code",
   "execution_count": 12,
   "outputs": [],
   "source": [
    "category_split = dataset['category'].str.split('|', expand=True)\n",
    "category_split\n",
    "category_split = category_split.rename(columns={0:'Main Category', 1:'Sub Category', 2:'Sub Category 2'})"
   ],
   "metadata": {
    "collapsed": false,
    "ExecuteTime": {
     "end_time": "2023-10-27T08:59:12.325017Z",
     "start_time": "2023-10-27T08:59:12.243331Z"
    }
   },
   "id": "e1d3983615a7d613"
  },
  {
   "cell_type": "code",
   "execution_count": 13,
   "outputs": [
    {
     "data": {
      "text/plain": "   product_id                                       product_name  \\\n0  B002PD61Y4  D-Link DWA-131 300 Mbps Wireless Nano USB Adap...   \n1  B002PD61Y4  D-Link DWA-131 300 Mbps Wireless Nano USB Adap...   \n2  B002SZEOLG  TP-Link Nano USB WiFi Dongle 150Mbps High Gain...   \n3  B003B00484  Duracell Plus AAA Rechargeable Batteries (750 ...   \n4  B003L62T7W  Logitech B100 Wired USB Mouse, 3 yr Warranty, ...   \n\n   discounted_price  actual_price  discount_percentage  rating  rating_count  \\\n0             507.0        1208.0                 0.58     4.1        8131.0   \n1             507.0        1208.0                 0.58     4.1        8131.0   \n2             749.0        1339.0                 0.44     4.2      179692.0   \n3             399.0         499.0                 0.20     4.3       27201.0   \n4             279.0         375.0                 0.26     4.3       31534.0   \n\n                                       about_product  \\\n0  Connects your computer to a high-speed wireles...   \n1  Connects your computer to a high-speed wireles...   \n2  150 Mbps Wi-Fi —— Exceptional wireless speed u...   \n3  Duracell Rechargeable AAA 750mAh batteries sta...   \n4  A comfortable, ambidextrous shape feels good i...   \n\n                                             user_id  \\\n0  AGA2PZGWMQIRA46VYOTICFE7KCBA,AHI2QJ4CLTCQWACDI...   \n1  AGA2PZGWMQIRA46VYOTICFE7KCBA,AHI2QJ4CLTCQWACDI...   \n2  AGV3IEFANZCKECFGUM42MRH5FNOA,AEBO7NWCNXKT4AESA...   \n3  AG2ICOYPSOV5SGBKFEYHGKCNK7PA,AGJ3OQ4X262D3MAQZ...   \n4  AE6DY6YWTSSE3XNHDXZDGQM2JL2Q,AES3UPSNCD37JZLHZ...   \n\n                                           user_name  \\\n0  nilesh,EAGLE,Manoj KNS,Titus P.,Paras singla,a...   \n1  nilesh,EAGLE,Manoj KNS,Titus P.,Paras singla,a...   \n2  Azhar JuMan,Anirudh Sood,Hari Krishnan PS,Akas...   \n3  T N Sivaji,Akku,V,Meet,MOHAMMED,Niranjan koyri...   \n4  Uday Joglekar,Simi Singh,Hi,chirag bansal,Swar...   \n\n                                           review_id  \\\n0  R2EJIN3N3L3XKI,R2JMJ8QNG66LV4,R3B46JNPC2T4E7,R...   \n1  R2EJIN3N3L3XKI,R2JMJ8QNG66LV4,R3B46JNPC2T4E7,R...   \n2  R1LW6NWSVTVZ2H,R3VR5WFKUS15C5,R2F6GC79OYWUKQ,R...   \n3  R5L3FAFS6JXJF,R1VTQ25LXQX5UD,R6RJYAZUM5240,R1S...   \n4  R3U9FRV2Q625DO,R3EJZ83W9OHW3D,RSH53O0JL66NL,R3...   \n\n                                        review_title  \\\n0  good tool to use for,Brand is always good,Over...   \n1  good tool to use for,Brand is always good,Over...   \n2  Works on linux for me. Get the model with ante...   \n3  Works Good,Perfect replacement cell for trimme...   \n4  Handy Mouse,Good quality mouse,Good one.,Good,...   \n\n                                      review_content  \\\n0  good quality tool from d linkWiFi signal is go...   \n1  good quality tool from d linkWiFi signal is go...   \n2  I use this to connect an old PC to internet. I...   \n3  Works good,Bought it to replace my Phillips QT...   \n4  Liked this Product,https://m.media-amazon.com/...   \n\n                                            img_link  \\\n0  https://m.media-amazon.com/images/I/31+NwZ8gb1...   \n1  https://m.media-amazon.com/images/W/WEBP_40237...   \n2  https://m.media-amazon.com/images/I/31Wb+A3VVd...   \n3  https://m.media-amazon.com/images/I/418YrbHVLC...   \n4  https://m.media-amazon.com/images/I/31iFF1Kbkp...   \n\n                                        product_link  rating_weighted  \\\n0  https://www.amazon.in/D-Link-DWA-131-Wireless-...          33337.1   \n1  https://www.amazon.in/D-Link-DWA-131-Wireless-...          33337.1   \n2  https://www.amazon.in/TP-Link-TL-WN722N-150Mbp...         754706.4   \n3  https://www.amazon.in/Duracell-AAA-750mAh-Rech...         116964.3   \n4  https://www.amazon.in/Logitech-B100-Optical-Mo...         135596.2   \n\n           Main Category                             Sub Category  \n0  Computers&Accessories                        NetworkingDevices  \n1  Computers&Accessories                        NetworkingDevices  \n2  Computers&Accessories                        NetworkingDevices  \n3            Electronics  GeneralPurposeBatteries&BatteryChargers  \n4  Computers&Accessories                  Accessories&Peripherals  ",
      "text/html": "<div>\n<style scoped>\n    .dataframe tbody tr th:only-of-type {\n        vertical-align: middle;\n    }\n\n    .dataframe tbody tr th {\n        vertical-align: top;\n    }\n\n    .dataframe thead th {\n        text-align: right;\n    }\n</style>\n<table border=\"1\" class=\"dataframe\">\n  <thead>\n    <tr style=\"text-align: right;\">\n      <th></th>\n      <th>product_id</th>\n      <th>product_name</th>\n      <th>discounted_price</th>\n      <th>actual_price</th>\n      <th>discount_percentage</th>\n      <th>rating</th>\n      <th>rating_count</th>\n      <th>about_product</th>\n      <th>user_id</th>\n      <th>user_name</th>\n      <th>review_id</th>\n      <th>review_title</th>\n      <th>review_content</th>\n      <th>img_link</th>\n      <th>product_link</th>\n      <th>rating_weighted</th>\n      <th>Main Category</th>\n      <th>Sub Category</th>\n    </tr>\n  </thead>\n  <tbody>\n    <tr>\n      <th>0</th>\n      <td>B002PD61Y4</td>\n      <td>D-Link DWA-131 300 Mbps Wireless Nano USB Adap...</td>\n      <td>507.0</td>\n      <td>1208.0</td>\n      <td>0.58</td>\n      <td>4.1</td>\n      <td>8131.0</td>\n      <td>Connects your computer to a high-speed wireles...</td>\n      <td>AGA2PZGWMQIRA46VYOTICFE7KCBA,AHI2QJ4CLTCQWACDI...</td>\n      <td>nilesh,EAGLE,Manoj KNS,Titus P.,Paras singla,a...</td>\n      <td>R2EJIN3N3L3XKI,R2JMJ8QNG66LV4,R3B46JNPC2T4E7,R...</td>\n      <td>good tool to use for,Brand is always good,Over...</td>\n      <td>good quality tool from d linkWiFi signal is go...</td>\n      <td>https://m.media-amazon.com/images/I/31+NwZ8gb1...</td>\n      <td>https://www.amazon.in/D-Link-DWA-131-Wireless-...</td>\n      <td>33337.1</td>\n      <td>Computers&amp;Accessories</td>\n      <td>NetworkingDevices</td>\n    </tr>\n    <tr>\n      <th>1</th>\n      <td>B002PD61Y4</td>\n      <td>D-Link DWA-131 300 Mbps Wireless Nano USB Adap...</td>\n      <td>507.0</td>\n      <td>1208.0</td>\n      <td>0.58</td>\n      <td>4.1</td>\n      <td>8131.0</td>\n      <td>Connects your computer to a high-speed wireles...</td>\n      <td>AGA2PZGWMQIRA46VYOTICFE7KCBA,AHI2QJ4CLTCQWACDI...</td>\n      <td>nilesh,EAGLE,Manoj KNS,Titus P.,Paras singla,a...</td>\n      <td>R2EJIN3N3L3XKI,R2JMJ8QNG66LV4,R3B46JNPC2T4E7,R...</td>\n      <td>good tool to use for,Brand is always good,Over...</td>\n      <td>good quality tool from d linkWiFi signal is go...</td>\n      <td>https://m.media-amazon.com/images/W/WEBP_40237...</td>\n      <td>https://www.amazon.in/D-Link-DWA-131-Wireless-...</td>\n      <td>33337.1</td>\n      <td>Computers&amp;Accessories</td>\n      <td>NetworkingDevices</td>\n    </tr>\n    <tr>\n      <th>2</th>\n      <td>B002SZEOLG</td>\n      <td>TP-Link Nano USB WiFi Dongle 150Mbps High Gain...</td>\n      <td>749.0</td>\n      <td>1339.0</td>\n      <td>0.44</td>\n      <td>4.2</td>\n      <td>179692.0</td>\n      <td>150 Mbps Wi-Fi —— Exceptional wireless speed u...</td>\n      <td>AGV3IEFANZCKECFGUM42MRH5FNOA,AEBO7NWCNXKT4AESA...</td>\n      <td>Azhar JuMan,Anirudh Sood,Hari Krishnan PS,Akas...</td>\n      <td>R1LW6NWSVTVZ2H,R3VR5WFKUS15C5,R2F6GC79OYWUKQ,R...</td>\n      <td>Works on linux for me. Get the model with ante...</td>\n      <td>I use this to connect an old PC to internet. I...</td>\n      <td>https://m.media-amazon.com/images/I/31Wb+A3VVd...</td>\n      <td>https://www.amazon.in/TP-Link-TL-WN722N-150Mbp...</td>\n      <td>754706.4</td>\n      <td>Computers&amp;Accessories</td>\n      <td>NetworkingDevices</td>\n    </tr>\n    <tr>\n      <th>3</th>\n      <td>B003B00484</td>\n      <td>Duracell Plus AAA Rechargeable Batteries (750 ...</td>\n      <td>399.0</td>\n      <td>499.0</td>\n      <td>0.20</td>\n      <td>4.3</td>\n      <td>27201.0</td>\n      <td>Duracell Rechargeable AAA 750mAh batteries sta...</td>\n      <td>AG2ICOYPSOV5SGBKFEYHGKCNK7PA,AGJ3OQ4X262D3MAQZ...</td>\n      <td>T N Sivaji,Akku,V,Meet,MOHAMMED,Niranjan koyri...</td>\n      <td>R5L3FAFS6JXJF,R1VTQ25LXQX5UD,R6RJYAZUM5240,R1S...</td>\n      <td>Works Good,Perfect replacement cell for trimme...</td>\n      <td>Works good,Bought it to replace my Phillips QT...</td>\n      <td>https://m.media-amazon.com/images/I/418YrbHVLC...</td>\n      <td>https://www.amazon.in/Duracell-AAA-750mAh-Rech...</td>\n      <td>116964.3</td>\n      <td>Electronics</td>\n      <td>GeneralPurposeBatteries&amp;BatteryChargers</td>\n    </tr>\n    <tr>\n      <th>4</th>\n      <td>B003L62T7W</td>\n      <td>Logitech B100 Wired USB Mouse, 3 yr Warranty, ...</td>\n      <td>279.0</td>\n      <td>375.0</td>\n      <td>0.26</td>\n      <td>4.3</td>\n      <td>31534.0</td>\n      <td>A comfortable, ambidextrous shape feels good i...</td>\n      <td>AE6DY6YWTSSE3XNHDXZDGQM2JL2Q,AES3UPSNCD37JZLHZ...</td>\n      <td>Uday Joglekar,Simi Singh,Hi,chirag bansal,Swar...</td>\n      <td>R3U9FRV2Q625DO,R3EJZ83W9OHW3D,RSH53O0JL66NL,R3...</td>\n      <td>Handy Mouse,Good quality mouse,Good one.,Good,...</td>\n      <td>Liked this Product,https://m.media-amazon.com/...</td>\n      <td>https://m.media-amazon.com/images/I/31iFF1Kbkp...</td>\n      <td>https://www.amazon.in/Logitech-B100-Optical-Mo...</td>\n      <td>135596.2</td>\n      <td>Computers&amp;Accessories</td>\n      <td>Accessories&amp;Peripherals</td>\n    </tr>\n  </tbody>\n</table>\n</div>"
     },
     "execution_count": 13,
     "metadata": {},
     "output_type": "execute_result"
    }
   ],
   "source": [
    "# add the 3 new columns to the dataset\n",
    "dataset['Main Category'] = category_split['Main Category']\n",
    "dataset['Sub Category'] = category_split['Sub Category']\n",
    "# drop the original category column\n",
    "dataset.drop('category', axis=1, inplace=True)\n",
    "\n",
    "dataset.head()"
   ],
   "metadata": {
    "collapsed": false,
    "ExecuteTime": {
     "end_time": "2023-10-27T08:59:12.326248Z",
     "start_time": "2023-10-27T08:59:12.251786Z"
    }
   },
   "id": "f664df63cdf4853f"
  },
  {
   "cell_type": "code",
   "execution_count": 14,
   "outputs": [],
   "source": [
    "#Fixing Strings in the Category_1 Column\n",
    "\n",
    "dataset['category_1'] = dataset['category_1'].str.replace('&', ' & ')\n",
    "dataset['category_1'] = dataset['category_1'].str.replace('OfficeProducts', 'Office Products')\n",
    "dataset['category_1'] = dataset['category_1'].str.replace('MusicalInstruments', 'Musical Instruments')\n",
    "dataset['category_1'] = dataset['category_1'].str.replace('HomeImprovement', 'Home Improvement')"
   ],
   "metadata": {
    "collapsed": false,
    "ExecuteTime": {
     "end_time": "2023-10-27T08:59:12.326301Z",
     "start_time": "2023-10-27T08:59:12.256383Z"
    }
   },
   "id": "a1618eb61687e4fd"
  },
  {
   "cell_type": "code",
   "execution_count": 15,
   "outputs": [
    {
     "data": {
      "text/plain": "Sub Category\nAccessories&Peripherals                    381\nKitchen&HomeAppliances                     308\nHomeTheater,TV&Video                       162\nMobiles&Accessories                        161\nHeating,Cooling&AirQuality                 116\nWearableTechnology                          76\nHeadphones,Earbuds&Accessories              66\nNetworkingDevices                           34\nOfficePaperProducts                         27\nExternalDevices&DataStorage                 18\nHomeAudio                                   16\nCameras&Photography                         16\nHomeStorage&Organization                    16\nAccessories                                 14\nGeneralPurposeBatteries&BatteryChargers     14\nPrinters,Inks&Accessories                   11\nCraftMaterials                               7\nComponents                                   5\nOfficeElectronics                            4\nMicrophones                                  2\nElectrical                                   2\nMonitors                                     2\nHomeMedicalSupplies&Equipment                1\nArts&Crafts                                  1\nKitchen&Dining                               1\nPowerAccessories                             1\nCarAccessories                               1\nTablets                                      1\nLaptops                                      1\nName: count, dtype: int64"
     },
     "execution_count": 15,
     "metadata": {},
     "output_type": "execute_result"
    }
   ],
   "source": [
    "#Checking category_2 unique values\n",
    "\n",
    "dataset['category_2'].value_counts()"
   ],
   "metadata": {
    "collapsed": false,
    "ExecuteTime": {
     "end_time": "2023-10-27T08:59:12.326424Z",
     "start_time": "2023-10-27T08:59:12.259090Z"
    }
   },
   "id": "d6eab52c936aa10"
  },
  {
   "cell_type": "code",
   "execution_count": 16,
   "outputs": [],
   "source": [
    "#Fixing Strings in Category_2 column\n",
    "\n",
    "dataset['category_2'] = dataset['category_2'].str.replace('&', ' & ')\n",
    "dataset['category_2'] = dataset['category_2'].str.replace(',', ', ')\n",
    "dataset['category_2'] = dataset['category_2'].str.replace('HomeAppliances', 'Home Appliances')\n",
    "dataset['category_2'] = dataset['category_2'].str.replace('AirQuality', 'Air Quality')\n",
    "dataset['category_2'] = dataset['category_2'].str.replace('WearableTechnology', 'Wearable Technology')\n",
    "dataset['category_2'] = dataset['category_2'].str.replace('NetworkingDevices', 'Networking Devices')\n",
    "dataset['category_2'] = dataset['category_2'].str.replace('OfficePaperProducts', 'Office Paper Products')\n",
    "dataset['category_2'] = dataset['category_2'].str.replace('ExternalDevices', 'External Devices')\n",
    "dataset['category_2'] = dataset['category_2'].str.replace('DataStorage', 'Data Storage')\n",
    "dataset['category_2'] = dataset['category_2'].str.replace('HomeStorage', 'Home Storage')\n",
    "dataset['category_2'] = dataset['category_2'].str.replace('HomeAudio', 'Home Audio')\n",
    "dataset['category_2'] = dataset['category_2'].str.replace('GeneralPurposeBatteries', 'General Purpose Batteries')\n",
    "dataset['category_2'] = dataset['category_2'].str.replace('BatteryChargers', 'Battery Chargers')\n",
    "dataset['category_2'] = dataset['category_2'].str.replace('CraftMaterials', 'Craft Materials')\n",
    "dataset['category_2'] = dataset['category_2'].str.replace('OfficeElectronics', 'Office Electronics')\n",
    "dataset['category_2'] = dataset['category_2'].str.replace('PowerAccessories', 'Power Accessories')\n",
    "dataset['category_2'] = dataset['category_2'].str.replace('CarAccessories', 'Car Accessories')\n",
    "dataset['category_2'] = dataset['category_2'].str.replace('HomeMedicalSupplies', 'Home Medical Supplies')\n",
    "dataset['category_2'] = dataset['category_2'].str.replace('HomeTheater', 'Home Theater')"
   ],
   "metadata": {
    "collapsed": false,
    "ExecuteTime": {
     "end_time": "2023-10-27T08:59:12.326509Z",
     "start_time": "2023-10-27T08:59:12.269753Z"
    }
   },
   "id": "5a24dd92add39ec7"
  },
  {
   "cell_type": "code",
   "execution_count": 17,
   "outputs": [
    {
     "data": {
      "text/plain": "0       B002PD61Y4\n1       B002PD61Y4\n2       B002SZEOLG\n3       B003B00484\n4       B003L62T7W\n           ...    \n1460    B0BPCJM7TB\n1461    B0BPJBTB3F\n1462    B0BQ3K23Y1\n1463    B0BQRJ3C47\n1464    B0BR4F878Q\nName: product_id, Length: 1465, dtype: object"
     },
     "execution_count": 17,
     "metadata": {},
     "output_type": "execute_result"
    }
   ],
   "source": [
    "# Removing Whitespace from product_id\n",
    "dataset['product_id'].str.strip()"
   ],
   "metadata": {
    "collapsed": false,
    "ExecuteTime": {
     "end_time": "2023-10-27T08:59:12.327504Z",
     "start_time": "2023-10-27T08:59:12.274308Z"
    }
   },
   "id": "b790c5088424c0ac"
  },
  {
   "cell_type": "code",
   "execution_count": 18,
   "outputs": [],
   "source": [
    "#Creating Categories for Rankings\n",
    "\n",
    "rating_score = []\n",
    "\n",
    "for score in dataset['rating']:\n",
    "    if score < 2.0 : rating_score.append('Poor')\n",
    "    elif score < 3.0 : rating_score.append('Below Average')\n",
    "    elif score < 4.0 : rating_score.append('Average')\n",
    "    elif score < 5.0 : rating_score.append('Above Average')\n",
    "    elif score == 5.0 : rating_score.append('Excellent')"
   ],
   "metadata": {
    "collapsed": false,
    "ExecuteTime": {
     "end_time": "2023-10-27T08:59:12.329603Z",
     "start_time": "2023-10-27T08:59:12.277530Z"
    }
   },
   "id": "9d6b8cf1a70c2b1c"
  },
  {
   "cell_type": "code",
   "execution_count": 19,
   "outputs": [],
   "source": [
    "#Creating A new Column and Changing the Data Type\n",
    "\n",
    "dataset['rating_score'] = rating_score\n",
    "\n",
    "dataset['rating_score'] = dataset['rating_score'].astype('category')"
   ],
   "metadata": {
    "collapsed": false,
    "ExecuteTime": {
     "end_time": "2023-10-27T08:59:12.335816Z",
     "start_time": "2023-10-27T08:59:12.279302Z"
    }
   },
   "id": "47184e9eec6c3caa"
  },
  {
   "cell_type": "code",
   "execution_count": 20,
   "outputs": [],
   "source": [
    "#Reordered Categories\n",
    "\n",
    "dataset['rating_score'] = dataset['rating_score'].cat.reorder_categories(['Below Average', 'Average', 'Above Average', 'Excellent'], ordered=True)"
   ],
   "metadata": {
    "collapsed": false,
    "ExecuteTime": {
     "end_time": "2023-10-27T08:59:12.336139Z",
     "start_time": "2023-10-27T08:59:12.282661Z"
    }
   },
   "id": "22ac6b74713875d5"
  },
  {
   "cell_type": "code",
   "execution_count": 21,
   "outputs": [],
   "source": [
    "#Creating Difference of Price Column between Actual Price and Discounted Price\n",
    "dataset['difference_price'] = dataset['actual_price'] - dataset['discounted_price']"
   ],
   "metadata": {
    "collapsed": false,
    "ExecuteTime": {
     "end_time": "2023-10-27T08:59:12.336250Z",
     "start_time": "2023-10-27T08:59:12.285713Z"
    }
   },
   "id": "2c3abfaa2e18c746"
  },
  {
   "cell_type": "code",
   "execution_count": 22,
   "outputs": [
    {
     "data": {
      "text/plain": "   product_id                                       product_name  \\\n0  B002PD61Y4  D-Link DWA-131 300 Mbps Wireless Nano USB Adap...   \n1  B002PD61Y4  D-Link DWA-131 300 Mbps Wireless Nano USB Adap...   \n2  B002SZEOLG  TP-Link Nano USB WiFi Dongle 150Mbps High Gain...   \n3  B003B00484  Duracell Plus AAA Rechargeable Batteries (750 ...   \n4  B003L62T7W  Logitech B100 Wired USB Mouse, 3 yr Warranty, ...   \n\n   discounted_price  actual_price  discount_percentage  rating  rating_count  \\\n0             507.0        1208.0                 0.58     4.1        8131.0   \n1             507.0        1208.0                 0.58     4.1        8131.0   \n2             749.0        1339.0                 0.44     4.2      179692.0   \n3             399.0         499.0                 0.20     4.3       27201.0   \n4             279.0         375.0                 0.26     4.3       31534.0   \n\n                                       about_product  \\\n0  Connects your computer to a high-speed wireles...   \n1  Connects your computer to a high-speed wireles...   \n2  150 Mbps Wi-Fi —— Exceptional wireless speed u...   \n3  Duracell Rechargeable AAA 750mAh batteries sta...   \n4  A comfortable, ambidextrous shape feels good i...   \n\n                                             user_id  \\\n0  AGA2PZGWMQIRA46VYOTICFE7KCBA,AHI2QJ4CLTCQWACDI...   \n1  AGA2PZGWMQIRA46VYOTICFE7KCBA,AHI2QJ4CLTCQWACDI...   \n2  AGV3IEFANZCKECFGUM42MRH5FNOA,AEBO7NWCNXKT4AESA...   \n3  AG2ICOYPSOV5SGBKFEYHGKCNK7PA,AGJ3OQ4X262D3MAQZ...   \n4  AE6DY6YWTSSE3XNHDXZDGQM2JL2Q,AES3UPSNCD37JZLHZ...   \n\n                                           user_name  \\\n0  nilesh,EAGLE,Manoj KNS,Titus P.,Paras singla,a...   \n1  nilesh,EAGLE,Manoj KNS,Titus P.,Paras singla,a...   \n2  Azhar JuMan,Anirudh Sood,Hari Krishnan PS,Akas...   \n3  T N Sivaji,Akku,V,Meet,MOHAMMED,Niranjan koyri...   \n4  Uday Joglekar,Simi Singh,Hi,chirag bansal,Swar...   \n\n                                           review_id  \\\n0  R2EJIN3N3L3XKI,R2JMJ8QNG66LV4,R3B46JNPC2T4E7,R...   \n1  R2EJIN3N3L3XKI,R2JMJ8QNG66LV4,R3B46JNPC2T4E7,R...   \n2  R1LW6NWSVTVZ2H,R3VR5WFKUS15C5,R2F6GC79OYWUKQ,R...   \n3  R5L3FAFS6JXJF,R1VTQ25LXQX5UD,R6RJYAZUM5240,R1S...   \n4  R3U9FRV2Q625DO,R3EJZ83W9OHW3D,RSH53O0JL66NL,R3...   \n\n                                        review_title  \\\n0  good tool to use for,Brand is always good,Over...   \n1  good tool to use for,Brand is always good,Over...   \n2  Works on linux for me. Get the model with ante...   \n3  Works Good,Perfect replacement cell for trimme...   \n4  Handy Mouse,Good quality mouse,Good one.,Good,...   \n\n                                      review_content  \\\n0  good quality tool from d linkWiFi signal is go...   \n1  good quality tool from d linkWiFi signal is go...   \n2  I use this to connect an old PC to internet. I...   \n3  Works good,Bought it to replace my Phillips QT...   \n4  Liked this Product,https://m.media-amazon.com/...   \n\n                                            img_link  \\\n0  https://m.media-amazon.com/images/I/31+NwZ8gb1...   \n1  https://m.media-amazon.com/images/W/WEBP_40237...   \n2  https://m.media-amazon.com/images/I/31Wb+A3VVd...   \n3  https://m.media-amazon.com/images/I/418YrbHVLC...   \n4  https://m.media-amazon.com/images/I/31iFF1Kbkp...   \n\n                                        product_link  rating_weighted  \\\n0  https://www.amazon.in/D-Link-DWA-131-Wireless-...          33337.1   \n1  https://www.amazon.in/D-Link-DWA-131-Wireless-...          33337.1   \n2  https://www.amazon.in/TP-Link-TL-WN722N-150Mbp...         754706.4   \n3  https://www.amazon.in/Duracell-AAA-750mAh-Rech...         116964.3   \n4  https://www.amazon.in/Logitech-B100-Optical-Mo...         135596.2   \n\n             Main Category                                  Sub Category  \\\n0  Computers & Accessories                            Networking Devices   \n1  Computers & Accessories                            Networking Devices   \n2  Computers & Accessories                            Networking Devices   \n3              Electronics  General Purpose Batteries & Battery Chargers   \n4  Computers & Accessories                     Accessories & Peripherals   \n\n    rating_score  difference_price  \n0  Above Average             701.0  \n1  Above Average             701.0  \n2  Above Average             590.0  \n3  Above Average             100.0  \n4  Above Average              96.0  ",
      "text/html": "<div>\n<style scoped>\n    .dataframe tbody tr th:only-of-type {\n        vertical-align: middle;\n    }\n\n    .dataframe tbody tr th {\n        vertical-align: top;\n    }\n\n    .dataframe thead th {\n        text-align: right;\n    }\n</style>\n<table border=\"1\" class=\"dataframe\">\n  <thead>\n    <tr style=\"text-align: right;\">\n      <th></th>\n      <th>product_id</th>\n      <th>product_name</th>\n      <th>discounted_price</th>\n      <th>actual_price</th>\n      <th>discount_percentage</th>\n      <th>rating</th>\n      <th>rating_count</th>\n      <th>about_product</th>\n      <th>user_id</th>\n      <th>user_name</th>\n      <th>review_id</th>\n      <th>review_title</th>\n      <th>review_content</th>\n      <th>img_link</th>\n      <th>product_link</th>\n      <th>rating_weighted</th>\n      <th>Main Category</th>\n      <th>Sub Category</th>\n      <th>rating_score</th>\n      <th>difference_price</th>\n    </tr>\n  </thead>\n  <tbody>\n    <tr>\n      <th>0</th>\n      <td>B002PD61Y4</td>\n      <td>D-Link DWA-131 300 Mbps Wireless Nano USB Adap...</td>\n      <td>507.0</td>\n      <td>1208.0</td>\n      <td>0.58</td>\n      <td>4.1</td>\n      <td>8131.0</td>\n      <td>Connects your computer to a high-speed wireles...</td>\n      <td>AGA2PZGWMQIRA46VYOTICFE7KCBA,AHI2QJ4CLTCQWACDI...</td>\n      <td>nilesh,EAGLE,Manoj KNS,Titus P.,Paras singla,a...</td>\n      <td>R2EJIN3N3L3XKI,R2JMJ8QNG66LV4,R3B46JNPC2T4E7,R...</td>\n      <td>good tool to use for,Brand is always good,Over...</td>\n      <td>good quality tool from d linkWiFi signal is go...</td>\n      <td>https://m.media-amazon.com/images/I/31+NwZ8gb1...</td>\n      <td>https://www.amazon.in/D-Link-DWA-131-Wireless-...</td>\n      <td>33337.1</td>\n      <td>Computers &amp; Accessories</td>\n      <td>Networking Devices</td>\n      <td>Above Average</td>\n      <td>701.0</td>\n    </tr>\n    <tr>\n      <th>1</th>\n      <td>B002PD61Y4</td>\n      <td>D-Link DWA-131 300 Mbps Wireless Nano USB Adap...</td>\n      <td>507.0</td>\n      <td>1208.0</td>\n      <td>0.58</td>\n      <td>4.1</td>\n      <td>8131.0</td>\n      <td>Connects your computer to a high-speed wireles...</td>\n      <td>AGA2PZGWMQIRA46VYOTICFE7KCBA,AHI2QJ4CLTCQWACDI...</td>\n      <td>nilesh,EAGLE,Manoj KNS,Titus P.,Paras singla,a...</td>\n      <td>R2EJIN3N3L3XKI,R2JMJ8QNG66LV4,R3B46JNPC2T4E7,R...</td>\n      <td>good tool to use for,Brand is always good,Over...</td>\n      <td>good quality tool from d linkWiFi signal is go...</td>\n      <td>https://m.media-amazon.com/images/W/WEBP_40237...</td>\n      <td>https://www.amazon.in/D-Link-DWA-131-Wireless-...</td>\n      <td>33337.1</td>\n      <td>Computers &amp; Accessories</td>\n      <td>Networking Devices</td>\n      <td>Above Average</td>\n      <td>701.0</td>\n    </tr>\n    <tr>\n      <th>2</th>\n      <td>B002SZEOLG</td>\n      <td>TP-Link Nano USB WiFi Dongle 150Mbps High Gain...</td>\n      <td>749.0</td>\n      <td>1339.0</td>\n      <td>0.44</td>\n      <td>4.2</td>\n      <td>179692.0</td>\n      <td>150 Mbps Wi-Fi —— Exceptional wireless speed u...</td>\n      <td>AGV3IEFANZCKECFGUM42MRH5FNOA,AEBO7NWCNXKT4AESA...</td>\n      <td>Azhar JuMan,Anirudh Sood,Hari Krishnan PS,Akas...</td>\n      <td>R1LW6NWSVTVZ2H,R3VR5WFKUS15C5,R2F6GC79OYWUKQ,R...</td>\n      <td>Works on linux for me. Get the model with ante...</td>\n      <td>I use this to connect an old PC to internet. I...</td>\n      <td>https://m.media-amazon.com/images/I/31Wb+A3VVd...</td>\n      <td>https://www.amazon.in/TP-Link-TL-WN722N-150Mbp...</td>\n      <td>754706.4</td>\n      <td>Computers &amp; Accessories</td>\n      <td>Networking Devices</td>\n      <td>Above Average</td>\n      <td>590.0</td>\n    </tr>\n    <tr>\n      <th>3</th>\n      <td>B003B00484</td>\n      <td>Duracell Plus AAA Rechargeable Batteries (750 ...</td>\n      <td>399.0</td>\n      <td>499.0</td>\n      <td>0.20</td>\n      <td>4.3</td>\n      <td>27201.0</td>\n      <td>Duracell Rechargeable AAA 750mAh batteries sta...</td>\n      <td>AG2ICOYPSOV5SGBKFEYHGKCNK7PA,AGJ3OQ4X262D3MAQZ...</td>\n      <td>T N Sivaji,Akku,V,Meet,MOHAMMED,Niranjan koyri...</td>\n      <td>R5L3FAFS6JXJF,R1VTQ25LXQX5UD,R6RJYAZUM5240,R1S...</td>\n      <td>Works Good,Perfect replacement cell for trimme...</td>\n      <td>Works good,Bought it to replace my Phillips QT...</td>\n      <td>https://m.media-amazon.com/images/I/418YrbHVLC...</td>\n      <td>https://www.amazon.in/Duracell-AAA-750mAh-Rech...</td>\n      <td>116964.3</td>\n      <td>Electronics</td>\n      <td>General Purpose Batteries &amp; Battery Chargers</td>\n      <td>Above Average</td>\n      <td>100.0</td>\n    </tr>\n    <tr>\n      <th>4</th>\n      <td>B003L62T7W</td>\n      <td>Logitech B100 Wired USB Mouse, 3 yr Warranty, ...</td>\n      <td>279.0</td>\n      <td>375.0</td>\n      <td>0.26</td>\n      <td>4.3</td>\n      <td>31534.0</td>\n      <td>A comfortable, ambidextrous shape feels good i...</td>\n      <td>AE6DY6YWTSSE3XNHDXZDGQM2JL2Q,AES3UPSNCD37JZLHZ...</td>\n      <td>Uday Joglekar,Simi Singh,Hi,chirag bansal,Swar...</td>\n      <td>R3U9FRV2Q625DO,R3EJZ83W9OHW3D,RSH53O0JL66NL,R3...</td>\n      <td>Handy Mouse,Good quality mouse,Good one.,Good,...</td>\n      <td>Liked this Product,https://m.media-amazon.com/...</td>\n      <td>https://m.media-amazon.com/images/I/31iFF1Kbkp...</td>\n      <td>https://www.amazon.in/Logitech-B100-Optical-Mo...</td>\n      <td>135596.2</td>\n      <td>Computers &amp; Accessories</td>\n      <td>Accessories &amp; Peripherals</td>\n      <td>Above Average</td>\n      <td>96.0</td>\n    </tr>\n  </tbody>\n</table>\n</div>"
     },
     "execution_count": 22,
     "metadata": {},
     "output_type": "execute_result"
    }
   ],
   "source": [
    "#Result After Cleaning and Preperation after first cleaned dataframe\n",
    "dataset.head()"
   ],
   "metadata": {
    "collapsed": false,
    "ExecuteTime": {
     "end_time": "2023-10-27T08:59:12.363988Z",
     "start_time": "2023-10-27T08:59:12.292732Z"
    }
   },
   "id": "6873f1223515eef5"
  },
  {
   "cell_type": "code",
   "execution_count": 23,
   "outputs": [
    {
     "data": {
      "text/plain": "                                                user_id  \\\n0     AGA2PZGWMQIRA46VYOTICFE7KCBA,AHI2QJ4CLTCQWACDI...   \n1     AGA2PZGWMQIRA46VYOTICFE7KCBA,AHI2QJ4CLTCQWACDI...   \n2     AGV3IEFANZCKECFGUM42MRH5FNOA,AEBO7NWCNXKT4AESA...   \n3     AG2ICOYPSOV5SGBKFEYHGKCNK7PA,AGJ3OQ4X262D3MAQZ...   \n4     AE6DY6YWTSSE3XNHDXZDGQM2JL2Q,AES3UPSNCD37JZLHZ...   \n...                                                 ...   \n1460  AFSZEPUJZUDS3NRVEAO5MHUCAEPA,AHU7IIQ2UVTKGV6WW...   \n1461  AGHT3K4KSG5MAQUSXRDT5VNB73GA,AE4Q5XQ7SZW35EEUJ...   \n1462  AGRJZJKWKIE573KM5FWPOH4F7YCA,AEHV4VOLDQX5XYA42...   \n1463                       AGJC5O5H5BBXWUV7WRIEIOOR3TVQ   \n1464  AEU7DVFEL43XZ6T4D572W2ZLBRKQ,AGWOH7CFDMUVW52NM...   \n\n                                              user_name  \n0     nilesh,EAGLE,Manoj KNS,Titus P.,Paras singla,a...  \n1     nilesh,EAGLE,Manoj KNS,Titus P.,Paras singla,a...  \n2     Azhar JuMan,Anirudh Sood,Hari Krishnan PS,Akas...  \n3     T N Sivaji,Akku,V,Meet,MOHAMMED,Niranjan koyri...  \n4     Uday Joglekar,Simi Singh,Hi,chirag bansal,Swar...  \n...                                                 ...  \n1460  Priti Sharma,ramya,Aman,ShashankVerma,Ved,Sush...  \n1461                          Manidipa Sengupta,Vidisha  \n1462  Amazon Customer,Neha Mehta,Nischal Agarwal,tha...  \n1463                                        Abdul Gafur  \n1464                    Yogita g.,Amazon Customer,Mimsy  \n\n[1465 rows x 2 columns]",
      "text/html": "<div>\n<style scoped>\n    .dataframe tbody tr th:only-of-type {\n        vertical-align: middle;\n    }\n\n    .dataframe tbody tr th {\n        vertical-align: top;\n    }\n\n    .dataframe thead th {\n        text-align: right;\n    }\n</style>\n<table border=\"1\" class=\"dataframe\">\n  <thead>\n    <tr style=\"text-align: right;\">\n      <th></th>\n      <th>user_id</th>\n      <th>user_name</th>\n    </tr>\n  </thead>\n  <tbody>\n    <tr>\n      <th>0</th>\n      <td>AGA2PZGWMQIRA46VYOTICFE7KCBA,AHI2QJ4CLTCQWACDI...</td>\n      <td>nilesh,EAGLE,Manoj KNS,Titus P.,Paras singla,a...</td>\n    </tr>\n    <tr>\n      <th>1</th>\n      <td>AGA2PZGWMQIRA46VYOTICFE7KCBA,AHI2QJ4CLTCQWACDI...</td>\n      <td>nilesh,EAGLE,Manoj KNS,Titus P.,Paras singla,a...</td>\n    </tr>\n    <tr>\n      <th>2</th>\n      <td>AGV3IEFANZCKECFGUM42MRH5FNOA,AEBO7NWCNXKT4AESA...</td>\n      <td>Azhar JuMan,Anirudh Sood,Hari Krishnan PS,Akas...</td>\n    </tr>\n    <tr>\n      <th>3</th>\n      <td>AG2ICOYPSOV5SGBKFEYHGKCNK7PA,AGJ3OQ4X262D3MAQZ...</td>\n      <td>T N Sivaji,Akku,V,Meet,MOHAMMED,Niranjan koyri...</td>\n    </tr>\n    <tr>\n      <th>4</th>\n      <td>AE6DY6YWTSSE3XNHDXZDGQM2JL2Q,AES3UPSNCD37JZLHZ...</td>\n      <td>Uday Joglekar,Simi Singh,Hi,chirag bansal,Swar...</td>\n    </tr>\n    <tr>\n      <th>...</th>\n      <td>...</td>\n      <td>...</td>\n    </tr>\n    <tr>\n      <th>1460</th>\n      <td>AFSZEPUJZUDS3NRVEAO5MHUCAEPA,AHU7IIQ2UVTKGV6WW...</td>\n      <td>Priti Sharma,ramya,Aman,ShashankVerma,Ved,Sush...</td>\n    </tr>\n    <tr>\n      <th>1461</th>\n      <td>AGHT3K4KSG5MAQUSXRDT5VNB73GA,AE4Q5XQ7SZW35EEUJ...</td>\n      <td>Manidipa Sengupta,Vidisha</td>\n    </tr>\n    <tr>\n      <th>1462</th>\n      <td>AGRJZJKWKIE573KM5FWPOH4F7YCA,AEHV4VOLDQX5XYA42...</td>\n      <td>Amazon Customer,Neha Mehta,Nischal Agarwal,tha...</td>\n    </tr>\n    <tr>\n      <th>1463</th>\n      <td>AGJC5O5H5BBXWUV7WRIEIOOR3TVQ</td>\n      <td>Abdul Gafur</td>\n    </tr>\n    <tr>\n      <th>1464</th>\n      <td>AEU7DVFEL43XZ6T4D572W2ZLBRKQ,AGWOH7CFDMUVW52NM...</td>\n      <td>Yogita g.,Amazon Customer,Mimsy</td>\n    </tr>\n  </tbody>\n</table>\n<p>1465 rows × 2 columns</p>\n</div>"
     },
     "execution_count": 23,
     "metadata": {},
     "output_type": "execute_result"
    }
   ],
   "source": [
    "#Subsetting Reviewers Identifications\n",
    "\n",
    "reviewers = dataset[['user_id','user_name']]\n",
    "reviewers"
   ],
   "metadata": {
    "collapsed": false,
    "ExecuteTime": {
     "end_time": "2023-10-27T08:59:12.364379Z",
     "start_time": "2023-10-27T08:59:12.298192Z"
    }
   },
   "id": "2ed798a8686bcf15"
  },
  {
   "cell_type": "code",
   "execution_count": 24,
   "outputs": [
    {
     "data": {
      "text/plain": "0       [AGA2PZGWMQIRA46VYOTICFE7KCBA, AHI2QJ4CLTCQWAC...\n1       [AGA2PZGWMQIRA46VYOTICFE7KCBA, AHI2QJ4CLTCQWAC...\n2       [AGV3IEFANZCKECFGUM42MRH5FNOA, AEBO7NWCNXKT4AE...\n3       [AG2ICOYPSOV5SGBKFEYHGKCNK7PA, AGJ3OQ4X262D3MA...\n4       [AE6DY6YWTSSE3XNHDXZDGQM2JL2Q, AES3UPSNCD37JZL...\n                              ...                        \n1460    [AFSZEPUJZUDS3NRVEAO5MHUCAEPA, AHU7IIQ2UVTKGV6...\n1461    [AGHT3K4KSG5MAQUSXRDT5VNB73GA, AE4Q5XQ7SZW35EE...\n1462    [AGRJZJKWKIE573KM5FWPOH4F7YCA, AEHV4VOLDQX5XYA...\n1463                       [AGJC5O5H5BBXWUV7WRIEIOOR3TVQ]\n1464    [AEU7DVFEL43XZ6T4D572W2ZLBRKQ, AGWOH7CFDMUVW52...\nName: user_id, Length: 1465, dtype: object"
     },
     "execution_count": 24,
     "metadata": {},
     "output_type": "execute_result"
    }
   ],
   "source": [
    "#Splitting the strings in user_id column\n",
    "\n",
    "reviewer_id_split = reviewers['user_id'].str.split(',', expand=False)\n",
    "\n",
    "reviewer_id_split"
   ],
   "metadata": {
    "collapsed": false,
    "ExecuteTime": {
     "end_time": "2023-10-27T08:59:12.364519Z",
     "start_time": "2023-10-27T08:59:12.304126Z"
    }
   },
   "id": "2bf508dbb012e162"
  },
  {
   "cell_type": "code",
   "execution_count": 25,
   "outputs": [
    {
     "data": {
      "text/plain": "0        AGA2PZGWMQIRA46VYOTICFE7KCBA\n1        AHI2QJ4CLTCQWACDIC2LDFJPDAPA\n2        AEXAFY7V2ZRZI2GD2J6KDOWBZUBQ\n3        AHAEBXTXQDY355AGFMFX3Z2VAAUQ\n4        AETRIARSUFSMNG5LFJZMW6CBJMMQ\n                     ...             \n11498    AHIRZ7N53BSLWFWNEUWYKT6NH6OQ\n11499    AGJC5O5H5BBXWUV7WRIEIOOR3TVQ\n11500    AEU7DVFEL43XZ6T4D572W2ZLBRKQ\n11501    AGWOH7CFDMUVW52NMZWQBKBNNQOA\n11502    AGZN422FGG7JO3T5YY6IVUELOODA\nName: user_id, Length: 11503, dtype: object"
     },
     "execution_count": 25,
     "metadata": {},
     "output_type": "execute_result"
    }
   ],
   "source": [
    "#Making user id display 1 id per row\n",
    "\n",
    "reviewer_id_exp = reviewer_id_split.explode()\n",
    "\n",
    "reviewer_id_clean = reviewer_id_exp.reset_index(drop=True)\n",
    "\n",
    "reviewer_id_clean"
   ],
   "metadata": {
    "collapsed": false,
    "ExecuteTime": {
     "end_time": "2023-10-27T08:59:12.364626Z",
     "start_time": "2023-10-27T08:59:12.306817Z"
    }
   },
   "id": "ec26b2ab3c7a0cdf"
  },
  {
   "cell_type": "code",
   "execution_count": 26,
   "outputs": [
    {
     "data": {
      "text/plain": "0       [nilesh, EAGLE, Manoj KNS, Titus P., Paras sin...\n1       [nilesh, EAGLE, Manoj KNS, Titus P., Paras sin...\n2       [Azhar JuMan, Anirudh Sood, Hari Krishnan PS, ...\n3       [T N Sivaji, Akku, V, Meet, MOHAMMED, Niranjan...\n4       [Uday Joglekar, Simi Singh, Hi, chirag bansal,...\n                              ...                        \n1460    [Priti Sharma, ramya, Aman, ShashankVerma, Ved...\n1461                         [Manidipa Sengupta, Vidisha]\n1462    [Amazon Customer, Neha Mehta, Nischal Agarwal,...\n1463                                        [Abdul Gafur]\n1464                  [Yogita g., Amazon Customer, Mimsy]\nName: user_name, Length: 1465, dtype: object"
     },
     "execution_count": 26,
     "metadata": {},
     "output_type": "execute_result"
    }
   ],
   "source": [
    "#Splitting the strings in user_name column\n",
    "\n",
    "reviewer_name_split = reviewers['user_name'].str.split(',', expand=False)\n",
    "\n",
    "reviewer_name_split"
   ],
   "metadata": {
    "collapsed": false,
    "ExecuteTime": {
     "end_time": "2023-10-27T08:59:12.364742Z",
     "start_time": "2023-10-27T08:59:12.312181Z"
    }
   },
   "id": "a3d5239777eb0ad6"
  },
  {
   "cell_type": "code",
   "execution_count": 27,
   "outputs": [
    {
     "data": {
      "text/plain": "0                 nilesh\n1                  EAGLE\n2              Manoj KNS\n3               Titus P.\n4           Paras singla\n              ...       \n11510        Kiran ahuja\n11511        Abdul Gafur\n11512          Yogita g.\n11513    Amazon Customer\n11514              Mimsy\nName: user_name, Length: 11515, dtype: object"
     },
     "execution_count": 27,
     "metadata": {},
     "output_type": "execute_result"
    }
   ],
   "source": [
    "#Making user name display 1 id per row\n",
    "\n",
    "review_name_exp = reviewer_name_split.explode()\n",
    "\n",
    "reviewer_name_clean = review_name_exp.reset_index(drop=True)\n",
    "\n",
    "reviewer_name_clean"
   ],
   "metadata": {
    "collapsed": false,
    "ExecuteTime": {
     "end_time": "2023-10-27T08:59:12.365879Z",
     "start_time": "2023-10-27T08:59:12.314426Z"
    }
   },
   "id": "e4515f51862af579"
  },
  {
   "cell_type": "code",
   "execution_count": 28,
   "outputs": [],
   "source": [
    "#Creating 2 Data Frames to be merged\n",
    "\n",
    "dataframe_review_id = pd.DataFrame(data=reviewer_id_clean)\n",
    "dataframe_review_name = pd.DataFrame(data=reviewer_name_clean)"
   ],
   "metadata": {
    "collapsed": false,
    "ExecuteTime": {
     "end_time": "2023-10-27T08:59:12.365933Z",
     "start_time": "2023-10-27T08:59:12.317866Z"
    }
   },
   "id": "7220a4fe4c081da7"
  },
  {
   "cell_type": "code",
   "execution_count": 29,
   "outputs": [],
   "source": [
    "#Merging the 2 dataframe containing user_id and user_name\n",
    "\n",
    "reviewer_id_name = pd.concat([dataframe_review_id, dataframe_review_name], axis=1)"
   ],
   "metadata": {
    "collapsed": false,
    "ExecuteTime": {
     "end_time": "2023-10-27T08:59:12.365977Z",
     "start_time": "2023-10-27T08:59:12.320007Z"
    }
   },
   "id": "35ad96f4cad31b7c"
  },
  {
   "cell_type": "code",
   "execution_count": 30,
   "outputs": [],
   "source": [
    "# store the new dataframe to a new csv file with the first row as header\n",
    "reviewer_id_name.to_csv('reviewer_id_name.csv', index=False, header=True)"
   ],
   "metadata": {
    "collapsed": false,
    "ExecuteTime": {
     "end_time": "2023-10-27T08:59:12.378320Z",
     "start_time": "2023-10-27T08:59:12.323153Z"
    }
   },
   "id": "63d98fbada7a338e"
  },
  {
   "cell_type": "code",
   "execution_count": 31,
   "outputs": [
    {
     "data": {
      "text/plain": "                        user_id     user_name\n0  AGA2PZGWMQIRA46VYOTICFE7KCBA        nilesh\n1  AHI2QJ4CLTCQWACDIC2LDFJPDAPA         EAGLE\n2  AEXAFY7V2ZRZI2GD2J6KDOWBZUBQ     Manoj KNS\n3  AHAEBXTXQDY355AGFMFX3Z2VAAUQ      Titus P.\n4  AETRIARSUFSMNG5LFJZMW6CBJMMQ  Paras singla",
      "text/html": "<div>\n<style scoped>\n    .dataframe tbody tr th:only-of-type {\n        vertical-align: middle;\n    }\n\n    .dataframe tbody tr th {\n        vertical-align: top;\n    }\n\n    .dataframe thead th {\n        text-align: right;\n    }\n</style>\n<table border=\"1\" class=\"dataframe\">\n  <thead>\n    <tr style=\"text-align: right;\">\n      <th></th>\n      <th>user_id</th>\n      <th>user_name</th>\n    </tr>\n  </thead>\n  <tbody>\n    <tr>\n      <th>0</th>\n      <td>AGA2PZGWMQIRA46VYOTICFE7KCBA</td>\n      <td>nilesh</td>\n    </tr>\n    <tr>\n      <th>1</th>\n      <td>AHI2QJ4CLTCQWACDIC2LDFJPDAPA</td>\n      <td>EAGLE</td>\n    </tr>\n    <tr>\n      <th>2</th>\n      <td>AEXAFY7V2ZRZI2GD2J6KDOWBZUBQ</td>\n      <td>Manoj KNS</td>\n    </tr>\n    <tr>\n      <th>3</th>\n      <td>AHAEBXTXQDY355AGFMFX3Z2VAAUQ</td>\n      <td>Titus P.</td>\n    </tr>\n    <tr>\n      <th>4</th>\n      <td>AETRIARSUFSMNG5LFJZMW6CBJMMQ</td>\n      <td>Paras singla</td>\n    </tr>\n  </tbody>\n</table>\n</div>"
     },
     "execution_count": 31,
     "metadata": {},
     "output_type": "execute_result"
    }
   ],
   "source": [
    "#Final Check for the new dataframe\n",
    "\n",
    "reviewer_id_name.head()"
   ],
   "metadata": {
    "collapsed": false,
    "ExecuteTime": {
     "end_time": "2023-10-27T08:59:12.428938Z",
     "start_time": "2023-10-27T08:59:12.336510Z"
    }
   },
   "id": "bc4eaa6bae0793d2"
  },
  {
   "cell_type": "markdown",
   "source": [
    "### New csv file with cleaned data\n"
   ],
   "metadata": {
    "collapsed": false
   },
   "id": "9a830ac2becea109"
  },
  {
   "cell_type": "code",
   "execution_count": 32,
   "outputs": [],
   "source": [
    "# export the cleaned dataset to a new csv file with the first row as header\n",
    "dataset.to_csv('Amazon_cleaned.csv', index=False, header=True)"
   ],
   "metadata": {
    "collapsed": false,
    "ExecuteTime": {
     "end_time": "2023-10-27T08:59:12.488604Z",
     "start_time": "2023-10-27T08:59:12.339362Z"
    }
   },
   "id": "b83905f1fbfaf3fd"
  },
  {
   "cell_type": "markdown",
   "source": [
    "# Part 4 - Exploration and Preparation:"
   ],
   "metadata": {
    "collapsed": false
   },
   "id": "92b7fd9600bfed56"
  },
  {
   "cell_type": "markdown",
   "source": [
    "## 1. Investigate the structure and shape of your dataset.\n"
   ],
   "metadata": {
    "collapsed": false
   },
   "id": "16956f7833935074"
  },
  {
   "cell_type": "markdown",
   "source": [
    "*Structure of Dataset*\n"
   ],
   "metadata": {
    "collapsed": false
   },
   "id": "cdce943dddaa8914"
  },
  {
   "cell_type": "code",
   "execution_count": 33,
   "outputs": [
    {
     "name": "stdout",
     "output_type": "stream",
     "text": [
      "<class 'pandas.core.frame.DataFrame'>\n",
      "RangeIndex: 1465 entries, 0 to 1464\n",
      "Data columns (total 20 columns):\n",
      " #   Column               Non-Null Count  Dtype   \n",
      "---  ------               --------------  -----   \n",
      " 0   product_id           1465 non-null   object  \n",
      " 1   product_name         1465 non-null   object  \n",
      " 2   discounted_price     1465 non-null   float64 \n",
      " 3   actual_price         1465 non-null   float64 \n",
      " 4   discount_percentage  1465 non-null   float64 \n",
      " 5   rating               1465 non-null   float64 \n",
      " 6   rating_count         1465 non-null   float64 \n",
      " 7   about_product        1465 non-null   object  \n",
      " 8   user_id              1465 non-null   object  \n",
      " 9   user_name            1465 non-null   object  \n",
      " 10  review_id            1465 non-null   object  \n",
      " 11  review_title         1465 non-null   object  \n",
      " 12  review_content       1465 non-null   object  \n",
      " 13  img_link             1465 non-null   object  \n",
      " 14  product_link         1465 non-null   object  \n",
      " 15  rating_weighted      1465 non-null   float64 \n",
      " 16  Main Category        1465 non-null   object  \n",
      " 17  Sub Category         1465 non-null   object  \n",
      " 18  rating_score         1465 non-null   category\n",
      " 19  difference_price     1465 non-null   float64 \n",
      "dtypes: category(1), float64(7), object(12)\n",
      "memory usage: 219.2+ KB\n",
      "None\n"
     ]
    }
   ],
   "source": [
    "info = dataset.info()\n",
    "print(info)"
   ],
   "metadata": {
    "collapsed": false,
    "ExecuteTime": {
     "end_time": "2023-10-27T08:59:12.489932Z",
     "start_time": "2023-10-27T08:59:12.394860Z"
    }
   },
   "id": "1e8778a9c336cd77"
  },
  {
   "cell_type": "markdown",
   "source": [
    "*Data Shape (Rows & Columns)*"
   ],
   "metadata": {
    "collapsed": false
   },
   "id": "e6f3532ed30fc2a5"
  },
  {
   "cell_type": "code",
   "execution_count": 34,
   "outputs": [
    {
     "name": "stdout",
     "output_type": "stream",
     "text": [
      "Rows: 1465\n",
      "Columns: 20\n"
     ]
    }
   ],
   "source": [
    "shape = dataset.shape\n",
    "print(\"Rows:\", shape[0])\n",
    "print(\"Columns:\", shape[1])"
   ],
   "metadata": {
    "collapsed": false,
    "ExecuteTime": {
     "end_time": "2023-10-27T08:59:12.490002Z",
     "start_time": "2023-10-27T08:59:12.406434Z"
    }
   },
   "id": "dd27d061a19d5d7d"
  },
  {
   "cell_type": "markdown",
   "source": [
    "## 2. Explore the variables that the dataset has. How are they distributed?\n"
   ],
   "metadata": {
    "collapsed": false
   },
   "id": "5e5e214ba60d70f4"
  },
  {
   "cell_type": "markdown",
   "source": [
    "*Data Types*"
   ],
   "metadata": {
    "collapsed": false
   },
   "id": "5b64d717a96a0efc"
  },
  {
   "cell_type": "code",
   "execution_count": 35,
   "outputs": [
    {
     "name": "stdout",
     "output_type": "stream",
     "text": [
      "product_id               object\n",
      "product_name             object\n",
      "discounted_price        float64\n",
      "actual_price            float64\n",
      "discount_percentage     float64\n",
      "rating                  float64\n",
      "rating_count            float64\n",
      "about_product            object\n",
      "user_id                  object\n",
      "user_name                object\n",
      "review_id                object\n",
      "review_title             object\n",
      "review_content           object\n",
      "img_link                 object\n",
      "product_link             object\n",
      "rating_weighted         float64\n",
      "Main Category            object\n",
      "Sub Category             object\n",
      "rating_score           category\n",
      "difference_price        float64\n",
      "dtype: object\n"
     ]
    }
   ],
   "source": [
    "types = dataset.dtypes\n",
    "print(types)"
   ],
   "metadata": {
    "collapsed": false,
    "ExecuteTime": {
     "end_time": "2023-10-27T08:59:12.490077Z",
     "start_time": "2023-10-27T08:59:12.410021Z"
    }
   },
   "id": "4b7541ac04c08730"
  },
  {
   "cell_type": "markdown",
   "source": [
    "**Using describe() function to print the summary statistics to check data distribution**\n"
   ],
   "metadata": {
    "collapsed": false
   },
   "id": "6f6ecef99de0695b"
  },
  {
   "cell_type": "code",
   "execution_count": 36,
   "outputs": [
    {
     "name": "stdout",
     "output_type": "stream",
     "text": [
      "       discounted_price   actual_price  discount_percentage       rating  \\\n",
      "count       1465.000000    1465.000000          1465.000000  1465.000000   \n",
      "mean        3125.310874    5444.990635             0.476915     4.096519   \n",
      "std         6944.304394   10874.826864             0.216359     0.291585   \n",
      "min           39.000000      39.000000             0.000000     2.000000   \n",
      "25%          325.000000     800.000000             0.320000     4.000000   \n",
      "50%          799.000000    1650.000000             0.500000     4.100000   \n",
      "75%         1999.000000    4295.000000             0.630000     4.300000   \n",
      "max        77990.000000  139900.000000             0.940000     5.000000   \n",
      "\n",
      "        rating_count  rating_weighted  difference_price  \n",
      "count    1465.000000     1.465000e+03       1465.000000  \n",
      "mean    18277.634812     7.613982e+04       2319.679761  \n",
      "std     42727.398216     1.800456e+05       4604.473790  \n",
      "min         2.000000     4.000000e+00          0.000000  \n",
      "25%      1191.000000     4.760100e+03        371.000000  \n",
      "50%      5179.000000     2.152000e+04        800.000000  \n",
      "75%     17325.000000     7.103250e+04       1953.000000  \n",
      "max    426973.000000     1.878681e+06      61910.000000  \n"
     ]
    }
   ],
   "source": [
    "summary = dataset.describe()\n",
    "\n",
    "print(summary)"
   ],
   "metadata": {
    "collapsed": false,
    "ExecuteTime": {
     "end_time": "2023-10-27T08:59:12.490180Z",
     "start_time": "2023-10-27T08:59:12.412591Z"
    }
   },
   "id": "1faeadc34ad8f70a"
  },
  {
   "cell_type": "markdown",
   "source": [
    "## 3. Compute the mean, sum, range, and other interesting statistics for numeric\n",
    "columns."
   ],
   "metadata": {
    "collapsed": false
   },
   "id": "d0511fc0cfc7d370"
  },
  {
   "cell_type": "code",
   "execution_count": 37,
   "outputs": [
    {
     "name": "stdout",
     "output_type": "stream",
     "text": [
      "Mean Values of Columns: \n",
      "discounted_price        3125.310874\n",
      "actual_price            5444.990635\n",
      "discount_percentage        0.476915\n",
      "rating                     4.096519\n",
      "rating_count           18277.634812\n",
      "rating_weighted        76139.823072\n",
      "difference_price        2319.679761\n",
      "dtype: float64\n",
      "\n",
      "Sum Values of Columns: \n",
      "discounted_price       4.578580e+06\n",
      "actual_price           7.976911e+06\n",
      "discount_percentage    6.986800e+02\n",
      "rating                 6.001400e+03\n",
      "rating_count           2.677674e+07\n",
      "rating_weighted        1.115448e+08\n",
      "difference_price       3.398331e+06\n",
      "dtype: float64\n",
      "\n",
      "Range of Columns: \n",
      "discounted_price         77951.00\n",
      "actual_price            139861.00\n",
      "discount_percentage          0.94\n",
      "rating                       3.00\n",
      "rating_count            426971.00\n",
      "rating_weighted        1878677.20\n",
      "difference_price         61910.00\n",
      "dtype: float64\n"
     ]
    }
   ],
   "source": [
    "numeric_columns = dataset.select_dtypes(include=['float64'])\n",
    "\n",
    "mean = numeric_columns.mean()\n",
    "sum = numeric_columns.sum()\n",
    "range = numeric_columns.max() - numeric_columns.min()\n",
    "\n",
    "print(\"Mean Values of Columns: \")\n",
    "print(mean)\n",
    "\n",
    "print(\"\\nSum Values of Columns: \")\n",
    "print(sum)\n",
    "\n",
    "print(\"\\nRange of Columns: \")\n",
    "print(range)"
   ],
   "metadata": {
    "collapsed": false,
    "ExecuteTime": {
     "end_time": "2023-10-27T08:59:12.490278Z",
     "start_time": "2023-10-27T08:59:12.419920Z"
    }
   },
   "id": "4f55d7e1fd293d9c"
  },
  {
   "cell_type": "markdown",
   "source": [
    "# 4. Explore distributions of numeric columns using histograms etc.\n"
   ],
   "metadata": {
    "collapsed": false
   },
   "id": "63979d2152b28958"
  },
  {
   "cell_type": "markdown",
   "source": [
    "### Histogram 1 - Discounted Price Distribution\n",
    "\n",
    "*   Column: 'discounted_price'"
   ],
   "metadata": {
    "collapsed": false
   },
   "id": "2b82bd33da396fd3"
  },
  {
   "cell_type": "code",
   "execution_count": 38,
   "outputs": [
    {
     "data": {
      "text/plain": "<Figure size 640x480 with 1 Axes>",
      "image/png": "[encoded data removed]"
     },
     "metadata": {},
     "output_type": "display_data"
    },
    {
     "data": {
      "text/plain": "<Figure size 800x500 with 0 Axes>"
     },
     "metadata": {},
     "output_type": "display_data"
    }
   ],
   "source": [
    "import matplotlib.pyplot as plt\n",
    "\n",
    "plt.hist(dataset['discounted_price'])\n",
    "plt.title(\"Discounted Price Distribution\")\n",
    "plt.xlabel('Discounted Price')\n",
    "plt.ylabel('Frequency')\n",
    "plt.figure(figsize=(8,5))\n",
    "\n",
    "plt.show()"
   ],
   "metadata": {
    "collapsed": false,
    "ExecuteTime": {
     "end_time": "2023-10-27T08:59:12.867901Z",
     "start_time": "2023-10-27T08:59:12.424657Z"
    }
   },
   "id": "229799b301e1879c"
  },
  {
   "cell_type": "markdown",
   "source": [
    "### Histogram 2 - Actual Price Distribution\n",
    "\n",
    "*   Column: 'actual_price'\n"
   ],
   "metadata": {
    "collapsed": false
   },
   "id": "5f193a5f37c5a96b"
  },
  {
   "cell_type": "code",
   "execution_count": 39,
   "outputs": [
    {
     "data": {
      "text/plain": "<Figure size 640x480 with 1 Axes>",
      "image/png": "[encoded data removed]"
     },
     "metadata": {},
     "output_type": "display_data"
    },
    {
     "data": {
      "text/plain": "<Figure size 800x500 with 0 Axes>"
     },
     "metadata": {},
     "output_type": "display_data"
    }
   ],
   "source": [
    "plt.hist(dataset['actual_price'])\n",
    "plt.title(\"Actual Price Distribution\")\n",
    "plt.xlabel('Actual Price')\n",
    "plt.ylabel('Frequency')\n",
    "plt.figure(figsize=(8,5))\n",
    "\n",
    "plt.show()"
   ],
   "metadata": {
    "collapsed": false,
    "ExecuteTime": {
     "end_time": "2023-10-27T08:59:13.119229Z",
     "start_time": "2023-10-27T08:59:12.871039Z"
    }
   },
   "id": "f1f7a3e5c01ef44"
  },
  {
   "cell_type": "markdown",
   "source": [
    "### Histogram 3 - Rating Count Distribution\n",
    "\n",
    "*   Column: 'rating_count'"
   ],
   "metadata": {
    "collapsed": false
   },
   "id": "5834ec27f263585e"
  },
  {
   "cell_type": "code",
   "execution_count": 40,
   "outputs": [
    {
     "data": {
      "text/plain": "<Figure size 640x480 with 1 Axes>",
      "image/png": "[encoded data removed]"
     },
     "metadata": {},
     "output_type": "display_data"
    },
    {
     "data": {
      "text/plain": "<Figure size 800x500 with 0 Axes>"
     },
     "metadata": {},
     "output_type": "display_data"
    }
   ],
   "source": [
    "plt.hist(dataset['rating_count'])\n",
    "plt.title(\"Rating Count Distribution\")\n",
    "plt.xlabel('Rating Count')\n",
    "plt.ylabel('Frequency')\n",
    "plt.figure(figsize=(8,5))\n",
    "\n",
    "plt.show()"
   ],
   "metadata": {
    "collapsed": false,
    "ExecuteTime": {
     "end_time": "2023-10-27T08:59:13.120152Z",
     "start_time": "2023-10-27T08:59:13.027257Z"
    }
   },
   "id": "b5870c6e80c9e085"
  },
  {
   "cell_type": "markdown",
   "source": [
    "### Explore relationship between columns using scatter plots, bar charts etc."
   ],
   "metadata": {
    "collapsed": false
   },
   "id": "a5a7da0125c4f4ce"
  },
  {
   "cell_type": "code",
   "execution_count": 40,
   "outputs": [],
   "source": [],
   "metadata": {
    "collapsed": false,
    "ExecuteTime": {
     "end_time": "2023-10-27T08:59:13.120309Z",
     "start_time": "2023-10-27T08:59:13.080553Z"
    }
   },
   "id": "33ea5dd242672d"
  },
  {
   "cell_type": "code",
   "execution_count": 40,
   "outputs": [],
   "source": [],
   "metadata": {
    "collapsed": false,
    "ExecuteTime": {
     "end_time": "2023-10-27T08:59:13.120823Z",
     "start_time": "2023-10-27T08:59:13.087668Z"
    }
   },
   "id": "ce30853691fecdb4"
  }
 ],
 "metadata": {
  "kernelspec": {
   "display_name": "Python 3",
   "language": "python",
   "name": "python3"
  },
  "language_info": {
   "codemirror_mode": {
    "name": "ipython",
    "version": 2
   },
   "file_extension": ".py",
   "mimetype": "text/x-python",
   "name": "python",
   "nbconvert_exporter": "python",
   "pygments_lexer": "ipython2",
   "version": "2.7.6"
  }
 },
 "nbformat": 4,
 "nbformat_minor": 5
}
