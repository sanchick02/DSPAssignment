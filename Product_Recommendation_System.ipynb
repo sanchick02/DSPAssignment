{
 "cells": [
  {
   "cell_type": "markdown",
   "source": [
    "# Import & Clean Dataset\n"
   ],
   "metadata": {
    "collapsed": false
   },
   "id": "2927de50831dee31"
  },
  {
   "cell_type": "code",
   "execution_count": 12,
   "outputs": [
    {
     "data": {
      "text/plain": "   product_id                                       product_name  \\\n0  B002PD61Y4  D-Link DWA-131 300 Mbps Wireless Nano USB Adap...   \n1  B002PD61Y4  D-Link DWA-131 300 Mbps Wireless Nano USB Adap...   \n2  B002SZEOLG  TP-Link Nano USB WiFi Dongle 150Mbps High Gain...   \n3  B003B00484  Duracell Plus AAA Rechargeable Batteries (750 ...   \n4  B003L62T7W  Logitech B100 Wired USB Mouse, 3 yr Warranty, ...   \n\n                                            category discounted_price  \\\n0  Computers&Accessories|NetworkingDevices|Networ...             ₹507   \n1  Computers&Accessories|NetworkingDevices|Networ...             ₹507   \n2  Computers&Accessories|NetworkingDevices|Networ...             ₹749   \n3  Electronics|GeneralPurposeBatteries&BatteryCha...             ₹399   \n4  Computers&Accessories|Accessories&Peripherals|...             ₹279   \n\n  actual_price discount_percentage rating rating_count  \\\n0       ₹1,208                 58%    4.1        8,131   \n1       ₹1,208                 58%    4.1        8,131   \n2       ₹1,339                 44%    4.2     1,79,692   \n3         ₹499                 20%    4.3       27,201   \n4         ₹375                 26%    4.3       31,534   \n\n                                       about_product  \\\n0  Connects your computer to a high-speed wireles...   \n1  Connects your computer to a high-speed wireles...   \n2  150 Mbps Wi-Fi —— Exceptional wireless speed u...   \n3  Duracell Rechargeable AAA 750mAh batteries sta...   \n4  A comfortable, ambidextrous shape feels good i...   \n\n                                             user_id  \\\n0  AGA2PZGWMQIRA46VYOTICFE7KCBA,AHI2QJ4CLTCQWACDI...   \n1  AGA2PZGWMQIRA46VYOTICFE7KCBA,AHI2QJ4CLTCQWACDI...   \n2  AGV3IEFANZCKECFGUM42MRH5FNOA,AEBO7NWCNXKT4AESA...   \n3  AG2ICOYPSOV5SGBKFEYHGKCNK7PA,AGJ3OQ4X262D3MAQZ...   \n4  AE6DY6YWTSSE3XNHDXZDGQM2JL2Q,AES3UPSNCD37JZLHZ...   \n\n                                           user_name  \\\n0  nilesh,EAGLE,Manoj KNS,Titus P.,Paras singla,a...   \n1  nilesh,EAGLE,Manoj KNS,Titus P.,Paras singla,a...   \n2  Azhar JuMan,Anirudh Sood,Hari Krishnan PS,Akas...   \n3  T N Sivaji,Akku,V,Meet,MOHAMMED,Niranjan koyri...   \n4  Uday Joglekar,Simi Singh,Hi,chirag bansal,Swar...   \n\n                                           review_id  \\\n0  R2EJIN3N3L3XKI,R2JMJ8QNG66LV4,R3B46JNPC2T4E7,R...   \n1  R2EJIN3N3L3XKI,R2JMJ8QNG66LV4,R3B46JNPC2T4E7,R...   \n2  R1LW6NWSVTVZ2H,R3VR5WFKUS15C5,R2F6GC79OYWUKQ,R...   \n3  R5L3FAFS6JXJF,R1VTQ25LXQX5UD,R6RJYAZUM5240,R1S...   \n4  R3U9FRV2Q625DO,R3EJZ83W9OHW3D,RSH53O0JL66NL,R3...   \n\n                                        review_title  \\\n0  good tool to use for,Brand is always good,Over...   \n1  good tool to use for,Brand is always good,Over...   \n2  Works on linux for me. Get the model with ante...   \n3  Works Good,Perfect replacement cell for trimme...   \n4  Handy Mouse,Good quality mouse,Good one.,Good,...   \n\n                                      review_content  \\\n0  good quality tool from d linkWiFi signal is go...   \n1  good quality tool from d linkWiFi signal is go...   \n2  I use this to connect an old PC to internet. I...   \n3  Works good,Bought it to replace my Phillips QT...   \n4  Liked this Product,https://m.media-amazon.com/...   \n\n                                            img_link  \\\n0  https://m.media-amazon.com/images/I/31+NwZ8gb1...   \n1  https://m.media-amazon.com/images/W/WEBP_40237...   \n2  https://m.media-amazon.com/images/I/31Wb+A3VVd...   \n3  https://m.media-amazon.com/images/I/418YrbHVLC...   \n4  https://m.media-amazon.com/images/I/31iFF1Kbkp...   \n\n                                        product_link  \n0  https://www.amazon.in/D-Link-DWA-131-Wireless-...  \n1  https://www.amazon.in/D-Link-DWA-131-Wireless-...  \n2  https://www.amazon.in/TP-Link-TL-WN722N-150Mbp...  \n3  https://www.amazon.in/Duracell-AAA-750mAh-Rech...  \n4  https://www.amazon.in/Logitech-B100-Optical-Mo...  ",
      "text/html": "<div>\n<style scoped>\n    .dataframe tbody tr th:only-of-type {\n        vertical-align: middle;\n    }\n\n    .dataframe tbody tr th {\n        vertical-align: top;\n    }\n\n    .dataframe thead th {\n        text-align: right;\n    }\n</style>\n<table border=\"1\" class=\"dataframe\">\n  <thead>\n    <tr style=\"text-align: right;\">\n      <th></th>\n      <th>product_id</th>\n      <th>product_name</th>\n      <th>category</th>\n      <th>discounted_price</th>\n      <th>actual_price</th>\n      <th>discount_percentage</th>\n      <th>rating</th>\n      <th>rating_count</th>\n      <th>about_product</th>\n      <th>user_id</th>\n      <th>user_name</th>\n      <th>review_id</th>\n      <th>review_title</th>\n      <th>review_content</th>\n      <th>img_link</th>\n      <th>product_link</th>\n    </tr>\n  </thead>\n  <tbody>\n    <tr>\n      <th>0</th>\n      <td>B002PD61Y4</td>\n      <td>D-Link DWA-131 300 Mbps Wireless Nano USB Adap...</td>\n      <td>Computers&amp;Accessories|NetworkingDevices|Networ...</td>\n      <td>₹507</td>\n      <td>₹1,208</td>\n      <td>58%</td>\n      <td>4.1</td>\n      <td>8,131</td>\n      <td>Connects your computer to a high-speed wireles...</td>\n      <td>AGA2PZGWMQIRA46VYOTICFE7KCBA,AHI2QJ4CLTCQWACDI...</td>\n      <td>nilesh,EAGLE,Manoj KNS,Titus P.,Paras singla,a...</td>\n      <td>R2EJIN3N3L3XKI,R2JMJ8QNG66LV4,R3B46JNPC2T4E7,R...</td>\n      <td>good tool to use for,Brand is always good,Over...</td>\n      <td>good quality tool from d linkWiFi signal is go...</td>\n      <td>https://m.media-amazon.com/images/I/31+NwZ8gb1...</td>\n      <td>https://www.amazon.in/D-Link-DWA-131-Wireless-...</td>\n    </tr>\n    <tr>\n      <th>1</th>\n      <td>B002PD61Y4</td>\n      <td>D-Link DWA-131 300 Mbps Wireless Nano USB Adap...</td>\n      <td>Computers&amp;Accessories|NetworkingDevices|Networ...</td>\n      <td>₹507</td>\n      <td>₹1,208</td>\n      <td>58%</td>\n      <td>4.1</td>\n      <td>8,131</td>\n      <td>Connects your computer to a high-speed wireles...</td>\n      <td>AGA2PZGWMQIRA46VYOTICFE7KCBA,AHI2QJ4CLTCQWACDI...</td>\n      <td>nilesh,EAGLE,Manoj KNS,Titus P.,Paras singla,a...</td>\n      <td>R2EJIN3N3L3XKI,R2JMJ8QNG66LV4,R3B46JNPC2T4E7,R...</td>\n      <td>good tool to use for,Brand is always good,Over...</td>\n      <td>good quality tool from d linkWiFi signal is go...</td>\n      <td>https://m.media-amazon.com/images/W/WEBP_40237...</td>\n      <td>https://www.amazon.in/D-Link-DWA-131-Wireless-...</td>\n    </tr>\n    <tr>\n      <th>2</th>\n      <td>B002SZEOLG</td>\n      <td>TP-Link Nano USB WiFi Dongle 150Mbps High Gain...</td>\n      <td>Computers&amp;Accessories|NetworkingDevices|Networ...</td>\n      <td>₹749</td>\n      <td>₹1,339</td>\n      <td>44%</td>\n      <td>4.2</td>\n      <td>1,79,692</td>\n      <td>150 Mbps Wi-Fi —— Exceptional wireless speed u...</td>\n      <td>AGV3IEFANZCKECFGUM42MRH5FNOA,AEBO7NWCNXKT4AESA...</td>\n      <td>Azhar JuMan,Anirudh Sood,Hari Krishnan PS,Akas...</td>\n      <td>R1LW6NWSVTVZ2H,R3VR5WFKUS15C5,R2F6GC79OYWUKQ,R...</td>\n      <td>Works on linux for me. Get the model with ante...</td>\n      <td>I use this to connect an old PC to internet. I...</td>\n      <td>https://m.media-amazon.com/images/I/31Wb+A3VVd...</td>\n      <td>https://www.amazon.in/TP-Link-TL-WN722N-150Mbp...</td>\n    </tr>\n    <tr>\n      <th>3</th>\n      <td>B003B00484</td>\n      <td>Duracell Plus AAA Rechargeable Batteries (750 ...</td>\n      <td>Electronics|GeneralPurposeBatteries&amp;BatteryCha...</td>\n      <td>₹399</td>\n      <td>₹499</td>\n      <td>20%</td>\n      <td>4.3</td>\n      <td>27,201</td>\n      <td>Duracell Rechargeable AAA 750mAh batteries sta...</td>\n      <td>AG2ICOYPSOV5SGBKFEYHGKCNK7PA,AGJ3OQ4X262D3MAQZ...</td>\n      <td>T N Sivaji,Akku,V,Meet,MOHAMMED,Niranjan koyri...</td>\n      <td>R5L3FAFS6JXJF,R1VTQ25LXQX5UD,R6RJYAZUM5240,R1S...</td>\n      <td>Works Good,Perfect replacement cell for trimme...</td>\n      <td>Works good,Bought it to replace my Phillips QT...</td>\n      <td>https://m.media-amazon.com/images/I/418YrbHVLC...</td>\n      <td>https://www.amazon.in/Duracell-AAA-750mAh-Rech...</td>\n    </tr>\n    <tr>\n      <th>4</th>\n      <td>B003L62T7W</td>\n      <td>Logitech B100 Wired USB Mouse, 3 yr Warranty, ...</td>\n      <td>Computers&amp;Accessories|Accessories&amp;Peripherals|...</td>\n      <td>₹279</td>\n      <td>₹375</td>\n      <td>26%</td>\n      <td>4.3</td>\n      <td>31,534</td>\n      <td>A comfortable, ambidextrous shape feels good i...</td>\n      <td>AE6DY6YWTSSE3XNHDXZDGQM2JL2Q,AES3UPSNCD37JZLHZ...</td>\n      <td>Uday Joglekar,Simi Singh,Hi,chirag bansal,Swar...</td>\n      <td>R3U9FRV2Q625DO,R3EJZ83W9OHW3D,RSH53O0JL66NL,R3...</td>\n      <td>Handy Mouse,Good quality mouse,Good one.,Good,...</td>\n      <td>Liked this Product,https://m.media-amazon.com/...</td>\n      <td>https://m.media-amazon.com/images/I/31iFF1Kbkp...</td>\n      <td>https://www.amazon.in/Logitech-B100-Optical-Mo...</td>\n    </tr>\n  </tbody>\n</table>\n</div>"
     },
     "execution_count": 12,
     "metadata": {},
     "output_type": "execute_result"
    }
   ],
   "source": [
    "import pandas as pd\n",
    "dataset = pd.read_csv('Amazon.csv')\n",
    "dataset.head()"
   ],
   "metadata": {
    "collapsed": false,
    "ExecuteTime": {
     "end_time": "2023-10-28T08:17:58.216536Z",
     "start_time": "2023-10-28T08:17:57.542907Z"
    }
   },
   "id": "247138d0e093a7ce"
  },
  {
   "cell_type": "code",
   "execution_count": 13,
   "outputs": [
    {
     "data": {
      "text/plain": "product_id             0\nproduct_name           0\ncategory               0\ndiscounted_price       0\nactual_price           0\ndiscount_percentage    0\nrating                 0\nrating_count           2\nabout_product          0\nuser_id                0\nuser_name              0\nreview_id              0\nreview_title           0\nreview_content         0\nimg_link               0\nproduct_link           0\ndtype: int64"
     },
     "execution_count": 13,
     "metadata": {},
     "output_type": "execute_result"
    }
   ],
   "source": [
    "# check for null values\n",
    "dataset.isnull().sum()"
   ],
   "metadata": {
    "collapsed": false,
    "ExecuteTime": {
     "end_time": "2023-10-28T08:17:58.227308Z",
     "start_time": "2023-10-28T08:17:57.612954Z"
    }
   },
   "id": "5457db51fdb3a2e3"
  },
  {
   "cell_type": "code",
   "execution_count": 14,
   "outputs": [
    {
     "data": {
      "text/plain": "0"
     },
     "execution_count": 14,
     "metadata": {},
     "output_type": "execute_result"
    }
   ],
   "source": [
    "# check for duplicate values\n",
    "dataset.duplicated().sum()"
   ],
   "metadata": {
    "collapsed": false,
    "ExecuteTime": {
     "end_time": "2023-10-28T08:17:58.235940Z",
     "start_time": "2023-10-28T08:17:57.617517Z"
    }
   },
   "id": "ac8f1f0277696d41"
  },
  {
   "cell_type": "code",
   "execution_count": 15,
   "outputs": [
    {
     "data": {
      "text/plain": "0"
     },
     "execution_count": 15,
     "metadata": {},
     "output_type": "execute_result"
    }
   ],
   "source": [
    "# convert the rating_count from string to float\n",
    "dataset['rating_count'] = dataset['rating_count'].str.replace(',', '')\n",
    "dataset['rating_count'] = dataset['rating_count'].astype(float)\n",
    "# Filling in missing data for rating_count\n",
    "dataset['rating_count'].fillna(dataset['rating_count'].median(), inplace=True)\n",
    "dataset['rating_count'].isnull().sum()"
   ],
   "metadata": {
    "collapsed": false,
    "ExecuteTime": {
     "end_time": "2023-10-28T08:17:58.248191Z",
     "start_time": "2023-10-28T08:17:57.646990Z"
    }
   },
   "id": "3addab5004fcf5d2"
  },
  {
   "cell_type": "code",
   "execution_count": 16,
   "outputs": [],
   "source": [
    "#Changing the data type of discounted price and actual price\n",
    "\n",
    "dataset['discounted_price'] = dataset['discounted_price'].str.replace(\"₹\",'')\n",
    "dataset['discounted_price'] = dataset['discounted_price'].str.replace(\",\",'')\n",
    "dataset['discounted_price'] = dataset['discounted_price'].astype('float64')\n",
    "\n",
    "dataset['actual_price'] = dataset['actual_price'].str.replace(\"₹\",'')\n",
    "dataset['actual_price'] = dataset['actual_price'].str.replace(\",\",'')\n",
    "dataset['actual_price'] = dataset['actual_price'].astype('float64')"
   ],
   "metadata": {
    "collapsed": false,
    "ExecuteTime": {
     "end_time": "2023-10-28T08:17:58.248408Z",
     "start_time": "2023-10-28T08:17:57.656567Z"
    }
   },
   "id": "620d8ea821cf090f"
  },
  {
   "cell_type": "code",
   "execution_count": 17,
   "outputs": [
    {
     "data": {
      "text/plain": "0       0.58\n1       0.58\n2       0.44\n3       0.20\n4       0.26\n        ... \n1460    0.74\n1461    0.48\n1462    0.44\n1463    0.75\n1464    0.28\nName: discount_percentage, Length: 1465, dtype: float64"
     },
     "execution_count": 17,
     "metadata": {},
     "output_type": "execute_result"
    }
   ],
   "source": [
    "#Changing Datatype and values in Discount Percentage\n",
    "\n",
    "dataset['discount_percentage'] = dataset['discount_percentage'].str.replace('%','').astype('float64')\n",
    "\n",
    "dataset['discount_percentage'] = dataset['discount_percentage'] / 100\n",
    "\n",
    "dataset['discount_percentage']"
   ],
   "metadata": {
    "collapsed": false,
    "ExecuteTime": {
     "end_time": "2023-10-28T08:17:58.259140Z",
     "start_time": "2023-10-28T08:17:57.662386Z"
    }
   },
   "id": "c752bfd5a433793f"
  },
  {
   "cell_type": "code",
   "execution_count": 18,
   "outputs": [
    {
     "data": {
      "text/plain": "     product_id                                       product_name  \\\n720  B08L12N5H1  Eureka Forbes car Vac 100 Watts Powerful Sucti...   \n\n                                              category  discounted_price  \\\n720  Home&Kitchen|Kitchen&HomeAppliances|Vacuum,Cle...            2099.0   \n\n     actual_price  discount_percentage rating  rating_count  \\\n720        2499.0                 0.16      |         992.0   \n\n                                         about_product  \\\n720  No Installation is provided for this product|1...   \n\n                                               user_id  \\\n720  AGTDSNT2FKVYEPDPXAA673AIS44A,AER2XFSWNN4LAUCJ5...   \n\n                                             user_name  \\\n720  Divya,Dr Nefario,Deekshith,Preeti,Prasanth R,P...   \n\n                                             review_id  \\\n720  R2KKTKM4M9RDVJ,R1O692MZOBTE79,R2WRSEWL56SOS4,R...   \n\n                                          review_title  \\\n720  Decent product,doesn't pick up sand,Ok ok,Must...   \n\n                                        review_content  \\\n720  Does the job well,doesn't work on sand. though...   \n\n                                              img_link  \\\n720  https://m.media-amazon.com/images/W/WEBP_40237...   \n\n                                          product_link  \n720  https://www.amazon.in/Eureka-Forbes-Vacuum-Cle...  ",
      "text/html": "<div>\n<style scoped>\n    .dataframe tbody tr th:only-of-type {\n        vertical-align: middle;\n    }\n\n    .dataframe tbody tr th {\n        vertical-align: top;\n    }\n\n    .dataframe thead th {\n        text-align: right;\n    }\n</style>\n<table border=\"1\" class=\"dataframe\">\n  <thead>\n    <tr style=\"text-align: right;\">\n      <th></th>\n      <th>product_id</th>\n      <th>product_name</th>\n      <th>category</th>\n      <th>discounted_price</th>\n      <th>actual_price</th>\n      <th>discount_percentage</th>\n      <th>rating</th>\n      <th>rating_count</th>\n      <th>about_product</th>\n      <th>user_id</th>\n      <th>user_name</th>\n      <th>review_id</th>\n      <th>review_title</th>\n      <th>review_content</th>\n      <th>img_link</th>\n      <th>product_link</th>\n    </tr>\n  </thead>\n  <tbody>\n    <tr>\n      <th>720</th>\n      <td>B08L12N5H1</td>\n      <td>Eureka Forbes car Vac 100 Watts Powerful Sucti...</td>\n      <td>Home&amp;Kitchen|Kitchen&amp;HomeAppliances|Vacuum,Cle...</td>\n      <td>2099.0</td>\n      <td>2499.0</td>\n      <td>0.16</td>\n      <td>|</td>\n      <td>992.0</td>\n      <td>No Installation is provided for this product|1...</td>\n      <td>AGTDSNT2FKVYEPDPXAA673AIS44A,AER2XFSWNN4LAUCJ5...</td>\n      <td>Divya,Dr Nefario,Deekshith,Preeti,Prasanth R,P...</td>\n      <td>R2KKTKM4M9RDVJ,R1O692MZOBTE79,R2WRSEWL56SOS4,R...</td>\n      <td>Decent product,doesn't pick up sand,Ok ok,Must...</td>\n      <td>Does the job well,doesn't work on sand. though...</td>\n      <td>https://m.media-amazon.com/images/W/WEBP_40237...</td>\n      <td>https://www.amazon.in/Eureka-Forbes-Vacuum-Cle...</td>\n    </tr>\n  </tbody>\n</table>\n</div>"
     },
     "execution_count": 18,
     "metadata": {},
     "output_type": "execute_result"
    }
   ],
   "source": [
    "#Finding unusual string in the rating column\n",
    "\n",
    "dataset['rating'].value_counts()\n",
    "dataset.query('rating == \"|\"')"
   ],
   "metadata": {
    "collapsed": false,
    "ExecuteTime": {
     "end_time": "2023-10-28T08:17:58.263996Z",
     "start_time": "2023-10-28T08:17:57.673163Z"
    }
   },
   "id": "42c0fa194d05a6f6"
  },
  {
   "cell_type": "code",
   "execution_count": 19,
   "outputs": [],
   "source": [
    "#Removing the unusual string in the rating column\n",
    "dataset['rating'] = dataset['rating'].str.replace('|', '4.0').astype('float64')\n",
    "# Creating the column \"rating_weighted\"\n",
    "dataset['rating_weighted'] = dataset['rating'] * dataset['rating_count']"
   ],
   "metadata": {
    "collapsed": false,
    "pycharm": {
     "name": "#%%\n"
    },
    "ExecuteTime": {
     "end_time": "2023-10-28T08:17:58.264170Z",
     "start_time": "2023-10-28T08:17:57.678400Z"
    }
   },
   "id": "7d14179746c1fa3b"
  },
  {
   "cell_type": "code",
   "execution_count": 20,
   "outputs": [],
   "source": [
    "category_split = dataset['category'].str.split('|', expand=True)\n",
    "category_split\n",
    "category_split = category_split.rename(columns={0:'Main Category', 1:'Sub Category', 2:'Sub Category 2'})"
   ],
   "metadata": {
    "collapsed": false,
    "pycharm": {
     "name": "#%%\n"
    },
    "ExecuteTime": {
     "end_time": "2023-10-28T08:17:58.264292Z",
     "start_time": "2023-10-28T08:17:57.683995Z"
    }
   },
   "id": "e8cebbc47cd6c6f1"
  },
  {
   "cell_type": "code",
   "execution_count": 21,
   "outputs": [
    {
     "data": {
      "text/plain": "   product_id                                       product_name  \\\n0  B002PD61Y4  D-Link DWA-131 300 Mbps Wireless Nano USB Adap...   \n1  B002PD61Y4  D-Link DWA-131 300 Mbps Wireless Nano USB Adap...   \n2  B002SZEOLG  TP-Link Nano USB WiFi Dongle 150Mbps High Gain...   \n3  B003B00484  Duracell Plus AAA Rechargeable Batteries (750 ...   \n4  B003L62T7W  Logitech B100 Wired USB Mouse, 3 yr Warranty, ...   \n\n   discounted_price  actual_price  discount_percentage  rating  rating_count  \\\n0             507.0        1208.0                 0.58     4.1        8131.0   \n1             507.0        1208.0                 0.58     4.1        8131.0   \n2             749.0        1339.0                 0.44     4.2      179692.0   \n3             399.0         499.0                 0.20     4.3       27201.0   \n4             279.0         375.0                 0.26     4.3       31534.0   \n\n                                       about_product  \\\n0  Connects your computer to a high-speed wireles...   \n1  Connects your computer to a high-speed wireles...   \n2  150 Mbps Wi-Fi —— Exceptional wireless speed u...   \n3  Duracell Rechargeable AAA 750mAh batteries sta...   \n4  A comfortable, ambidextrous shape feels good i...   \n\n                                             user_id  \\\n0  AGA2PZGWMQIRA46VYOTICFE7KCBA,AHI2QJ4CLTCQWACDI...   \n1  AGA2PZGWMQIRA46VYOTICFE7KCBA,AHI2QJ4CLTCQWACDI...   \n2  AGV3IEFANZCKECFGUM42MRH5FNOA,AEBO7NWCNXKT4AESA...   \n3  AG2ICOYPSOV5SGBKFEYHGKCNK7PA,AGJ3OQ4X262D3MAQZ...   \n4  AE6DY6YWTSSE3XNHDXZDGQM2JL2Q,AES3UPSNCD37JZLHZ...   \n\n                                           user_name  \\\n0  nilesh,EAGLE,Manoj KNS,Titus P.,Paras singla,a...   \n1  nilesh,EAGLE,Manoj KNS,Titus P.,Paras singla,a...   \n2  Azhar JuMan,Anirudh Sood,Hari Krishnan PS,Akas...   \n3  T N Sivaji,Akku,V,Meet,MOHAMMED,Niranjan koyri...   \n4  Uday Joglekar,Simi Singh,Hi,chirag bansal,Swar...   \n\n                                           review_id  \\\n0  R2EJIN3N3L3XKI,R2JMJ8QNG66LV4,R3B46JNPC2T4E7,R...   \n1  R2EJIN3N3L3XKI,R2JMJ8QNG66LV4,R3B46JNPC2T4E7,R...   \n2  R1LW6NWSVTVZ2H,R3VR5WFKUS15C5,R2F6GC79OYWUKQ,R...   \n3  R5L3FAFS6JXJF,R1VTQ25LXQX5UD,R6RJYAZUM5240,R1S...   \n4  R3U9FRV2Q625DO,R3EJZ83W9OHW3D,RSH53O0JL66NL,R3...   \n\n                                        review_title  \\\n0  good tool to use for,Brand is always good,Over...   \n1  good tool to use for,Brand is always good,Over...   \n2  Works on linux for me. Get the model with ante...   \n3  Works Good,Perfect replacement cell for trimme...   \n4  Handy Mouse,Good quality mouse,Good one.,Good,...   \n\n                                      review_content  \\\n0  good quality tool from d linkWiFi signal is go...   \n1  good quality tool from d linkWiFi signal is go...   \n2  I use this to connect an old PC to internet. I...   \n3  Works good,Bought it to replace my Phillips QT...   \n4  Liked this Product,https://m.media-amazon.com/...   \n\n                                            img_link  \\\n0  https://m.media-amazon.com/images/I/31+NwZ8gb1...   \n1  https://m.media-amazon.com/images/W/WEBP_40237...   \n2  https://m.media-amazon.com/images/I/31Wb+A3VVd...   \n3  https://m.media-amazon.com/images/I/418YrbHVLC...   \n4  https://m.media-amazon.com/images/I/31iFF1Kbkp...   \n\n                                        product_link  rating_weighted  \\\n0  https://www.amazon.in/D-Link-DWA-131-Wireless-...          33337.1   \n1  https://www.amazon.in/D-Link-DWA-131-Wireless-...          33337.1   \n2  https://www.amazon.in/TP-Link-TL-WN722N-150Mbp...         754706.4   \n3  https://www.amazon.in/Duracell-AAA-750mAh-Rech...         116964.3   \n4  https://www.amazon.in/Logitech-B100-Optical-Mo...         135596.2   \n\n           Main Category                             Sub Category  \n0  Computers&Accessories                        NetworkingDevices  \n1  Computers&Accessories                        NetworkingDevices  \n2  Computers&Accessories                        NetworkingDevices  \n3            Electronics  GeneralPurposeBatteries&BatteryChargers  \n4  Computers&Accessories                  Accessories&Peripherals  ",
      "text/html": "<div>\n<style scoped>\n    .dataframe tbody tr th:only-of-type {\n        vertical-align: middle;\n    }\n\n    .dataframe tbody tr th {\n        vertical-align: top;\n    }\n\n    .dataframe thead th {\n        text-align: right;\n    }\n</style>\n<table border=\"1\" class=\"dataframe\">\n  <thead>\n    <tr style=\"text-align: right;\">\n      <th></th>\n      <th>product_id</th>\n      <th>product_name</th>\n      <th>discounted_price</th>\n      <th>actual_price</th>\n      <th>discount_percentage</th>\n      <th>rating</th>\n      <th>rating_count</th>\n      <th>about_product</th>\n      <th>user_id</th>\n      <th>user_name</th>\n      <th>review_id</th>\n      <th>review_title</th>\n      <th>review_content</th>\n      <th>img_link</th>\n      <th>product_link</th>\n      <th>rating_weighted</th>\n      <th>Main Category</th>\n      <th>Sub Category</th>\n    </tr>\n  </thead>\n  <tbody>\n    <tr>\n      <th>0</th>\n      <td>B002PD61Y4</td>\n      <td>D-Link DWA-131 300 Mbps Wireless Nano USB Adap...</td>\n      <td>507.0</td>\n      <td>1208.0</td>\n      <td>0.58</td>\n      <td>4.1</td>\n      <td>8131.0</td>\n      <td>Connects your computer to a high-speed wireles...</td>\n      <td>AGA2PZGWMQIRA46VYOTICFE7KCBA,AHI2QJ4CLTCQWACDI...</td>\n      <td>nilesh,EAGLE,Manoj KNS,Titus P.,Paras singla,a...</td>\n      <td>R2EJIN3N3L3XKI,R2JMJ8QNG66LV4,R3B46JNPC2T4E7,R...</td>\n      <td>good tool to use for,Brand is always good,Over...</td>\n      <td>good quality tool from d linkWiFi signal is go...</td>\n      <td>https://m.media-amazon.com/images/I/31+NwZ8gb1...</td>\n      <td>https://www.amazon.in/D-Link-DWA-131-Wireless-...</td>\n      <td>33337.1</td>\n      <td>Computers&amp;Accessories</td>\n      <td>NetworkingDevices</td>\n    </tr>\n    <tr>\n      <th>1</th>\n      <td>B002PD61Y4</td>\n      <td>D-Link DWA-131 300 Mbps Wireless Nano USB Adap...</td>\n      <td>507.0</td>\n      <td>1208.0</td>\n      <td>0.58</td>\n      <td>4.1</td>\n      <td>8131.0</td>\n      <td>Connects your computer to a high-speed wireles...</td>\n      <td>AGA2PZGWMQIRA46VYOTICFE7KCBA,AHI2QJ4CLTCQWACDI...</td>\n      <td>nilesh,EAGLE,Manoj KNS,Titus P.,Paras singla,a...</td>\n      <td>R2EJIN3N3L3XKI,R2JMJ8QNG66LV4,R3B46JNPC2T4E7,R...</td>\n      <td>good tool to use for,Brand is always good,Over...</td>\n      <td>good quality tool from d linkWiFi signal is go...</td>\n      <td>https://m.media-amazon.com/images/W/WEBP_40237...</td>\n      <td>https://www.amazon.in/D-Link-DWA-131-Wireless-...</td>\n      <td>33337.1</td>\n      <td>Computers&amp;Accessories</td>\n      <td>NetworkingDevices</td>\n    </tr>\n    <tr>\n      <th>2</th>\n      <td>B002SZEOLG</td>\n      <td>TP-Link Nano USB WiFi Dongle 150Mbps High Gain...</td>\n      <td>749.0</td>\n      <td>1339.0</td>\n      <td>0.44</td>\n      <td>4.2</td>\n      <td>179692.0</td>\n      <td>150 Mbps Wi-Fi —— Exceptional wireless speed u...</td>\n      <td>AGV3IEFANZCKECFGUM42MRH5FNOA,AEBO7NWCNXKT4AESA...</td>\n      <td>Azhar JuMan,Anirudh Sood,Hari Krishnan PS,Akas...</td>\n      <td>R1LW6NWSVTVZ2H,R3VR5WFKUS15C5,R2F6GC79OYWUKQ,R...</td>\n      <td>Works on linux for me. Get the model with ante...</td>\n      <td>I use this to connect an old PC to internet. I...</td>\n      <td>https://m.media-amazon.com/images/I/31Wb+A3VVd...</td>\n      <td>https://www.amazon.in/TP-Link-TL-WN722N-150Mbp...</td>\n      <td>754706.4</td>\n      <td>Computers&amp;Accessories</td>\n      <td>NetworkingDevices</td>\n    </tr>\n    <tr>\n      <th>3</th>\n      <td>B003B00484</td>\n      <td>Duracell Plus AAA Rechargeable Batteries (750 ...</td>\n      <td>399.0</td>\n      <td>499.0</td>\n      <td>0.20</td>\n      <td>4.3</td>\n      <td>27201.0</td>\n      <td>Duracell Rechargeable AAA 750mAh batteries sta...</td>\n      <td>AG2ICOYPSOV5SGBKFEYHGKCNK7PA,AGJ3OQ4X262D3MAQZ...</td>\n      <td>T N Sivaji,Akku,V,Meet,MOHAMMED,Niranjan koyri...</td>\n      <td>R5L3FAFS6JXJF,R1VTQ25LXQX5UD,R6RJYAZUM5240,R1S...</td>\n      <td>Works Good,Perfect replacement cell for trimme...</td>\n      <td>Works good,Bought it to replace my Phillips QT...</td>\n      <td>https://m.media-amazon.com/images/I/418YrbHVLC...</td>\n      <td>https://www.amazon.in/Duracell-AAA-750mAh-Rech...</td>\n      <td>116964.3</td>\n      <td>Electronics</td>\n      <td>GeneralPurposeBatteries&amp;BatteryChargers</td>\n    </tr>\n    <tr>\n      <th>4</th>\n      <td>B003L62T7W</td>\n      <td>Logitech B100 Wired USB Mouse, 3 yr Warranty, ...</td>\n      <td>279.0</td>\n      <td>375.0</td>\n      <td>0.26</td>\n      <td>4.3</td>\n      <td>31534.0</td>\n      <td>A comfortable, ambidextrous shape feels good i...</td>\n      <td>AE6DY6YWTSSE3XNHDXZDGQM2JL2Q,AES3UPSNCD37JZLHZ...</td>\n      <td>Uday Joglekar,Simi Singh,Hi,chirag bansal,Swar...</td>\n      <td>R3U9FRV2Q625DO,R3EJZ83W9OHW3D,RSH53O0JL66NL,R3...</td>\n      <td>Handy Mouse,Good quality mouse,Good one.,Good,...</td>\n      <td>Liked this Product,https://m.media-amazon.com/...</td>\n      <td>https://m.media-amazon.com/images/I/31iFF1Kbkp...</td>\n      <td>https://www.amazon.in/Logitech-B100-Optical-Mo...</td>\n      <td>135596.2</td>\n      <td>Computers&amp;Accessories</td>\n      <td>Accessories&amp;Peripherals</td>\n    </tr>\n  </tbody>\n</table>\n</div>"
     },
     "execution_count": 21,
     "metadata": {},
     "output_type": "execute_result"
    }
   ],
   "source": [
    "# add the 3 new columns to the dataset\n",
    "dataset['Main Category'] = category_split['Main Category']\n",
    "dataset['Sub Category'] = category_split['Sub Category']\n",
    "# drop the original category column\n",
    "dataset.drop('category', axis=1, inplace=True)\n",
    "\n",
    "dataset.head()"
   ],
   "metadata": {
    "collapsed": false,
    "pycharm": {
     "name": "#%%\n"
    },
    "ExecuteTime": {
     "end_time": "2023-10-28T08:17:58.268964Z",
     "start_time": "2023-10-28T08:17:57.695937Z"
    }
   },
   "id": "a1e3f7124e41a0e"
  },
  {
   "cell_type": "code",
   "execution_count": 22,
   "outputs": [
    {
     "ename": "KeyError",
     "evalue": "'category_1'",
     "output_type": "error",
     "traceback": [
      "\u001B[0;31m---------------------------------------------------------------------------\u001B[0m",
      "\u001B[0;31mKeyError\u001B[0m                                  Traceback (most recent call last)",
      "File \u001B[0;32m~/anaconda3/envs/DSPAssignment/lib/python3.11/site-packages/pandas/core/indexes/base.py:3790\u001B[0m, in \u001B[0;36mIndex.get_loc\u001B[0;34m(self, key)\u001B[0m\n\u001B[1;32m   3789\u001B[0m \u001B[38;5;28;01mtry\u001B[39;00m:\n\u001B[0;32m-> 3790\u001B[0m     \u001B[38;5;28;01mreturn\u001B[39;00m \u001B[38;5;28mself\u001B[39m\u001B[38;5;241m.\u001B[39m_engine\u001B[38;5;241m.\u001B[39mget_loc(casted_key)\n\u001B[1;32m   3791\u001B[0m \u001B[38;5;28;01mexcept\u001B[39;00m \u001B[38;5;167;01mKeyError\u001B[39;00m \u001B[38;5;28;01mas\u001B[39;00m err:\n",
      "File \u001B[0;32mindex.pyx:152\u001B[0m, in \u001B[0;36mpandas._libs.index.IndexEngine.get_loc\u001B[0;34m()\u001B[0m\n",
      "File \u001B[0;32mindex.pyx:181\u001B[0m, in \u001B[0;36mpandas._libs.index.IndexEngine.get_loc\u001B[0;34m()\u001B[0m\n",
      "File \u001B[0;32mpandas/_libs/hashtable_class_helper.pxi:7080\u001B[0m, in \u001B[0;36mpandas._libs.hashtable.PyObjectHashTable.get_item\u001B[0;34m()\u001B[0m\n",
      "File \u001B[0;32mpandas/_libs/hashtable_class_helper.pxi:7088\u001B[0m, in \u001B[0;36mpandas._libs.hashtable.PyObjectHashTable.get_item\u001B[0;34m()\u001B[0m\n",
      "\u001B[0;31mKeyError\u001B[0m: 'category_1'",
      "\nThe above exception was the direct cause of the following exception:\n",
      "\u001B[0;31mKeyError\u001B[0m                                  Traceback (most recent call last)",
      "Cell \u001B[0;32mIn[22], line 3\u001B[0m\n\u001B[1;32m      1\u001B[0m \u001B[38;5;66;03m#Fixing Strings in the Category_1 Column\u001B[39;00m\n\u001B[0;32m----> 3\u001B[0m dataset[\u001B[38;5;124m'\u001B[39m\u001B[38;5;124mcategory_1\u001B[39m\u001B[38;5;124m'\u001B[39m] \u001B[38;5;241m=\u001B[39m dataset[\u001B[38;5;124m'\u001B[39m\u001B[38;5;124mcategory_1\u001B[39m\u001B[38;5;124m'\u001B[39m]\u001B[38;5;241m.\u001B[39mstr\u001B[38;5;241m.\u001B[39mreplace(\u001B[38;5;124m'\u001B[39m\u001B[38;5;124m&\u001B[39m\u001B[38;5;124m'\u001B[39m, \u001B[38;5;124m'\u001B[39m\u001B[38;5;124m & \u001B[39m\u001B[38;5;124m'\u001B[39m)\n\u001B[1;32m      4\u001B[0m dataset[\u001B[38;5;124m'\u001B[39m\u001B[38;5;124mcategory_1\u001B[39m\u001B[38;5;124m'\u001B[39m] \u001B[38;5;241m=\u001B[39m dataset[\u001B[38;5;124m'\u001B[39m\u001B[38;5;124mcategory_1\u001B[39m\u001B[38;5;124m'\u001B[39m]\u001B[38;5;241m.\u001B[39mstr\u001B[38;5;241m.\u001B[39mreplace(\u001B[38;5;124m'\u001B[39m\u001B[38;5;124mOfficeProducts\u001B[39m\u001B[38;5;124m'\u001B[39m, \u001B[38;5;124m'\u001B[39m\u001B[38;5;124mOffice Products\u001B[39m\u001B[38;5;124m'\u001B[39m)\n\u001B[1;32m      5\u001B[0m dataset[\u001B[38;5;124m'\u001B[39m\u001B[38;5;124mcategory_1\u001B[39m\u001B[38;5;124m'\u001B[39m] \u001B[38;5;241m=\u001B[39m dataset[\u001B[38;5;124m'\u001B[39m\u001B[38;5;124mcategory_1\u001B[39m\u001B[38;5;124m'\u001B[39m]\u001B[38;5;241m.\u001B[39mstr\u001B[38;5;241m.\u001B[39mreplace(\u001B[38;5;124m'\u001B[39m\u001B[38;5;124mMusicalInstruments\u001B[39m\u001B[38;5;124m'\u001B[39m, \u001B[38;5;124m'\u001B[39m\u001B[38;5;124mMusical Instruments\u001B[39m\u001B[38;5;124m'\u001B[39m)\n",
      "File \u001B[0;32m~/anaconda3/envs/DSPAssignment/lib/python3.11/site-packages/pandas/core/frame.py:3896\u001B[0m, in \u001B[0;36mDataFrame.__getitem__\u001B[0;34m(self, key)\u001B[0m\n\u001B[1;32m   3894\u001B[0m \u001B[38;5;28;01mif\u001B[39;00m \u001B[38;5;28mself\u001B[39m\u001B[38;5;241m.\u001B[39mcolumns\u001B[38;5;241m.\u001B[39mnlevels \u001B[38;5;241m>\u001B[39m \u001B[38;5;241m1\u001B[39m:\n\u001B[1;32m   3895\u001B[0m     \u001B[38;5;28;01mreturn\u001B[39;00m \u001B[38;5;28mself\u001B[39m\u001B[38;5;241m.\u001B[39m_getitem_multilevel(key)\n\u001B[0;32m-> 3896\u001B[0m indexer \u001B[38;5;241m=\u001B[39m \u001B[38;5;28mself\u001B[39m\u001B[38;5;241m.\u001B[39mcolumns\u001B[38;5;241m.\u001B[39mget_loc(key)\n\u001B[1;32m   3897\u001B[0m \u001B[38;5;28;01mif\u001B[39;00m is_integer(indexer):\n\u001B[1;32m   3898\u001B[0m     indexer \u001B[38;5;241m=\u001B[39m [indexer]\n",
      "File \u001B[0;32m~/anaconda3/envs/DSPAssignment/lib/python3.11/site-packages/pandas/core/indexes/base.py:3797\u001B[0m, in \u001B[0;36mIndex.get_loc\u001B[0;34m(self, key)\u001B[0m\n\u001B[1;32m   3792\u001B[0m     \u001B[38;5;28;01mif\u001B[39;00m \u001B[38;5;28misinstance\u001B[39m(casted_key, \u001B[38;5;28mslice\u001B[39m) \u001B[38;5;129;01mor\u001B[39;00m (\n\u001B[1;32m   3793\u001B[0m         \u001B[38;5;28misinstance\u001B[39m(casted_key, abc\u001B[38;5;241m.\u001B[39mIterable)\n\u001B[1;32m   3794\u001B[0m         \u001B[38;5;129;01mand\u001B[39;00m \u001B[38;5;28many\u001B[39m(\u001B[38;5;28misinstance\u001B[39m(x, \u001B[38;5;28mslice\u001B[39m) \u001B[38;5;28;01mfor\u001B[39;00m x \u001B[38;5;129;01min\u001B[39;00m casted_key)\n\u001B[1;32m   3795\u001B[0m     ):\n\u001B[1;32m   3796\u001B[0m         \u001B[38;5;28;01mraise\u001B[39;00m InvalidIndexError(key)\n\u001B[0;32m-> 3797\u001B[0m     \u001B[38;5;28;01mraise\u001B[39;00m \u001B[38;5;167;01mKeyError\u001B[39;00m(key) \u001B[38;5;28;01mfrom\u001B[39;00m \u001B[38;5;21;01merr\u001B[39;00m\n\u001B[1;32m   3798\u001B[0m \u001B[38;5;28;01mexcept\u001B[39;00m \u001B[38;5;167;01mTypeError\u001B[39;00m:\n\u001B[1;32m   3799\u001B[0m     \u001B[38;5;66;03m# If we have a listlike key, _check_indexing_error will raise\u001B[39;00m\n\u001B[1;32m   3800\u001B[0m     \u001B[38;5;66;03m#  InvalidIndexError. Otherwise we fall through and re-raise\u001B[39;00m\n\u001B[1;32m   3801\u001B[0m     \u001B[38;5;66;03m#  the TypeError.\u001B[39;00m\n\u001B[1;32m   3802\u001B[0m     \u001B[38;5;28mself\u001B[39m\u001B[38;5;241m.\u001B[39m_check_indexing_error(key)\n",
      "\u001B[0;31mKeyError\u001B[0m: 'category_1'"
     ]
    }
   ],
   "source": [
    "#Fixing Strings in the Category_1 Column\n",
    "\n",
    "dataset['Main Category'] = dataset['Main Category'].str.replace('&', ' & ')\n",
    "dataset['Main Category'] = dataset['Main Category'].str.replace('OfficeProducts', 'Office Products')\n",
    "dataset['Main Category'] = dataset['Main Category'].str.replace('MusicalInstruments', 'Musical Instruments')\n",
    "dataset['Main Category'] = dataset['Main Category'].str.replace('HomeImprovement', 'Home Improvement')"
   ],
   "metadata": {
    "collapsed": false,
    "pycharm": {
     "name": "#%%\n"
    },
    "ExecuteTime": {
     "end_time": "2023-10-28T08:17:58.283444Z",
     "start_time": "2023-10-28T08:17:57.703765Z"
    }
   },
   "id": "d1e89a1ba60c1286"
  },
  {
   "cell_type": "code",
   "execution_count": null,
   "outputs": [],
   "source": [
    "#Checking category_2 unique values\n",
    "\n",
    "dataset['Sub Category'].value_counts()"
   ],
   "metadata": {
    "collapsed": false,
    "pycharm": {
     "name": "#%%\n"
    },
    "ExecuteTime": {
     "start_time": "2023-10-28T08:17:57.742013Z"
    }
   },
   "id": "7d5fe43ce25537ef"
  },
  {
   "cell_type": "code",
   "execution_count": null,
   "outputs": [],
   "source": [
    "#Fixing Strings in Category_2 column\n",
    "\n",
    "dataset['Sub Category'] = dataset['Sub Category'].str.replace('&', ' & ')\n",
    "dataset['Sub Category'] = dataset['Sub Category'].str.replace(',', ', ')\n",
    "dataset['Sub Category'] = dataset['Sub Category'].str.replace('HomeAppliances', 'Home Appliances')\n",
    "dataset['Sub Category'] = dataset['Sub Category'].str.replace('AirQuality', 'Air Quality')\n",
    "dataset['Sub Category'] = dataset['Sub Category'].str.replace('WearableTechnology', 'Wearable Technology')\n",
    "dataset['Sub Category'] = dataset['Sub Category'].str.replace('NetworkingDevices', 'Ntworking Devices')\n",
    "dataset['Sub Category'] = dataset['Sub Category'].str.replace('OfficePaperProducts', 'Office Paper Products')\n",
    "dataset['Sub Category'] = dataset['Sub Category'].str.replace('ExternalDevices', 'External Devices')\n",
    "dataset['Sub Category'] = dataset['Sub Category'].str.replace('DataStorage', 'Data Storage')\n",
    "dataset['Sub Category'] = dataset['Sub Category'].str.replace('HomeStorage', 'Home Storage')\n",
    "dataset['Sub Category'] = dataset['Sub Category'].str.replace('HomeAudio', 'Home Audio')\n",
    "dataset['Sub Category'] = dataset['Sub Category'].str.replace('GeneralPurposeBatteries', 'General Purpose Batteries')\n",
    "dataset['Sub Category'] = dataset['Sub Category'].str.replace('BatteryChargers', 'Battery Chargers')\n",
    "dataset['Sub Category'] = dataset['Sub Category'].str.replace('CraftMaterials', 'Craft Materials')\n",
    "dataset['Sub Category'] = dataset['Sub Category'].str.replace('OfficeElectronics', 'Office Electronics')\n",
    "dataset['Sub Category'] = dataset['Sub Category'].str.replace('PowerAccessories', 'Power Accessories')\n",
    "dataset['Sub Category'] = dataset['Sub Category'].str.replace('CarAccessories', 'Car Accessories')\n",
    "dataset['Sub Category'] = dataset['Sub Category'].str.replace('HomeMedicalSupplies', 'Home Medical Supplies')\n",
    "dataset['Sub Category'] = dataset['Sub Category'].str.replace('HomeTheater', 'Home Theater')"
   ],
   "metadata": {
    "collapsed": false,
    "pycharm": {
     "name": "#%%\n"
    },
    "ExecuteTime": {
     "start_time": "2023-10-28T08:17:57.743333Z"
    }
   },
   "id": "b6802348e5b1ad0e"
  },
  {
   "cell_type": "code",
   "execution_count": null,
   "outputs": [],
   "source": [
    "# Removing Whitespace from product_id\n",
    "dataset['product_id'].str.strip()"
   ],
   "metadata": {
    "collapsed": false,
    "pycharm": {
     "name": "#%%\n"
    },
    "ExecuteTime": {
     "start_time": "2023-10-28T08:17:57.745141Z"
    }
   },
   "id": "df29ac94489bc5bb"
  },
  {
   "cell_type": "code",
   "execution_count": null,
   "outputs": [],
   "source": [
    "#Creating Categories for Rankings\n",
    "\n",
    "rating_score = []\n",
    "\n",
    "for score in dataset['rating']:\n",
    "    if score < 2.0 : rating_score.append('Poor')\n",
    "    elif score < 3.0 : rating_score.append('Below Average')\n",
    "    elif score < 4.0 : rating_score.append('Average')\n",
    "    elif score < 5.0 : rating_score.append('Above Average')\n",
    "    elif score == 5.0 : rating_score.append('Excellent')"
   ],
   "metadata": {
    "collapsed": false,
    "pycharm": {
     "name": "#%%\n"
    },
    "ExecuteTime": {
     "start_time": "2023-10-28T08:17:57.747076Z"
    }
   },
   "id": "4a5aaf87e77d5391"
  },
  {
   "cell_type": "code",
   "execution_count": null,
   "outputs": [],
   "source": [
    "#Creating A new Column and Changing the Data Type\n",
    "\n",
    "dataset['rating_score'] = rating_score\n",
    "\n",
    "dataset['rating_score'] = dataset['rating_score'].astype('category')"
   ],
   "metadata": {
    "collapsed": false,
    "pycharm": {
     "name": "#%%\n"
    },
    "ExecuteTime": {
     "start_time": "2023-10-28T08:17:57.748963Z"
    }
   },
   "id": "f9acddee337d7d85"
  },
  {
   "cell_type": "code",
   "execution_count": null,
   "outputs": [],
   "source": [
    "#Reordered Categories\n",
    "\n",
    "dataset['rating_score'] = dataset['rating_score'].cat.reorder_categories(['Below Average', 'Average', 'Above Average', 'Excellent'], ordered=True)"
   ],
   "metadata": {
    "collapsed": false,
    "pycharm": {
     "name": "#%%\n"
    },
    "ExecuteTime": {
     "start_time": "2023-10-28T08:17:57.750531Z"
    }
   },
   "id": "b201180e08c2f933"
  },
  {
   "cell_type": "code",
   "execution_count": null,
   "outputs": [],
   "source": [
    "#Creating Difference of Price Column between Actual Price and Discounted Price\n",
    "dataset['difference_price'] = dataset['actual_price'] - dataset['discounted_price']"
   ],
   "metadata": {
    "collapsed": false,
    "pycharm": {
     "name": "#%%\n"
    },
    "ExecuteTime": {
     "start_time": "2023-10-28T08:17:57.752192Z"
    }
   },
   "id": "f44bd86e45f8e13b"
  },
  {
   "cell_type": "code",
   "execution_count": null,
   "outputs": [],
   "source": [
    "#Result After Cleaning and Preperation after first cleaned dataframe\n",
    "dataset.head()"
   ],
   "metadata": {
    "collapsed": false,
    "pycharm": {
     "name": "#%%\n"
    },
    "ExecuteTime": {
     "start_time": "2023-10-28T08:17:57.753965Z"
    }
   },
   "id": "bc6204a7f5f23f26"
  },
  {
   "cell_type": "code",
   "execution_count": null,
   "outputs": [],
   "source": [
    "#Subsetting Reviewers Identifications\n",
    "\n",
    "reviewers = dataset[['user_id','user_name']]\n",
    "reviewers"
   ],
   "metadata": {
    "collapsed": false,
    "pycharm": {
     "name": "#%%\n"
    },
    "ExecuteTime": {
     "start_time": "2023-10-28T08:17:57.755776Z"
    }
   },
   "id": "5aa1e506a73eae0a"
  },
  {
   "cell_type": "code",
   "execution_count": null,
   "outputs": [],
   "source": [
    "#Splitting the strings in user_id column\n",
    "\n",
    "reviewer_id_split = reviewers['user_id'].str.split(',', expand=False)\n",
    "\n",
    "reviewer_id_split"
   ],
   "metadata": {
    "collapsed": false,
    "pycharm": {
     "name": "#%%\n"
    },
    "ExecuteTime": {
     "start_time": "2023-10-28T08:17:57.757587Z"
    }
   },
   "id": "3536b8b1475967ba"
  },
  {
   "cell_type": "code",
   "execution_count": null,
   "outputs": [],
   "source": [
    "#Making user id display 1 id per row\n",
    "\n",
    "reviewer_id_exp = reviewer_id_split.explode()\n",
    "\n",
    "reviewer_id_clean = reviewer_id_exp.reset_index(drop=True)\n",
    "\n",
    "reviewer_id_clean"
   ],
   "metadata": {
    "collapsed": false,
    "pycharm": {
     "name": "#%%\n"
    },
    "ExecuteTime": {
     "start_time": "2023-10-28T08:17:57.758976Z"
    }
   },
   "id": "31702801d78e19ed"
  },
  {
   "cell_type": "code",
   "execution_count": null,
   "outputs": [],
   "source": [
    "#Splitting the strings in user_name column\n",
    "\n",
    "reviewer_name_split = reviewers['user_name'].str.split(',', expand=False)\n",
    "\n",
    "reviewer_name_split"
   ],
   "metadata": {
    "collapsed": false,
    "pycharm": {
     "name": "#%%\n"
    },
    "ExecuteTime": {
     "start_time": "2023-10-28T08:17:57.760868Z"
    }
   },
   "id": "9e6b74dab046290e"
  },
  {
   "cell_type": "code",
   "execution_count": null,
   "outputs": [],
   "source": [
    "#Making user name display 1 id per row\n",
    "\n",
    "review_name_exp = reviewer_name_split.explode()\n",
    "\n",
    "reviewer_name_clean = review_name_exp.reset_index(drop=True)\n",
    "\n",
    "reviewer_name_clean"
   ],
   "metadata": {
    "collapsed": false,
    "pycharm": {
     "name": "#%%\n"
    },
    "ExecuteTime": {
     "start_time": "2023-10-28T08:17:57.762481Z"
    }
   },
   "id": "2809edf16f3f3f9b"
  },
  {
   "cell_type": "code",
   "execution_count": null,
   "outputs": [],
   "source": [
    "#Creating 2 Data Frames to be merged\n",
    "\n",
    "dataframe_review_id = pd.DataFrame(data=reviewer_id_clean)\n",
    "dataframe_review_name = pd.DataFrame(data=reviewer_name_clean)"
   ],
   "metadata": {
    "collapsed": false,
    "pycharm": {
     "name": "#%%\n"
    },
    "ExecuteTime": {
     "start_time": "2023-10-28T08:17:57.763982Z"
    }
   },
   "id": "3be3a1c07be9c08f"
  },
  {
   "cell_type": "code",
   "execution_count": null,
   "outputs": [],
   "source": [
    "#Merging the 2 dataframe containing user_id and user_name\n",
    "\n",
    "reviewer_id_name = pd.concat([dataframe_review_id, dataframe_review_name], axis=1)"
   ],
   "metadata": {
    "collapsed": false,
    "pycharm": {
     "name": "#%%\n"
    },
    "ExecuteTime": {
     "start_time": "2023-10-28T08:17:57.765400Z"
    }
   },
   "id": "a1f52df05b288f46"
  },
  {
   "cell_type": "code",
   "execution_count": null,
   "outputs": [],
   "source": [
    "# store the new dataframe to a new csv file with the first row as header\n",
    "reviewer_id_name.to_csv('reviewer_id_name.csv', index=False, header=True)"
   ],
   "metadata": {
    "collapsed": false,
    "pycharm": {
     "name": "#%%\n"
    },
    "ExecuteTime": {
     "start_time": "2023-10-28T08:17:57.767321Z"
    }
   },
   "id": "b4ceb58344edc29c"
  },
  {
   "cell_type": "code",
   "execution_count": null,
   "outputs": [],
   "source": [
    "#Final Check for the new dataframe\n",
    "\n",
    "reviewer_id_name.head()"
   ],
   "metadata": {
    "collapsed": false,
    "pycharm": {
     "name": "#%%\n"
    },
    "ExecuteTime": {
     "start_time": "2023-10-28T08:17:57.769237Z"
    }
   },
   "id": "940914ae8a78d8c1"
  },
  {
   "cell_type": "markdown",
   "source": [
    "### New csv file with cleaned data\n"
   ],
   "metadata": {
    "collapsed": false,
    "pycharm": {
     "name": "#%% md\n"
    }
   },
   "id": "3f4bd83d2f82cc01"
  },
  {
   "cell_type": "code",
   "execution_count": null,
   "outputs": [],
   "source": [
    "# export the cleaned dataset to a new csv file with the first row as header\n",
    "dataset.to_csv('Amazon_cleaned.csv', index=False, header=True)"
   ],
   "metadata": {
    "collapsed": false,
    "pycharm": {
     "name": "#%%\n"
    },
    "ExecuteTime": {
     "start_time": "2023-10-28T08:17:57.770965Z"
    }
   },
   "id": "9566f5f0013d2a15"
  },
  {
   "cell_type": "markdown",
   "source": [
    "# Part 4 - Exploration and Preparation:"
   ],
   "metadata": {
    "collapsed": false,
    "pycharm": {
     "name": "#%% md\n"
    }
   },
   "id": "6efdf179957b07d1"
  },
  {
   "cell_type": "markdown",
   "source": [
    "## 1. Investigate the structure and shape of your dataset.\n"
   ],
   "metadata": {
    "collapsed": false,
    "pycharm": {
     "name": "#%% md\n"
    }
   },
   "id": "f7ee7c0ba3fe5bf6"
  },
  {
   "cell_type": "markdown",
   "source": [
    "*Structure of Dataset*\n"
   ],
   "metadata": {
    "collapsed": false,
    "pycharm": {
     "name": "#%% md\n"
    }
   },
   "id": "1dc17a56071d84d3"
  },
  {
   "cell_type": "code",
   "execution_count": null,
   "outputs": [],
   "source": [
    "info = dataset.info()\n",
    "print(info)"
   ],
   "metadata": {
    "collapsed": false,
    "pycharm": {
     "name": "#%%\n"
    },
    "ExecuteTime": {
     "start_time": "2023-10-28T08:17:57.772391Z"
    }
   },
   "id": "5f8257368028c313"
  },
  {
   "cell_type": "markdown",
   "source": [
    "*Data Shape (Rows & Columns)*"
   ],
   "metadata": {
    "collapsed": false,
    "pycharm": {
     "name": "#%% md\n"
    }
   },
   "id": "1287b9dfe2234c08"
  },
  {
   "cell_type": "code",
   "execution_count": null,
   "outputs": [],
   "source": [
    "shape = dataset.shape\n",
    "print(\"Rows:\", shape[0])\n",
    "print(\"Columns:\", shape[1])"
   ],
   "metadata": {
    "collapsed": false,
    "pycharm": {
     "name": "#%%\n"
    },
    "ExecuteTime": {
     "start_time": "2023-10-28T08:17:57.773332Z"
    }
   },
   "id": "340c249400dc4cc4"
  },
  {
   "cell_type": "markdown",
   "source": [
    "## 2. Explore the variables that the dataset has. How are they distributed?\n"
   ],
   "metadata": {
    "collapsed": false,
    "pycharm": {
     "name": "#%% md\n"
    }
   },
   "id": "78057d1bbe357e94"
  },
  {
   "cell_type": "markdown",
   "source": [
    "*Data Types*"
   ],
   "metadata": {
    "collapsed": false,
    "pycharm": {
     "name": "#%% md\n"
    }
   },
   "id": "a674859da09d545c"
  },
  {
   "cell_type": "code",
   "execution_count": null,
   "outputs": [],
   "source": [
    "types = dataset.dtypes\n",
    "print(types)"
   ],
   "metadata": {
    "collapsed": false,
    "pycharm": {
     "name": "#%%\n"
    },
    "ExecuteTime": {
     "start_time": "2023-10-28T08:17:57.774180Z"
    }
   },
   "id": "50d173f3a249709a"
  },
  {
   "cell_type": "markdown",
   "source": [
    "**Using describe() function to print the summary statistics to check data distribution**\n"
   ],
   "metadata": {
    "collapsed": false,
    "pycharm": {
     "name": "#%% md\n"
    }
   },
   "id": "cf68b95e12d0f842"
  },
  {
   "cell_type": "code",
   "execution_count": null,
   "outputs": [],
   "source": [
    "summary = dataset.describe()\n",
    "\n",
    "print(summary)"
   ],
   "metadata": {
    "collapsed": false,
    "pycharm": {
     "name": "#%%\n"
    },
    "ExecuteTime": {
     "start_time": "2023-10-28T08:17:57.775333Z"
    }
   },
   "id": "3c108df69aed7626"
  },
  {
   "cell_type": "markdown",
   "source": [
    "## 3. Compute the mean, sum, range, and other interesting statistics for numeric\n",
    "columns."
   ],
   "metadata": {
    "collapsed": false,
    "pycharm": {
     "name": "#%% md\n"
    }
   },
   "id": "b51d078ac1093d0d"
  },
  {
   "cell_type": "code",
   "execution_count": null,
   "outputs": [],
   "source": [
    "numeric_columns = dataset.select_dtypes(include=['float64'])\n",
    "\n",
    "mean = numeric_columns.mean()\n",
    "sum = numeric_columns.sum()\n",
    "range = numeric_columns.max() - numeric_columns.min()\n",
    "\n",
    "print(\"Mean Values of Columns: \")\n",
    "print(mean)\n",
    "\n",
    "print(\"\\nSum Values of Columns: \")\n",
    "print(sum)\n",
    "\n",
    "print(\"\\nRange of Columns: \")\n",
    "print(range)"
   ],
   "metadata": {
    "collapsed": false,
    "pycharm": {
     "name": "#%%\n"
    },
    "ExecuteTime": {
     "start_time": "2023-10-28T08:17:57.776628Z"
    }
   },
   "id": "522565e4dcc2139"
  },
  {
   "cell_type": "markdown",
   "source": [
    "# 4. Explore distributions of numeric columns using histograms etc.\n"
   ],
   "metadata": {
    "collapsed": false,
    "pycharm": {
     "name": "#%% md\n"
    }
   },
   "id": "156cbf19f789abb4"
  },
  {
   "cell_type": "markdown",
   "source": [
    "### Histogram 1 - Discounted Price Distribution\n",
    "\n",
    "*   Column: 'discounted_price'"
   ],
   "metadata": {
    "collapsed": false,
    "pycharm": {
     "name": "#%% md\n"
    }
   },
   "id": "85c59729ad40e20e"
  },
  {
   "cell_type": "code",
   "execution_count": null,
   "outputs": [],
   "source": [
    "import matplotlib.pyplot as plt\n",
    "\n",
    "plt.hist(dataset['discounted_price'])\n",
    "plt.title(\"Discounted Price Distribution\")\n",
    "plt.xlabel('Discounted Price')\n",
    "plt.ylabel('Frequency')\n",
    "plt.figure(figsize=(8,5))\n",
    "\n",
    "plt.show()"
   ],
   "metadata": {
    "collapsed": false,
    "pycharm": {
     "name": "#%%\n"
    },
    "ExecuteTime": {
     "start_time": "2023-10-28T08:17:57.778223Z"
    }
   },
   "id": "fa62fd6788a6199a"
  },
  {
   "cell_type": "markdown",
   "source": [
    "### Histogram 2 - Actual Price Distribution\n",
    "\n",
    "*   Column: 'actual_price'\n"
   ],
   "metadata": {
    "collapsed": false,
    "pycharm": {
     "name": "#%% md\n"
    }
   },
   "id": "de023c7bf2c346ec"
  },
  {
   "cell_type": "code",
   "execution_count": null,
   "outputs": [],
   "source": [
    "plt.hist(dataset['actual_price'])\n",
    "plt.title(\"Actual Price Distribution\")\n",
    "plt.xlabel('Actual Price')\n",
    "plt.ylabel('Frequency')\n",
    "plt.figure(figsize=(8,5))\n",
    "\n",
    "plt.show()"
   ],
   "metadata": {
    "collapsed": false,
    "pycharm": {
     "name": "#%%\n"
    },
    "ExecuteTime": {
     "start_time": "2023-10-28T08:17:57.779189Z"
    }
   },
   "id": "35e1199f7e3498b3"
  },
  {
   "cell_type": "markdown",
   "source": [
    "### Histogram 3 - Rating Count Distribution\n",
    "\n",
    "*   Column: 'rating_count'"
   ],
   "metadata": {
    "collapsed": false,
    "pycharm": {
     "name": "#%% md\n"
    }
   },
   "id": "150baea5195165b2"
  },
  {
   "cell_type": "code",
   "execution_count": null,
   "outputs": [],
   "source": [
    "plt.hist(dataset['rating_count'])\n",
    "plt.title(\"Rating Count Distribution\")\n",
    "plt.xlabel('Rating Count')\n",
    "plt.ylabel('Frequency')\n",
    "plt.figure(figsize=(8,5))\n",
    "\n",
    "plt.show()"
   ],
   "metadata": {
    "collapsed": false,
    "pycharm": {
     "name": "#%%\n"
    },
    "ExecuteTime": {
     "start_time": "2023-10-28T08:17:57.780150Z"
    }
   },
   "id": "2d7ec4befbd31c23"
  },
  {
   "cell_type": "markdown",
   "source": [
    "### Explore relationship between columns using scatter plots, bar charts etc."
   ],
   "metadata": {
    "collapsed": false,
    "pycharm": {
     "name": "#%% md\n"
    }
   },
   "id": "5c2530d4cf2bd711"
  },
  {
   "cell_type": "markdown",
   "source": [
    "* Observation 1: Top 5 Products with the largest difference in price due to discount"
   ],
   "metadata": {
    "collapsed": false,
    "pycharm": {
     "name": "#%% md\n"
    }
   },
   "id": "d6741e62d8288938"
  },
  {
   "cell_type": "code",
   "execution_count": null,
   "outputs": [],
   "source": [
    "import seaborn as sns\n",
    "\n",
    "# dif_price_large = sns.barplot(data= dataset.sort_values('difference_price', ascending=False).head(5), x='difference_price', y='product_name')\n",
    "# \n",
    "# dif_price_large.set_title('Top 5 Products with the Largest Price Difference', fontweight='bold')\n",
    "# dif_price_large.set_xlabel('Price Difference (Rupee India)', fontweight='bold')\n",
    "# dif_price_large.set_ylabel('Product Name', fontweight='bold')\n",
    "# \n",
    "# plt.show()\n",
    "\n",
    "# dont use deprecated sns.barplot\n",
    "dif_price_large = dataset.sort_values('difference_price', ascending=False).head(5)\n",
    "plt.barh(dif_price_large['product_name'], dif_price_large['difference_price'])\n",
    "plt.title('Top 5 Products with the Largest Price Difference', fontweight='bold')\n",
    "plt.xlabel('Price Difference (Rupee India)', fontweight='bold')\n",
    "plt.ylabel('Product Name', fontweight='bold')\n",
    "plt.show()"
   ],
   "metadata": {
    "collapsed": false,
    "pycharm": {
     "name": "#%%\n"
    },
    "ExecuteTime": {
     "start_time": "2023-10-28T08:17:57.780905Z"
    }
   },
   "id": "dc27a976fe62ee1e"
  },
  {
   "cell_type": "markdown",
   "source": [
    "The graph clearly highlights the products that offer the most significant discount in terms of the price reduction in Rupees (Indian currency). These top 5 products, with the largest price differences, present an opportunity for potential customers to save a considerable amount of money when purchasing them."
   ],
   "metadata": {
    "collapsed": false,
    "pycharm": {
     "name": "#%% md\n"
    }
   },
   "id": "294372706ed7f3eb"
  },
  {
   "cell_type": "markdown",
   "source": [
    "* Observation 2: Heatmap & Correlation between Actual Price & Discounted Price"
   ],
   "metadata": {
    "collapsed": false,
    "pycharm": {
     "name": "#%% md\n"
    }
   },
   "id": "9cc2c01dc15fe557"
  },
  {
   "cell_type": "code",
   "execution_count": null,
   "outputs": [],
   "source": [
    "fig, ax = plt.subplots(2, 1, figsize=(8, 10))\n",
    "\n",
    "fig.suptitle('Correlation Between Features', fontweight='heavy', size='xx-large')\n",
    "\n",
    "sns.heatmap(ax=ax[0], data=dataset.corr())\n",
    "sns.scatterplot(ax=ax[1], data=dataset, y='discounted_price', x='actual_price', color='brown')\n",
    "\n",
    "plt.subplots_adjust(hspace = 0.8)\n",
    "\n",
    "ax[1].set_xlabel('Actual Price (Rupee India)', fontweight='bold')\n",
    "ax[1].set_ylabel('Discounted Price (Rupee India)', fontweight='bold')\n",
    "\n",
    "ax[0].set_title('Heatmap', fontweight='bold')\n",
    "ax[1].set_title('Correlation between Actual Price & Discounted Price', fontweight='bold')\n",
    "\n",
    "plt.show()"
   ],
   "metadata": {
    "collapsed": false,
    "pycharm": {
     "name": "#%%\n"
    },
    "ExecuteTime": {
     "start_time": "2023-10-28T08:17:57.781633Z"
    }
   },
   "id": "169174e2b08d6fb9"
  },
  {
   "cell_type": "markdown",
   "source": [
    "There is a relatively strong positive correlation between some variables, suggesting that as one variable increases, the other tends to increase as well. The strongest positive correlation appears to be in between 'discounted_price' and 'actual_price'.\n",
    "Some variables show very weak correlations (close to zero), indicating little to no linear relationship between them."
   ],
   "metadata": {
    "collapsed": false,
    "pycharm": {
     "name": "#%% md\n"
    }
   },
   "id": "9b890a9a59650ef6"
  },
  {
   "cell_type": "markdown",
   "source": [
    "* Observation 3: Rating Distribution by Product Main Category"
   ],
   "metadata": {
    "collapsed": false,
    "pycharm": {
     "name": "#%% md\n"
    }
   },
   "id": "c774413a76df0eb7"
  },
  {
   "cell_type": "code",
   "execution_count": null,
   "outputs": [],
   "source": [
    "fig, ax = plt.subplots(figsize=(10, 6))\n",
    "\n",
    "sns.boxplot(ax=ax, data=dataset, x='rating', y='category_1')\n",
    "\n",
    "ax.set_xlabel('Rating', fontweight='bold')\n",
    "ax.set_ylabel('Product Main Category', fontweight='bold')\n",
    "ax.set_title('Rating Distribution by Product Main Category', fontweight='heavy', size='x-large', y=1.03)\n",
    "\n",
    "plt.show()"
   ],
   "metadata": {
    "collapsed": false,
    "pycharm": {
     "name": "#%%\n"
    },
    "ExecuteTime": {
     "start_time": "2023-10-28T08:17:57.782348Z"
    }
   },
   "id": "5cf380abe05f7318"
  },
  {
   "cell_type": "markdown",
   "source": [
    "The \"Electronics\" category exhibits a relatively wide range of ratings, with a box that spans from lower to higher ratings.\n",
    "The \"Clothing\" category shows a more concentrated distribution of ratings with a smaller spread.\n",
    "The \"Books\" category, on the other hand, has a wider interquartile range and a few outliers with lower ratings."
   ],
   "metadata": {
    "collapsed": false,
    "pycharm": {
     "name": "#%% md\n"
    }
   },
   "id": "eee58c3a5178ad53"
  },
  {
   "cell_type": "markdown",
   "source": [
    "* Observation 4: Reviewers who gave ratings and reviews for more than one product"
   ],
   "metadata": {
    "collapsed": false,
    "pycharm": {
     "name": "#%% md\n"
    }
   },
   "id": "ff3d6dbb72b6c5d8"
  },
  {
   "cell_type": "code",
   "execution_count": null,
   "outputs": [],
   "source": [
    "top_reviewer = data=reviewer_id_name['user_name'].value_counts().head(10).rename_axis('username').reset_index(name='counts')\n",
    "\n",
    "top_review_plot = sns.barplot(data=top_reviewer, x='counts', y='username')\n",
    "\n",
    "top_review_plot.bar_label(top_review_plot.containers[0])\n",
    "\n",
    "top_review_plot.set_xlabel('Amount of Rating Reviews Given', fontweight='bold')\n",
    "top_review_plot.set_ylabel(\"Reviewer's Name\", fontweight='bold')\n",
    "top_review_plot.set_title('Top 10 Active Reviewers', fontweight='heavy', size='x-large', y=1.03)\n",
    "\n",
    "plt.show()"
   ],
   "metadata": {
    "collapsed": false,
    "pycharm": {
     "name": "#%%\n"
    },
    "ExecuteTime": {
     "start_time": "2023-10-28T08:17:57.783073Z"
    }
   },
   "id": "d123809cf723ea12"
  },
  {
   "cell_type": "markdown",
   "source": [
    "\"Reviewer 1\" is the most active reviewer, contributing the highest number of rating reviews among the top 10.\n",
    "The other top reviewers, such as \"Reviewer 2\" and \"Reviewer 3,\" have also provided a substantial number of reviews, though fewer than \"Reviewer 1.\"\n",
    "There is a gradual decrease in the number of reviews given by the top 10 reviewers, with the 10th reviewer having the fewest reviews among this group.\n",
    "This chart can be valuable for identifying and acknowledging the most active contributors to product reviews on the platform."
   ],
   "metadata": {
    "collapsed": false,
    "pycharm": {
     "name": "#%% md\n"
    }
   },
   "id": "e34db689c12638be"
  },
  {
   "cell_type": "markdown",
   "source": [
    "## Create a visualization for each research question that might provide a useful answer."
   ],
   "metadata": {
    "collapsed": false,
    "pycharm": {
     "name": "#%% md\n"
    }
   },
   "id": "48ab3a4c46f26534"
  },
  {
   "cell_type": "markdown",
   "source": [
    "## Research Question 1.\n",
    "How can Amazon's online store sales be improved by implementing an effective product recommendation system, and which attributes have the most influence on the recommendation system?"
   ],
   "metadata": {
    "collapsed": false,
    "pycharm": {
     "name": "#%% md\n"
    }
   },
   "id": "89040ff66467bd0f"
  },
  {
   "cell_type": "markdown",
   "source": [
    "* Impact of Rating Score on Rating Count"
   ],
   "metadata": {
    "collapsed": false,
    "pycharm": {
     "name": "#%% md\n"
    }
   },
   "id": "37df12ec64c37312"
  },
  {
   "cell_type": "code",
   "execution_count": null,
   "outputs": [],
   "source": [
    "plt.bar(dataset['rating'], dataset['rating_count'])\n",
    "plt.xlabel('Rating Score')\n",
    "plt.ylabel('Average Rating Count')\n",
    "plt.title('Impact of Rating Score on Rating Count')\n",
    "plt.show()"
   ],
   "metadata": {
    "collapsed": false,
    "pycharm": {
     "name": "#%%\n"
    },
    "ExecuteTime": {
     "start_time": "2023-10-28T08:17:57.783894Z"
    }
   },
   "id": "8ea7e8b811a26387"
  },
  {
   "cell_type": "markdown",
   "source": [
    "The graph shows how the 'Rating Score' relates to the 'Average Rating Count,' highlighting the correlation between customer satisfaction and engagement. In the context of improving Amazon's online store sales through an effective product recommendation system, this graph underscores the importance of recommending products with higher 'Rating Scores' to enhance sales and customer satisfaction. Higher-rated products tend to receive more customer reviews, making them suitable candidates for recommendation to boost sales."
   ],
   "metadata": {
    "collapsed": false,
    "pycharm": {
     "name": "#%% md\n"
    }
   },
   "id": "f23c39bc2a53a6c1"
  },
  {
   "cell_type": "markdown",
   "source": [
    "## Research Question 2.\n",
    "How can a product recommendation system deliver customized suggestions for appropriate inventory levels based on past inventory statistics and real-time demand predictions?"
   ],
   "metadata": {
    "collapsed": false,
    "pycharm": {
     "name": "#%% md\n"
    }
   },
   "id": "4560ad8dbaeb2380"
  },
  {
   "cell_type": "markdown",
   "source": [
    "* Actual Price Range and Discounted Price Range by Product Main Category"
   ],
   "metadata": {
    "collapsed": false,
    "pycharm": {
     "name": "#%% md\n"
    }
   },
   "id": "28cb51b787b1e399"
  },
  {
   "cell_type": "code",
   "execution_count": null,
   "outputs": [],
   "source": [
    "fig, ax = plt.subplots(2, 1, figsize=(13,15))\n",
    "\n",
    "fig.suptitle('Price Range by Product Main Category', fontweight='heavy', size='x-large')\n",
    "\n",
    "sns.scatterplot(ax=ax[0], data=dataset, x='actual_price', y='category_1', alpha=0.3, color='red')\n",
    "sns.scatterplot(ax=ax[1], data=dataset, x='discounted_price', y='category_1', alpha=0.3, color='orange')\n",
    "\n",
    "ax[0].set_xlabel('Actual Price (Rupee India)', fontweight='bold')\n",
    "ax[0].set_ylabel('Product Main Category', fontweight='bold')\n",
    "ax[0].set_title('Actual Price Range by Product Main Category', fontweight='bold')\n",
    "\n",
    "ax[1].set_xlabel('Discounted Price (Rupee India)', fontweight='bold')\n",
    "ax[1].set_ylabel('Product Main Category', fontweight='bold')\n",
    "ax[1].set_title('Discounted Price Range by Product Main Category', fontweight='bold')\n",
    "\n",
    "plt.subplots_adjust(hspace = 0.3)\n",
    "\n",
    "plt.show()"
   ],
   "metadata": {
    "collapsed": false,
    "pycharm": {
     "name": "#%%\n"
    },
    "ExecuteTime": {
     "start_time": "2023-10-28T08:17:57.784709Z"
    }
   },
   "id": "d5512a31ffb6fa74"
  },
  {
   "cell_type": "markdown",
   "source": [
    "The two scatter plots in the graph display the variation in 'Actual Price' and 'Discounted Price' across different 'Product Main Categories.' This information is relevant to the question of how a product recommendation system can provide customized suggestions and manage inventory effectively based on past inventory statistics and real-time demand predictions. By understanding the price dynamics within each category, the system can tailor recommendations and optimize inventory levels to align with customer preferences and meet anticipated demand."
   ],
   "metadata": {
    "collapsed": false,
    "pycharm": {
     "name": "#%% md\n"
    }
   },
   "id": "dcf6510bed73d0de"
  },
  {
   "cell_type": "markdown",
   "source": [
    "## Research Question 3.\n",
    "How to boost customer retention and loyalty by minimizing user search time and precisely proposing the relevant goods?"
   ],
   "metadata": {
    "collapsed": false,
    "pycharm": {
     "name": "#%% md\n"
    }
   },
   "id": "5d6b4c3c658f6e06"
  },
  {
   "cell_type": "markdown",
   "source": [
    "* Impact of Rating Score on Rating Count"
   ],
   "metadata": {
    "collapsed": false,
    "pycharm": {
     "name": "#%% md\n"
    }
   },
   "id": "ae07470dd62cdeb9"
  },
  {
   "cell_type": "code",
   "execution_count": null,
   "outputs": [],
   "source": [
    "plt.bar(dataset['rating'], dataset['rating_count'])\n",
    "plt.xlabel('Rating Score')\n",
    "plt.ylabel('Average Rating Count')\n",
    "plt.title('Impact of Rating Score on Rating Count')\n",
    "plt.show()"
   ],
   "metadata": {
    "collapsed": false,
    "pycharm": {
     "name": "#%%\n"
    },
    "ExecuteTime": {
     "start_time": "2023-10-28T08:17:57.785780Z"
    }
   },
   "id": "2c52b0cc128540cc"
  },
  {
   "cell_type": "markdown",
   "source": [
    "The bar chart, which correlates 'Rating Score' with 'Average Rating Count,' indirectly relates to the question of enhancing customer retention and loyalty by recommending relevant goods. Products with higher ratings and more reviews tend to attract and retain customers, as these items are trusted and sought after. An effective product recommendation system that prioritizes such highly-rated products can contribute to user retention and loyalty by providing valuable and trusted suggestions, minimizing the need for extended searches and boosting customer satisfaction."
   ],
   "metadata": {
    "collapsed": false,
    "pycharm": {
     "name": "#%% md\n"
    }
   },
   "id": "633272da4fde041b"
  },
  {
   "cell_type": "markdown",
   "source": [
    "## Research Question 4.\n",
    "What strategies, including the use of product recommendation systems, can Amazon employ to increase the value of each customer's order, enhance sales, and maintain a competitive position in the online shopping market?"
   ],
   "metadata": {
    "collapsed": false,
    "pycharm": {
     "name": "#%% md\n"
    }
   },
   "id": "e88614e1b5b7053"
  },
  {
   "cell_type": "markdown",
   "source": [
    "* Discount Percentage by Product Category"
   ],
   "metadata": {
    "collapsed": false,
    "pycharm": {
     "name": "#%% md\n"
    }
   },
   "id": "7828ace65bbe5d27"
  },
  {
   "cell_type": "code",
   "execution_count": null,
   "outputs": [],
   "source": [
    "plt.bar(dataset['category_1'], dataset['discount_percentage'])\n",
    "plt.xlabel('Product Categories')\n",
    "plt.ylabel('Average Discount Percentage')\n",
    "plt.xticks(rotation=90)\n",
    "plt.title('Discount Percentage by Product Category')\n",
    "plt.show()"
   ],
   "metadata": {
    "collapsed": false,
    "pycharm": {
     "name": "#%%\n"
    },
    "ExecuteTime": {
     "start_time": "2023-10-28T08:17:57.792080Z"
    }
   },
   "id": "f2322ce69a3dace5"
  },
  {
   "cell_type": "markdown",
   "source": [
    "The bar chart, depicting 'Average Discount Percentage' across different 'Product Categories,' is directly relevant to the question of Amazon's sales enhancement and competitive positioning through strategic measures. It offers insights into the distribution of discounts among product categories, which can guide Amazon in employing strategies, including product recommendation systems, to increase the value of each customer's order. By promoting products with higher discount percentages, Amazon can attract and retain customers, ultimately contributing to improved sales and a competitive edge in the online shopping market."
   ],
   "metadata": {
    "collapsed": false,
    "pycharm": {
     "name": "#%% md\n"
    }
   },
   "id": "541cc0b7584be44e"
  },
  {
   "cell_type": "markdown",
   "source": [],
   "metadata": {
    "collapsed": false,
    "pycharm": {
     "name": "#%% md\n"
    }
   },
   "id": "478030b5f30ddd42"
  }
 ],
 "metadata": {
  "kernelspec": {
   "display_name": "Python 3",
   "language": "python",
   "name": "python3"
  },
  "language_info": {
   "codemirror_mode": {
    "name": "ipython",
    "version": 2
   },
   "file_extension": ".py",
   "mimetype": "text/x-python",
   "name": "python",
   "nbconvert_exporter": "python",
   "pygments_lexer": "ipython2",
   "version": "2.7.6"
  }
 },
 "nbformat": 4,
 "nbformat_minor": 5
}
